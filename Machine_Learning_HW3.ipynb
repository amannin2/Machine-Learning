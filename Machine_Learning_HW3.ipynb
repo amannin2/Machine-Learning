{
  "nbformat": 4,
  "nbformat_minor": 0,
  "metadata": {
    "colab": {
      "name": "Machine Learning HW3.ipynb",
      "provenance": [],
      "collapsed_sections": [],
      "authorship_tag": "ABX9TyN1KVUrA6q2vmeojVxtailg",
      "include_colab_link": true
    },
    "kernelspec": {
      "name": "python3",
      "display_name": "Python 3"
    },
    "language_info": {
      "name": "python"
    }
  },
  "cells": [
    {
      "cell_type": "markdown",
      "metadata": {
        "id": "view-in-github",
        "colab_type": "text"
      },
      "source": [
        "<a href=\"https://colab.research.google.com/github/amannin2/Machine-Learning/blob/main/Machine_Learning_HW3.ipynb\" target=\"_parent\"><img src=\"https://colab.research.google.com/assets/colab-badge.svg\" alt=\"Open In Colab\"/></a>"
      ]
    },
    {
      "cell_type": "markdown",
      "metadata": {
        "id": "Sm07JFUBCWuC"
      },
      "source": [
        "### Loading Python Libraries\n",
        "\n"
      ]
    },
    {
      "cell_type": "code",
      "metadata": {
        "id": "G8T1xVJaCeIP"
      },
      "source": [
        "%%capture\n",
        "import pandas as pd     \n",
        "import numpy as np\n",
        "\n",
        "# for normalization  \n",
        "from sklearn import preprocessing\n",
        "\n",
        "# for visualization\n",
        "import matplotlib.pyplot as plt\n",
        "import plotly.graph_objects as go\n",
        "\n",
        "# for Machine Learning\n",
        "from sklearn.tree import DecisionTreeClassifier\n",
        "from sklearn.neighbors import KNeighborsClassifier\n",
        "from sklearn.naive_bayes import GaussianNB\n",
        "from sklearn.ensemble import RandomForestClassifier\n",
        "\n",
        "# for data imbalance, SMOTE\n",
        "from imblearn.over_sampling import SMOTE\n",
        "from scipy import stats\n",
        "\n",
        "# to calculate the performance of the models\n",
        "from sklearn.metrics import accuracy_score\n",
        "from sklearn.metrics import recall_score"
      ],
      "execution_count": 1,
      "outputs": []
    },
    {
      "cell_type": "markdown",
      "metadata": {
        "id": "Pf_D2TkRCmTC"
      },
      "source": [
        "### Installing RDKit Module"
      ]
    },
    {
      "cell_type": "code",
      "metadata": {
        "colab": {
          "base_uri": "https://localhost:8080/"
        },
        "id": "yagZ8Gn8Cgki",
        "outputId": "347d04c9-eb04-464a-bf9d-93711036ae05"
      },
      "source": [
        "import sys\n",
        "!time pip install rdkit-pypi"
      ],
      "execution_count": 2,
      "outputs": [
        {
          "output_type": "stream",
          "name": "stdout",
          "text": [
            "Collecting rdkit-pypi\n",
            "  Downloading rdkit_pypi-2021.3.5.1-cp37-cp37m-manylinux_2_17_x86_64.manylinux2014_x86_64.whl (19.7 MB)\n",
            "\u001b[K     |████████████████████████████████| 19.7 MB 30.1 MB/s \n",
            "\u001b[?25hRequirement already satisfied: numpy>=1.19 in /usr/local/lib/python3.7/dist-packages (from rdkit-pypi) (1.19.5)\n",
            "Installing collected packages: rdkit-pypi\n",
            "Successfully installed rdkit-pypi-2021.3.5.1\n",
            "\n",
            "real\t0m8.829s\n",
            "user\t0m5.320s\n",
            "sys\t0m0.972s\n"
          ]
        }
      ]
    },
    {
      "cell_type": "code",
      "metadata": {
        "id": "lblV4nesCsEj"
      },
      "source": [
        "try:\n",
        "  from rdkit import Chem\n",
        "  from rdkit.Chem import Draw\n",
        "  from rdkit.Chem.Draw import IPythonConsole\n",
        "except ImportError:\n",
        "  print('Stopping RUNTIME. Colaboratory will restart automatically. Please run again.')\n",
        "  exit()"
      ],
      "execution_count": 3,
      "outputs": []
    },
    {
      "cell_type": "markdown",
      "metadata": {
        "id": "ovbbTtHIC0cr"
      },
      "source": [
        "### Get Data"
      ]
    },
    {
      "cell_type": "code",
      "metadata": {
        "id": "cgSR3FrFCw4w"
      },
      "source": [
        "# load the training data and save it in the variable \"train\"\n",
        "train=pd.read_csv('https://raw.githubusercontent.com/elizabeththrall/MLforPChem/main/MLforvibspectroscopy/Data/binary_train.csv',index_col=0)\n",
        "# load the test data and save it in the variable \"test\"\n",
        "test=pd.read_csv('https://raw.githubusercontent.com/elizabeththrall/MLforPChem/main/MLforvibspectroscopy/Data/binary_test.csv',index_col=0)"
      ],
      "execution_count": 4,
      "outputs": []
    },
    {
      "cell_type": "code",
      "metadata": {
        "colab": {
          "base_uri": "https://localhost:8080/",
          "height": 545
        },
        "id": "t3vZ5PBQC41k",
        "outputId": "e4f4751b-2962-4223-89db-43b06f0aad24"
      },
      "source": [
        "# display the contents of the variable \"train\"\n",
        "train"
      ],
      "execution_count": 5,
      "outputs": [
        {
          "output_type": "execute_result",
          "data": {
            "text/html": [
              "<div>\n",
              "<style scoped>\n",
              "    .dataframe tbody tr th:only-of-type {\n",
              "        vertical-align: middle;\n",
              "    }\n",
              "\n",
              "    .dataframe tbody tr th {\n",
              "        vertical-align: top;\n",
              "    }\n",
              "\n",
              "    .dataframe thead th {\n",
              "        text-align: right;\n",
              "    }\n",
              "</style>\n",
              "<table border=\"1\" class=\"dataframe\">\n",
              "  <thead>\n",
              "    <tr style=\"text-align: right;\">\n",
              "      <th></th>\n",
              "      <th>SMILES</th>\n",
              "      <th>name</th>\n",
              "      <th>label</th>\n",
              "      <th>500</th>\n",
              "      <th>502</th>\n",
              "      <th>504</th>\n",
              "      <th>506</th>\n",
              "      <th>508</th>\n",
              "      <th>510</th>\n",
              "      <th>512</th>\n",
              "      <th>514</th>\n",
              "      <th>516</th>\n",
              "      <th>518</th>\n",
              "      <th>520</th>\n",
              "      <th>522</th>\n",
              "      <th>524</th>\n",
              "      <th>526</th>\n",
              "      <th>528</th>\n",
              "      <th>530</th>\n",
              "      <th>532</th>\n",
              "      <th>534</th>\n",
              "      <th>536</th>\n",
              "      <th>538</th>\n",
              "      <th>540</th>\n",
              "      <th>542</th>\n",
              "      <th>544</th>\n",
              "      <th>546</th>\n",
              "      <th>548</th>\n",
              "      <th>550</th>\n",
              "      <th>552</th>\n",
              "      <th>554</th>\n",
              "      <th>556</th>\n",
              "      <th>558</th>\n",
              "      <th>560</th>\n",
              "      <th>562</th>\n",
              "      <th>564</th>\n",
              "      <th>566</th>\n",
              "      <th>568</th>\n",
              "      <th>570</th>\n",
              "      <th>572</th>\n",
              "      <th>...</th>\n",
              "      <th>3922</th>\n",
              "      <th>3924</th>\n",
              "      <th>3926</th>\n",
              "      <th>3928</th>\n",
              "      <th>3930</th>\n",
              "      <th>3932</th>\n",
              "      <th>3934</th>\n",
              "      <th>3936</th>\n",
              "      <th>3938</th>\n",
              "      <th>3940</th>\n",
              "      <th>3942</th>\n",
              "      <th>3944</th>\n",
              "      <th>3946</th>\n",
              "      <th>3948</th>\n",
              "      <th>3950</th>\n",
              "      <th>3952</th>\n",
              "      <th>3954</th>\n",
              "      <th>3956</th>\n",
              "      <th>3958</th>\n",
              "      <th>3960</th>\n",
              "      <th>3962</th>\n",
              "      <th>3964</th>\n",
              "      <th>3966</th>\n",
              "      <th>3968</th>\n",
              "      <th>3970</th>\n",
              "      <th>3972</th>\n",
              "      <th>3974</th>\n",
              "      <th>3976</th>\n",
              "      <th>3978</th>\n",
              "      <th>3980</th>\n",
              "      <th>3982</th>\n",
              "      <th>3984</th>\n",
              "      <th>3986</th>\n",
              "      <th>3988</th>\n",
              "      <th>3990</th>\n",
              "      <th>3992</th>\n",
              "      <th>3994</th>\n",
              "      <th>3996</th>\n",
              "      <th>3998</th>\n",
              "      <th>4000</th>\n",
              "    </tr>\n",
              "  </thead>\n",
              "  <tbody>\n",
              "    <tr>\n",
              "      <th>0</th>\n",
              "      <td>COC1OCCO1</td>\n",
              "      <td>2-methoxy-13-dioxolane</td>\n",
              "      <td>0</td>\n",
              "      <td>0.000051</td>\n",
              "      <td>0.000051</td>\n",
              "      <td>0.000052</td>\n",
              "      <td>0.000052</td>\n",
              "      <td>0.000053</td>\n",
              "      <td>0.000053</td>\n",
              "      <td>0.000054</td>\n",
              "      <td>0.000054</td>\n",
              "      <td>0.000055</td>\n",
              "      <td>0.000056</td>\n",
              "      <td>0.000057</td>\n",
              "      <td>0.000057</td>\n",
              "      <td>0.000058</td>\n",
              "      <td>0.000059</td>\n",
              "      <td>0.000060</td>\n",
              "      <td>0.000062</td>\n",
              "      <td>0.000063</td>\n",
              "      <td>0.000064</td>\n",
              "      <td>0.000065</td>\n",
              "      <td>0.000066</td>\n",
              "      <td>0.000068</td>\n",
              "      <td>0.000069</td>\n",
              "      <td>0.000070</td>\n",
              "      <td>0.000071</td>\n",
              "      <td>0.000072</td>\n",
              "      <td>0.000073</td>\n",
              "      <td>0.000074</td>\n",
              "      <td>0.000075</td>\n",
              "      <td>0.000076</td>\n",
              "      <td>0.000077</td>\n",
              "      <td>0.000077</td>\n",
              "      <td>0.000077</td>\n",
              "      <td>0.000078</td>\n",
              "      <td>0.000078</td>\n",
              "      <td>0.000077</td>\n",
              "      <td>0.000077</td>\n",
              "      <td>0.000077</td>\n",
              "      <td>...</td>\n",
              "      <td>0.000005</td>\n",
              "      <td>0.000005</td>\n",
              "      <td>0.000005</td>\n",
              "      <td>0.000005</td>\n",
              "      <td>0.000005</td>\n",
              "      <td>0.000005</td>\n",
              "      <td>0.000005</td>\n",
              "      <td>0.000005</td>\n",
              "      <td>0.000005</td>\n",
              "      <td>0.000005</td>\n",
              "      <td>0.000005</td>\n",
              "      <td>0.000005</td>\n",
              "      <td>0.000005</td>\n",
              "      <td>0.000005</td>\n",
              "      <td>0.000005</td>\n",
              "      <td>0.000005</td>\n",
              "      <td>0.000005</td>\n",
              "      <td>0.000005</td>\n",
              "      <td>0.000005</td>\n",
              "      <td>0.000005</td>\n",
              "      <td>0.000005</td>\n",
              "      <td>0.000005</td>\n",
              "      <td>0.000005</td>\n",
              "      <td>0.000005</td>\n",
              "      <td>0.000005</td>\n",
              "      <td>0.000005</td>\n",
              "      <td>0.000005</td>\n",
              "      <td>0.000005</td>\n",
              "      <td>0.000005</td>\n",
              "      <td>0.000005</td>\n",
              "      <td>0.000005</td>\n",
              "      <td>0.000004</td>\n",
              "      <td>0.000004</td>\n",
              "      <td>0.000004</td>\n",
              "      <td>0.000004</td>\n",
              "      <td>0.000004</td>\n",
              "      <td>0.000004</td>\n",
              "      <td>0.000004</td>\n",
              "      <td>0.000004</td>\n",
              "      <td>0.000004</td>\n",
              "    </tr>\n",
              "    <tr>\n",
              "      <th>1</th>\n",
              "      <td>CCCCCC=O</td>\n",
              "      <td>hexanal</td>\n",
              "      <td>1</td>\n",
              "      <td>0.000121</td>\n",
              "      <td>0.000126</td>\n",
              "      <td>0.000131</td>\n",
              "      <td>0.000136</td>\n",
              "      <td>0.000141</td>\n",
              "      <td>0.000146</td>\n",
              "      <td>0.000151</td>\n",
              "      <td>0.000155</td>\n",
              "      <td>0.000159</td>\n",
              "      <td>0.000163</td>\n",
              "      <td>0.000166</td>\n",
              "      <td>0.000169</td>\n",
              "      <td>0.000171</td>\n",
              "      <td>0.000172</td>\n",
              "      <td>0.000172</td>\n",
              "      <td>0.000172</td>\n",
              "      <td>0.000171</td>\n",
              "      <td>0.000169</td>\n",
              "      <td>0.000166</td>\n",
              "      <td>0.000163</td>\n",
              "      <td>0.000159</td>\n",
              "      <td>0.000155</td>\n",
              "      <td>0.000150</td>\n",
              "      <td>0.000146</td>\n",
              "      <td>0.000141</td>\n",
              "      <td>0.000135</td>\n",
              "      <td>0.000130</td>\n",
              "      <td>0.000125</td>\n",
              "      <td>0.000120</td>\n",
              "      <td>0.000115</td>\n",
              "      <td>0.000111</td>\n",
              "      <td>0.000106</td>\n",
              "      <td>0.000102</td>\n",
              "      <td>0.000097</td>\n",
              "      <td>0.000093</td>\n",
              "      <td>0.000090</td>\n",
              "      <td>0.000086</td>\n",
              "      <td>...</td>\n",
              "      <td>0.000009</td>\n",
              "      <td>0.000009</td>\n",
              "      <td>0.000009</td>\n",
              "      <td>0.000009</td>\n",
              "      <td>0.000009</td>\n",
              "      <td>0.000009</td>\n",
              "      <td>0.000009</td>\n",
              "      <td>0.000009</td>\n",
              "      <td>0.000009</td>\n",
              "      <td>0.000009</td>\n",
              "      <td>0.000009</td>\n",
              "      <td>0.000009</td>\n",
              "      <td>0.000009</td>\n",
              "      <td>0.000009</td>\n",
              "      <td>0.000009</td>\n",
              "      <td>0.000008</td>\n",
              "      <td>0.000008</td>\n",
              "      <td>0.000008</td>\n",
              "      <td>0.000008</td>\n",
              "      <td>0.000008</td>\n",
              "      <td>0.000008</td>\n",
              "      <td>0.000008</td>\n",
              "      <td>0.000008</td>\n",
              "      <td>0.000008</td>\n",
              "      <td>0.000008</td>\n",
              "      <td>0.000008</td>\n",
              "      <td>0.000008</td>\n",
              "      <td>0.000008</td>\n",
              "      <td>0.000008</td>\n",
              "      <td>0.000008</td>\n",
              "      <td>0.000008</td>\n",
              "      <td>0.000008</td>\n",
              "      <td>0.000008</td>\n",
              "      <td>0.000008</td>\n",
              "      <td>0.000008</td>\n",
              "      <td>0.000008</td>\n",
              "      <td>0.000008</td>\n",
              "      <td>0.000008</td>\n",
              "      <td>0.000008</td>\n",
              "      <td>0.000008</td>\n",
              "    </tr>\n",
              "    <tr>\n",
              "      <th>2</th>\n",
              "      <td>CC1CCC(C)C1C</td>\n",
              "      <td>1R2R3S-123-trimethylcyclopentane</td>\n",
              "      <td>0</td>\n",
              "      <td>0.000013</td>\n",
              "      <td>0.000013</td>\n",
              "      <td>0.000013</td>\n",
              "      <td>0.000013</td>\n",
              "      <td>0.000012</td>\n",
              "      <td>0.000012</td>\n",
              "      <td>0.000012</td>\n",
              "      <td>0.000012</td>\n",
              "      <td>0.000012</td>\n",
              "      <td>0.000012</td>\n",
              "      <td>0.000012</td>\n",
              "      <td>0.000012</td>\n",
              "      <td>0.000011</td>\n",
              "      <td>0.000011</td>\n",
              "      <td>0.000011</td>\n",
              "      <td>0.000011</td>\n",
              "      <td>0.000011</td>\n",
              "      <td>0.000011</td>\n",
              "      <td>0.000011</td>\n",
              "      <td>0.000011</td>\n",
              "      <td>0.000011</td>\n",
              "      <td>0.000011</td>\n",
              "      <td>0.000011</td>\n",
              "      <td>0.000011</td>\n",
              "      <td>0.000011</td>\n",
              "      <td>0.000011</td>\n",
              "      <td>0.000011</td>\n",
              "      <td>0.000011</td>\n",
              "      <td>0.000011</td>\n",
              "      <td>0.000012</td>\n",
              "      <td>0.000012</td>\n",
              "      <td>0.000012</td>\n",
              "      <td>0.000012</td>\n",
              "      <td>0.000012</td>\n",
              "      <td>0.000012</td>\n",
              "      <td>0.000013</td>\n",
              "      <td>0.000013</td>\n",
              "      <td>...</td>\n",
              "      <td>0.000015</td>\n",
              "      <td>0.000015</td>\n",
              "      <td>0.000015</td>\n",
              "      <td>0.000015</td>\n",
              "      <td>0.000015</td>\n",
              "      <td>0.000015</td>\n",
              "      <td>0.000015</td>\n",
              "      <td>0.000015</td>\n",
              "      <td>0.000015</td>\n",
              "      <td>0.000014</td>\n",
              "      <td>0.000014</td>\n",
              "      <td>0.000014</td>\n",
              "      <td>0.000014</td>\n",
              "      <td>0.000014</td>\n",
              "      <td>0.000014</td>\n",
              "      <td>0.000014</td>\n",
              "      <td>0.000014</td>\n",
              "      <td>0.000014</td>\n",
              "      <td>0.000014</td>\n",
              "      <td>0.000014</td>\n",
              "      <td>0.000014</td>\n",
              "      <td>0.000014</td>\n",
              "      <td>0.000014</td>\n",
              "      <td>0.000014</td>\n",
              "      <td>0.000014</td>\n",
              "      <td>0.000014</td>\n",
              "      <td>0.000014</td>\n",
              "      <td>0.000013</td>\n",
              "      <td>0.000013</td>\n",
              "      <td>0.000013</td>\n",
              "      <td>0.000013</td>\n",
              "      <td>0.000013</td>\n",
              "      <td>0.000013</td>\n",
              "      <td>0.000013</td>\n",
              "      <td>0.000013</td>\n",
              "      <td>0.000013</td>\n",
              "      <td>0.000013</td>\n",
              "      <td>0.000013</td>\n",
              "      <td>0.000013</td>\n",
              "      <td>0.000013</td>\n",
              "    </tr>\n",
              "    <tr>\n",
              "      <th>3</th>\n",
              "      <td>c1cn[se]c1</td>\n",
              "      <td>12-selenazole</td>\n",
              "      <td>0</td>\n",
              "      <td>0.000243</td>\n",
              "      <td>0.000244</td>\n",
              "      <td>0.000245</td>\n",
              "      <td>0.000246</td>\n",
              "      <td>0.000248</td>\n",
              "      <td>0.000249</td>\n",
              "      <td>0.000251</td>\n",
              "      <td>0.000254</td>\n",
              "      <td>0.000256</td>\n",
              "      <td>0.000259</td>\n",
              "      <td>0.000262</td>\n",
              "      <td>0.000266</td>\n",
              "      <td>0.000270</td>\n",
              "      <td>0.000274</td>\n",
              "      <td>0.000278</td>\n",
              "      <td>0.000283</td>\n",
              "      <td>0.000288</td>\n",
              "      <td>0.000294</td>\n",
              "      <td>0.000300</td>\n",
              "      <td>0.000306</td>\n",
              "      <td>0.000313</td>\n",
              "      <td>0.000320</td>\n",
              "      <td>0.000328</td>\n",
              "      <td>0.000336</td>\n",
              "      <td>0.000344</td>\n",
              "      <td>0.000353</td>\n",
              "      <td>0.000363</td>\n",
              "      <td>0.000372</td>\n",
              "      <td>0.000383</td>\n",
              "      <td>0.000394</td>\n",
              "      <td>0.000405</td>\n",
              "      <td>0.000416</td>\n",
              "      <td>0.000429</td>\n",
              "      <td>0.000441</td>\n",
              "      <td>0.000454</td>\n",
              "      <td>0.000467</td>\n",
              "      <td>0.000480</td>\n",
              "      <td>...</td>\n",
              "      <td>0.000003</td>\n",
              "      <td>0.000003</td>\n",
              "      <td>0.000003</td>\n",
              "      <td>0.000003</td>\n",
              "      <td>0.000003</td>\n",
              "      <td>0.000003</td>\n",
              "      <td>0.000003</td>\n",
              "      <td>0.000003</td>\n",
              "      <td>0.000003</td>\n",
              "      <td>0.000003</td>\n",
              "      <td>0.000003</td>\n",
              "      <td>0.000003</td>\n",
              "      <td>0.000003</td>\n",
              "      <td>0.000003</td>\n",
              "      <td>0.000003</td>\n",
              "      <td>0.000003</td>\n",
              "      <td>0.000003</td>\n",
              "      <td>0.000003</td>\n",
              "      <td>0.000003</td>\n",
              "      <td>0.000003</td>\n",
              "      <td>0.000003</td>\n",
              "      <td>0.000003</td>\n",
              "      <td>0.000003</td>\n",
              "      <td>0.000003</td>\n",
              "      <td>0.000003</td>\n",
              "      <td>0.000003</td>\n",
              "      <td>0.000003</td>\n",
              "      <td>0.000003</td>\n",
              "      <td>0.000003</td>\n",
              "      <td>0.000003</td>\n",
              "      <td>0.000003</td>\n",
              "      <td>0.000003</td>\n",
              "      <td>0.000003</td>\n",
              "      <td>0.000003</td>\n",
              "      <td>0.000003</td>\n",
              "      <td>0.000003</td>\n",
              "      <td>0.000003</td>\n",
              "      <td>0.000003</td>\n",
              "      <td>0.000003</td>\n",
              "      <td>0.000003</td>\n",
              "    </tr>\n",
              "    <tr>\n",
              "      <th>4</th>\n",
              "      <td>CCC(C)=CC(C)C</td>\n",
              "      <td>3E-24-dimethylhex-3-ene</td>\n",
              "      <td>0</td>\n",
              "      <td>0.000053</td>\n",
              "      <td>0.000053</td>\n",
              "      <td>0.000054</td>\n",
              "      <td>0.000054</td>\n",
              "      <td>0.000054</td>\n",
              "      <td>0.000054</td>\n",
              "      <td>0.000054</td>\n",
              "      <td>0.000055</td>\n",
              "      <td>0.000055</td>\n",
              "      <td>0.000056</td>\n",
              "      <td>0.000056</td>\n",
              "      <td>0.000057</td>\n",
              "      <td>0.000058</td>\n",
              "      <td>0.000058</td>\n",
              "      <td>0.000059</td>\n",
              "      <td>0.000060</td>\n",
              "      <td>0.000062</td>\n",
              "      <td>0.000063</td>\n",
              "      <td>0.000064</td>\n",
              "      <td>0.000065</td>\n",
              "      <td>0.000067</td>\n",
              "      <td>0.000068</td>\n",
              "      <td>0.000069</td>\n",
              "      <td>0.000070</td>\n",
              "      <td>0.000072</td>\n",
              "      <td>0.000073</td>\n",
              "      <td>0.000074</td>\n",
              "      <td>0.000075</td>\n",
              "      <td>0.000075</td>\n",
              "      <td>0.000076</td>\n",
              "      <td>0.000076</td>\n",
              "      <td>0.000076</td>\n",
              "      <td>0.000075</td>\n",
              "      <td>0.000075</td>\n",
              "      <td>0.000074</td>\n",
              "      <td>0.000073</td>\n",
              "      <td>0.000071</td>\n",
              "      <td>...</td>\n",
              "      <td>0.000014</td>\n",
              "      <td>0.000014</td>\n",
              "      <td>0.000014</td>\n",
              "      <td>0.000013</td>\n",
              "      <td>0.000013</td>\n",
              "      <td>0.000013</td>\n",
              "      <td>0.000013</td>\n",
              "      <td>0.000013</td>\n",
              "      <td>0.000013</td>\n",
              "      <td>0.000013</td>\n",
              "      <td>0.000013</td>\n",
              "      <td>0.000013</td>\n",
              "      <td>0.000013</td>\n",
              "      <td>0.000013</td>\n",
              "      <td>0.000013</td>\n",
              "      <td>0.000013</td>\n",
              "      <td>0.000013</td>\n",
              "      <td>0.000013</td>\n",
              "      <td>0.000013</td>\n",
              "      <td>0.000013</td>\n",
              "      <td>0.000013</td>\n",
              "      <td>0.000012</td>\n",
              "      <td>0.000012</td>\n",
              "      <td>0.000012</td>\n",
              "      <td>0.000012</td>\n",
              "      <td>0.000012</td>\n",
              "      <td>0.000012</td>\n",
              "      <td>0.000012</td>\n",
              "      <td>0.000012</td>\n",
              "      <td>0.000012</td>\n",
              "      <td>0.000012</td>\n",
              "      <td>0.000012</td>\n",
              "      <td>0.000012</td>\n",
              "      <td>0.000012</td>\n",
              "      <td>0.000012</td>\n",
              "      <td>0.000012</td>\n",
              "      <td>0.000012</td>\n",
              "      <td>0.000012</td>\n",
              "      <td>0.000012</td>\n",
              "      <td>0.000012</td>\n",
              "    </tr>\n",
              "    <tr>\n",
              "      <th>...</th>\n",
              "      <td>...</td>\n",
              "      <td>...</td>\n",
              "      <td>...</td>\n",
              "      <td>...</td>\n",
              "      <td>...</td>\n",
              "      <td>...</td>\n",
              "      <td>...</td>\n",
              "      <td>...</td>\n",
              "      <td>...</td>\n",
              "      <td>...</td>\n",
              "      <td>...</td>\n",
              "      <td>...</td>\n",
              "      <td>...</td>\n",
              "      <td>...</td>\n",
              "      <td>...</td>\n",
              "      <td>...</td>\n",
              "      <td>...</td>\n",
              "      <td>...</td>\n",
              "      <td>...</td>\n",
              "      <td>...</td>\n",
              "      <td>...</td>\n",
              "      <td>...</td>\n",
              "      <td>...</td>\n",
              "      <td>...</td>\n",
              "      <td>...</td>\n",
              "      <td>...</td>\n",
              "      <td>...</td>\n",
              "      <td>...</td>\n",
              "      <td>...</td>\n",
              "      <td>...</td>\n",
              "      <td>...</td>\n",
              "      <td>...</td>\n",
              "      <td>...</td>\n",
              "      <td>...</td>\n",
              "      <td>...</td>\n",
              "      <td>...</td>\n",
              "      <td>...</td>\n",
              "      <td>...</td>\n",
              "      <td>...</td>\n",
              "      <td>...</td>\n",
              "      <td>...</td>\n",
              "      <td>...</td>\n",
              "      <td>...</td>\n",
              "      <td>...</td>\n",
              "      <td>...</td>\n",
              "      <td>...</td>\n",
              "      <td>...</td>\n",
              "      <td>...</td>\n",
              "      <td>...</td>\n",
              "      <td>...</td>\n",
              "      <td>...</td>\n",
              "      <td>...</td>\n",
              "      <td>...</td>\n",
              "      <td>...</td>\n",
              "      <td>...</td>\n",
              "      <td>...</td>\n",
              "      <td>...</td>\n",
              "      <td>...</td>\n",
              "      <td>...</td>\n",
              "      <td>...</td>\n",
              "      <td>...</td>\n",
              "      <td>...</td>\n",
              "      <td>...</td>\n",
              "      <td>...</td>\n",
              "      <td>...</td>\n",
              "      <td>...</td>\n",
              "      <td>...</td>\n",
              "      <td>...</td>\n",
              "      <td>...</td>\n",
              "      <td>...</td>\n",
              "      <td>...</td>\n",
              "      <td>...</td>\n",
              "      <td>...</td>\n",
              "      <td>...</td>\n",
              "      <td>...</td>\n",
              "      <td>...</td>\n",
              "      <td>...</td>\n",
              "      <td>...</td>\n",
              "      <td>...</td>\n",
              "      <td>...</td>\n",
              "      <td>...</td>\n",
              "    </tr>\n",
              "    <tr>\n",
              "      <th>2099</th>\n",
              "      <td>c1c[nH]cn1</td>\n",
              "      <td>imidazole</td>\n",
              "      <td>0</td>\n",
              "      <td>0.001059</td>\n",
              "      <td>0.001111</td>\n",
              "      <td>0.001166</td>\n",
              "      <td>0.001222</td>\n",
              "      <td>0.001282</td>\n",
              "      <td>0.001343</td>\n",
              "      <td>0.001406</td>\n",
              "      <td>0.001470</td>\n",
              "      <td>0.001536</td>\n",
              "      <td>0.001601</td>\n",
              "      <td>0.001667</td>\n",
              "      <td>0.001730</td>\n",
              "      <td>0.001792</td>\n",
              "      <td>0.001850</td>\n",
              "      <td>0.001904</td>\n",
              "      <td>0.001952</td>\n",
              "      <td>0.001993</td>\n",
              "      <td>0.002027</td>\n",
              "      <td>0.002052</td>\n",
              "      <td>0.002068</td>\n",
              "      <td>0.002074</td>\n",
              "      <td>0.002070</td>\n",
              "      <td>0.002056</td>\n",
              "      <td>0.002034</td>\n",
              "      <td>0.002002</td>\n",
              "      <td>0.001964</td>\n",
              "      <td>0.001918</td>\n",
              "      <td>0.001868</td>\n",
              "      <td>0.001813</td>\n",
              "      <td>0.001755</td>\n",
              "      <td>0.001695</td>\n",
              "      <td>0.001634</td>\n",
              "      <td>0.001573</td>\n",
              "      <td>0.001512</td>\n",
              "      <td>0.001452</td>\n",
              "      <td>0.001394</td>\n",
              "      <td>0.001338</td>\n",
              "      <td>...</td>\n",
              "      <td>0.000027</td>\n",
              "      <td>0.000027</td>\n",
              "      <td>0.000027</td>\n",
              "      <td>0.000026</td>\n",
              "      <td>0.000026</td>\n",
              "      <td>0.000025</td>\n",
              "      <td>0.000025</td>\n",
              "      <td>0.000025</td>\n",
              "      <td>0.000024</td>\n",
              "      <td>0.000024</td>\n",
              "      <td>0.000024</td>\n",
              "      <td>0.000023</td>\n",
              "      <td>0.000023</td>\n",
              "      <td>0.000023</td>\n",
              "      <td>0.000023</td>\n",
              "      <td>0.000022</td>\n",
              "      <td>0.000022</td>\n",
              "      <td>0.000022</td>\n",
              "      <td>0.000022</td>\n",
              "      <td>0.000021</td>\n",
              "      <td>0.000021</td>\n",
              "      <td>0.000021</td>\n",
              "      <td>0.000021</td>\n",
              "      <td>0.000020</td>\n",
              "      <td>0.000020</td>\n",
              "      <td>0.000020</td>\n",
              "      <td>0.000020</td>\n",
              "      <td>0.000019</td>\n",
              "      <td>0.000019</td>\n",
              "      <td>0.000019</td>\n",
              "      <td>0.000019</td>\n",
              "      <td>0.000018</td>\n",
              "      <td>0.000018</td>\n",
              "      <td>0.000018</td>\n",
              "      <td>0.000018</td>\n",
              "      <td>0.000018</td>\n",
              "      <td>0.000018</td>\n",
              "      <td>0.000017</td>\n",
              "      <td>0.000017</td>\n",
              "      <td>0.000017</td>\n",
              "    </tr>\n",
              "    <tr>\n",
              "      <th>2100</th>\n",
              "      <td>C=C[Si](C)(Cl)Cl</td>\n",
              "      <td>methyl-vinyl-dichlorosilane</td>\n",
              "      <td>0</td>\n",
              "      <td>0.001328</td>\n",
              "      <td>0.001328</td>\n",
              "      <td>0.001327</td>\n",
              "      <td>0.001326</td>\n",
              "      <td>0.001324</td>\n",
              "      <td>0.001323</td>\n",
              "      <td>0.001322</td>\n",
              "      <td>0.001322</td>\n",
              "      <td>0.001324</td>\n",
              "      <td>0.001326</td>\n",
              "      <td>0.001330</td>\n",
              "      <td>0.001336</td>\n",
              "      <td>0.001344</td>\n",
              "      <td>0.001355</td>\n",
              "      <td>0.001368</td>\n",
              "      <td>0.001384</td>\n",
              "      <td>0.001404</td>\n",
              "      <td>0.001426</td>\n",
              "      <td>0.001451</td>\n",
              "      <td>0.001480</td>\n",
              "      <td>0.001512</td>\n",
              "      <td>0.001547</td>\n",
              "      <td>0.001585</td>\n",
              "      <td>0.001625</td>\n",
              "      <td>0.001668</td>\n",
              "      <td>0.001713</td>\n",
              "      <td>0.001759</td>\n",
              "      <td>0.001806</td>\n",
              "      <td>0.001853</td>\n",
              "      <td>0.001899</td>\n",
              "      <td>0.001944</td>\n",
              "      <td>0.001986</td>\n",
              "      <td>0.002024</td>\n",
              "      <td>0.002057</td>\n",
              "      <td>0.002085</td>\n",
              "      <td>0.002106</td>\n",
              "      <td>0.002120</td>\n",
              "      <td>...</td>\n",
              "      <td>0.000002</td>\n",
              "      <td>0.000002</td>\n",
              "      <td>0.000002</td>\n",
              "      <td>0.000002</td>\n",
              "      <td>0.000002</td>\n",
              "      <td>0.000002</td>\n",
              "      <td>0.000002</td>\n",
              "      <td>0.000002</td>\n",
              "      <td>0.000002</td>\n",
              "      <td>0.000002</td>\n",
              "      <td>0.000002</td>\n",
              "      <td>0.000002</td>\n",
              "      <td>0.000002</td>\n",
              "      <td>0.000002</td>\n",
              "      <td>0.000002</td>\n",
              "      <td>0.000002</td>\n",
              "      <td>0.000002</td>\n",
              "      <td>0.000002</td>\n",
              "      <td>0.000002</td>\n",
              "      <td>0.000002</td>\n",
              "      <td>0.000002</td>\n",
              "      <td>0.000002</td>\n",
              "      <td>0.000002</td>\n",
              "      <td>0.000002</td>\n",
              "      <td>0.000002</td>\n",
              "      <td>0.000002</td>\n",
              "      <td>0.000002</td>\n",
              "      <td>0.000002</td>\n",
              "      <td>0.000002</td>\n",
              "      <td>0.000002</td>\n",
              "      <td>0.000002</td>\n",
              "      <td>0.000002</td>\n",
              "      <td>0.000002</td>\n",
              "      <td>0.000002</td>\n",
              "      <td>0.000002</td>\n",
              "      <td>0.000002</td>\n",
              "      <td>0.000002</td>\n",
              "      <td>0.000002</td>\n",
              "      <td>0.000002</td>\n",
              "      <td>0.000002</td>\n",
              "    </tr>\n",
              "    <tr>\n",
              "      <th>2101</th>\n",
              "      <td>CCC=CCl</td>\n",
              "      <td>1E-1-chloro-1-butene</td>\n",
              "      <td>0</td>\n",
              "      <td>0.000055</td>\n",
              "      <td>0.000055</td>\n",
              "      <td>0.000055</td>\n",
              "      <td>0.000055</td>\n",
              "      <td>0.000055</td>\n",
              "      <td>0.000055</td>\n",
              "      <td>0.000055</td>\n",
              "      <td>0.000056</td>\n",
              "      <td>0.000056</td>\n",
              "      <td>0.000056</td>\n",
              "      <td>0.000056</td>\n",
              "      <td>0.000056</td>\n",
              "      <td>0.000056</td>\n",
              "      <td>0.000057</td>\n",
              "      <td>0.000057</td>\n",
              "      <td>0.000057</td>\n",
              "      <td>0.000058</td>\n",
              "      <td>0.000058</td>\n",
              "      <td>0.000058</td>\n",
              "      <td>0.000059</td>\n",
              "      <td>0.000059</td>\n",
              "      <td>0.000060</td>\n",
              "      <td>0.000060</td>\n",
              "      <td>0.000061</td>\n",
              "      <td>0.000061</td>\n",
              "      <td>0.000062</td>\n",
              "      <td>0.000062</td>\n",
              "      <td>0.000063</td>\n",
              "      <td>0.000063</td>\n",
              "      <td>0.000064</td>\n",
              "      <td>0.000065</td>\n",
              "      <td>0.000065</td>\n",
              "      <td>0.000066</td>\n",
              "      <td>0.000067</td>\n",
              "      <td>0.000067</td>\n",
              "      <td>0.000068</td>\n",
              "      <td>0.000069</td>\n",
              "      <td>...</td>\n",
              "      <td>0.000008</td>\n",
              "      <td>0.000008</td>\n",
              "      <td>0.000008</td>\n",
              "      <td>0.000008</td>\n",
              "      <td>0.000008</td>\n",
              "      <td>0.000008</td>\n",
              "      <td>0.000008</td>\n",
              "      <td>0.000008</td>\n",
              "      <td>0.000008</td>\n",
              "      <td>0.000008</td>\n",
              "      <td>0.000008</td>\n",
              "      <td>0.000008</td>\n",
              "      <td>0.000008</td>\n",
              "      <td>0.000008</td>\n",
              "      <td>0.000008</td>\n",
              "      <td>0.000008</td>\n",
              "      <td>0.000008</td>\n",
              "      <td>0.000008</td>\n",
              "      <td>0.000008</td>\n",
              "      <td>0.000008</td>\n",
              "      <td>0.000008</td>\n",
              "      <td>0.000007</td>\n",
              "      <td>0.000007</td>\n",
              "      <td>0.000007</td>\n",
              "      <td>0.000007</td>\n",
              "      <td>0.000007</td>\n",
              "      <td>0.000007</td>\n",
              "      <td>0.000007</td>\n",
              "      <td>0.000007</td>\n",
              "      <td>0.000007</td>\n",
              "      <td>0.000007</td>\n",
              "      <td>0.000007</td>\n",
              "      <td>0.000007</td>\n",
              "      <td>0.000007</td>\n",
              "      <td>0.000007</td>\n",
              "      <td>0.000007</td>\n",
              "      <td>0.000007</td>\n",
              "      <td>0.000007</td>\n",
              "      <td>0.000007</td>\n",
              "      <td>0.000007</td>\n",
              "    </tr>\n",
              "    <tr>\n",
              "      <th>2102</th>\n",
              "      <td>FC(F)(F)C(F)(F)C(F)(F)C(F)(F)C(F)(F)F</td>\n",
              "      <td>perfluoro-n-pentane</td>\n",
              "      <td>0</td>\n",
              "      <td>0.000111</td>\n",
              "      <td>0.000114</td>\n",
              "      <td>0.000117</td>\n",
              "      <td>0.000121</td>\n",
              "      <td>0.000124</td>\n",
              "      <td>0.000128</td>\n",
              "      <td>0.000131</td>\n",
              "      <td>0.000134</td>\n",
              "      <td>0.000138</td>\n",
              "      <td>0.000141</td>\n",
              "      <td>0.000143</td>\n",
              "      <td>0.000146</td>\n",
              "      <td>0.000149</td>\n",
              "      <td>0.000151</td>\n",
              "      <td>0.000153</td>\n",
              "      <td>0.000154</td>\n",
              "      <td>0.000156</td>\n",
              "      <td>0.000157</td>\n",
              "      <td>0.000158</td>\n",
              "      <td>0.000158</td>\n",
              "      <td>0.000159</td>\n",
              "      <td>0.000159</td>\n",
              "      <td>0.000160</td>\n",
              "      <td>0.000160</td>\n",
              "      <td>0.000160</td>\n",
              "      <td>0.000161</td>\n",
              "      <td>0.000161</td>\n",
              "      <td>0.000162</td>\n",
              "      <td>0.000163</td>\n",
              "      <td>0.000164</td>\n",
              "      <td>0.000165</td>\n",
              "      <td>0.000166</td>\n",
              "      <td>0.000168</td>\n",
              "      <td>0.000169</td>\n",
              "      <td>0.000171</td>\n",
              "      <td>0.000173</td>\n",
              "      <td>0.000175</td>\n",
              "      <td>...</td>\n",
              "      <td>0.000002</td>\n",
              "      <td>0.000002</td>\n",
              "      <td>0.000002</td>\n",
              "      <td>0.000002</td>\n",
              "      <td>0.000002</td>\n",
              "      <td>0.000002</td>\n",
              "      <td>0.000002</td>\n",
              "      <td>0.000002</td>\n",
              "      <td>0.000002</td>\n",
              "      <td>0.000002</td>\n",
              "      <td>0.000002</td>\n",
              "      <td>0.000002</td>\n",
              "      <td>0.000002</td>\n",
              "      <td>0.000002</td>\n",
              "      <td>0.000002</td>\n",
              "      <td>0.000002</td>\n",
              "      <td>0.000002</td>\n",
              "      <td>0.000002</td>\n",
              "      <td>0.000002</td>\n",
              "      <td>0.000002</td>\n",
              "      <td>0.000002</td>\n",
              "      <td>0.000002</td>\n",
              "      <td>0.000002</td>\n",
              "      <td>0.000002</td>\n",
              "      <td>0.000002</td>\n",
              "      <td>0.000002</td>\n",
              "      <td>0.000002</td>\n",
              "      <td>0.000002</td>\n",
              "      <td>0.000002</td>\n",
              "      <td>0.000002</td>\n",
              "      <td>0.000002</td>\n",
              "      <td>0.000002</td>\n",
              "      <td>0.000002</td>\n",
              "      <td>0.000002</td>\n",
              "      <td>0.000002</td>\n",
              "      <td>0.000002</td>\n",
              "      <td>0.000002</td>\n",
              "      <td>0.000002</td>\n",
              "      <td>0.000002</td>\n",
              "      <td>0.000002</td>\n",
              "    </tr>\n",
              "    <tr>\n",
              "      <th>2103</th>\n",
              "      <td>NCCCO</td>\n",
              "      <td>3-amino-1-propanol</td>\n",
              "      <td>0</td>\n",
              "      <td>0.000178</td>\n",
              "      <td>0.000172</td>\n",
              "      <td>0.000166</td>\n",
              "      <td>0.000161</td>\n",
              "      <td>0.000156</td>\n",
              "      <td>0.000152</td>\n",
              "      <td>0.000147</td>\n",
              "      <td>0.000143</td>\n",
              "      <td>0.000139</td>\n",
              "      <td>0.000136</td>\n",
              "      <td>0.000132</td>\n",
              "      <td>0.000129</td>\n",
              "      <td>0.000126</td>\n",
              "      <td>0.000123</td>\n",
              "      <td>0.000121</td>\n",
              "      <td>0.000118</td>\n",
              "      <td>0.000116</td>\n",
              "      <td>0.000114</td>\n",
              "      <td>0.000111</td>\n",
              "      <td>0.000110</td>\n",
              "      <td>0.000108</td>\n",
              "      <td>0.000106</td>\n",
              "      <td>0.000104</td>\n",
              "      <td>0.000103</td>\n",
              "      <td>0.000101</td>\n",
              "      <td>0.000100</td>\n",
              "      <td>0.000099</td>\n",
              "      <td>0.000098</td>\n",
              "      <td>0.000097</td>\n",
              "      <td>0.000096</td>\n",
              "      <td>0.000095</td>\n",
              "      <td>0.000094</td>\n",
              "      <td>0.000093</td>\n",
              "      <td>0.000092</td>\n",
              "      <td>0.000092</td>\n",
              "      <td>0.000091</td>\n",
              "      <td>0.000091</td>\n",
              "      <td>...</td>\n",
              "      <td>0.000047</td>\n",
              "      <td>0.000046</td>\n",
              "      <td>0.000045</td>\n",
              "      <td>0.000043</td>\n",
              "      <td>0.000042</td>\n",
              "      <td>0.000041</td>\n",
              "      <td>0.000040</td>\n",
              "      <td>0.000039</td>\n",
              "      <td>0.000037</td>\n",
              "      <td>0.000036</td>\n",
              "      <td>0.000035</td>\n",
              "      <td>0.000035</td>\n",
              "      <td>0.000034</td>\n",
              "      <td>0.000033</td>\n",
              "      <td>0.000032</td>\n",
              "      <td>0.000031</td>\n",
              "      <td>0.000030</td>\n",
              "      <td>0.000030</td>\n",
              "      <td>0.000029</td>\n",
              "      <td>0.000028</td>\n",
              "      <td>0.000028</td>\n",
              "      <td>0.000027</td>\n",
              "      <td>0.000027</td>\n",
              "      <td>0.000026</td>\n",
              "      <td>0.000025</td>\n",
              "      <td>0.000025</td>\n",
              "      <td>0.000024</td>\n",
              "      <td>0.000024</td>\n",
              "      <td>0.000023</td>\n",
              "      <td>0.000023</td>\n",
              "      <td>0.000023</td>\n",
              "      <td>0.000022</td>\n",
              "      <td>0.000022</td>\n",
              "      <td>0.000021</td>\n",
              "      <td>0.000021</td>\n",
              "      <td>0.000021</td>\n",
              "      <td>0.000020</td>\n",
              "      <td>0.000020</td>\n",
              "      <td>0.000019</td>\n",
              "      <td>0.000019</td>\n",
              "    </tr>\n",
              "  </tbody>\n",
              "</table>\n",
              "<p>2104 rows × 1754 columns</p>\n",
              "</div>"
            ],
            "text/plain": [
              "                                     SMILES  ...      4000\n",
              "0                                 COC1OCCO1  ...  0.000004\n",
              "1                                  CCCCCC=O  ...  0.000008\n",
              "2                              CC1CCC(C)C1C  ...  0.000013\n",
              "3                                c1cn[se]c1  ...  0.000003\n",
              "4                             CCC(C)=CC(C)C  ...  0.000012\n",
              "...                                     ...  ...       ...\n",
              "2099                             c1c[nH]cn1  ...  0.000017\n",
              "2100                       C=C[Si](C)(Cl)Cl  ...  0.000002\n",
              "2101                                CCC=CCl  ...  0.000007\n",
              "2102  FC(F)(F)C(F)(F)C(F)(F)C(F)(F)C(F)(F)F  ...  0.000002\n",
              "2103                                  NCCCO  ...  0.000019\n",
              "\n",
              "[2104 rows x 1754 columns]"
            ]
          },
          "metadata": {},
          "execution_count": 5
        }
      ]
    },
    {
      "cell_type": "markdown",
      "metadata": {
        "id": "NIfp-_FvDKB8"
      },
      "source": [
        "### Plotting Data"
      ]
    },
    {
      "cell_type": "code",
      "metadata": {
        "colab": {
          "base_uri": "https://localhost:8080/",
          "height": 542
        },
        "id": "VcZVzwVtC8Tm",
        "outputId": "63061419-f198-4098-c293-685bdd7327f8"
      },
      "source": [
        "# change the index values below to pick molecules with and without a carbonyl\n",
        "idx_hasCarbonyl=1\n",
        "idx_notCarbonyl=0\n",
        "# get the data for the two molecules\n",
        "hasCarbonyl=train.set_index('name').iloc[idx_hasCarbonyl,3:]\n",
        "notCarbonyl=train.set_index('name').iloc[idx_notCarbonyl,3:] \n",
        "# plot the spectra\n",
        "fig = go.Figure()\n",
        "fig.add_trace(go.Scatter(x=hasCarbonyl.index, y=hasCarbonyl, name=hasCarbonyl.name,mode='markers'))\n",
        "fig.add_trace(go.Scatter(x=notCarbonyl.index, y=notCarbonyl,name=notCarbonyl.name,mode='markers'))\n",
        "fig.update_layout(title='Intensities over frequency',title_x=0.5)"
      ],
      "execution_count": 6,
      "outputs": [
        {
          "output_type": "display_data",
          "data": {
            "text/html": [
              "<html>\n",
              "<head><meta charset=\"utf-8\" /></head>\n",
              "<body>\n",
              "    <div>\n",
              "            <script src=\"https://cdnjs.cloudflare.com/ajax/libs/mathjax/2.7.5/MathJax.js?config=TeX-AMS-MML_SVG\"></script><script type=\"text/javascript\">if (window.MathJax) {MathJax.Hub.Config({SVG: {font: \"STIX-Web\"}});}</script>\n",
              "                <script type=\"text/javascript\">window.PlotlyConfig = {MathJaxConfig: 'local'};</script>\n",
              "        <script src=\"https://cdn.plot.ly/plotly-latest.min.js\"></script>    \n",
              "            <div id=\"0c340c9c-da65-4a7f-a8ac-bb2eed36982e\" class=\"plotly-graph-div\" style=\"height:525px; width:100%;\"></div>\n",
              "            <script type=\"text/javascript\">\n",
              "                \n",
              "                    window.PLOTLYENV=window.PLOTLYENV || {};\n",
              "                    \n",
              "                if (document.getElementById(\"0c340c9c-da65-4a7f-a8ac-bb2eed36982e\")) {\n",
              "                    Plotly.newPlot(\n",
              "                        '0c340c9c-da65-4a7f-a8ac-bb2eed36982e',\n",
              "                        [{\"mode\": \"markers\", \"name\": \"hexanal\", \"type\": \"scatter\", \"x\": [\"502\", \"504\", \"506\", \"508\", \"510\", \"512\", \"514\", \"516\", \"518\", \"520\", \"522\", \"524\", \"526\", \"528\", \"530\", \"532\", \"534\", \"536\", \"538\", \"540\", \"542\", \"544\", \"546\", \"548\", \"550\", \"552\", \"554\", \"556\", \"558\", \"560\", \"562\", \"564\", \"566\", \"568\", \"570\", \"572\", \"574\", \"576\", \"578\", \"580\", \"582\", \"584\", \"586\", \"588\", \"590\", \"592\", \"594\", \"596\", \"598\", \"600\", \"602\", \"604\", \"606\", \"608\", \"610\", \"612\", \"614\", \"616\", \"618\", \"620\", \"622\", \"624\", \"626\", \"628\", \"630\", \"632\", \"634\", \"636\", \"638\", \"640\", \"642\", \"644\", \"646\", \"648\", \"650\", \"652\", \"654\", \"656\", \"658\", \"660\", \"662\", \"664\", \"666\", \"668\", \"670\", \"672\", \"674\", \"676\", \"678\", \"680\", \"682\", \"684\", \"686\", \"688\", \"690\", \"692\", \"694\", \"696\", \"698\", \"700\", \"702\", \"704\", \"706\", \"708\", \"710\", \"712\", \"714\", \"716\", \"718\", \"720\", \"722\", \"724\", \"726\", \"728\", \"730\", \"732\", \"734\", \"736\", \"738\", \"740\", \"742\", \"744\", \"746\", \"748\", \"750\", \"752\", \"754\", \"756\", \"758\", \"760\", \"762\", \"764\", \"766\", \"768\", \"770\", \"772\", \"774\", \"776\", \"778\", \"780\", \"782\", \"784\", \"786\", \"788\", \"790\", \"792\", \"794\", \"796\", \"798\", \"800\", \"802\", \"804\", \"806\", \"808\", \"810\", \"812\", \"814\", \"816\", \"818\", \"820\", \"822\", \"824\", \"826\", \"828\", \"830\", \"832\", \"834\", \"836\", \"838\", \"840\", \"842\", \"844\", \"846\", \"848\", \"850\", \"852\", \"854\", \"856\", \"858\", \"860\", \"862\", \"864\", \"866\", \"868\", \"870\", \"872\", \"874\", \"876\", \"878\", \"880\", \"882\", \"884\", \"886\", \"888\", \"890\", \"892\", \"894\", \"896\", \"898\", \"900\", \"902\", \"904\", \"906\", \"908\", \"910\", \"912\", \"914\", \"916\", \"918\", \"920\", \"922\", \"924\", \"926\", \"928\", \"930\", \"932\", \"934\", \"936\", \"938\", \"940\", \"942\", \"944\", \"946\", \"948\", \"950\", \"952\", \"954\", \"956\", \"958\", \"960\", \"962\", \"964\", \"966\", \"968\", \"970\", \"972\", \"974\", \"976\", \"978\", \"980\", \"982\", \"984\", \"986\", \"988\", \"990\", \"992\", \"994\", \"996\", \"998\", \"1000\", \"1002\", \"1004\", \"1006\", \"1008\", \"1010\", \"1012\", \"1014\", \"1016\", \"1018\", \"1020\", \"1022\", \"1024\", \"1026\", \"1028\", \"1030\", \"1032\", \"1034\", \"1036\", \"1038\", \"1040\", \"1042\", \"1044\", \"1046\", \"1048\", \"1050\", \"1052\", \"1054\", \"1056\", \"1058\", \"1060\", \"1062\", \"1064\", \"1066\", \"1068\", \"1070\", \"1072\", \"1074\", \"1076\", \"1078\", \"1080\", \"1082\", \"1084\", \"1086\", \"1088\", \"1090\", \"1092\", \"1094\", \"1096\", \"1098\", \"1100\", \"1102\", \"1104\", \"1106\", \"1108\", \"1110\", \"1112\", \"1114\", \"1116\", \"1118\", \"1120\", \"1122\", \"1124\", \"1126\", \"1128\", \"1130\", \"1132\", \"1134\", \"1136\", \"1138\", \"1140\", \"1142\", \"1144\", \"1146\", \"1148\", \"1150\", \"1152\", \"1154\", \"1156\", \"1158\", \"1160\", \"1162\", \"1164\", \"1166\", \"1168\", \"1170\", \"1172\", \"1174\", \"1176\", \"1178\", \"1180\", \"1182\", \"1184\", \"1186\", \"1188\", \"1190\", \"1192\", \"1194\", \"1196\", \"1198\", \"1200\", \"1202\", \"1204\", \"1206\", \"1208\", \"1210\", \"1212\", \"1214\", \"1216\", \"1218\", \"1220\", \"1222\", \"1224\", \"1226\", \"1228\", \"1230\", \"1232\", \"1234\", \"1236\", \"1238\", \"1240\", \"1242\", \"1244\", \"1246\", \"1248\", \"1250\", \"1252\", \"1254\", \"1256\", \"1258\", \"1260\", \"1262\", \"1264\", \"1266\", \"1268\", \"1270\", \"1272\", \"1274\", \"1276\", \"1278\", \"1280\", \"1282\", \"1284\", \"1286\", \"1288\", \"1290\", \"1292\", \"1294\", \"1296\", \"1298\", \"1300\", \"1302\", \"1304\", \"1306\", \"1308\", \"1310\", \"1312\", \"1314\", \"1316\", \"1318\", \"1320\", \"1322\", \"1324\", \"1326\", \"1328\", \"1330\", \"1332\", \"1334\", \"1336\", \"1338\", \"1340\", \"1342\", \"1344\", \"1346\", \"1348\", \"1350\", \"1352\", \"1354\", \"1356\", \"1358\", \"1360\", \"1362\", \"1364\", \"1366\", \"1368\", \"1370\", \"1372\", \"1374\", \"1376\", \"1378\", \"1380\", \"1382\", \"1384\", \"1386\", \"1388\", \"1390\", \"1392\", \"1394\", \"1396\", \"1398\", \"1400\", \"1402\", \"1404\", \"1406\", \"1408\", \"1410\", \"1412\", \"1414\", \"1416\", \"1418\", \"1420\", \"1422\", \"1424\", \"1426\", \"1428\", \"1430\", \"1432\", \"1434\", \"1436\", \"1438\", \"1440\", \"1442\", \"1444\", \"1446\", \"1448\", \"1450\", \"1452\", \"1454\", \"1456\", \"1458\", \"1460\", \"1462\", \"1464\", \"1466\", \"1468\", \"1470\", \"1472\", \"1474\", \"1476\", \"1478\", \"1480\", \"1482\", \"1484\", \"1486\", \"1488\", \"1490\", \"1492\", \"1494\", \"1496\", \"1498\", \"1500\", \"1502\", \"1504\", \"1506\", \"1508\", \"1510\", \"1512\", \"1514\", \"1516\", \"1518\", \"1520\", \"1522\", \"1524\", \"1526\", \"1528\", \"1530\", \"1532\", \"1534\", \"1536\", \"1538\", \"1540\", \"1542\", \"1544\", \"1546\", \"1548\", \"1550\", \"1552\", \"1554\", \"1556\", \"1558\", \"1560\", \"1562\", \"1564\", \"1566\", \"1568\", \"1570\", \"1572\", \"1574\", \"1576\", \"1578\", \"1580\", \"1582\", \"1584\", \"1586\", \"1588\", \"1590\", \"1592\", \"1594\", \"1596\", \"1598\", \"1600\", \"1602\", \"1604\", \"1606\", \"1608\", \"1610\", \"1612\", \"1614\", \"1616\", \"1618\", \"1620\", \"1622\", \"1624\", \"1626\", \"1628\", \"1630\", \"1632\", \"1634\", \"1636\", \"1638\", \"1640\", \"1642\", \"1644\", \"1646\", \"1648\", \"1650\", \"1652\", \"1654\", \"1656\", \"1658\", \"1660\", \"1662\", \"1664\", \"1666\", \"1668\", \"1670\", \"1672\", \"1674\", \"1676\", \"1678\", \"1680\", \"1682\", \"1684\", \"1686\", \"1688\", \"1690\", \"1692\", \"1694\", \"1696\", \"1698\", \"1700\", \"1702\", \"1704\", \"1706\", \"1708\", \"1710\", \"1712\", \"1714\", \"1716\", \"1718\", \"1720\", \"1722\", \"1724\", \"1726\", \"1728\", \"1730\", \"1732\", \"1734\", \"1736\", \"1738\", \"1740\", \"1742\", \"1744\", \"1746\", \"1748\", \"1750\", \"1752\", \"1754\", \"1756\", \"1758\", \"1760\", \"1762\", \"1764\", \"1766\", \"1768\", \"1770\", \"1772\", \"1774\", \"1776\", \"1778\", \"1780\", \"1782\", \"1784\", \"1786\", \"1788\", \"1790\", \"1792\", \"1794\", \"1796\", \"1798\", \"1800\", \"1802\", \"1804\", \"1806\", \"1808\", \"1810\", \"1812\", \"1814\", \"1816\", \"1818\", \"1820\", \"1822\", \"1824\", \"1826\", \"1828\", \"1830\", \"1832\", \"1834\", \"1836\", \"1838\", \"1840\", \"1842\", \"1844\", \"1846\", \"1848\", \"1850\", \"1852\", \"1854\", \"1856\", \"1858\", \"1860\", \"1862\", \"1864\", \"1866\", \"1868\", \"1870\", \"1872\", \"1874\", \"1876\", \"1878\", \"1880\", \"1882\", \"1884\", \"1886\", \"1888\", \"1890\", \"1892\", \"1894\", \"1896\", \"1898\", \"1900\", \"1902\", \"1904\", \"1906\", \"1908\", \"1910\", \"1912\", \"1914\", \"1916\", \"1918\", \"1920\", \"1922\", \"1924\", \"1926\", \"1928\", \"1930\", \"1932\", \"1934\", \"1936\", \"1938\", \"1940\", \"1942\", \"1944\", \"1946\", \"1948\", \"1950\", \"1952\", \"1954\", \"1956\", \"1958\", \"1960\", \"1962\", \"1964\", \"1966\", \"1968\", \"1970\", \"1972\", \"1974\", \"1976\", \"1978\", \"1980\", \"1982\", \"1984\", \"1986\", \"1988\", \"1990\", \"1992\", \"1994\", \"1996\", \"1998\", \"2000\", \"2002\", \"2004\", \"2006\", \"2008\", \"2010\", \"2012\", \"2014\", \"2016\", \"2018\", \"2020\", \"2022\", \"2024\", \"2026\", \"2028\", \"2030\", \"2032\", \"2034\", \"2036\", \"2038\", \"2040\", \"2042\", \"2044\", \"2046\", \"2048\", \"2050\", \"2052\", \"2054\", \"2056\", \"2058\", \"2060\", \"2062\", \"2064\", \"2066\", \"2068\", \"2070\", \"2072\", \"2074\", \"2076\", \"2078\", \"2080\", \"2082\", \"2084\", \"2086\", \"2088\", \"2090\", \"2092\", \"2094\", \"2096\", \"2098\", \"2100\", \"2102\", \"2104\", \"2106\", \"2108\", \"2110\", \"2112\", \"2114\", \"2116\", \"2118\", \"2120\", \"2122\", \"2124\", \"2126\", \"2128\", \"2130\", \"2132\", \"2134\", \"2136\", \"2138\", \"2140\", \"2142\", \"2144\", \"2146\", \"2148\", \"2150\", \"2152\", \"2154\", \"2156\", \"2158\", \"2160\", \"2162\", \"2164\", \"2166\", \"2168\", \"2170\", \"2172\", \"2174\", \"2176\", \"2178\", \"2180\", \"2182\", \"2184\", \"2186\", \"2188\", \"2190\", \"2192\", \"2194\", \"2196\", \"2198\", \"2200\", \"2202\", \"2204\", \"2206\", \"2208\", \"2210\", \"2212\", \"2214\", \"2216\", \"2218\", \"2220\", \"2222\", \"2224\", \"2226\", \"2228\", \"2230\", \"2232\", \"2234\", \"2236\", \"2238\", \"2240\", \"2242\", \"2244\", \"2246\", \"2248\", \"2250\", \"2252\", \"2254\", \"2256\", \"2258\", \"2260\", \"2262\", \"2264\", \"2266\", \"2268\", \"2270\", \"2272\", \"2274\", \"2276\", \"2278\", \"2280\", \"2282\", \"2284\", \"2286\", \"2288\", \"2290\", \"2292\", \"2294\", \"2296\", \"2298\", \"2300\", \"2302\", \"2304\", \"2306\", \"2308\", \"2310\", \"2312\", \"2314\", \"2316\", \"2318\", \"2320\", \"2322\", \"2324\", \"2326\", \"2328\", \"2330\", \"2332\", \"2334\", \"2336\", \"2338\", \"2340\", \"2342\", \"2344\", \"2346\", \"2348\", \"2350\", \"2352\", \"2354\", \"2356\", \"2358\", \"2360\", \"2362\", \"2364\", \"2366\", \"2368\", \"2370\", \"2372\", \"2374\", \"2376\", \"2378\", \"2380\", \"2382\", \"2384\", \"2386\", \"2388\", \"2390\", \"2392\", \"2394\", \"2396\", \"2398\", \"2400\", \"2402\", \"2404\", \"2406\", \"2408\", \"2410\", \"2412\", \"2414\", \"2416\", \"2418\", \"2420\", \"2422\", \"2424\", \"2426\", \"2428\", \"2430\", \"2432\", \"2434\", \"2436\", \"2438\", \"2440\", \"2442\", \"2444\", \"2446\", \"2448\", \"2450\", \"2452\", \"2454\", \"2456\", \"2458\", \"2460\", \"2462\", \"2464\", \"2466\", \"2468\", \"2470\", \"2472\", \"2474\", \"2476\", \"2478\", \"2480\", \"2482\", \"2484\", \"2486\", \"2488\", \"2490\", \"2492\", \"2494\", \"2496\", \"2498\", \"2500\", \"2502\", \"2504\", \"2506\", \"2508\", \"2510\", \"2512\", \"2514\", \"2516\", \"2518\", \"2520\", \"2522\", \"2524\", \"2526\", \"2528\", \"2530\", \"2532\", \"2534\", \"2536\", \"2538\", \"2540\", \"2542\", \"2544\", \"2546\", \"2548\", \"2550\", \"2552\", \"2554\", \"2556\", \"2558\", \"2560\", \"2562\", \"2564\", \"2566\", \"2568\", \"2570\", \"2572\", \"2574\", \"2576\", \"2578\", \"2580\", \"2582\", \"2584\", \"2586\", \"2588\", \"2590\", \"2592\", \"2594\", \"2596\", \"2598\", \"2600\", \"2602\", \"2604\", \"2606\", \"2608\", \"2610\", \"2612\", \"2614\", \"2616\", \"2618\", \"2620\", \"2622\", \"2624\", \"2626\", \"2628\", \"2630\", \"2632\", \"2634\", \"2636\", \"2638\", \"2640\", \"2642\", \"2644\", \"2646\", \"2648\", \"2650\", \"2652\", \"2654\", \"2656\", \"2658\", \"2660\", \"2662\", \"2664\", \"2666\", \"2668\", \"2670\", \"2672\", \"2674\", \"2676\", \"2678\", \"2680\", \"2682\", \"2684\", \"2686\", \"2688\", \"2690\", \"2692\", \"2694\", \"2696\", \"2698\", \"2700\", \"2702\", \"2704\", \"2706\", \"2708\", \"2710\", \"2712\", \"2714\", \"2716\", \"2718\", \"2720\", \"2722\", \"2724\", \"2726\", \"2728\", \"2730\", \"2732\", \"2734\", \"2736\", \"2738\", \"2740\", \"2742\", \"2744\", \"2746\", \"2748\", \"2750\", \"2752\", \"2754\", \"2756\", \"2758\", \"2760\", \"2762\", \"2764\", \"2766\", \"2768\", \"2770\", \"2772\", \"2774\", \"2776\", \"2778\", \"2780\", \"2782\", \"2784\", \"2786\", \"2788\", \"2790\", \"2792\", \"2794\", \"2796\", \"2798\", \"2800\", \"2802\", \"2804\", \"2806\", \"2808\", \"2810\", \"2812\", \"2814\", \"2816\", \"2818\", \"2820\", \"2822\", \"2824\", \"2826\", \"2828\", \"2830\", \"2832\", \"2834\", \"2836\", \"2838\", \"2840\", \"2842\", \"2844\", \"2846\", \"2848\", \"2850\", \"2852\", \"2854\", \"2856\", \"2858\", \"2860\", \"2862\", \"2864\", \"2866\", \"2868\", \"2870\", \"2872\", \"2874\", \"2876\", \"2878\", \"2880\", \"2882\", \"2884\", \"2886\", \"2888\", \"2890\", \"2892\", \"2894\", \"2896\", \"2898\", \"2900\", \"2902\", \"2904\", \"2906\", \"2908\", \"2910\", \"2912\", \"2914\", \"2916\", \"2918\", \"2920\", \"2922\", \"2924\", \"2926\", \"2928\", \"2930\", \"2932\", \"2934\", \"2936\", \"2938\", \"2940\", \"2942\", \"2944\", \"2946\", \"2948\", \"2950\", \"2952\", \"2954\", \"2956\", \"2958\", \"2960\", \"2962\", \"2964\", \"2966\", \"2968\", \"2970\", \"2972\", \"2974\", \"2976\", \"2978\", \"2980\", \"2982\", \"2984\", \"2986\", \"2988\", \"2990\", \"2992\", \"2994\", \"2996\", \"2998\", \"3000\", \"3002\", \"3004\", \"3006\", \"3008\", \"3010\", \"3012\", \"3014\", \"3016\", \"3018\", \"3020\", \"3022\", \"3024\", \"3026\", \"3028\", \"3030\", \"3032\", \"3034\", \"3036\", \"3038\", \"3040\", \"3042\", \"3044\", \"3046\", \"3048\", \"3050\", \"3052\", \"3054\", \"3056\", \"3058\", \"3060\", \"3062\", \"3064\", \"3066\", \"3068\", \"3070\", \"3072\", \"3074\", \"3076\", \"3078\", \"3080\", \"3082\", \"3084\", \"3086\", \"3088\", \"3090\", \"3092\", \"3094\", \"3096\", \"3098\", \"3100\", \"3102\", \"3104\", \"3106\", \"3108\", \"3110\", \"3112\", \"3114\", \"3116\", \"3118\", \"3120\", \"3122\", \"3124\", \"3126\", \"3128\", \"3130\", \"3132\", \"3134\", \"3136\", \"3138\", \"3140\", \"3142\", \"3144\", \"3146\", \"3148\", \"3150\", \"3152\", \"3154\", \"3156\", \"3158\", \"3160\", \"3162\", \"3164\", \"3166\", \"3168\", \"3170\", \"3172\", \"3174\", \"3176\", \"3178\", \"3180\", \"3182\", \"3184\", \"3186\", \"3188\", \"3190\", \"3192\", \"3194\", \"3196\", \"3198\", \"3200\", \"3202\", \"3204\", \"3206\", \"3208\", \"3210\", \"3212\", \"3214\", \"3216\", \"3218\", \"3220\", \"3222\", \"3224\", \"3226\", \"3228\", \"3230\", \"3232\", \"3234\", \"3236\", \"3238\", \"3240\", \"3242\", \"3244\", \"3246\", \"3248\", \"3250\", \"3252\", \"3254\", \"3256\", \"3258\", \"3260\", \"3262\", \"3264\", \"3266\", \"3268\", \"3270\", \"3272\", \"3274\", \"3276\", \"3278\", \"3280\", \"3282\", \"3284\", \"3286\", \"3288\", \"3290\", \"3292\", \"3294\", \"3296\", \"3298\", \"3300\", \"3302\", \"3304\", \"3306\", \"3308\", \"3310\", \"3312\", \"3314\", \"3316\", \"3318\", \"3320\", \"3322\", \"3324\", \"3326\", \"3328\", \"3330\", \"3332\", \"3334\", \"3336\", \"3338\", \"3340\", \"3342\", \"3344\", \"3346\", \"3348\", \"3350\", \"3352\", \"3354\", \"3356\", \"3358\", \"3360\", \"3362\", \"3364\", \"3366\", \"3368\", \"3370\", \"3372\", \"3374\", \"3376\", \"3378\", \"3380\", \"3382\", \"3384\", \"3386\", \"3388\", \"3390\", \"3392\", \"3394\", \"3396\", \"3398\", \"3400\", \"3402\", \"3404\", \"3406\", \"3408\", \"3410\", \"3412\", \"3414\", \"3416\", \"3418\", \"3420\", \"3422\", \"3424\", \"3426\", \"3428\", \"3430\", \"3432\", \"3434\", \"3436\", \"3438\", \"3440\", \"3442\", \"3444\", \"3446\", \"3448\", \"3450\", \"3452\", \"3454\", \"3456\", \"3458\", \"3460\", \"3462\", \"3464\", \"3466\", \"3468\", \"3470\", \"3472\", \"3474\", \"3476\", \"3478\", \"3480\", \"3482\", \"3484\", \"3486\", \"3488\", \"3490\", \"3492\", \"3494\", \"3496\", \"3498\", \"3500\", \"3502\", \"3504\", \"3506\", \"3508\", \"3510\", \"3512\", \"3514\", \"3516\", \"3518\", \"3520\", \"3522\", \"3524\", \"3526\", \"3528\", \"3530\", \"3532\", \"3534\", \"3536\", \"3538\", \"3540\", \"3542\", \"3544\", \"3546\", \"3548\", \"3550\", \"3552\", \"3554\", \"3556\", \"3558\", \"3560\", \"3562\", \"3564\", \"3566\", \"3568\", \"3570\", \"3572\", \"3574\", \"3576\", \"3578\", \"3580\", \"3582\", \"3584\", \"3586\", \"3588\", \"3590\", \"3592\", \"3594\", \"3596\", \"3598\", \"3600\", \"3602\", \"3604\", \"3606\", \"3608\", \"3610\", \"3612\", \"3614\", \"3616\", \"3618\", \"3620\", \"3622\", \"3624\", \"3626\", \"3628\", \"3630\", \"3632\", \"3634\", \"3636\", \"3638\", \"3640\", \"3642\", \"3644\", \"3646\", \"3648\", \"3650\", \"3652\", \"3654\", \"3656\", \"3658\", \"3660\", \"3662\", \"3664\", \"3666\", \"3668\", \"3670\", \"3672\", \"3674\", \"3676\", \"3678\", \"3680\", \"3682\", \"3684\", \"3686\", \"3688\", \"3690\", \"3692\", \"3694\", \"3696\", \"3698\", \"3700\", \"3702\", \"3704\", \"3706\", \"3708\", \"3710\", \"3712\", \"3714\", \"3716\", \"3718\", \"3720\", \"3722\", \"3724\", \"3726\", \"3728\", \"3730\", \"3732\", \"3734\", \"3736\", \"3738\", \"3740\", \"3742\", \"3744\", \"3746\", \"3748\", \"3750\", \"3752\", \"3754\", \"3756\", \"3758\", \"3760\", \"3762\", \"3764\", \"3766\", \"3768\", \"3770\", \"3772\", \"3774\", \"3776\", \"3778\", \"3780\", \"3782\", \"3784\", \"3786\", \"3788\", \"3790\", \"3792\", \"3794\", \"3796\", \"3798\", \"3800\", \"3802\", \"3804\", \"3806\", \"3808\", \"3810\", \"3812\", \"3814\", \"3816\", \"3818\", \"3820\", \"3822\", \"3824\", \"3826\", \"3828\", \"3830\", \"3832\", \"3834\", \"3836\", \"3838\", \"3840\", \"3842\", \"3844\", \"3846\", \"3848\", \"3850\", \"3852\", \"3854\", \"3856\", \"3858\", \"3860\", \"3862\", \"3864\", \"3866\", \"3868\", \"3870\", \"3872\", \"3874\", \"3876\", \"3878\", \"3880\", \"3882\", \"3884\", \"3886\", \"3888\", \"3890\", \"3892\", \"3894\", \"3896\", \"3898\", \"3900\", \"3902\", \"3904\", \"3906\", \"3908\", \"3910\", \"3912\", \"3914\", \"3916\", \"3918\", \"3920\", \"3922\", \"3924\", \"3926\", \"3928\", \"3930\", \"3932\", \"3934\", \"3936\", \"3938\", \"3940\", \"3942\", \"3944\", \"3946\", \"3948\", \"3950\", \"3952\", \"3954\", \"3956\", \"3958\", \"3960\", \"3962\", \"3964\", \"3966\", \"3968\", \"3970\", \"3972\", \"3974\", \"3976\", \"3978\", \"3980\", \"3982\", \"3984\", \"3986\", \"3988\", \"3990\", \"3992\", \"3994\", \"3996\", \"3998\", \"4000\"], \"y\": [0.000125979, 0.000130956, 0.00013597200000000002, 0.000140968, 0.000145874, 0.000150615, 0.000155103, 0.00015925, 0.00016296100000000001, 0.000166147, 0.000168724, 0.00017062, 0.00017178, 0.000172168, 0.00017177099999999998, 0.0001706, 0.00016868700000000002, 0.000166088, 0.000162871, 0.00015912, 0.000154924, 0.000150374, 0.000145561, 0.00014057, 0.000135478, 0.000130355, 0.000125259, 0.000120239, 0.00011533299999999999, 0.00011057299999999999, 0.000105982, 0.000101576, 9.740000000000001e-05, 9.340000000000001e-05, 8.950000000000001e-05, 8.590000000000001e-05, 8.25e-05, 7.929999999999999e-05, 7.63e-05, 7.340000000000001e-05, 7.070000000000001e-05, 6.82e-05, 6.59e-05, 6.36e-05, 6.159999999999999e-05, 5.96e-05, 5.7799999999999995e-05, 5.610000000000001e-05, 5.45e-05, 5.3e-05, 5.16e-05, 5.03e-05, 4.9e-05, 4.79e-05, 4.68e-05, 4.5799999999999995e-05, 4.49e-05, 4.4e-05, 4.3200000000000007e-05, 4.2499999999999996e-05, 4.18e-05, 4.1200000000000005e-05, 4.0600000000000004e-05, 4.01e-05, 3.96e-05, 3.9200000000000004e-05, 3.8799999999999994e-05, 3.84e-05, 3.81e-05, 3.79e-05, 3.77e-05, 3.75e-05, 3.73e-05, 3.72e-05, 3.72e-05, 3.72e-05, 3.72e-05, 3.73e-05, 3.74e-05, 3.75e-05, 3.77e-05, 3.79e-05, 3.82e-05, 3.85e-05, 3.8900000000000004e-05, 3.929999999999999e-05, 3.98e-05, 4.03e-05, 4.09e-05, 4.15e-05, 4.22e-05, 4.29e-05, 4.3799999999999994e-05, 4.46e-05, 4.5600000000000004e-05, 4.66e-05, 4.77e-05, 4.88e-05, 5e-05, 5.13e-05, 5.2600000000000005e-05, 5.39e-05, 5.5299999999999996e-05, 5.68e-05, 5.8200000000000005e-05, 5.9699999999999994e-05, 6.11e-05, 6.25e-05, 6.38e-05, 6.500000000000001e-05, 6.620000000000001e-05, 6.709999999999999e-05, 6.790000000000001e-05, 6.86e-05, 6.9e-05, 6.92e-05, 6.92e-05, 6.9e-05, 6.86e-05, 6.8e-05, 6.73e-05, 6.64e-05, 6.54e-05, 6.440000000000001e-05, 6.32e-05, 6.21e-05, 6.0899999999999996e-05, 5.9699999999999994e-05, 5.85e-05, 5.739999999999999e-05, 5.629999999999999e-05, 5.5299999999999996e-05, 5.429999999999999e-05, 5.3400000000000004e-05, 5.2600000000000005e-05, 5.18e-05, 5.11e-05, 5.05e-05, 5e-05, 4.95e-05, 4.91e-05, 4.88e-05, 4.85e-05, 4.83e-05, 4.8200000000000006e-05, 4.8100000000000004e-05, 4.8100000000000004e-05, 4.8100000000000004e-05, 4.8200000000000006e-05, 4.83e-05, 4.85e-05, 4.8700000000000005e-05, 4.8899999999999996e-05, 4.91e-05, 4.94e-05, 4.96e-05, 4.99e-05, 5.02e-05, 5.05e-05, 5.08e-05, 5.11e-05, 5.14e-05, 5.17e-05, 5.21e-05, 5.25e-05, 5.2900000000000005e-05, 5.3299999999999995e-05, 5.379999999999999e-05, 5.44e-05, 5.5e-05, 5.56e-05, 5.629999999999999e-05, 5.7100000000000006e-05, 5.79e-05, 5.8899999999999995e-05, 5.98e-05, 6.0899999999999996e-05, 6.2e-05, 6.32e-05, 6.45e-05, 6.59e-05, 6.73e-05, 6.879999999999999e-05, 7.03e-05, 7.190000000000001e-05, 7.35e-05, 7.509999999999998e-05, 7.68e-05, 7.840000000000001e-05, 8e-05, 8.159999999999999e-05, 8.32e-05, 8.47e-05, 8.609999999999999e-05, 8.75e-05, 8.88e-05, 9e-05, 9.120000000000001e-05, 9.23e-05, 9.350000000000001e-05, 9.46e-05, 9.570000000000001e-05, 9.68e-05, 9.8e-05, 9.93e-05, 0.00010062200000000001, 0.000102094, 0.00010369999999999999, 0.000105457, 0.000107383, 0.000109492, 0.00011179700000000001, 0.00011431200000000001, 0.000117045, 0.000120005, 0.000123199, 0.000126633, 0.000130306, 0.00013421899999999998, 0.000138367, 0.00014274, 0.000147326, 0.000152104, 0.00015705, 0.000162132, 0.00016731, 0.000172538, 0.000177765, 0.00018293400000000002, 0.000187983, 0.000192851, 0.00019747900000000002, 0.000201812, 0.00020580299999999998, 0.00020942, 0.00021264099999999999, 0.000215462, 0.00021789400000000002, 0.000219961, 0.0002217, 0.000223157, 0.00022438400000000003, 0.00022543099999999998, 0.000226351, 0.000227186, 0.000227976, 0.00022874900000000002, 0.000229525, 0.000230318, 0.00023113299999999998, 0.00023197400000000003, 0.000232838, 0.000233725, 0.00023463599999999998, 0.000235573, 0.000236543, 0.000237552, 0.000238613, 0.00023973400000000002, 0.00024092599999999998, 0.000242196, 0.000243545, 0.000244969, 0.00024646, 0.000248, 0.000249566, 0.000251128, 0.000252649, 0.00025408799999999997, 0.000255398, 0.000256529, 0.00025743, 0.000258048, 0.000258332, 0.00025823700000000003, 0.000257721, 0.000256754, 0.000255311, 0.000253383, 0.00025097, 0.00024808400000000003, 0.000244751, 0.000241004, 0.00023688799999999999, 0.000232456, 0.000227766, 0.00022288, 0.000217862, 0.000212776, 0.000207685, 0.00020264599999999998, 0.000197714, 0.000192935, 0.000188353, 0.000184001, 0.00017990900000000002, 0.0001761, 0.000172593, 0.00016940099999999999, 0.00016653299999999999, 0.000163996, 0.000161795, 0.000159932, 0.00015840600000000001, 0.00015721799999999998, 0.000156365, 0.000155846, 0.000155658, 0.000155797, 0.00015626, 0.000157044, 0.000158142, 0.00015955, 0.000161261, 0.000163268, 0.00016556, 0.000168128, 0.000170958, 0.000174033, 0.000177333, 0.00018083299999999998, 0.00018450400000000002, 0.000188308, 0.00019219999999999998, 0.00019613, 0.00020003599999999998, 0.00020385, 0.000207496, 0.00021089400000000002, 0.000213958, 0.000216609, 0.000218768, 0.000220368, 0.000221358, 0.000221702, 0.000221387, 0.000220421, 0.000218832, 0.00021667099999999999, 0.00021400099999999999, 0.0002109, 0.000207454, 0.000203748, 0.000199869, 0.00019590000000000002, 0.000191914, 0.000187977, 0.000184145, 0.00018046400000000003, 0.00017696900000000002, 0.000173686, 0.00017063099999999997, 0.000167813, 0.00016523299999999998, 0.000162884, 0.00016075399999999999, 0.000158828, 0.000157084, 0.000155499, 0.000154048, 0.000152705, 0.000151445, 0.000150246, 0.00014909, 0.00014796200000000002, 0.000146854, 0.00014576299999999998, 0.00014469, 0.000143644, 0.000142636, 0.00014168200000000002, 0.00014079700000000001, 0.00014, 0.000139309, 0.00013874, 0.000138307, 0.000138023, 0.000137898, 0.000137938, 0.000138147, 0.000138525, 0.00013907, 0.000139776, 0.00014063200000000002, 0.00014162700000000002, 0.000142744, 0.000143965, 0.000145269, 0.000146633, 0.00014803399999999999, 0.00014945100000000002, 0.00015086, 0.000152245, 0.00015359, 0.000154883, 0.000156119, 0.000157292, 0.000158402, 0.00015945100000000002, 0.000160438, 0.000161364, 0.00016222399999999998, 0.00016301100000000002, 0.00016371299999999998, 0.000164314, 0.000164795, 0.000165133, 0.00016530400000000002, 0.00016528799999999998, 0.00016506599999999998, 0.000164626, 0.00016396099999999998, 0.000163075, 0.000161977, 0.00016068700000000002, 0.00015923, 0.00015763799999999998, 0.00015594600000000001, 0.000154191, 0.000152411, 0.000150643, 0.000148922, 0.00014728, 0.000145745, 0.000144341, 0.000143087, 0.000141999, 0.00014109, 0.000140366, 0.000139833, 0.000139491, 0.00013934, 0.000139375, 0.00013959, 0.000139977, 0.00014052799999999998, 0.000141233, 0.00014208, 0.000143059, 0.000144158, 0.000145367, 0.000146673, 0.000148066, 0.000149534, 0.000151065, 0.000152647, 0.000154267, 0.00015591299999999998, 0.000157571, 0.000159227, 0.000160867, 0.000162476, 0.00016404, 0.00016554299999999998, 0.000166973, 0.000168317, 0.00016956599999999998, 0.000170712, 0.000171753, 0.000172693, 0.00017354, 0.00017430900000000001, 0.00017502099999999998, 0.0001757, 0.000176375, 0.00017708, 0.000177845, 0.00017870400000000002, 0.00017968599999999997, 0.000180819, 0.000182125, 0.000183623, 0.000185327, 0.000187245, 0.000189378, 0.00019172599999999997, 0.000194282, 0.000197037, 0.000199977, 0.00020309, 0.000206359, 0.00020977099999999998, 0.00021331, 0.000216965, 0.00022072200000000002, 0.000224571, 0.000228499, 0.00023249, 0.00023652799999999998, 0.000240588, 0.000244642, 0.00024865200000000003, 0.00025257299999999997, 0.000256351, 0.000259927, 0.00026323599999999997, 0.000266207, 0.000268772, 0.000270862, 0.000272415, 0.000273377, 0.000273703, 0.000273363, 0.00027234, 0.000270634, 0.000268259, 0.000265248, 0.000261645, 0.000257508, 0.000252907, 0.000247917, 0.000242618, 0.00023709099999999998, 0.000231415, 0.000225665, 0.00021991, 0.00021421099999999999, 0.00020862, 0.00020318099999999998, 0.000197929, 0.000192893, 0.00018809099999999999, 0.000183539, 0.000179245, 0.000175213, 0.000171443, 0.000167934, 0.00016468, 0.000161676, 0.000158913, 0.000156384, 0.00015408, 0.00015199200000000002, 0.000150111, 0.00014842799999999998, 0.000146935, 0.000145624, 0.000144487, 0.00014351700000000002, 0.000142707, 0.00014205, 0.000141542, 0.000141176, 0.00014094700000000002, 0.000140852, 0.000140886, 0.000141046, 0.000141328, 0.00014173, 0.00014225, 0.000142886, 0.000143635, 0.000144497, 0.00014547100000000002, 0.000146556, 0.00014775200000000002, 0.00014905799999999998, 0.000150476, 0.000152005, 0.000153648, 0.000155404, 0.000157275, 0.00015926299999999998, 0.000161371, 0.0001636, 0.000165954, 0.00016843400000000002, 0.000171045, 0.000173791, 0.000176674, 0.0001797, 0.00018287299999999998, 0.000186198, 0.00018968099999999998, 0.000193327, 0.000197144, 0.000201137, 0.000205314, 0.000209683, 0.000214253, 0.00021903099999999998, 0.00022402900000000002, 0.00022925599999999997, 0.000234722, 0.00024044099999999998, 0.000246424, 0.000252685, 0.000259238, 0.000266099, 0.000273285, 0.000280811, 0.000288699, 0.00029696700000000003, 0.000305638, 0.000314735, 0.000324282, 0.000334307, 0.00034483699999999996, 0.00035590400000000004, 0.000367541, 0.000379783, 0.00039266699999999997, 0.000406236, 0.000420532, 0.000435602, 0.00045149800000000005, 0.000468273, 0.000485985, 0.000504698, 0.000524478, 0.000545397, 0.000567531, 0.000590963, 0.00061578, 0.000642076, 0.000669949, 0.000699505, 0.0007308530000000001, 0.000764111, 0.000799398, 0.00083684, 0.000876565, 0.0009187039999999999, 0.000963385, 0.0010107360000000001, 0.001060877, 0.001113916, 0.001169946, 0.001229035, 0.00129122, 0.001356495, 0.001424801, 0.001496011, 0.001569916, 0.001646207, 0.0017244629999999999, 0.001804131, 0.001884514, 0.001964764, 0.002043875, 0.002120694, 0.002193937, 0.002262222, 0.002324115, 0.002378188, 0.002423092, 0.00245763, 0.002480837, 0.002492038, 0.002490899, 0.0024774529999999997, 0.002452095, 0.002415553, 0.0023688389999999998, 0.00231318, 0.002249946, 0.00218057, 0.002106479, 0.002029044, 0.001949526, 0.001869055, 0.0017886070000000002, 0.0017090060000000001, 0.0016309220000000001, 0.0015548839999999999, 0.0014812920000000002, 0.001410437, 0.0013425129999999998, 0.001277632, 0.001215845, 0.001157148, 0.0011015, 0.001048826, 0.000999031, 0.0009520039999999999, 0.000907622, 0.00086576, 0.0008262860000000001, 0.00078907, 0.0007539860000000001, 0.000720907, 0.0006897139999999999, 0.0006602919999999999, 0.000632531, 0.0006063269999999999, 0.000581582, 0.0005582030000000001, 0.000536105, 0.000515205, 0.000495427, 0.000476701, 0.00045896, 0.00044214300000000004, 0.00042619, 0.00041105, 0.000396672, 0.000383008, 0.000370016, 0.000357656, 0.00034588800000000003, 0.000334679, 0.000323995, 0.00031380599999999997, 0.00030408299999999997, 0.0002948, 0.000285932, 0.000277456, 0.000269349, 0.000261592, 0.000254165, 0.000247051, 0.000240234, 0.000233697, 0.00022742599999999997, 0.00022140700000000002, 0.000215628, 0.000210075, 0.000204739, 0.000199608, 0.000194672, 0.000189922, 0.000185348, 0.000180943, 0.00017669799999999998, 0.00017260599999999998, 0.00016866, 0.000164853, 0.000161179, 0.000157632, 0.000154207, 0.00015089700000000002, 0.000147699, 0.00014460700000000002, 0.000141616, 0.000138723, 0.000135923, 0.000133212, 0.000130588, 0.000128045, 0.000125582, 0.000123194, 0.00012088, 0.000118635, 0.00011645700000000001, 0.000114345, 0.00011229399999999999, 0.00011030299999999999, 0.00010837, 0.00010649200000000001, 0.000104668, 0.000102895, 0.00010117200000000001, 9.95e-05, 9.790000000000001e-05, 9.63e-05, 9.470000000000001e-05, 9.32e-05, 9.18e-05, 9.04e-05, 8.9e-05, 8.759999999999999e-05, 8.63e-05, 8.499999999999999e-05, 8.379999999999999e-05, 8.26e-05, 8.14e-05, 8.02e-05, 7.91e-05, 7.8e-05, 7.69e-05, 7.59e-05, 7.49e-05, 7.390000000000001e-05, 7.290000000000001e-05, 7.2e-05, 7.099999999999999e-05, 7.01e-05, 6.92e-05, 6.840000000000001e-05, 6.75e-05, 6.670000000000001e-05, 6.59e-05, 6.51e-05, 6.440000000000001e-05, 6.36e-05, 6.29e-05, 6.22e-05, 6.14e-05, 6.08e-05, 6.01e-05, 5.94e-05, 5.88e-05, 5.8200000000000005e-05, 5.7499999999999995e-05, 5.6899999999999994e-05, 5.6399999999999995e-05, 5.5799999999999994e-05, 5.520000000000001e-05, 5.47e-05, 5.41e-05, 5.36e-05, 5.31e-05, 5.2600000000000005e-05, 5.21e-05, 5.16e-05, 5.11e-05, 5.0600000000000003e-05, 5.02e-05, 4.970000000000001e-05, 4.93e-05, 4.88e-05, 4.84e-05, 4.8e-05, 4.7600000000000005e-05, 4.72e-05, 4.68e-05, 4.6399999999999996e-05, 4.61e-05, 4.57e-05, 4.5299999999999997e-05, 4.5e-05, 4.46e-05, 4.429999999999999e-05, 4.4e-05, 4.36e-05, 4.33e-05, 4.3e-05, 4.270000000000001e-05, 4.24e-05, 4.210000000000001e-05, 4.18e-05, 4.15e-05, 4.13e-05, 4.1e-05, 4.07e-05, 4.05e-05, 4.02e-05, 4e-05, 3.97e-05, 3.9500000000000005e-05, 3.9200000000000004e-05, 3.9e-05, 3.8799999999999994e-05, 3.86e-05, 3.8299999999999996e-05, 3.81e-05, 3.79e-05, 3.77e-05, 3.75e-05, 3.73e-05, 3.71e-05, 3.69e-05, 3.68e-05, 3.66e-05, 3.64e-05, 3.6200000000000006e-05, 3.6099999999999997e-05, 3.59e-05, 3.570000000000001e-05, 3.5600000000000005e-05, 3.54e-05, 3.53e-05, 3.5100000000000006e-05, 3.5e-05, 3.48e-05, 3.47e-05, 3.46e-05, 3.4399999999999996e-05, 3.43e-05, 3.4200000000000005e-05, 3.41e-05, 3.39e-05, 3.3799999999999995e-05, 3.37e-05, 3.3600000000000004e-05, 3.35e-05, 3.34e-05, 3.3299999999999996e-05, 3.32e-05, 3.3100000000000005e-05, 3.3e-05, 3.289999999999999e-05, 3.28e-05, 3.27e-05, 3.27e-05, 3.26e-05, 3.2500000000000004e-05, 3.24e-05, 3.24e-05, 3.229999999999999e-05, 3.2200000000000003e-05, 3.2200000000000003e-05, 3.21e-05, 3.2e-05, 3.2e-05, 3.19e-05, 3.19e-05, 3.18e-05, 3.18e-05, 3.17e-05, 3.17e-05, 3.16e-05, 3.16e-05, 3.16e-05, 3.15e-05, 3.15e-05, 3.15e-05, 3.14e-05, 3.14e-05, 3.14e-05, 3.14e-05, 3.14e-05, 3.13e-05, 3.13e-05, 3.13e-05, 3.13e-05, 3.13e-05, 3.13e-05, 3.13e-05, 3.13e-05, 3.13e-05, 3.13e-05, 3.13e-05, 3.13e-05, 3.13e-05, 3.13e-05, 3.14e-05, 3.14e-05, 3.14e-05, 3.14e-05, 3.14e-05, 3.15e-05, 3.15e-05, 3.15e-05, 3.16e-05, 3.16e-05, 3.16e-05, 3.17e-05, 3.17e-05, 3.17e-05, 3.18e-05, 3.18e-05, 3.19e-05, 3.19e-05, 3.2e-05, 3.21e-05, 3.21e-05, 3.2200000000000003e-05, 3.2200000000000003e-05, 3.229999999999999e-05, 3.24e-05, 3.24e-05, 3.2500000000000004e-05, 3.26e-05, 3.27e-05, 3.28e-05, 3.28e-05, 3.289999999999999e-05, 3.3e-05, 3.3100000000000005e-05, 3.32e-05, 3.3299999999999996e-05, 3.34e-05, 3.35e-05, 3.3600000000000004e-05, 3.37e-05, 3.3799999999999995e-05, 3.39e-05, 3.4e-05, 3.4200000000000005e-05, 3.43e-05, 3.4399999999999996e-05, 3.45e-05, 3.47e-05, 3.48e-05, 3.4899999999999995e-05, 3.5100000000000006e-05, 3.52e-05, 3.54e-05, 3.5499999999999996e-05, 3.570000000000001e-05, 3.5799999999999996e-05, 3.6e-05, 3.6099999999999997e-05, 3.63e-05, 3.65e-05, 3.66e-05, 3.68e-05, 3.7e-05, 3.72e-05, 3.74e-05, 3.75e-05, 3.77e-05, 3.79e-05, 3.81e-05, 3.8299999999999996e-05, 3.85e-05, 3.8799999999999994e-05, 3.9e-05, 3.9200000000000004e-05, 3.9399999999999995e-05, 3.97e-05, 3.9899999999999994e-05, 4.01e-05, 4.04e-05, 4.0600000000000004e-05, 4.09e-05, 4.11e-05, 4.14e-05, 4.1700000000000004e-05, 4.1899999999999995e-05, 4.22e-05, 4.2499999999999996e-05, 4.28e-05, 4.31e-05, 4.34e-05, 4.3700000000000005e-05, 4.4e-05, 4.429999999999999e-05, 4.46e-05, 4.5e-05, 4.5299999999999997e-05, 4.5600000000000004e-05, 4.6e-05, 4.6399999999999996e-05, 4.6700000000000003e-05, 4.71e-05, 4.7499999999999996e-05, 4.79e-05, 4.8200000000000006e-05, 4.8599999999999995e-05, 4.91e-05, 4.95e-05, 4.99e-05, 5.03e-05, 5.08e-05, 5.12e-05, 5.17e-05, 5.21e-05, 5.2600000000000005e-05, 5.31e-05, 5.36e-05, 5.41e-05, 5.4600000000000006e-05, 5.520000000000001e-05, 5.5700000000000005e-05, 5.629999999999999e-05, 5.68e-05, 5.739999999999999e-05, 5.7999999999999994e-05, 5.8599999999999995e-05, 5.920000000000001e-05, 5.98e-05, 6.05e-05, 6.11e-05, 6.18e-05, 6.25e-05, 6.32e-05, 6.39e-05, 6.459999999999998e-05, 6.54e-05, 6.61e-05, 6.69e-05, 6.77e-05, 6.86e-05, 6.94e-05, 7.03e-05, 7.11e-05, 7.2e-05, 7.3e-05, 7.390000000000001e-05, 7.49e-05, 7.59e-05, 7.69e-05, 7.79e-05, 7.900000000000001e-05, 8.01e-05, 8.120000000000001e-05, 8.240000000000001e-05, 8.36e-05, 8.48e-05, 8.609999999999999e-05, 8.740000000000001e-05, 8.87e-05, 9e-05, 9.14e-05, 9.290000000000001e-05, 9.44e-05, 9.590000000000001e-05, 9.740000000000001e-05, 9.91e-05, 0.000100722, 0.000102434, 0.000104198, 0.00010601700000000001, 0.000107892, 0.000109827, 0.00011182299999999999, 0.000113884, 0.00011601200000000001, 0.00011821, 0.000120482, 0.00012283, 0.000125259, 0.000127772, 0.00013037299999999998, 0.000133067, 0.000135857, 0.000138749, 0.000141747, 0.000144858, 0.000148086, 0.000151438, 0.00015492, 0.00015854, 0.000162304, 0.00016622, 0.00017029599999999998, 0.000174542, 0.000178967, 0.000183581, 0.000188395, 0.00019342, 0.00019867, 0.000204156, 0.00020989400000000002, 0.00021589799999999999, 0.00022218599999999998, 0.000228774, 0.00023568099999999998, 0.00024292700000000001, 0.000250535, 0.00025852599999999997, 0.00026692700000000003, 0.000275763, 0.000285063, 0.000294858, 0.00030518, 0.000316065, 0.000327549, 0.00033967199999999996, 0.00035247800000000004, 0.00036600900000000004, 0.000380315, 0.000395444, 0.00041144900000000004, 0.000428384, 0.000446306, 0.000465271, 0.00048533800000000003, 0.000506563, 0.000529002, 0.0005527080000000001, 0.000577726, 0.000604095, 0.000631843, 0.00066098, 0.000691498, 0.000723364, 0.000756512, 0.00079084, 0.000826198, 0.000862386, 0.0008991439999999999, 0.000936147, 0.0009730060000000001, 0.001009262, 0.001044393, 0.001077827, 0.001108952, 0.001137143, 0.00116179, 0.001182326, 0.001198262, 0.001209222, 0.001214961, 0.001215393, 0.001210589, 0.001200775, 0.00118632, 0.001167702, 0.001145486, 0.001120287, 0.0010927369999999999, 0.001063458, 0.001033038, 0.0010020139999999999, 0.000970863, 0.000939996, 0.0009097539999999999, 0.0008804160000000001, 0.000852201, 0.000825275, 0.000799758, 0.0007757310000000001, 0.0007532439999999999, 0.00073232, 0.000712964, 0.000695164, 0.000678896, 0.000664132, 0.000650834, 0.000638965, 0.000628485, 0.000619355, 0.000611538, 0.000604999, 0.000599706, 0.000595631, 0.000592749, 0.000591039, 0.000590487, 0.000591081, 0.000592814, 0.000595684, 0.000599694, 0.000604852, 0.00061117, 0.0006186669999999999, 0.000627363, 0.0006372880000000001, 0.000648472, 0.000660954, 0.0006747760000000001, 0.000689983, 0.0007066269999999999, 0.0007247639999999999, 0.0007444519999999999, 0.0007657539999999999, 0.000788732, 0.0008134539999999999, 0.0008399839999999999, 0.000868385, 0.0008987169999999999, 0.0009310330000000001, 0.0009653760000000001, 0.001001776, 0.001040247, 0.001080779, 0.001123336, 0.0011678489999999999, 0.001214213, 0.001262277, 0.0013118420000000001, 0.001362659, 0.001414422, 0.0014667679999999998, 0.001519282, 0.0015714960000000001, 0.001622905, 0.00167297, 0.0017211420000000002, 0.001766878, 0.0018096639999999999, 0.00184904, 0.001884622, 0.001916129, 0.0019433920000000002, 0.001966371, 0.001985155, 0.001999954, 0.00201109, 0.002018971, 0.002024068, 0.002026886, 0.002027931, 0.002027689, 0.002026602, 0.002025049, 0.002023341, 0.002021715, 0.002020339, 0.002019318, 0.0020187029999999997, 0.0020185010000000002, 0.002018681, 0.002019181, 0.002019907, 0.002020725, 0.002021458, 0.002021876, 0.002021686, 0.0020205320000000002, 0.002017994, 0.002013596, 0.002006825, 0.001997156, 0.00198408, 0.001967139, 0.001945959, 0.001920276, 0.001889968, 0.001855055, 0.0018157120000000001, 0.001772254, 0.001725116, 0.0016748289999999999, 0.00162199, 0.0015672260000000001, 0.0015111679999999998, 0.001454421, 0.0013975460000000002, 0.0013410470000000002, 0.001285359, 0.001230844, 0.001177796, 0.001126442, 0.001076948, 0.001029427, 0.000983945, 0.0009405310000000001, 0.000899182, 0.000859871, 0.0008225519999999999, 0.000787163, 0.000753634, 0.0007218869999999999, 0.00069184, 0.0006634089999999999, 0.00063651, 0.00061106, 0.0005869769999999999, 0.000564183, 0.000542603, 0.000522164, 0.0005027969999999999, 0.000484438, 0.000467026, 0.00045050300000000005, 0.000434815, 0.00041991099999999997, 0.00040574400000000004, 0.000392269, 0.000379444, 0.000367231, 0.00035559400000000004, 0.00034449800000000005, 0.00033391199999999996, 0.000323806, 0.00031415400000000003, 0.000304928, 0.000296105, 0.000287663, 0.00027958, 0.00027183700000000003, 0.000264415, 0.000257298, 0.000250468, 0.00024391200000000002, 0.000237614, 0.00023156200000000002, 0.00022574299999999998, 0.000220145, 0.00021475700000000002, 0.00020956900000000003, 0.000204572, 0.000199755, 0.00019511099999999998, 0.00019063200000000001, 0.000186309, 0.000182135, 0.000178104, 0.000174209, 0.000170445, 0.00016680400000000002, 0.000163283, 0.000159875, 0.000156577, 0.000153382, 0.000150288, 0.000147289, 0.000144382, 0.00014156299999999999, 0.000138829, 0.000136176, 0.000133601, 0.0001311, 0.000128672, 0.000126313, 0.00012402, 0.000121792, 0.000119625, 0.000117518, 0.00011546700000000001, 0.00011347299999999999, 0.000111531, 0.00010964, 0.000107799, 0.000106006, 0.00010425799999999999, 0.000102556, 0.000100896, 9.93e-05, 9.77e-05, 9.620000000000001e-05, 9.470000000000001e-05, 9.32e-05, 9.18e-05, 9.04e-05, 8.9e-05, 8.77e-05, 8.640000000000001e-05, 8.51e-05, 8.39e-05, 8.26e-05, 8.149999999999999e-05, 8.03e-05, 7.92e-05, 7.809999999999999e-05, 7.7e-05, 7.59e-05, 7.49e-05, 7.38e-05, 7.28e-05, 7.190000000000001e-05, 7.09e-05, 7e-05, 6.91e-05, 6.82e-05, 6.73e-05, 6.64e-05, 6.56e-05, 6.48e-05, 6.39e-05, 6.31e-05, 6.24e-05, 6.159999999999999e-05, 6.0899999999999996e-05, 6.01e-05, 5.94e-05, 5.870000000000001e-05, 5.7999999999999994e-05, 5.73e-05, 5.660000000000001e-05, 5.6000000000000006e-05, 5.5299999999999996e-05, 5.47e-05, 5.41e-05, 5.3500000000000006e-05, 5.2900000000000005e-05, 5.2300000000000004e-05, 5.17e-05, 5.11e-05, 5.0600000000000003e-05, 5e-05, 4.95e-05, 4.8899999999999996e-05, 4.84e-05, 4.79e-05, 4.74e-05, 4.6899999999999995e-05, 4.6399999999999996e-05, 4.59e-05, 4.54e-05, 4.5e-05, 4.45e-05, 4.41e-05, 4.36e-05, 4.3200000000000007e-05, 4.270000000000001e-05, 4.23e-05, 4.1899999999999995e-05, 4.15e-05, 4.11e-05, 4.07e-05, 4.03e-05, 3.9899999999999994e-05, 3.9500000000000005e-05, 3.9200000000000004e-05, 3.8799999999999994e-05, 3.84e-05, 3.81e-05, 3.77e-05, 3.74e-05, 3.7e-05, 3.6700000000000004e-05, 3.63e-05, 3.6e-05, 3.570000000000001e-05, 3.54e-05, 3.5100000000000006e-05, 3.47e-05, 3.4399999999999996e-05, 3.41e-05, 3.3799999999999995e-05, 3.35e-05, 3.32e-05, 3.3e-05, 3.27e-05, 3.24e-05, 3.21e-05, 3.19e-05, 3.16e-05, 3.13e-05, 3.11e-05, 3.0799999999999996e-05, 3.06e-05, 3.0299999999999998e-05, 3.01e-05, 2.98e-05, 2.9600000000000005e-05, 2.9299999999999997e-05, 2.9100000000000003e-05, 2.8899999999999998e-05, 2.8600000000000004e-05, 2.84e-05, 2.8199999999999998e-05, 2.8000000000000003e-05, 2.7699999999999996e-05, 2.75e-05, 2.7300000000000003e-05, 2.71e-05, 2.6899999999999997e-05, 2.6700000000000002e-05, 2.65e-05, 2.6300000000000002e-05, 2.61e-05, 2.59e-05, 2.57e-05, 2.55e-05, 2.5300000000000002e-05, 2.51e-05, 2.5e-05, 2.48e-05, 2.46e-05, 2.44e-05, 2.42e-05, 2.4100000000000003e-05, 2.3899999999999998e-05, 2.37e-05, 2.35e-05, 2.34e-05, 2.3199999999999998e-05, 2.3100000000000002e-05, 2.2899999999999998e-05, 2.27e-05, 2.26e-05, 2.24e-05, 2.23e-05, 2.2100000000000002e-05, 2.2e-05, 2.18e-05, 2.17e-05, 2.15e-05, 2.14e-05, 2.12e-05, 2.11e-05, 2.1e-05, 2.08e-05, 2.07e-05, 2.05e-05, 2.0399999999999998e-05, 2.0300000000000002e-05, 2.01e-05, 2e-05, 1.99e-05, 1.98e-05, 1.9600000000000002e-05, 1.95e-05, 1.9399999999999997e-05, 1.93e-05, 1.91e-05, 1.9e-05, 1.89e-05, 1.88e-05, 1.87e-05, 1.85e-05, 1.84e-05, 1.83e-05, 1.82e-05, 1.8100000000000003e-05, 1.8e-05, 1.7899999999999998e-05, 1.7800000000000002e-05, 1.77e-05, 1.76e-05, 1.74e-05, 1.73e-05, 1.7199999999999998e-05, 1.7100000000000002e-05, 1.7e-05, 1.6899999999999997e-05, 1.6800000000000002e-05, 1.67e-05, 1.66e-05, 1.65e-05, 1.65e-05, 1.64e-05, 1.63e-05, 1.62e-05, 1.6100000000000002e-05, 1.6e-05, 1.59e-05, 1.58e-05, 1.57e-05, 1.56e-05, 1.55e-05, 1.55e-05, 1.5399999999999998e-05, 1.53e-05, 1.52e-05, 1.51e-05, 1.4999999999999999e-05, 1.4999999999999999e-05, 1.49e-05, 1.4800000000000002e-05, 1.47e-05, 1.4599999999999999e-05, 1.4599999999999999e-05, 1.4499999999999998e-05, 1.4400000000000001e-05, 1.4300000000000002e-05, 1.42e-05, 1.42e-05, 1.4099999999999999e-05, 1.4000000000000001e-05, 1.39e-05, 1.39e-05, 1.3800000000000002e-05, 1.3699999999999998e-05, 1.3699999999999998e-05, 1.36e-05, 1.3500000000000001e-05, 1.34e-05, 1.34e-05, 1.3300000000000001e-05, 1.32e-05, 1.32e-05, 1.31e-05, 1.3000000000000001e-05, 1.3000000000000001e-05, 1.29e-05, 1.28e-05, 1.28e-05, 1.27e-05, 1.27e-05, 1.26e-05, 1.25e-05, 1.25e-05, 1.24e-05, 1.23e-05, 1.23e-05, 1.22e-05, 1.22e-05, 1.21e-05, 1.2e-05, 1.2e-05, 1.1900000000000001e-05, 1.1900000000000001e-05, 1.18e-05, 1.18e-05, 1.17e-05, 1.17e-05, 1.1599999999999999e-05, 1.15e-05, 1.15e-05, 1.1400000000000001e-05, 1.1400000000000001e-05, 1.13e-05, 1.13e-05, 1.12e-05, 1.12e-05, 1.11e-05, 1.11e-05, 1.1e-05, 1.1e-05, 1.09e-05, 1.09e-05, 1.0800000000000002e-05, 1.0800000000000002e-05, 1.07e-05, 1.07e-05, 1.06e-05, 1.06e-05, 1.05e-05, 1.05e-05, 1.04e-05, 1.04e-05, 1.0300000000000001e-05, 1.0300000000000001e-05, 1.0300000000000001e-05, 1.0199999999999999e-05, 1.0199999999999999e-05, 1.01e-05, 1.01e-05, 1e-05, 9.99e-06, 9.95e-06, 9.9e-06, 9.86e-06, 9.82e-06, 9.78e-06, 9.73e-06, 9.69e-06, 9.65e-06, 9.61e-06, 9.57e-06, 9.53e-06, 9.49e-06, 9.45e-06, 9.41e-06, 9.37e-06, 9.33e-06, 9.29e-06, 9.26e-06, 9.22e-06, 9.18e-06, 9.14e-06, 9.1e-06, 9.07e-06, 9.03e-06, 8.99e-06, 8.96e-06, 8.92e-06, 8.88e-06, 8.85e-06, 8.81e-06, 8.78e-06, 8.74e-06, 8.71e-06, 8.67e-06, 8.64e-06, 8.6e-06, 8.57e-06, 8.54e-06, 8.5e-06, 8.47e-06, 8.43e-06, 8.4e-06, 8.37e-06, 8.34e-06, 8.3e-06, 8.27e-06, 8.24e-06, 8.21e-06, 8.18e-06, 8.14e-06, 8.11e-06, 8.08e-06, 8.05e-06, 8.02e-06, 7.99e-06, 7.96e-06, 7.93e-06, 7.9e-06, 7.87e-06, 7.84e-06, 7.81e-06, 7.78e-06, 7.75e-06]}, {\"mode\": \"markers\", \"name\": \"2-methoxy-13-dioxolane\", \"type\": \"scatter\", \"x\": [\"502\", \"504\", \"506\", \"508\", \"510\", \"512\", \"514\", \"516\", \"518\", \"520\", \"522\", \"524\", \"526\", \"528\", \"530\", \"532\", \"534\", \"536\", \"538\", \"540\", \"542\", \"544\", \"546\", \"548\", \"550\", \"552\", \"554\", \"556\", \"558\", \"560\", \"562\", \"564\", \"566\", \"568\", \"570\", \"572\", \"574\", \"576\", \"578\", \"580\", \"582\", \"584\", \"586\", \"588\", \"590\", \"592\", \"594\", \"596\", \"598\", \"600\", \"602\", \"604\", \"606\", \"608\", \"610\", \"612\", \"614\", \"616\", \"618\", \"620\", \"622\", \"624\", \"626\", \"628\", \"630\", \"632\", \"634\", \"636\", \"638\", \"640\", \"642\", \"644\", \"646\", \"648\", \"650\", \"652\", \"654\", \"656\", \"658\", \"660\", \"662\", \"664\", \"666\", \"668\", \"670\", \"672\", \"674\", \"676\", \"678\", \"680\", \"682\", \"684\", \"686\", \"688\", \"690\", \"692\", \"694\", \"696\", \"698\", \"700\", \"702\", \"704\", \"706\", \"708\", \"710\", \"712\", \"714\", \"716\", \"718\", \"720\", \"722\", \"724\", \"726\", \"728\", \"730\", \"732\", \"734\", \"736\", \"738\", \"740\", \"742\", \"744\", \"746\", \"748\", \"750\", \"752\", \"754\", \"756\", \"758\", \"760\", \"762\", \"764\", \"766\", \"768\", \"770\", \"772\", \"774\", \"776\", \"778\", \"780\", \"782\", \"784\", \"786\", \"788\", \"790\", \"792\", \"794\", \"796\", \"798\", \"800\", \"802\", \"804\", \"806\", \"808\", \"810\", \"812\", \"814\", \"816\", \"818\", \"820\", \"822\", \"824\", \"826\", \"828\", \"830\", \"832\", \"834\", \"836\", \"838\", \"840\", \"842\", \"844\", \"846\", \"848\", \"850\", \"852\", \"854\", \"856\", \"858\", \"860\", \"862\", \"864\", \"866\", \"868\", \"870\", \"872\", \"874\", \"876\", \"878\", \"880\", \"882\", \"884\", \"886\", \"888\", \"890\", \"892\", \"894\", \"896\", \"898\", \"900\", \"902\", \"904\", \"906\", \"908\", \"910\", \"912\", \"914\", \"916\", \"918\", \"920\", \"922\", \"924\", \"926\", \"928\", \"930\", \"932\", \"934\", \"936\", \"938\", \"940\", \"942\", \"944\", \"946\", \"948\", \"950\", \"952\", \"954\", \"956\", \"958\", \"960\", \"962\", \"964\", \"966\", \"968\", \"970\", \"972\", \"974\", \"976\", \"978\", \"980\", \"982\", \"984\", \"986\", \"988\", \"990\", \"992\", \"994\", \"996\", \"998\", \"1000\", \"1002\", \"1004\", \"1006\", \"1008\", \"1010\", \"1012\", \"1014\", \"1016\", \"1018\", \"1020\", \"1022\", \"1024\", \"1026\", \"1028\", \"1030\", \"1032\", \"1034\", \"1036\", \"1038\", \"1040\", \"1042\", \"1044\", \"1046\", \"1048\", \"1050\", \"1052\", \"1054\", \"1056\", \"1058\", \"1060\", \"1062\", \"1064\", \"1066\", \"1068\", \"1070\", \"1072\", \"1074\", \"1076\", \"1078\", \"1080\", \"1082\", \"1084\", \"1086\", \"1088\", \"1090\", \"1092\", \"1094\", \"1096\", \"1098\", \"1100\", \"1102\", \"1104\", \"1106\", \"1108\", \"1110\", \"1112\", \"1114\", \"1116\", \"1118\", \"1120\", \"1122\", \"1124\", \"1126\", \"1128\", \"1130\", \"1132\", \"1134\", \"1136\", \"1138\", \"1140\", \"1142\", \"1144\", \"1146\", \"1148\", \"1150\", \"1152\", \"1154\", \"1156\", \"1158\", \"1160\", \"1162\", \"1164\", \"1166\", \"1168\", \"1170\", \"1172\", \"1174\", \"1176\", \"1178\", \"1180\", \"1182\", \"1184\", \"1186\", \"1188\", \"1190\", \"1192\", \"1194\", \"1196\", \"1198\", \"1200\", \"1202\", \"1204\", \"1206\", \"1208\", \"1210\", \"1212\", \"1214\", \"1216\", \"1218\", \"1220\", \"1222\", \"1224\", \"1226\", \"1228\", \"1230\", \"1232\", \"1234\", \"1236\", \"1238\", \"1240\", \"1242\", \"1244\", \"1246\", \"1248\", \"1250\", \"1252\", \"1254\", \"1256\", \"1258\", \"1260\", \"1262\", \"1264\", \"1266\", \"1268\", \"1270\", \"1272\", \"1274\", \"1276\", \"1278\", \"1280\", \"1282\", \"1284\", \"1286\", \"1288\", \"1290\", \"1292\", \"1294\", \"1296\", \"1298\", \"1300\", \"1302\", \"1304\", \"1306\", \"1308\", \"1310\", \"1312\", \"1314\", \"1316\", \"1318\", \"1320\", \"1322\", \"1324\", \"1326\", \"1328\", \"1330\", \"1332\", \"1334\", \"1336\", \"1338\", \"1340\", \"1342\", \"1344\", \"1346\", \"1348\", \"1350\", \"1352\", \"1354\", \"1356\", \"1358\", \"1360\", \"1362\", \"1364\", \"1366\", \"1368\", \"1370\", \"1372\", \"1374\", \"1376\", \"1378\", \"1380\", \"1382\", \"1384\", \"1386\", \"1388\", \"1390\", \"1392\", \"1394\", \"1396\", \"1398\", \"1400\", \"1402\", \"1404\", \"1406\", \"1408\", \"1410\", \"1412\", \"1414\", \"1416\", \"1418\", \"1420\", \"1422\", \"1424\", \"1426\", \"1428\", \"1430\", \"1432\", \"1434\", \"1436\", \"1438\", \"1440\", \"1442\", \"1444\", \"1446\", \"1448\", \"1450\", \"1452\", \"1454\", \"1456\", \"1458\", \"1460\", \"1462\", \"1464\", \"1466\", \"1468\", \"1470\", \"1472\", \"1474\", \"1476\", \"1478\", \"1480\", \"1482\", \"1484\", \"1486\", \"1488\", \"1490\", \"1492\", \"1494\", \"1496\", \"1498\", \"1500\", \"1502\", \"1504\", \"1506\", \"1508\", \"1510\", \"1512\", \"1514\", \"1516\", \"1518\", \"1520\", \"1522\", \"1524\", \"1526\", \"1528\", \"1530\", \"1532\", \"1534\", \"1536\", \"1538\", \"1540\", \"1542\", \"1544\", \"1546\", \"1548\", \"1550\", \"1552\", \"1554\", \"1556\", \"1558\", \"1560\", \"1562\", \"1564\", \"1566\", \"1568\", \"1570\", \"1572\", \"1574\", \"1576\", \"1578\", \"1580\", \"1582\", \"1584\", \"1586\", \"1588\", \"1590\", \"1592\", \"1594\", \"1596\", \"1598\", \"1600\", \"1602\", \"1604\", \"1606\", \"1608\", \"1610\", \"1612\", \"1614\", \"1616\", \"1618\", \"1620\", \"1622\", \"1624\", \"1626\", \"1628\", \"1630\", \"1632\", \"1634\", \"1636\", \"1638\", \"1640\", \"1642\", \"1644\", \"1646\", \"1648\", \"1650\", \"1652\", \"1654\", \"1656\", \"1658\", \"1660\", \"1662\", \"1664\", \"1666\", \"1668\", \"1670\", \"1672\", \"1674\", \"1676\", \"1678\", \"1680\", \"1682\", \"1684\", \"1686\", \"1688\", \"1690\", \"1692\", \"1694\", \"1696\", \"1698\", \"1700\", \"1702\", \"1704\", \"1706\", \"1708\", \"1710\", \"1712\", \"1714\", \"1716\", \"1718\", \"1720\", \"1722\", \"1724\", \"1726\", \"1728\", \"1730\", \"1732\", \"1734\", \"1736\", \"1738\", \"1740\", \"1742\", \"1744\", \"1746\", \"1748\", \"1750\", \"1752\", \"1754\", \"1756\", \"1758\", \"1760\", \"1762\", \"1764\", \"1766\", \"1768\", \"1770\", \"1772\", \"1774\", \"1776\", \"1778\", \"1780\", \"1782\", \"1784\", \"1786\", \"1788\", \"1790\", \"1792\", \"1794\", \"1796\", \"1798\", \"1800\", \"1802\", \"1804\", \"1806\", \"1808\", \"1810\", \"1812\", \"1814\", \"1816\", \"1818\", \"1820\", \"1822\", \"1824\", \"1826\", \"1828\", \"1830\", \"1832\", \"1834\", \"1836\", \"1838\", \"1840\", \"1842\", \"1844\", \"1846\", \"1848\", \"1850\", \"1852\", \"1854\", \"1856\", \"1858\", \"1860\", \"1862\", \"1864\", \"1866\", \"1868\", \"1870\", \"1872\", \"1874\", \"1876\", \"1878\", \"1880\", \"1882\", \"1884\", \"1886\", \"1888\", \"1890\", \"1892\", \"1894\", \"1896\", \"1898\", \"1900\", \"1902\", \"1904\", \"1906\", \"1908\", \"1910\", \"1912\", \"1914\", \"1916\", \"1918\", \"1920\", \"1922\", \"1924\", \"1926\", \"1928\", \"1930\", \"1932\", \"1934\", \"1936\", \"1938\", \"1940\", \"1942\", \"1944\", \"1946\", \"1948\", \"1950\", \"1952\", \"1954\", \"1956\", \"1958\", \"1960\", \"1962\", \"1964\", \"1966\", \"1968\", \"1970\", \"1972\", \"1974\", \"1976\", \"1978\", \"1980\", \"1982\", \"1984\", \"1986\", \"1988\", \"1990\", \"1992\", \"1994\", \"1996\", \"1998\", \"2000\", \"2002\", \"2004\", \"2006\", \"2008\", \"2010\", \"2012\", \"2014\", \"2016\", \"2018\", \"2020\", \"2022\", \"2024\", \"2026\", \"2028\", \"2030\", \"2032\", \"2034\", \"2036\", \"2038\", \"2040\", \"2042\", \"2044\", \"2046\", \"2048\", \"2050\", \"2052\", \"2054\", \"2056\", \"2058\", \"2060\", \"2062\", \"2064\", \"2066\", \"2068\", \"2070\", \"2072\", \"2074\", \"2076\", \"2078\", \"2080\", \"2082\", \"2084\", \"2086\", \"2088\", \"2090\", \"2092\", \"2094\", \"2096\", \"2098\", \"2100\", \"2102\", \"2104\", \"2106\", \"2108\", \"2110\", \"2112\", \"2114\", \"2116\", \"2118\", \"2120\", \"2122\", \"2124\", \"2126\", \"2128\", \"2130\", \"2132\", \"2134\", \"2136\", \"2138\", \"2140\", \"2142\", \"2144\", \"2146\", \"2148\", \"2150\", \"2152\", \"2154\", \"2156\", \"2158\", \"2160\", \"2162\", \"2164\", \"2166\", \"2168\", \"2170\", \"2172\", \"2174\", \"2176\", \"2178\", \"2180\", \"2182\", \"2184\", \"2186\", \"2188\", \"2190\", \"2192\", \"2194\", \"2196\", \"2198\", \"2200\", \"2202\", \"2204\", \"2206\", \"2208\", \"2210\", \"2212\", \"2214\", \"2216\", \"2218\", \"2220\", \"2222\", \"2224\", \"2226\", \"2228\", \"2230\", \"2232\", \"2234\", \"2236\", \"2238\", \"2240\", \"2242\", \"2244\", \"2246\", \"2248\", \"2250\", \"2252\", \"2254\", \"2256\", \"2258\", \"2260\", \"2262\", \"2264\", \"2266\", \"2268\", \"2270\", \"2272\", \"2274\", \"2276\", \"2278\", \"2280\", \"2282\", \"2284\", \"2286\", \"2288\", \"2290\", \"2292\", \"2294\", \"2296\", \"2298\", \"2300\", \"2302\", \"2304\", \"2306\", \"2308\", \"2310\", \"2312\", \"2314\", \"2316\", \"2318\", \"2320\", \"2322\", \"2324\", \"2326\", \"2328\", \"2330\", \"2332\", \"2334\", \"2336\", \"2338\", \"2340\", \"2342\", \"2344\", \"2346\", \"2348\", \"2350\", \"2352\", \"2354\", \"2356\", \"2358\", \"2360\", \"2362\", \"2364\", \"2366\", \"2368\", \"2370\", \"2372\", \"2374\", \"2376\", \"2378\", \"2380\", \"2382\", \"2384\", \"2386\", \"2388\", \"2390\", \"2392\", \"2394\", \"2396\", \"2398\", \"2400\", \"2402\", \"2404\", \"2406\", \"2408\", \"2410\", \"2412\", \"2414\", \"2416\", \"2418\", \"2420\", \"2422\", \"2424\", \"2426\", \"2428\", \"2430\", \"2432\", \"2434\", \"2436\", \"2438\", \"2440\", \"2442\", \"2444\", \"2446\", \"2448\", \"2450\", \"2452\", \"2454\", \"2456\", \"2458\", \"2460\", \"2462\", \"2464\", \"2466\", \"2468\", \"2470\", \"2472\", \"2474\", \"2476\", \"2478\", \"2480\", \"2482\", \"2484\", \"2486\", \"2488\", \"2490\", \"2492\", \"2494\", \"2496\", \"2498\", \"2500\", \"2502\", \"2504\", \"2506\", \"2508\", \"2510\", \"2512\", \"2514\", \"2516\", \"2518\", \"2520\", \"2522\", \"2524\", \"2526\", \"2528\", \"2530\", \"2532\", \"2534\", \"2536\", \"2538\", \"2540\", \"2542\", \"2544\", \"2546\", \"2548\", \"2550\", \"2552\", \"2554\", \"2556\", \"2558\", \"2560\", \"2562\", \"2564\", \"2566\", \"2568\", \"2570\", \"2572\", \"2574\", \"2576\", \"2578\", \"2580\", \"2582\", \"2584\", \"2586\", \"2588\", \"2590\", \"2592\", \"2594\", \"2596\", \"2598\", \"2600\", \"2602\", \"2604\", \"2606\", \"2608\", \"2610\", \"2612\", \"2614\", \"2616\", \"2618\", \"2620\", \"2622\", \"2624\", \"2626\", \"2628\", \"2630\", \"2632\", \"2634\", \"2636\", \"2638\", \"2640\", \"2642\", \"2644\", \"2646\", \"2648\", \"2650\", \"2652\", \"2654\", \"2656\", \"2658\", \"2660\", \"2662\", \"2664\", \"2666\", \"2668\", \"2670\", \"2672\", \"2674\", \"2676\", \"2678\", \"2680\", \"2682\", \"2684\", \"2686\", \"2688\", \"2690\", \"2692\", \"2694\", \"2696\", \"2698\", \"2700\", \"2702\", \"2704\", \"2706\", \"2708\", \"2710\", \"2712\", \"2714\", \"2716\", \"2718\", \"2720\", \"2722\", \"2724\", \"2726\", \"2728\", \"2730\", \"2732\", \"2734\", \"2736\", \"2738\", \"2740\", \"2742\", \"2744\", \"2746\", \"2748\", \"2750\", \"2752\", \"2754\", \"2756\", \"2758\", \"2760\", \"2762\", \"2764\", \"2766\", \"2768\", \"2770\", \"2772\", \"2774\", \"2776\", \"2778\", \"2780\", \"2782\", \"2784\", \"2786\", \"2788\", \"2790\", \"2792\", \"2794\", \"2796\", \"2798\", \"2800\", \"2802\", \"2804\", \"2806\", \"2808\", \"2810\", \"2812\", \"2814\", \"2816\", \"2818\", \"2820\", \"2822\", \"2824\", \"2826\", \"2828\", \"2830\", \"2832\", \"2834\", \"2836\", \"2838\", \"2840\", \"2842\", \"2844\", \"2846\", \"2848\", \"2850\", \"2852\", \"2854\", \"2856\", \"2858\", \"2860\", \"2862\", \"2864\", \"2866\", \"2868\", \"2870\", \"2872\", \"2874\", \"2876\", \"2878\", \"2880\", \"2882\", \"2884\", \"2886\", \"2888\", \"2890\", \"2892\", \"2894\", \"2896\", \"2898\", \"2900\", \"2902\", \"2904\", \"2906\", \"2908\", \"2910\", \"2912\", \"2914\", \"2916\", \"2918\", \"2920\", \"2922\", \"2924\", \"2926\", \"2928\", \"2930\", \"2932\", \"2934\", \"2936\", \"2938\", \"2940\", \"2942\", \"2944\", \"2946\", \"2948\", \"2950\", \"2952\", \"2954\", \"2956\", \"2958\", \"2960\", \"2962\", \"2964\", \"2966\", \"2968\", \"2970\", \"2972\", \"2974\", \"2976\", \"2978\", \"2980\", \"2982\", \"2984\", \"2986\", \"2988\", \"2990\", \"2992\", \"2994\", \"2996\", \"2998\", \"3000\", \"3002\", \"3004\", \"3006\", \"3008\", \"3010\", \"3012\", \"3014\", \"3016\", \"3018\", \"3020\", \"3022\", \"3024\", \"3026\", \"3028\", \"3030\", \"3032\", \"3034\", \"3036\", \"3038\", \"3040\", \"3042\", \"3044\", \"3046\", \"3048\", \"3050\", \"3052\", \"3054\", \"3056\", \"3058\", \"3060\", \"3062\", \"3064\", \"3066\", \"3068\", \"3070\", \"3072\", \"3074\", \"3076\", \"3078\", \"3080\", \"3082\", \"3084\", \"3086\", \"3088\", \"3090\", \"3092\", \"3094\", \"3096\", \"3098\", \"3100\", \"3102\", \"3104\", \"3106\", \"3108\", \"3110\", \"3112\", \"3114\", \"3116\", \"3118\", \"3120\", \"3122\", \"3124\", \"3126\", \"3128\", \"3130\", \"3132\", \"3134\", \"3136\", \"3138\", \"3140\", \"3142\", \"3144\", \"3146\", \"3148\", \"3150\", \"3152\", \"3154\", \"3156\", \"3158\", \"3160\", \"3162\", \"3164\", \"3166\", \"3168\", \"3170\", \"3172\", \"3174\", \"3176\", \"3178\", \"3180\", \"3182\", \"3184\", \"3186\", \"3188\", \"3190\", \"3192\", \"3194\", \"3196\", \"3198\", \"3200\", \"3202\", \"3204\", \"3206\", \"3208\", \"3210\", \"3212\", \"3214\", \"3216\", \"3218\", \"3220\", \"3222\", \"3224\", \"3226\", \"3228\", \"3230\", \"3232\", \"3234\", \"3236\", \"3238\", \"3240\", \"3242\", \"3244\", \"3246\", \"3248\", \"3250\", \"3252\", \"3254\", \"3256\", \"3258\", \"3260\", \"3262\", \"3264\", \"3266\", \"3268\", \"3270\", \"3272\", \"3274\", \"3276\", \"3278\", \"3280\", \"3282\", \"3284\", \"3286\", \"3288\", \"3290\", \"3292\", \"3294\", \"3296\", \"3298\", \"3300\", \"3302\", \"3304\", \"3306\", \"3308\", \"3310\", \"3312\", \"3314\", \"3316\", \"3318\", \"3320\", \"3322\", \"3324\", \"3326\", \"3328\", \"3330\", \"3332\", \"3334\", \"3336\", \"3338\", \"3340\", \"3342\", \"3344\", \"3346\", \"3348\", \"3350\", \"3352\", \"3354\", \"3356\", \"3358\", \"3360\", \"3362\", \"3364\", \"3366\", \"3368\", \"3370\", \"3372\", \"3374\", \"3376\", \"3378\", \"3380\", \"3382\", \"3384\", \"3386\", \"3388\", \"3390\", \"3392\", \"3394\", \"3396\", \"3398\", \"3400\", \"3402\", \"3404\", \"3406\", \"3408\", \"3410\", \"3412\", \"3414\", \"3416\", \"3418\", \"3420\", \"3422\", \"3424\", \"3426\", \"3428\", \"3430\", \"3432\", \"3434\", \"3436\", \"3438\", \"3440\", \"3442\", \"3444\", \"3446\", \"3448\", \"3450\", \"3452\", \"3454\", \"3456\", \"3458\", \"3460\", \"3462\", \"3464\", \"3466\", \"3468\", \"3470\", \"3472\", \"3474\", \"3476\", \"3478\", \"3480\", \"3482\", \"3484\", \"3486\", \"3488\", \"3490\", \"3492\", \"3494\", \"3496\", \"3498\", \"3500\", \"3502\", \"3504\", \"3506\", \"3508\", \"3510\", \"3512\", \"3514\", \"3516\", \"3518\", \"3520\", \"3522\", \"3524\", \"3526\", \"3528\", \"3530\", \"3532\", \"3534\", \"3536\", \"3538\", \"3540\", \"3542\", \"3544\", \"3546\", \"3548\", \"3550\", \"3552\", \"3554\", \"3556\", \"3558\", \"3560\", \"3562\", \"3564\", \"3566\", \"3568\", \"3570\", \"3572\", \"3574\", \"3576\", \"3578\", \"3580\", \"3582\", \"3584\", \"3586\", \"3588\", \"3590\", \"3592\", \"3594\", \"3596\", \"3598\", \"3600\", \"3602\", \"3604\", \"3606\", \"3608\", \"3610\", \"3612\", \"3614\", \"3616\", \"3618\", \"3620\", \"3622\", \"3624\", \"3626\", \"3628\", \"3630\", \"3632\", \"3634\", \"3636\", \"3638\", \"3640\", \"3642\", \"3644\", \"3646\", \"3648\", \"3650\", \"3652\", \"3654\", \"3656\", \"3658\", \"3660\", \"3662\", \"3664\", \"3666\", \"3668\", \"3670\", \"3672\", \"3674\", \"3676\", \"3678\", \"3680\", \"3682\", \"3684\", \"3686\", \"3688\", \"3690\", \"3692\", \"3694\", \"3696\", \"3698\", \"3700\", \"3702\", \"3704\", \"3706\", \"3708\", \"3710\", \"3712\", \"3714\", \"3716\", \"3718\", \"3720\", \"3722\", \"3724\", \"3726\", \"3728\", \"3730\", \"3732\", \"3734\", \"3736\", \"3738\", \"3740\", \"3742\", \"3744\", \"3746\", \"3748\", \"3750\", \"3752\", \"3754\", \"3756\", \"3758\", \"3760\", \"3762\", \"3764\", \"3766\", \"3768\", \"3770\", \"3772\", \"3774\", \"3776\", \"3778\", \"3780\", \"3782\", \"3784\", \"3786\", \"3788\", \"3790\", \"3792\", \"3794\", \"3796\", \"3798\", \"3800\", \"3802\", \"3804\", \"3806\", \"3808\", \"3810\", \"3812\", \"3814\", \"3816\", \"3818\", \"3820\", \"3822\", \"3824\", \"3826\", \"3828\", \"3830\", \"3832\", \"3834\", \"3836\", \"3838\", \"3840\", \"3842\", \"3844\", \"3846\", \"3848\", \"3850\", \"3852\", \"3854\", \"3856\", \"3858\", \"3860\", \"3862\", \"3864\", \"3866\", \"3868\", \"3870\", \"3872\", \"3874\", \"3876\", \"3878\", \"3880\", \"3882\", \"3884\", \"3886\", \"3888\", \"3890\", \"3892\", \"3894\", \"3896\", \"3898\", \"3900\", \"3902\", \"3904\", \"3906\", \"3908\", \"3910\", \"3912\", \"3914\", \"3916\", \"3918\", \"3920\", \"3922\", \"3924\", \"3926\", \"3928\", \"3930\", \"3932\", \"3934\", \"3936\", \"3938\", \"3940\", \"3942\", \"3944\", \"3946\", \"3948\", \"3950\", \"3952\", \"3954\", \"3956\", \"3958\", \"3960\", \"3962\", \"3964\", \"3966\", \"3968\", \"3970\", \"3972\", \"3974\", \"3976\", \"3978\", \"3980\", \"3982\", \"3984\", \"3986\", \"3988\", \"3990\", \"3992\", \"3994\", \"3996\", \"3998\", \"4000\"], \"y\": [5.13e-05, 5.17e-05, 5.21e-05, 5.2600000000000005e-05, 5.3200000000000006e-05, 5.3700000000000004e-05, 5.44e-05, 5.5100000000000004e-05, 5.5799999999999994e-05, 5.660000000000001e-05, 5.7499999999999995e-05, 5.8399999999999997e-05, 5.94e-05, 6.04e-05, 6.15e-05, 6.27e-05, 6.39e-05, 6.51e-05, 6.63e-05, 6.759999999999999e-05, 6.879999999999999e-05, 7e-05, 7.120000000000001e-05, 7.240000000000001e-05, 7.35e-05, 7.44e-05, 7.53e-05, 7.609999999999999e-05, 7.670000000000001e-05, 7.709999999999999e-05, 7.74e-05, 7.759999999999999e-05, 7.759999999999999e-05, 7.74e-05, 7.72e-05, 7.68e-05, 7.64e-05, 7.59e-05, 7.53e-05, 7.47e-05, 7.41e-05, 7.35e-05, 7.3e-05, 7.240000000000001e-05, 7.190000000000001e-05, 7.140000000000001e-05, 7.099999999999999e-05, 7.06e-05, 7.03e-05, 7.01e-05, 6.99e-05, 6.979999999999999e-05, 6.97e-05, 6.97e-05, 6.979999999999999e-05, 6.99e-05, 7.01e-05, 7.04e-05, 7.070000000000001e-05, 7.11e-05, 7.15e-05, 7.209999999999999e-05, 7.26e-05, 7.329999999999999e-05, 7.4e-05, 7.47e-05, 7.55e-05, 7.64e-05, 7.74e-05, 7.840000000000001e-05, 7.94e-05, 8.06e-05, 8.18e-05, 8.3e-05, 8.43e-05, 8.56e-05, 8.7e-05, 8.840000000000001e-05, 8.98e-05, 9.120000000000001e-05, 9.27e-05, 9.41e-05, 9.54e-05, 9.67e-05, 9.8e-05, 9.91e-05, 0.000100214, 0.00010117600000000001, 0.000102027, 0.00010276700000000001, 0.000103396, 0.00010392, 0.000104351, 0.000104699, 0.000104981, 0.000105213, 0.00010541200000000001, 0.00010559399999999999, 0.000105776, 0.000105973, 0.00010619700000000001, 0.00010646, 0.00010677399999999999, 0.000107145, 0.000107582, 0.00010809, 0.000108674, 0.00010933700000000001, 0.000110084, 0.000110916, 0.000111836, 0.00011284600000000001, 0.00011394700000000001, 0.00011514299999999999, 0.00011643399999999999, 0.00011782200000000001, 0.00011931, 0.00012090000000000001, 0.00012259399999999999, 0.000124395, 0.000126306, 0.00012833, 0.000130471, 0.000132731, 0.000135115, 0.000137626, 0.000140266, 0.000143041, 0.000145951, 0.000149001, 0.00015219, 0.00015551899999999999, 0.000158987, 0.00016259, 0.000166324, 0.00017018, 0.000174147, 0.00017821, 0.00018235, 0.000186543, 0.000190763, 0.00019497900000000002, 0.00019915700000000002, 0.000203259, 0.000207249, 0.00021108900000000002, 0.00021474799999999998, 0.00021819599999999998, 0.000221413, 0.00022438599999999998, 0.00022711200000000002, 0.00022960099999999999, 0.00023187, 0.000233947, 0.000235867, 0.000237672, 0.000239405, 0.000241114, 0.000242843, 0.000244636, 0.000246535, 0.00024857599999999997, 0.00025079400000000004, 0.000253218, 0.000255873, 0.00025878, 0.000261957, 0.00026542, 0.000269181, 0.00027325, 0.000277633, 0.000282336, 0.00028736, 0.000292708, 0.000298377, 0.000304362, 0.000310656, 0.00031725, 0.000324133, 0.000331289, 0.00033870300000000004, 0.00034636, 0.00035424199999999995, 0.000362336, 0.00037062900000000003, 0.000379116, 0.00038779699999999995, 0.000396679, 0.00040578, 0.00041512699999999994, 0.00042475300000000004, 0.000434705, 0.000445033, 0.000455797, 0.000467061, 0.00047888900000000003, 0.000491353, 0.00050452, 0.00051846, 0.000533243, 0.000548934, 0.000565601, 0.000583304, 0.000602106, 0.000622064, 0.000643231, 0.000665656, 0.0006893810000000001, 0.000714441, 0.000740862, 0.000768655, 0.000797818, 0.000828333, 0.00086016, 0.000893235, 0.00092747, 0.00096275, 0.000998932, 0.001035846, 0.001073298, 0.0011110739999999999, 0.001148945, 0.001186675, 0.001224028, 0.001260778, 0.001296719, 0.001331669, 0.001365476, 0.001398025, 0.001429236, 0.0014590629999999998, 0.001487487, 0.00151451, 0.0015401420000000002, 0.001564389, 0.001587238, 0.0016086470000000002, 0.0016285339999999998, 0.0016467720000000001, 0.0016631920000000002, 0.0016775879999999998, 0.001689735, 0.001699403, 0.0017063879999999999, 0.001710532, 0.001711749, 0.001710041, 0.0017055129999999999, 0.001698377, 0.001688944, 0.001677611, 0.001664844, 0.001651156, 0.0016370789999999998, 0.0016231429999999999, 0.0016098579999999998, 0.001597696, 0.001587079, 0.0015783729999999999, 0.001571886, 0.001567864, 0.001566492, 0.0015679020000000001, 0.00157217, 0.001579326, 0.001589357, 0.001602213, 0.0016178129999999998, 0.001636055, 0.001656823, 0.0016799979999999998, 0.001705466, 0.001733133, 0.00176293, 0.0017948220000000002, 0.001828811, 0.0018649379999999998, 0.001903276, 0.00194392, 0.001986976, 0.002032539, 0.002080675, 0.0021314, 0.002184654, 0.002240287, 0.002298037, 0.002357515, 0.002418201, 0.002479438, 0.00254044, 0.002600311, 0.002658068, 0.0027126840000000004, 0.0027631340000000004, 0.0028084509999999996, 0.00284778, 0.0028804359999999997, 0.002905945, 0.002924071, 0.002934827, 0.002938463, 0.002935433, 0.002926342, 0.002911897, 0.002892838, 0.0028698820000000002, 0.0028436790000000004, 0.0028147740000000004, 0.0027835890000000004, 0.002750421, 0.0027154559999999998, 0.002678791, 0.0026404659999999997, 0.0026004979999999997, 0.002558916, 0.002515786, 0.002471231, 0.0024254339999999997, 0.002378636, 0.002331123, 0.002283201, 0.002235174, 0.00218732, 0.0021398660000000003, 0.002092976, 0.002046736, 0.002001158, 0.001956181, 0.0019116889999999998, 0.001867524, 0.0018235089999999999, 0.001779475, 0.0017352770000000001, 0.001690812, 0.001646039, 0.001600975, 0.001555704, 0.001510361, 0.001465132, 0.0014202289999999998, 0.0013758820000000001, 0.0013323220000000002, 0.001289768, 0.001248415, 0.001208429, 0.0011699430000000001, 0.0011330510000000002, 0.001097809, 0.001064237, 0.001032322, 0.00100202, 0.000973259, 0.000945945, 0.0009199680000000001, 0.0008952039999999999, 0.0008715239999999999, 0.000848797, 0.000826896, 0.000805705, 0.0007851210000000001, 0.00076506, 0.000745454, 0.0007262560000000001, 0.0007074360000000001, 0.0006889810000000001, 0.000670888, 0.000653166, 0.0006358280000000001, 0.0006188880000000001, 0.0006023609999999999, 0.00058626, 0.000570594, 0.00055537, 0.000540591, 0.0005262590000000001, 0.000512375, 0.000498938, 0.00048595, 0.000473412, 0.00046132599999999997, 0.000449697, 0.000438526, 0.000427819, 0.000417577, 0.00040780199999999997, 0.000398496, 0.000389656, 0.00038128, 0.000373365, 0.000365905, 0.000358894, 0.000352324, 0.000346186, 0.000340472, 0.00033517199999999995, 0.000330275, 0.000325769, 0.000321644, 0.000317887, 0.000314483, 0.000311419, 0.000308677, 0.000306242, 0.00030409400000000003, 0.000302213, 0.00030057799999999997, 0.000299169, 0.000297963, 0.00029694, 0.000296083, 0.000295375, 0.000294805, 0.000294367, 0.00029406, 0.000293891, 0.00029387099999999997, 0.000294017, 0.000294351, 0.000294901, 0.000295693, 0.00029675700000000003, 0.00029812400000000003, 0.000299819, 0.000301869, 0.00030429400000000004, 0.000307111, 0.00031033, 0.000313954, 0.00031798, 0.000322395, 0.000327176, 0.00033229, 0.00033769199999999995, 0.00034332199999999996, 0.000349111, 0.000354973, 0.000360809, 0.000366509, 0.000371949, 0.000377002, 0.00038153300000000003, 0.000385408, 0.000388499, 0.000390693, 0.00039189, 0.00039201800000000005, 0.000391032, 0.00038891699999999996, 0.00038569300000000005, 0.00038141, 0.00037615, 0.000370015, 0.00036312800000000005, 0.000355624, 0.00034764199999999995, 0.00033932, 0.00033079199999999995, 0.000322181, 0.000313598, 0.00030514, 0.000296888, 0.000288911, 0.00028126299999999997, 0.000273987, 0.000267114, 0.000260665, 0.00025465599999999997, 0.000249094, 0.00024398, 0.00023931200000000002, 0.000235083, 0.000231285, 0.00022790400000000002, 0.000224925, 0.00022233, 0.0002201, 0.00021821099999999997, 0.00021663799999999998, 0.000215354, 0.00021432900000000003, 0.000213529, 0.00021292200000000002, 0.000212471, 0.00021214099999999997, 0.000211897, 0.000211703, 0.000211528, 0.000211339, 0.00021111, 0.000210817, 0.000210439, 0.000209957, 0.00020935799999999998, 0.00020862700000000002, 0.000207756, 0.000206734, 0.00020555400000000002, 0.000204207, 0.000202685, 0.000200979, 0.00019908, 0.000196979, 0.000194668, 0.00019214099999999998, 0.000189394, 0.00018642799999999998, 0.00018324900000000002, 0.000179865, 0.00017629400000000002, 0.00017255599999999998, 0.000168674, 0.000164676, 0.000160591, 0.000156449, 0.000152278, 0.000148107, 0.000143961, 0.000139864, 0.000135835, 0.00013189200000000002, 0.000128049, 0.000124317, 0.000120706, 0.00011722, 0.000113865, 0.000110641, 0.000107549, 0.000104588, 0.000101754, 9.9e-05, 9.65e-05, 9.4e-05, 9.159999999999999e-05, 8.94e-05, 8.72e-05, 8.52e-05, 8.32e-05, 8.13e-05, 7.96e-05, 7.780000000000001e-05, 7.62e-05, 7.46e-05, 7.31e-05, 7.170000000000001e-05, 7.03e-05, 6.9e-05, 6.77e-05, 6.65e-05, 6.53e-05, 6.42e-05, 6.31e-05, 6.2e-05, 6.1e-05, 5.9999999999999995e-05, 5.91e-05, 5.8099999999999996e-05, 5.73e-05, 5.6399999999999995e-05, 5.56e-05, 5.479999999999999e-05, 5.4000000000000005e-05, 5.3200000000000006e-05, 5.25e-05, 5.18e-05, 5.11e-05, 5.04e-05, 4.98e-05, 4.91e-05, 4.85e-05, 4.79e-05, 4.73e-05, 4.68e-05, 4.6200000000000005e-05, 4.57e-05, 4.51e-05, 4.46e-05, 4.41e-05, 4.36e-05, 4.31e-05, 4.270000000000001e-05, 4.22e-05, 4.18e-05, 4.13e-05, 4.09e-05, 4.05e-05, 4.01e-05, 3.97e-05, 3.929999999999999e-05, 3.8900000000000004e-05, 3.85e-05, 3.81e-05, 3.78e-05, 3.74e-05, 3.71e-05, 3.6700000000000004e-05, 3.64e-05, 3.6e-05, 3.570000000000001e-05, 3.54e-05, 3.5100000000000006e-05, 3.48e-05, 3.45e-05, 3.4200000000000005e-05, 3.39e-05, 3.3600000000000004e-05, 3.3299999999999996e-05, 3.3e-05, 3.28e-05, 3.2500000000000004e-05, 3.2200000000000003e-05, 3.2e-05, 3.17e-05, 3.15e-05, 3.12e-05, 3.1e-05, 3.07e-05, 3.05e-05, 3.0299999999999998e-05, 3.01e-05, 2.98e-05, 2.9600000000000005e-05, 2.94e-05, 2.9199999999999998e-05, 2.8999999999999997e-05, 2.8699999999999996e-05, 2.8499999999999998e-05, 2.8300000000000003e-05, 2.8100000000000002e-05, 2.7899999999999997e-05, 2.7699999999999996e-05, 2.7600000000000003e-05, 2.7399999999999995e-05, 2.72e-05, 2.7000000000000002e-05, 2.68e-05, 2.6600000000000003e-05, 2.65e-05, 2.6300000000000002e-05, 2.61e-05, 2.59e-05, 2.58e-05, 2.56e-05, 2.54e-05, 2.5300000000000002e-05, 2.51e-05, 2.5e-05, 2.48e-05, 2.46e-05, 2.45e-05, 2.4299999999999998e-05, 2.42e-05, 2.4100000000000003e-05, 2.3899999999999998e-05, 2.3800000000000003e-05, 2.36e-05, 2.35e-05, 2.33e-05, 2.3199999999999998e-05, 2.3100000000000002e-05, 2.2899999999999998e-05, 2.2800000000000002e-05, 2.27e-05, 2.26e-05, 2.24e-05, 2.23e-05, 2.22e-05, 2.2100000000000002e-05, 2.1899999999999997e-05, 2.18e-05, 2.17e-05, 2.1600000000000003e-05, 2.15e-05, 2.13e-05, 2.12e-05, 2.11e-05, 2.1e-05, 2.09e-05, 2.08e-05, 2.07e-05, 2.0600000000000003e-05, 2.05e-05, 2.0399999999999998e-05, 2.0300000000000002e-05, 2.02e-05, 2.01e-05, 2e-05, 1.99e-05, 1.98e-05, 1.9699999999999998e-05, 1.9600000000000002e-05, 1.95e-05, 1.9399999999999997e-05, 1.93e-05, 1.92e-05, 1.91e-05, 1.9e-05, 1.89e-05, 1.89e-05, 1.88e-05, 1.87e-05, 1.86e-05, 1.85e-05, 1.84e-05, 1.84e-05, 1.83e-05, 1.82e-05, 1.8100000000000003e-05, 1.8e-05, 1.8e-05, 1.7899999999999998e-05, 1.7800000000000002e-05, 1.77e-05, 1.77e-05, 1.76e-05, 1.75e-05, 1.74e-05, 1.74e-05, 1.73e-05, 1.7199999999999998e-05, 1.7199999999999998e-05, 1.7100000000000002e-05, 1.7e-05, 1.6899999999999997e-05, 1.6899999999999997e-05, 1.6800000000000002e-05, 1.67e-05, 1.67e-05, 1.66e-05, 1.66e-05, 1.65e-05, 1.64e-05, 1.64e-05, 1.63e-05, 1.62e-05, 1.62e-05, 1.6100000000000002e-05, 1.6100000000000002e-05, 1.6e-05, 1.6e-05, 1.59e-05, 1.58e-05, 1.58e-05, 1.57e-05, 1.57e-05, 1.56e-05, 1.56e-05, 1.55e-05, 1.55e-05, 1.5399999999999998e-05, 1.5399999999999998e-05, 1.53e-05, 1.53e-05, 1.52e-05, 1.52e-05, 1.51e-05, 1.51e-05, 1.4999999999999999e-05, 1.4999999999999999e-05, 1.49e-05, 1.49e-05, 1.4800000000000002e-05, 1.4800000000000002e-05, 1.47e-05, 1.47e-05, 1.4599999999999999e-05, 1.4599999999999999e-05, 1.4599999999999999e-05, 1.4499999999999998e-05, 1.4499999999999998e-05, 1.4400000000000001e-05, 1.4400000000000001e-05, 1.4400000000000001e-05, 1.4300000000000002e-05, 1.4300000000000002e-05, 1.42e-05, 1.42e-05, 1.42e-05, 1.4099999999999999e-05, 1.4099999999999999e-05, 1.4000000000000001e-05, 1.4000000000000001e-05, 1.4000000000000001e-05, 1.39e-05, 1.39e-05, 1.39e-05, 1.3800000000000002e-05, 1.3800000000000002e-05, 1.3800000000000002e-05, 1.3699999999999998e-05, 1.3699999999999998e-05, 1.3699999999999998e-05, 1.36e-05, 1.36e-05, 1.36e-05, 1.3500000000000001e-05, 1.3500000000000001e-05, 1.3500000000000001e-05, 1.34e-05, 1.34e-05, 1.34e-05, 1.34e-05, 1.3300000000000001e-05, 1.3300000000000001e-05, 1.3300000000000001e-05, 1.32e-05, 1.32e-05, 1.32e-05, 1.32e-05, 1.31e-05, 1.31e-05, 1.31e-05, 1.31e-05, 1.3000000000000001e-05, 1.3000000000000001e-05, 1.3000000000000001e-05, 1.3000000000000001e-05, 1.29e-05, 1.29e-05, 1.29e-05, 1.29e-05, 1.28e-05, 1.28e-05, 1.28e-05, 1.28e-05, 1.28e-05, 1.27e-05, 1.27e-05, 1.27e-05, 1.27e-05, 1.27e-05, 1.26e-05, 1.26e-05, 1.26e-05, 1.26e-05, 1.26e-05, 1.26e-05, 1.25e-05, 1.25e-05, 1.25e-05, 1.25e-05, 1.25e-05, 1.25e-05, 1.24e-05, 1.24e-05, 1.24e-05, 1.24e-05, 1.24e-05, 1.24e-05, 1.24e-05, 1.24e-05, 1.23e-05, 1.23e-05, 1.23e-05, 1.23e-05, 1.23e-05, 1.23e-05, 1.23e-05, 1.23e-05, 1.23e-05, 1.22e-05, 1.22e-05, 1.22e-05, 1.22e-05, 1.22e-05, 1.22e-05, 1.22e-05, 1.22e-05, 1.22e-05, 1.22e-05, 1.22e-05, 1.22e-05, 1.22e-05, 1.22e-05, 1.21e-05, 1.21e-05, 1.21e-05, 1.21e-05, 1.21e-05, 1.21e-05, 1.21e-05, 1.21e-05, 1.21e-05, 1.21e-05, 1.21e-05, 1.21e-05, 1.21e-05, 1.21e-05, 1.21e-05, 1.21e-05, 1.21e-05, 1.21e-05, 1.21e-05, 1.21e-05, 1.21e-05, 1.21e-05, 1.21e-05, 1.21e-05, 1.21e-05, 1.21e-05, 1.21e-05, 1.21e-05, 1.22e-05, 1.22e-05, 1.22e-05, 1.22e-05, 1.22e-05, 1.22e-05, 1.22e-05, 1.22e-05, 1.22e-05, 1.22e-05, 1.22e-05, 1.22e-05, 1.22e-05, 1.22e-05, 1.23e-05, 1.23e-05, 1.23e-05, 1.23e-05, 1.23e-05, 1.23e-05, 1.23e-05, 1.23e-05, 1.23e-05, 1.24e-05, 1.24e-05, 1.24e-05, 1.24e-05, 1.24e-05, 1.24e-05, 1.25e-05, 1.25e-05, 1.25e-05, 1.25e-05, 1.25e-05, 1.25e-05, 1.26e-05, 1.26e-05, 1.26e-05, 1.26e-05, 1.26e-05, 1.27e-05, 1.27e-05, 1.27e-05, 1.27e-05, 1.27e-05, 1.28e-05, 1.28e-05, 1.28e-05, 1.28e-05, 1.29e-05, 1.29e-05, 1.29e-05, 1.29e-05, 1.3000000000000001e-05, 1.3000000000000001e-05, 1.3000000000000001e-05, 1.31e-05, 1.31e-05, 1.31e-05, 1.31e-05, 1.32e-05, 1.32e-05, 1.32e-05, 1.3300000000000001e-05, 1.3300000000000001e-05, 1.3300000000000001e-05, 1.34e-05, 1.34e-05, 1.34e-05, 1.3500000000000001e-05, 1.3500000000000001e-05, 1.3500000000000001e-05, 1.36e-05, 1.36e-05, 1.3699999999999998e-05, 1.3699999999999998e-05, 1.3699999999999998e-05, 1.3800000000000002e-05, 1.3800000000000002e-05, 1.39e-05, 1.39e-05, 1.4000000000000001e-05, 1.4000000000000001e-05, 1.4000000000000001e-05, 1.4099999999999999e-05, 1.4099999999999999e-05, 1.42e-05, 1.42e-05, 1.4300000000000002e-05, 1.4300000000000002e-05, 1.4400000000000001e-05, 1.4400000000000001e-05, 1.4499999999999998e-05, 1.4499999999999998e-05, 1.4599999999999999e-05, 1.4599999999999999e-05, 1.47e-05, 1.4800000000000002e-05, 1.4800000000000002e-05, 1.49e-05, 1.49e-05, 1.4999999999999999e-05, 1.51e-05, 1.51e-05, 1.52e-05, 1.52e-05, 1.53e-05, 1.5399999999999998e-05, 1.5399999999999998e-05, 1.55e-05, 1.56e-05, 1.56e-05, 1.57e-05, 1.58e-05, 1.59e-05, 1.59e-05, 1.6e-05, 1.6100000000000002e-05, 1.62e-05, 1.62e-05, 1.63e-05, 1.64e-05, 1.65e-05, 1.66e-05, 1.66e-05, 1.67e-05, 1.6800000000000002e-05, 1.6899999999999997e-05, 1.7e-05, 1.7100000000000002e-05, 1.7199999999999998e-05, 1.73e-05, 1.74e-05, 1.75e-05, 1.76e-05, 1.76e-05, 1.77e-05, 1.7899999999999998e-05, 1.8e-05, 1.8100000000000003e-05, 1.82e-05, 1.83e-05, 1.84e-05, 1.85e-05, 1.86e-05, 1.87e-05, 1.88e-05, 1.9e-05, 1.91e-05, 1.92e-05, 1.93e-05, 1.95e-05, 1.9600000000000002e-05, 1.9699999999999998e-05, 1.98e-05, 2e-05, 2.01e-05, 2.0300000000000002e-05, 2.0399999999999998e-05, 2.05e-05, 2.07e-05, 2.08e-05, 2.1e-05, 2.11e-05, 2.13e-05, 2.14e-05, 2.1600000000000003e-05, 2.18e-05, 2.1899999999999997e-05, 2.2100000000000002e-05, 2.23e-05, 2.24e-05, 2.26e-05, 2.2800000000000002e-05, 2.3e-05, 2.3199999999999998e-05, 2.34e-05, 2.35e-05, 2.37e-05, 2.3899999999999998e-05, 2.4100000000000003e-05, 2.4299999999999998e-05, 2.46e-05, 2.48e-05, 2.5e-05, 2.52e-05, 2.54e-05, 2.56e-05, 2.59e-05, 2.61e-05, 2.64e-05, 2.6600000000000003e-05, 2.68e-05, 2.71e-05, 2.7399999999999995e-05, 2.7600000000000003e-05, 2.7899999999999997e-05, 2.8199999999999998e-05, 2.84e-05, 2.8699999999999996e-05, 2.8999999999999997e-05, 2.9299999999999997e-05, 2.9600000000000005e-05, 2.99e-05, 3.02e-05, 3.05e-05, 3.0799999999999996e-05, 3.12e-05, 3.15e-05, 3.18e-05, 3.2200000000000003e-05, 3.2500000000000004e-05, 3.289999999999999e-05, 3.3299999999999996e-05, 3.37e-05, 3.4e-05, 3.4399999999999996e-05, 3.48e-05, 3.52e-05, 3.570000000000001e-05, 3.6099999999999997e-05, 3.65e-05, 3.7e-05, 3.74e-05, 3.79e-05, 3.8299999999999996e-05, 3.8799999999999994e-05, 3.929999999999999e-05, 3.98e-05, 4.03e-05, 4.09e-05, 4.14e-05, 4.2e-05, 4.2499999999999996e-05, 4.31e-05, 4.3700000000000005e-05, 4.429999999999999e-05, 4.49e-05, 4.5600000000000004e-05, 4.6200000000000005e-05, 4.6899999999999995e-05, 4.7499999999999996e-05, 4.8200000000000006e-05, 4.9e-05, 4.970000000000001e-05, 5.04e-05, 5.12e-05, 5.2000000000000004e-05, 5.28e-05, 5.36e-05, 5.45e-05, 5.539999999999999e-05, 5.629999999999999e-05, 5.720000000000001e-05, 5.8099999999999996e-05, 5.91e-05, 6.01e-05, 6.11e-05, 6.22e-05, 6.330000000000001e-05, 6.440000000000001e-05, 6.55e-05, 6.670000000000001e-05, 6.790000000000001e-05, 6.92e-05, 7.049999999999999e-05, 7.18e-05, 7.32e-05, 7.46e-05, 7.6e-05, 7.75e-05, 7.91e-05, 8.070000000000001e-05, 8.23e-05, 8.4e-05, 8.58e-05, 8.759999999999999e-05, 8.950000000000001e-05, 9.14e-05, 9.340000000000001e-05, 9.549999999999999e-05, 9.77e-05, 9.990000000000002e-05, 0.00010219700000000001, 0.000104591, 0.000107075, 0.000109651, 0.00011232399999999999, 0.0001151, 0.000117984, 0.00012098, 0.000124096, 0.00012733700000000002, 0.00013071, 0.000134222, 0.00013788100000000002, 0.000141694, 0.000145671, 0.00014982100000000001, 0.000154153, 0.000158677, 0.000163406, 0.000168351, 0.00017352400000000001, 0.00017894, 0.00018461400000000002, 0.00019056, 0.000196795, 0.00020333799999999998, 0.00021020700000000002, 0.00021742400000000002, 0.00022500900000000003, 0.000232985, 0.000241379, 0.000250215, 0.000259522, 0.00026933, 0.000279668, 0.000290571, 0.000302072, 0.000314207, 0.000327012, 0.000340525, 0.000354785, 0.000369829, 0.000385694, 0.000402416, 0.000420028, 0.00043855900000000004, 0.000458032, 0.000478465, 0.000499865, 0.000522229, 0.00054554, 0.000569769, 0.000594869, 0.000620777, 0.000647412, 0.000674679, 0.0007024710000000001, 0.00073067, 0.0007591560000000001, 0.00078781, 0.0008165239999999999, 0.0008452039999999999, 0.000873777, 0.0009021910000000001, 0.0009304160000000001, 0.0009584369999999999, 0.000986249, 0.0010138410000000001, 0.001041188, 0.0010682369999999999, 0.00109489, 0.0011210010000000002, 0.001146366, 0.001170725, 0.0011937669999999999, 0.0012151389999999998, 0.001234467, 0.001251373, 0.001265497, 0.001276524, 0.001284205, 0.00128837, 0.001288944, 0.001285944, 0.001279484, 0.001269758, 0.001257031, 0.001241615, 0.001223858, 0.001204119, 0.001182763, 0.00116014, 0.001136584, 0.001112409, 0.001087902, 0.001063326, 0.001038918, 0.001014888, 0.0009914210000000001, 0.0009686689999999999, 0.0009467560000000001, 0.000925774, 0.000905781, 0.000886803, 0.0008688389999999999, 0.000851858, 0.00083581, 0.000820627, 0.0008062319999999999, 0.0007925419999999999, 0.0007794739999999999, 0.000766948, 0.000754888, 0.000743222, 0.00073188, 0.000720791, 0.000709883, 0.0006990739999999999, 0.000688275, 0.00067739, 0.0006663169999999999, 0.000654952, 0.000643194, 0.000630951, 0.000618149, 0.0006047369999999999, 0.000590687, 0.000576004, 0.000560721, 0.000544898, 0.000528618, 0.000511983, 0.0004951080000000001, 0.000478112, 0.000461114, 0.00044422699999999995, 0.000427556, 0.000411193, 0.00039521699999999995, 0.000379691, 0.000364665, 0.000350176, 0.00033624800000000004, 0.000322894, 0.00031012, 0.000297923, 0.00028629400000000003, 0.00027522, 0.000264684, 0.000254668, 0.000245149, 0.00023610599999999998, 0.00022751599999999998, 0.000219357, 0.00021160599999999998, 0.00020424200000000001, 0.000197242, 0.000190587, 0.000184258, 0.00017823400000000002, 0.00017250000000000002, 0.000167038, 0.00016183299999999998, 0.000156869, 0.000152133, 0.000147612, 0.00014329299999999998, 0.000139165, 0.000135218, 0.000131441, 0.000127824, 0.000124359, 0.00012103799999999999, 0.000117853, 0.000114796, 0.000111861, 0.000109042, 0.00010633200000000001, 0.000103726, 0.00010121799999999999, 9.88e-05, 9.65e-05, 9.42e-05, 9.209999999999999e-05, 9e-05, 8.8e-05, 8.6e-05, 8.420000000000001e-05, 8.240000000000001e-05, 8.06e-05, 7.890000000000001e-05, 7.730000000000001e-05, 7.57e-05, 7.42e-05, 7.269999999999999e-05, 7.120000000000001e-05, 6.979999999999999e-05, 6.850000000000001e-05, 6.720000000000001e-05, 6.59e-05, 6.47e-05, 6.35e-05, 6.23e-05, 6.12e-05, 6.01e-05, 5.9e-05, 5.7999999999999994e-05, 5.6999999999999996e-05, 5.6000000000000006e-05, 5.5e-05, 5.41e-05, 5.3200000000000006e-05, 5.2300000000000004e-05, 5.15e-05, 5.0600000000000003e-05, 4.98e-05, 4.9e-05, 4.8200000000000006e-05, 4.7499999999999996e-05, 4.6700000000000003e-05, 4.6e-05, 4.5299999999999997e-05, 4.46e-05, 4.4e-05, 4.33e-05, 4.270000000000001e-05, 4.210000000000001e-05, 4.15e-05, 4.09e-05, 4.03e-05, 3.97e-05, 3.91e-05, 3.86e-05, 3.81e-05, 3.76e-05, 3.7e-05, 3.65e-05, 3.6099999999999997e-05, 3.5600000000000005e-05, 3.5100000000000006e-05, 3.47e-05, 3.4200000000000005e-05, 3.3799999999999995e-05, 3.3299999999999996e-05, 3.289999999999999e-05, 3.2500000000000004e-05, 3.21e-05, 3.17e-05, 3.13e-05, 3.09e-05, 3.06e-05, 3.02e-05, 2.98e-05, 2.95e-05, 2.9100000000000003e-05, 2.8800000000000002e-05, 2.8499999999999998e-05, 2.8100000000000002e-05, 2.78e-05, 2.75e-05, 2.72e-05, 2.6899999999999997e-05, 2.6600000000000003e-05, 2.6300000000000002e-05, 2.6000000000000002e-05, 2.57e-05, 2.54e-05, 2.52e-05, 2.49e-05, 2.46e-05, 2.44e-05, 2.4100000000000003e-05, 2.3899999999999998e-05, 2.36e-05, 2.34e-05, 2.3100000000000002e-05, 2.2899999999999998e-05, 2.27e-05, 2.24e-05, 2.22e-05, 2.2e-05, 2.18e-05, 2.1600000000000003e-05, 2.13e-05, 2.11e-05, 2.09e-05, 2.07e-05, 2.05e-05, 2.0300000000000002e-05, 2.01e-05, 2e-05, 1.98e-05, 1.9600000000000002e-05, 1.9399999999999997e-05, 1.92e-05, 1.91e-05, 1.89e-05, 1.87e-05, 1.85e-05, 1.84e-05, 1.82e-05, 1.8100000000000003e-05, 1.7899999999999998e-05, 1.77e-05, 1.76e-05, 1.74e-05, 1.73e-05, 1.7100000000000002e-05, 1.7e-05, 1.6800000000000002e-05, 1.67e-05, 1.66e-05, 1.64e-05, 1.63e-05, 1.62e-05, 1.6e-05, 1.59e-05, 1.58e-05, 1.56e-05, 1.55e-05, 1.5399999999999998e-05, 1.53e-05, 1.51e-05, 1.4999999999999999e-05, 1.49e-05, 1.4800000000000002e-05, 1.47e-05, 1.4599999999999999e-05, 1.4499999999999998e-05, 1.4300000000000002e-05, 1.42e-05, 1.4099999999999999e-05, 1.4000000000000001e-05, 1.39e-05, 1.3800000000000002e-05, 1.3699999999999998e-05, 1.36e-05, 1.3500000000000001e-05, 1.34e-05, 1.3300000000000001e-05, 1.32e-05, 1.31e-05, 1.3000000000000001e-05, 1.29e-05, 1.28e-05, 1.27e-05, 1.27e-05, 1.26e-05, 1.25e-05, 1.24e-05, 1.23e-05, 1.22e-05, 1.21e-05, 1.21e-05, 1.2e-05, 1.1900000000000001e-05, 1.18e-05, 1.17e-05, 1.17e-05, 1.1599999999999999e-05, 1.15e-05, 1.1400000000000001e-05, 1.13e-05, 1.13e-05, 1.12e-05, 1.11e-05, 1.11e-05, 1.1e-05, 1.09e-05, 1.0800000000000002e-05, 1.0800000000000002e-05, 1.07e-05, 1.06e-05, 1.06e-05, 1.05e-05, 1.04e-05, 1.04e-05, 1.0300000000000001e-05, 1.0199999999999999e-05, 1.0199999999999999e-05, 1.01e-05, 1.01e-05, 1e-05, 9.94e-06, 9.88e-06, 9.82e-06, 9.76e-06, 9.7e-06, 9.65e-06, 9.59e-06, 9.53e-06, 9.48e-06, 9.42e-06, 9.37e-06, 9.31e-06, 9.26e-06, 9.2e-06, 9.15e-06, 9.1e-06, 9.05e-06, 9e-06, 8.95e-06, 8.9e-06, 8.85e-06, 8.8e-06, 8.75e-06, 8.7e-06, 8.65e-06, 8.6e-06, 8.56e-06, 8.51e-06, 8.46e-06, 8.42e-06, 8.37e-06, 8.33e-06, 8.28e-06, 8.24e-06, 8.19e-06, 8.15e-06, 8.11e-06, 8.07e-06, 8.02e-06, 7.98e-06, 7.94e-06, 7.9e-06, 7.86e-06, 7.82e-06, 7.78e-06, 7.74e-06, 7.7e-06, 7.66e-06, 7.62e-06, 7.58e-06, 7.54e-06, 7.51e-06, 7.47e-06, 7.43e-06, 7.39e-06, 7.36e-06, 7.32e-06, 7.28e-06, 7.25e-06, 7.21e-06, 7.18e-06, 7.14e-06, 7.11e-06, 7.07e-06, 7.04e-06, 7.01e-06, 6.97e-06, 6.94e-06, 6.91e-06, 6.87e-06, 6.84e-06, 6.81e-06, 6.78e-06, 6.75e-06, 6.72e-06, 6.68e-06, 6.65e-06, 6.62e-06, 6.59e-06, 6.56e-06, 6.53e-06, 6.5e-06, 6.47e-06, 6.44e-06, 6.41e-06, 6.39e-06, 6.36e-06, 6.33e-06, 6.3e-06, 6.27e-06, 6.24e-06, 6.22e-06, 6.19e-06, 6.16e-06, 6.14e-06, 6.11e-06, 6.08e-06, 6.06e-06, 6.03e-06, 6e-06, 5.98e-06, 5.95e-06, 5.93e-06, 5.9e-06, 5.88e-06, 5.85e-06, 5.83e-06, 5.8e-06, 5.78e-06, 5.75e-06, 5.73e-06, 5.71e-06, 5.68e-06, 5.66e-06, 5.63e-06, 5.61e-06, 5.59e-06, 5.57e-06, 5.54e-06, 5.52e-06, 5.5e-06, 5.48e-06, 5.45e-06, 5.43e-06, 5.41e-06, 5.39e-06, 5.37e-06, 5.35e-06, 5.32e-06, 5.3e-06, 5.28e-06, 5.26e-06, 5.24e-06, 5.22e-06, 5.2e-06, 5.18e-06, 5.16e-06, 5.14e-06, 5.12e-06, 5.1e-06, 5.08e-06, 5.06e-06, 5.04e-06, 5.02e-06, 5e-06, 4.98e-06, 4.97e-06, 4.95e-06, 4.93e-06, 4.91e-06, 4.89e-06, 4.87e-06, 4.85e-06, 4.84e-06, 4.82e-06, 4.8e-06, 4.78e-06, 4.77e-06, 4.75e-06, 4.73e-06, 4.71e-06, 4.7e-06, 4.68e-06, 4.66e-06, 4.65e-06, 4.63e-06, 4.61e-06, 4.6e-06, 4.58e-06, 4.56e-06, 4.55e-06, 4.53e-06, 4.51e-06, 4.5e-06, 4.48e-06, 4.47e-06, 4.45e-06, 4.44e-06, 4.42e-06, 4.4e-06, 4.39e-06, 4.37e-06, 4.36e-06]}],\n",
              "                        {\"template\": {\"data\": {\"bar\": [{\"error_x\": {\"color\": \"#2a3f5f\"}, \"error_y\": {\"color\": \"#2a3f5f\"}, \"marker\": {\"line\": {\"color\": \"#E5ECF6\", \"width\": 0.5}}, \"type\": \"bar\"}], \"barpolar\": [{\"marker\": {\"line\": {\"color\": \"#E5ECF6\", \"width\": 0.5}}, \"type\": \"barpolar\"}], \"carpet\": [{\"aaxis\": {\"endlinecolor\": \"#2a3f5f\", \"gridcolor\": \"white\", \"linecolor\": \"white\", \"minorgridcolor\": \"white\", \"startlinecolor\": \"#2a3f5f\"}, \"baxis\": {\"endlinecolor\": \"#2a3f5f\", \"gridcolor\": \"white\", \"linecolor\": \"white\", \"minorgridcolor\": \"white\", \"startlinecolor\": \"#2a3f5f\"}, \"type\": \"carpet\"}], \"choropleth\": [{\"colorbar\": {\"outlinewidth\": 0, \"ticks\": \"\"}, \"type\": \"choropleth\"}], \"contour\": [{\"colorbar\": {\"outlinewidth\": 0, \"ticks\": \"\"}, \"colorscale\": [[0.0, \"#0d0887\"], [0.1111111111111111, \"#46039f\"], [0.2222222222222222, \"#7201a8\"], [0.3333333333333333, \"#9c179e\"], [0.4444444444444444, \"#bd3786\"], [0.5555555555555556, \"#d8576b\"], [0.6666666666666666, \"#ed7953\"], [0.7777777777777778, \"#fb9f3a\"], [0.8888888888888888, \"#fdca26\"], [1.0, \"#f0f921\"]], \"type\": \"contour\"}], \"contourcarpet\": [{\"colorbar\": {\"outlinewidth\": 0, \"ticks\": \"\"}, \"type\": \"contourcarpet\"}], \"heatmap\": [{\"colorbar\": {\"outlinewidth\": 0, \"ticks\": \"\"}, \"colorscale\": [[0.0, \"#0d0887\"], [0.1111111111111111, \"#46039f\"], [0.2222222222222222, \"#7201a8\"], [0.3333333333333333, \"#9c179e\"], [0.4444444444444444, \"#bd3786\"], [0.5555555555555556, \"#d8576b\"], [0.6666666666666666, \"#ed7953\"], [0.7777777777777778, \"#fb9f3a\"], [0.8888888888888888, \"#fdca26\"], [1.0, \"#f0f921\"]], \"type\": \"heatmap\"}], \"heatmapgl\": [{\"colorbar\": {\"outlinewidth\": 0, \"ticks\": \"\"}, \"colorscale\": [[0.0, \"#0d0887\"], [0.1111111111111111, \"#46039f\"], [0.2222222222222222, \"#7201a8\"], [0.3333333333333333, \"#9c179e\"], [0.4444444444444444, \"#bd3786\"], [0.5555555555555556, \"#d8576b\"], [0.6666666666666666, \"#ed7953\"], [0.7777777777777778, \"#fb9f3a\"], [0.8888888888888888, \"#fdca26\"], [1.0, \"#f0f921\"]], \"type\": \"heatmapgl\"}], \"histogram\": [{\"marker\": {\"colorbar\": {\"outlinewidth\": 0, \"ticks\": \"\"}}, \"type\": \"histogram\"}], \"histogram2d\": [{\"colorbar\": {\"outlinewidth\": 0, \"ticks\": \"\"}, \"colorscale\": [[0.0, \"#0d0887\"], [0.1111111111111111, \"#46039f\"], [0.2222222222222222, \"#7201a8\"], [0.3333333333333333, \"#9c179e\"], [0.4444444444444444, \"#bd3786\"], [0.5555555555555556, \"#d8576b\"], [0.6666666666666666, \"#ed7953\"], [0.7777777777777778, \"#fb9f3a\"], [0.8888888888888888, \"#fdca26\"], [1.0, \"#f0f921\"]], \"type\": \"histogram2d\"}], \"histogram2dcontour\": [{\"colorbar\": {\"outlinewidth\": 0, \"ticks\": \"\"}, \"colorscale\": [[0.0, \"#0d0887\"], [0.1111111111111111, \"#46039f\"], [0.2222222222222222, \"#7201a8\"], [0.3333333333333333, \"#9c179e\"], [0.4444444444444444, \"#bd3786\"], [0.5555555555555556, \"#d8576b\"], [0.6666666666666666, \"#ed7953\"], [0.7777777777777778, \"#fb9f3a\"], [0.8888888888888888, \"#fdca26\"], [1.0, \"#f0f921\"]], \"type\": \"histogram2dcontour\"}], \"mesh3d\": [{\"colorbar\": {\"outlinewidth\": 0, \"ticks\": \"\"}, \"type\": \"mesh3d\"}], \"parcoords\": [{\"line\": {\"colorbar\": {\"outlinewidth\": 0, \"ticks\": \"\"}}, \"type\": \"parcoords\"}], \"pie\": [{\"automargin\": true, \"type\": \"pie\"}], \"scatter\": [{\"marker\": {\"colorbar\": {\"outlinewidth\": 0, \"ticks\": \"\"}}, \"type\": \"scatter\"}], \"scatter3d\": [{\"line\": {\"colorbar\": {\"outlinewidth\": 0, \"ticks\": \"\"}}, \"marker\": {\"colorbar\": {\"outlinewidth\": 0, \"ticks\": \"\"}}, \"type\": \"scatter3d\"}], \"scattercarpet\": [{\"marker\": {\"colorbar\": {\"outlinewidth\": 0, \"ticks\": \"\"}}, \"type\": \"scattercarpet\"}], \"scattergeo\": [{\"marker\": {\"colorbar\": {\"outlinewidth\": 0, \"ticks\": \"\"}}, \"type\": \"scattergeo\"}], \"scattergl\": [{\"marker\": {\"colorbar\": {\"outlinewidth\": 0, \"ticks\": \"\"}}, \"type\": \"scattergl\"}], \"scattermapbox\": [{\"marker\": {\"colorbar\": {\"outlinewidth\": 0, \"ticks\": \"\"}}, \"type\": \"scattermapbox\"}], \"scatterpolar\": [{\"marker\": {\"colorbar\": {\"outlinewidth\": 0, \"ticks\": \"\"}}, \"type\": \"scatterpolar\"}], \"scatterpolargl\": [{\"marker\": {\"colorbar\": {\"outlinewidth\": 0, \"ticks\": \"\"}}, \"type\": \"scatterpolargl\"}], \"scatterternary\": [{\"marker\": {\"colorbar\": {\"outlinewidth\": 0, \"ticks\": \"\"}}, \"type\": \"scatterternary\"}], \"surface\": [{\"colorbar\": {\"outlinewidth\": 0, \"ticks\": \"\"}, \"colorscale\": [[0.0, \"#0d0887\"], [0.1111111111111111, \"#46039f\"], [0.2222222222222222, \"#7201a8\"], [0.3333333333333333, \"#9c179e\"], [0.4444444444444444, \"#bd3786\"], [0.5555555555555556, \"#d8576b\"], [0.6666666666666666, \"#ed7953\"], [0.7777777777777778, \"#fb9f3a\"], [0.8888888888888888, \"#fdca26\"], [1.0, \"#f0f921\"]], \"type\": \"surface\"}], \"table\": [{\"cells\": {\"fill\": {\"color\": \"#EBF0F8\"}, \"line\": {\"color\": \"white\"}}, \"header\": {\"fill\": {\"color\": \"#C8D4E3\"}, \"line\": {\"color\": \"white\"}}, \"type\": \"table\"}]}, \"layout\": {\"annotationdefaults\": {\"arrowcolor\": \"#2a3f5f\", \"arrowhead\": 0, \"arrowwidth\": 1}, \"coloraxis\": {\"colorbar\": {\"outlinewidth\": 0, \"ticks\": \"\"}}, \"colorscale\": {\"diverging\": [[0, \"#8e0152\"], [0.1, \"#c51b7d\"], [0.2, \"#de77ae\"], [0.3, \"#f1b6da\"], [0.4, \"#fde0ef\"], [0.5, \"#f7f7f7\"], [0.6, \"#e6f5d0\"], [0.7, \"#b8e186\"], [0.8, \"#7fbc41\"], [0.9, \"#4d9221\"], [1, \"#276419\"]], \"sequential\": [[0.0, \"#0d0887\"], [0.1111111111111111, \"#46039f\"], [0.2222222222222222, \"#7201a8\"], [0.3333333333333333, \"#9c179e\"], [0.4444444444444444, \"#bd3786\"], [0.5555555555555556, \"#d8576b\"], [0.6666666666666666, \"#ed7953\"], [0.7777777777777778, \"#fb9f3a\"], [0.8888888888888888, \"#fdca26\"], [1.0, \"#f0f921\"]], \"sequentialminus\": [[0.0, \"#0d0887\"], [0.1111111111111111, \"#46039f\"], [0.2222222222222222, \"#7201a8\"], [0.3333333333333333, \"#9c179e\"], [0.4444444444444444, \"#bd3786\"], [0.5555555555555556, \"#d8576b\"], [0.6666666666666666, \"#ed7953\"], [0.7777777777777778, \"#fb9f3a\"], [0.8888888888888888, \"#fdca26\"], [1.0, \"#f0f921\"]]}, \"colorway\": [\"#636efa\", \"#EF553B\", \"#00cc96\", \"#ab63fa\", \"#FFA15A\", \"#19d3f3\", \"#FF6692\", \"#B6E880\", \"#FF97FF\", \"#FECB52\"], \"font\": {\"color\": \"#2a3f5f\"}, \"geo\": {\"bgcolor\": \"white\", \"lakecolor\": \"white\", \"landcolor\": \"#E5ECF6\", \"showlakes\": true, \"showland\": true, \"subunitcolor\": \"white\"}, \"hoverlabel\": {\"align\": \"left\"}, \"hovermode\": \"closest\", \"mapbox\": {\"style\": \"light\"}, \"paper_bgcolor\": \"white\", \"plot_bgcolor\": \"#E5ECF6\", \"polar\": {\"angularaxis\": {\"gridcolor\": \"white\", \"linecolor\": \"white\", \"ticks\": \"\"}, \"bgcolor\": \"#E5ECF6\", \"radialaxis\": {\"gridcolor\": \"white\", \"linecolor\": \"white\", \"ticks\": \"\"}}, \"scene\": {\"xaxis\": {\"backgroundcolor\": \"#E5ECF6\", \"gridcolor\": \"white\", \"gridwidth\": 2, \"linecolor\": \"white\", \"showbackground\": true, \"ticks\": \"\", \"zerolinecolor\": \"white\"}, \"yaxis\": {\"backgroundcolor\": \"#E5ECF6\", \"gridcolor\": \"white\", \"gridwidth\": 2, \"linecolor\": \"white\", \"showbackground\": true, \"ticks\": \"\", \"zerolinecolor\": \"white\"}, \"zaxis\": {\"backgroundcolor\": \"#E5ECF6\", \"gridcolor\": \"white\", \"gridwidth\": 2, \"linecolor\": \"white\", \"showbackground\": true, \"ticks\": \"\", \"zerolinecolor\": \"white\"}}, \"shapedefaults\": {\"line\": {\"color\": \"#2a3f5f\"}}, \"ternary\": {\"aaxis\": {\"gridcolor\": \"white\", \"linecolor\": \"white\", \"ticks\": \"\"}, \"baxis\": {\"gridcolor\": \"white\", \"linecolor\": \"white\", \"ticks\": \"\"}, \"bgcolor\": \"#E5ECF6\", \"caxis\": {\"gridcolor\": \"white\", \"linecolor\": \"white\", \"ticks\": \"\"}}, \"title\": {\"x\": 0.05}, \"xaxis\": {\"automargin\": true, \"gridcolor\": \"white\", \"linecolor\": \"white\", \"ticks\": \"\", \"title\": {\"standoff\": 15}, \"zerolinecolor\": \"white\", \"zerolinewidth\": 2}, \"yaxis\": {\"automargin\": true, \"gridcolor\": \"white\", \"linecolor\": \"white\", \"ticks\": \"\", \"title\": {\"standoff\": 15}, \"zerolinecolor\": \"white\", \"zerolinewidth\": 2}}}, \"title\": {\"text\": \"Intensities over frequency\", \"x\": 0.5}},\n",
              "                        {\"responsive\": true}\n",
              "                    ).then(function(){\n",
              "                            \n",
              "var gd = document.getElementById('0c340c9c-da65-4a7f-a8ac-bb2eed36982e');\n",
              "var x = new MutationObserver(function (mutations, observer) {{\n",
              "        var display = window.getComputedStyle(gd).display;\n",
              "        if (!display || display === 'none') {{\n",
              "            console.log([gd, 'removed!']);\n",
              "            Plotly.purge(gd);\n",
              "            observer.disconnect();\n",
              "        }}\n",
              "}});\n",
              "\n",
              "// Listen for the removal of the full notebook cells\n",
              "var notebookContainer = gd.closest('#notebook-container');\n",
              "if (notebookContainer) {{\n",
              "    x.observe(notebookContainer, {childList: true});\n",
              "}}\n",
              "\n",
              "// Listen for the clearing of the current output cell\n",
              "var outputEl = gd.closest('.output');\n",
              "if (outputEl) {{\n",
              "    x.observe(outputEl, {childList: true});\n",
              "}}\n",
              "\n",
              "                        })\n",
              "                };\n",
              "                \n",
              "            </script>\n",
              "        </div>\n",
              "</body>\n",
              "</html>"
            ]
          },
          "metadata": {}
        }
      ]
    },
    {
      "cell_type": "markdown",
      "metadata": {
        "id": "UiLU5K_3DbW4"
      },
      "source": [
        "### Data Processing"
      ]
    },
    {
      "cell_type": "markdown",
      "metadata": {
        "id": "s_TyYA7ADd0Z"
      },
      "source": [
        "#### Normalization"
      ]
    },
    {
      "cell_type": "code",
      "metadata": {
        "id": "BIX1I5wVDfGe"
      },
      "source": [
        "# define a function to perform min-max normalization\n",
        "def df_normalize(df,i=3):\n",
        "  \"\"\"\n",
        "  apply min-max_scaler to each rows\n",
        "  since min-max scaler originally applies to columns, \n",
        "  we will use transposed data and then update the data with transposed result\n",
        "  \"\"\"\n",
        "  min_max_scaler = preprocessing.MinMaxScaler()\n",
        "  df.iloc[:,i:] = min_max_scaler.fit_transform(df.iloc[:,i:].T).T"
      ],
      "execution_count": 7,
      "outputs": []
    },
    {
      "cell_type": "code",
      "metadata": {
        "id": "yb3iLUcHDjJd"
      },
      "source": [
        "# use the functional to normalize the training and test data\n",
        "df_normalize(train)\n",
        "df_normalize(test)"
      ],
      "execution_count": 8,
      "outputs": []
    },
    {
      "cell_type": "markdown",
      "metadata": {
        "id": "8M4NoqonDnda"
      },
      "source": [
        "#### Apply Threshold"
      ]
    },
    {
      "cell_type": "code",
      "metadata": {
        "colab": {
          "base_uri": "https://localhost:8080/",
          "height": 542
        },
        "id": "meY65qeaDmAo",
        "outputId": "736f5f58-9f55-4eb2-8d1d-9852621a2ce1"
      },
      "source": [
        "# change the index values below to pick molecules with and without a carbonyl\n",
        "idx_hasCarbonyl=1\n",
        "idx_notCarbonyl=0\n",
        "# get the data for the two molecules\n",
        "hasCarbonyl=train.set_index('name').iloc[idx_hasCarbonyl,3:]\n",
        "notCarbonyl=train.set_index('name').iloc[idx_notCarbonyl,3:] \n",
        "# plot the spectra\n",
        "fig = go.Figure()\n",
        "fig.add_trace(go.Scatter(x=hasCarbonyl.index, y=hasCarbonyl, name=hasCarbonyl.name,mode='markers'))\n",
        "fig.add_trace(go.Scatter(x=notCarbonyl.index, y=notCarbonyl,name=notCarbonyl.name,mode='markers'))\n",
        "fig.update_layout(title='Intensities over frequency',title_x=0.5)"
      ],
      "execution_count": 9,
      "outputs": [
        {
          "output_type": "display_data",
          "data": {
            "text/html": [
              "<html>\n",
              "<head><meta charset=\"utf-8\" /></head>\n",
              "<body>\n",
              "    <div>\n",
              "            <script src=\"https://cdnjs.cloudflare.com/ajax/libs/mathjax/2.7.5/MathJax.js?config=TeX-AMS-MML_SVG\"></script><script type=\"text/javascript\">if (window.MathJax) {MathJax.Hub.Config({SVG: {font: \"STIX-Web\"}});}</script>\n",
              "                <script type=\"text/javascript\">window.PlotlyConfig = {MathJaxConfig: 'local'};</script>\n",
              "        <script src=\"https://cdn.plot.ly/plotly-latest.min.js\"></script>    \n",
              "            <div id=\"578e11cf-7764-4b7d-964c-4504f15b13c7\" class=\"plotly-graph-div\" style=\"height:525px; width:100%;\"></div>\n",
              "            <script type=\"text/javascript\">\n",
              "                \n",
              "                    window.PLOTLYENV=window.PLOTLYENV || {};\n",
              "                    \n",
              "                if (document.getElementById(\"578e11cf-7764-4b7d-964c-4504f15b13c7\")) {\n",
              "                    Plotly.newPlot(\n",
              "                        '578e11cf-7764-4b7d-964c-4504f15b13c7',\n",
              "                        [{\"mode\": \"markers\", \"name\": \"hexanal\", \"type\": \"scatter\", \"x\": [\"502\", \"504\", \"506\", \"508\", \"510\", \"512\", \"514\", \"516\", \"518\", \"520\", \"522\", \"524\", \"526\", \"528\", \"530\", \"532\", \"534\", \"536\", \"538\", \"540\", \"542\", \"544\", \"546\", \"548\", \"550\", \"552\", \"554\", \"556\", \"558\", \"560\", \"562\", \"564\", \"566\", \"568\", \"570\", \"572\", \"574\", \"576\", \"578\", \"580\", \"582\", \"584\", \"586\", \"588\", \"590\", \"592\", \"594\", \"596\", \"598\", \"600\", \"602\", \"604\", \"606\", \"608\", \"610\", \"612\", \"614\", \"616\", \"618\", \"620\", \"622\", \"624\", \"626\", \"628\", \"630\", \"632\", \"634\", \"636\", \"638\", \"640\", \"642\", \"644\", \"646\", \"648\", \"650\", \"652\", \"654\", \"656\", \"658\", \"660\", \"662\", \"664\", \"666\", \"668\", \"670\", \"672\", \"674\", \"676\", \"678\", \"680\", \"682\", \"684\", \"686\", \"688\", \"690\", \"692\", \"694\", \"696\", \"698\", \"700\", \"702\", \"704\", \"706\", \"708\", \"710\", \"712\", \"714\", \"716\", \"718\", \"720\", \"722\", \"724\", \"726\", \"728\", \"730\", \"732\", \"734\", \"736\", \"738\", \"740\", \"742\", \"744\", \"746\", \"748\", \"750\", \"752\", \"754\", \"756\", \"758\", \"760\", \"762\", \"764\", \"766\", \"768\", \"770\", \"772\", \"774\", \"776\", \"778\", \"780\", \"782\", \"784\", \"786\", \"788\", \"790\", \"792\", \"794\", \"796\", \"798\", \"800\", \"802\", \"804\", \"806\", \"808\", \"810\", \"812\", \"814\", \"816\", \"818\", \"820\", \"822\", \"824\", \"826\", \"828\", \"830\", \"832\", \"834\", \"836\", \"838\", \"840\", \"842\", \"844\", \"846\", \"848\", \"850\", \"852\", \"854\", \"856\", \"858\", \"860\", \"862\", \"864\", \"866\", \"868\", \"870\", \"872\", \"874\", \"876\", \"878\", \"880\", \"882\", \"884\", \"886\", \"888\", \"890\", \"892\", \"894\", \"896\", \"898\", \"900\", \"902\", \"904\", \"906\", \"908\", \"910\", \"912\", \"914\", \"916\", \"918\", \"920\", \"922\", \"924\", \"926\", \"928\", \"930\", \"932\", \"934\", \"936\", \"938\", \"940\", \"942\", \"944\", \"946\", \"948\", \"950\", \"952\", \"954\", \"956\", \"958\", \"960\", \"962\", \"964\", \"966\", \"968\", \"970\", \"972\", \"974\", \"976\", \"978\", \"980\", \"982\", \"984\", \"986\", \"988\", \"990\", \"992\", \"994\", \"996\", \"998\", \"1000\", \"1002\", \"1004\", \"1006\", \"1008\", \"1010\", \"1012\", \"1014\", \"1016\", \"1018\", \"1020\", \"1022\", \"1024\", \"1026\", \"1028\", \"1030\", \"1032\", \"1034\", \"1036\", \"1038\", \"1040\", \"1042\", \"1044\", \"1046\", \"1048\", \"1050\", \"1052\", \"1054\", \"1056\", \"1058\", \"1060\", \"1062\", \"1064\", \"1066\", \"1068\", \"1070\", \"1072\", \"1074\", \"1076\", \"1078\", \"1080\", \"1082\", \"1084\", \"1086\", \"1088\", \"1090\", \"1092\", \"1094\", \"1096\", \"1098\", \"1100\", \"1102\", \"1104\", \"1106\", \"1108\", \"1110\", \"1112\", \"1114\", \"1116\", \"1118\", \"1120\", \"1122\", \"1124\", \"1126\", \"1128\", \"1130\", \"1132\", \"1134\", \"1136\", \"1138\", \"1140\", \"1142\", \"1144\", \"1146\", \"1148\", \"1150\", \"1152\", \"1154\", \"1156\", \"1158\", \"1160\", \"1162\", \"1164\", \"1166\", \"1168\", \"1170\", \"1172\", \"1174\", \"1176\", \"1178\", \"1180\", \"1182\", \"1184\", \"1186\", \"1188\", \"1190\", \"1192\", \"1194\", \"1196\", \"1198\", \"1200\", \"1202\", \"1204\", \"1206\", \"1208\", \"1210\", \"1212\", \"1214\", \"1216\", \"1218\", \"1220\", \"1222\", \"1224\", \"1226\", \"1228\", \"1230\", \"1232\", \"1234\", \"1236\", \"1238\", \"1240\", \"1242\", \"1244\", \"1246\", \"1248\", \"1250\", \"1252\", \"1254\", \"1256\", \"1258\", \"1260\", \"1262\", \"1264\", \"1266\", \"1268\", \"1270\", \"1272\", \"1274\", \"1276\", \"1278\", \"1280\", \"1282\", \"1284\", \"1286\", \"1288\", \"1290\", \"1292\", \"1294\", \"1296\", \"1298\", \"1300\", \"1302\", \"1304\", \"1306\", \"1308\", \"1310\", \"1312\", \"1314\", \"1316\", \"1318\", \"1320\", \"1322\", \"1324\", \"1326\", \"1328\", \"1330\", \"1332\", \"1334\", \"1336\", \"1338\", \"1340\", \"1342\", \"1344\", \"1346\", \"1348\", \"1350\", \"1352\", \"1354\", \"1356\", \"1358\", \"1360\", \"1362\", \"1364\", \"1366\", \"1368\", \"1370\", \"1372\", \"1374\", \"1376\", \"1378\", \"1380\", \"1382\", \"1384\", \"1386\", \"1388\", \"1390\", \"1392\", \"1394\", \"1396\", \"1398\", \"1400\", \"1402\", \"1404\", \"1406\", \"1408\", \"1410\", \"1412\", \"1414\", \"1416\", \"1418\", \"1420\", \"1422\", \"1424\", \"1426\", \"1428\", \"1430\", \"1432\", \"1434\", \"1436\", \"1438\", \"1440\", \"1442\", \"1444\", \"1446\", \"1448\", \"1450\", \"1452\", \"1454\", \"1456\", \"1458\", \"1460\", \"1462\", \"1464\", \"1466\", \"1468\", \"1470\", \"1472\", \"1474\", \"1476\", \"1478\", \"1480\", \"1482\", \"1484\", \"1486\", \"1488\", \"1490\", \"1492\", \"1494\", \"1496\", \"1498\", \"1500\", \"1502\", \"1504\", \"1506\", \"1508\", \"1510\", \"1512\", \"1514\", \"1516\", \"1518\", \"1520\", \"1522\", \"1524\", \"1526\", \"1528\", \"1530\", \"1532\", \"1534\", \"1536\", \"1538\", \"1540\", \"1542\", \"1544\", \"1546\", \"1548\", \"1550\", \"1552\", \"1554\", \"1556\", \"1558\", \"1560\", \"1562\", \"1564\", \"1566\", \"1568\", \"1570\", \"1572\", \"1574\", \"1576\", \"1578\", \"1580\", \"1582\", \"1584\", \"1586\", \"1588\", \"1590\", \"1592\", \"1594\", \"1596\", \"1598\", \"1600\", \"1602\", \"1604\", \"1606\", \"1608\", \"1610\", \"1612\", \"1614\", \"1616\", \"1618\", \"1620\", \"1622\", \"1624\", \"1626\", \"1628\", \"1630\", \"1632\", \"1634\", \"1636\", \"1638\", \"1640\", \"1642\", \"1644\", \"1646\", \"1648\", \"1650\", \"1652\", \"1654\", \"1656\", \"1658\", \"1660\", \"1662\", \"1664\", \"1666\", \"1668\", \"1670\", \"1672\", \"1674\", \"1676\", \"1678\", \"1680\", \"1682\", \"1684\", \"1686\", \"1688\", \"1690\", \"1692\", \"1694\", \"1696\", \"1698\", \"1700\", \"1702\", \"1704\", \"1706\", \"1708\", \"1710\", \"1712\", \"1714\", \"1716\", \"1718\", \"1720\", \"1722\", \"1724\", \"1726\", \"1728\", \"1730\", \"1732\", \"1734\", \"1736\", \"1738\", \"1740\", \"1742\", \"1744\", \"1746\", \"1748\", \"1750\", \"1752\", \"1754\", \"1756\", \"1758\", \"1760\", \"1762\", \"1764\", \"1766\", \"1768\", \"1770\", \"1772\", \"1774\", \"1776\", \"1778\", \"1780\", \"1782\", \"1784\", \"1786\", \"1788\", \"1790\", \"1792\", \"1794\", \"1796\", \"1798\", \"1800\", \"1802\", \"1804\", \"1806\", \"1808\", \"1810\", \"1812\", \"1814\", \"1816\", \"1818\", \"1820\", \"1822\", \"1824\", \"1826\", \"1828\", \"1830\", \"1832\", \"1834\", \"1836\", \"1838\", \"1840\", \"1842\", \"1844\", \"1846\", \"1848\", \"1850\", \"1852\", \"1854\", \"1856\", \"1858\", \"1860\", \"1862\", \"1864\", \"1866\", \"1868\", \"1870\", \"1872\", \"1874\", \"1876\", \"1878\", \"1880\", \"1882\", \"1884\", \"1886\", \"1888\", \"1890\", \"1892\", \"1894\", \"1896\", \"1898\", \"1900\", \"1902\", \"1904\", \"1906\", \"1908\", \"1910\", \"1912\", \"1914\", \"1916\", \"1918\", \"1920\", \"1922\", \"1924\", \"1926\", \"1928\", \"1930\", \"1932\", \"1934\", \"1936\", \"1938\", \"1940\", \"1942\", \"1944\", \"1946\", \"1948\", \"1950\", \"1952\", \"1954\", \"1956\", \"1958\", \"1960\", \"1962\", \"1964\", \"1966\", \"1968\", \"1970\", \"1972\", \"1974\", \"1976\", \"1978\", \"1980\", \"1982\", \"1984\", \"1986\", \"1988\", \"1990\", \"1992\", \"1994\", \"1996\", \"1998\", \"2000\", \"2002\", \"2004\", \"2006\", \"2008\", \"2010\", \"2012\", \"2014\", \"2016\", \"2018\", \"2020\", \"2022\", \"2024\", \"2026\", \"2028\", \"2030\", \"2032\", \"2034\", \"2036\", \"2038\", \"2040\", \"2042\", \"2044\", \"2046\", \"2048\", \"2050\", \"2052\", \"2054\", \"2056\", \"2058\", \"2060\", \"2062\", \"2064\", \"2066\", \"2068\", \"2070\", \"2072\", \"2074\", \"2076\", \"2078\", \"2080\", \"2082\", \"2084\", \"2086\", \"2088\", \"2090\", \"2092\", \"2094\", \"2096\", \"2098\", \"2100\", \"2102\", \"2104\", \"2106\", \"2108\", \"2110\", \"2112\", \"2114\", \"2116\", \"2118\", \"2120\", \"2122\", \"2124\", \"2126\", \"2128\", \"2130\", \"2132\", \"2134\", \"2136\", \"2138\", \"2140\", \"2142\", \"2144\", \"2146\", \"2148\", \"2150\", \"2152\", \"2154\", \"2156\", \"2158\", \"2160\", \"2162\", \"2164\", \"2166\", \"2168\", \"2170\", \"2172\", \"2174\", \"2176\", \"2178\", \"2180\", \"2182\", \"2184\", \"2186\", \"2188\", \"2190\", \"2192\", \"2194\", \"2196\", \"2198\", \"2200\", \"2202\", \"2204\", \"2206\", \"2208\", \"2210\", \"2212\", \"2214\", \"2216\", \"2218\", \"2220\", \"2222\", \"2224\", \"2226\", \"2228\", \"2230\", \"2232\", \"2234\", \"2236\", \"2238\", \"2240\", \"2242\", \"2244\", \"2246\", \"2248\", \"2250\", \"2252\", \"2254\", \"2256\", \"2258\", \"2260\", \"2262\", \"2264\", \"2266\", \"2268\", \"2270\", \"2272\", \"2274\", \"2276\", \"2278\", \"2280\", \"2282\", \"2284\", \"2286\", \"2288\", \"2290\", \"2292\", \"2294\", \"2296\", \"2298\", \"2300\", \"2302\", \"2304\", \"2306\", \"2308\", \"2310\", \"2312\", \"2314\", \"2316\", \"2318\", \"2320\", \"2322\", \"2324\", \"2326\", \"2328\", \"2330\", \"2332\", \"2334\", \"2336\", \"2338\", \"2340\", \"2342\", \"2344\", \"2346\", \"2348\", \"2350\", \"2352\", \"2354\", \"2356\", \"2358\", \"2360\", \"2362\", \"2364\", \"2366\", \"2368\", \"2370\", \"2372\", \"2374\", \"2376\", \"2378\", \"2380\", \"2382\", \"2384\", \"2386\", \"2388\", \"2390\", \"2392\", \"2394\", \"2396\", \"2398\", \"2400\", \"2402\", \"2404\", \"2406\", \"2408\", \"2410\", \"2412\", \"2414\", \"2416\", \"2418\", \"2420\", \"2422\", \"2424\", \"2426\", \"2428\", \"2430\", \"2432\", \"2434\", \"2436\", \"2438\", \"2440\", \"2442\", \"2444\", \"2446\", \"2448\", \"2450\", \"2452\", \"2454\", \"2456\", \"2458\", \"2460\", \"2462\", \"2464\", \"2466\", \"2468\", \"2470\", \"2472\", \"2474\", \"2476\", \"2478\", \"2480\", \"2482\", \"2484\", \"2486\", \"2488\", \"2490\", \"2492\", \"2494\", \"2496\", \"2498\", \"2500\", \"2502\", \"2504\", \"2506\", \"2508\", \"2510\", \"2512\", \"2514\", \"2516\", \"2518\", \"2520\", \"2522\", \"2524\", \"2526\", \"2528\", \"2530\", \"2532\", \"2534\", \"2536\", \"2538\", \"2540\", \"2542\", \"2544\", \"2546\", \"2548\", \"2550\", \"2552\", \"2554\", \"2556\", \"2558\", \"2560\", \"2562\", \"2564\", \"2566\", \"2568\", \"2570\", \"2572\", \"2574\", \"2576\", \"2578\", \"2580\", \"2582\", \"2584\", \"2586\", \"2588\", \"2590\", \"2592\", \"2594\", \"2596\", \"2598\", \"2600\", \"2602\", \"2604\", \"2606\", \"2608\", \"2610\", \"2612\", \"2614\", \"2616\", \"2618\", \"2620\", \"2622\", \"2624\", \"2626\", \"2628\", \"2630\", \"2632\", \"2634\", \"2636\", \"2638\", \"2640\", \"2642\", \"2644\", \"2646\", \"2648\", \"2650\", \"2652\", \"2654\", \"2656\", \"2658\", \"2660\", \"2662\", \"2664\", \"2666\", \"2668\", \"2670\", \"2672\", \"2674\", \"2676\", \"2678\", \"2680\", \"2682\", \"2684\", \"2686\", \"2688\", \"2690\", \"2692\", \"2694\", \"2696\", \"2698\", \"2700\", \"2702\", \"2704\", \"2706\", \"2708\", \"2710\", \"2712\", \"2714\", \"2716\", \"2718\", \"2720\", \"2722\", \"2724\", \"2726\", \"2728\", \"2730\", \"2732\", \"2734\", \"2736\", \"2738\", \"2740\", \"2742\", \"2744\", \"2746\", \"2748\", \"2750\", \"2752\", \"2754\", \"2756\", \"2758\", \"2760\", \"2762\", \"2764\", \"2766\", \"2768\", \"2770\", \"2772\", \"2774\", \"2776\", \"2778\", \"2780\", \"2782\", \"2784\", \"2786\", \"2788\", \"2790\", \"2792\", \"2794\", \"2796\", \"2798\", \"2800\", \"2802\", \"2804\", \"2806\", \"2808\", \"2810\", \"2812\", \"2814\", \"2816\", \"2818\", \"2820\", \"2822\", \"2824\", \"2826\", \"2828\", \"2830\", \"2832\", \"2834\", \"2836\", \"2838\", \"2840\", \"2842\", \"2844\", \"2846\", \"2848\", \"2850\", \"2852\", \"2854\", \"2856\", \"2858\", \"2860\", \"2862\", \"2864\", \"2866\", \"2868\", \"2870\", \"2872\", \"2874\", \"2876\", \"2878\", \"2880\", \"2882\", \"2884\", \"2886\", \"2888\", \"2890\", \"2892\", \"2894\", \"2896\", \"2898\", \"2900\", \"2902\", \"2904\", \"2906\", \"2908\", \"2910\", \"2912\", \"2914\", \"2916\", \"2918\", \"2920\", \"2922\", \"2924\", \"2926\", \"2928\", \"2930\", \"2932\", \"2934\", \"2936\", \"2938\", \"2940\", \"2942\", \"2944\", \"2946\", \"2948\", \"2950\", \"2952\", \"2954\", \"2956\", \"2958\", \"2960\", \"2962\", \"2964\", \"2966\", \"2968\", \"2970\", \"2972\", \"2974\", \"2976\", \"2978\", \"2980\", \"2982\", \"2984\", \"2986\", \"2988\", \"2990\", \"2992\", \"2994\", \"2996\", \"2998\", \"3000\", \"3002\", \"3004\", \"3006\", \"3008\", \"3010\", \"3012\", \"3014\", \"3016\", \"3018\", \"3020\", \"3022\", \"3024\", \"3026\", \"3028\", \"3030\", \"3032\", \"3034\", \"3036\", \"3038\", \"3040\", \"3042\", \"3044\", \"3046\", \"3048\", \"3050\", \"3052\", \"3054\", \"3056\", \"3058\", \"3060\", \"3062\", \"3064\", \"3066\", \"3068\", \"3070\", \"3072\", \"3074\", \"3076\", \"3078\", \"3080\", \"3082\", \"3084\", \"3086\", \"3088\", \"3090\", \"3092\", \"3094\", \"3096\", \"3098\", \"3100\", \"3102\", \"3104\", \"3106\", \"3108\", \"3110\", \"3112\", \"3114\", \"3116\", \"3118\", \"3120\", \"3122\", \"3124\", \"3126\", \"3128\", \"3130\", \"3132\", \"3134\", \"3136\", \"3138\", \"3140\", \"3142\", \"3144\", \"3146\", \"3148\", \"3150\", \"3152\", \"3154\", \"3156\", \"3158\", \"3160\", \"3162\", \"3164\", \"3166\", \"3168\", \"3170\", \"3172\", \"3174\", \"3176\", \"3178\", \"3180\", \"3182\", \"3184\", \"3186\", \"3188\", \"3190\", \"3192\", \"3194\", \"3196\", \"3198\", \"3200\", \"3202\", \"3204\", \"3206\", \"3208\", \"3210\", \"3212\", \"3214\", \"3216\", \"3218\", \"3220\", \"3222\", \"3224\", \"3226\", \"3228\", \"3230\", \"3232\", \"3234\", \"3236\", \"3238\", \"3240\", \"3242\", \"3244\", \"3246\", \"3248\", \"3250\", \"3252\", \"3254\", \"3256\", \"3258\", \"3260\", \"3262\", \"3264\", \"3266\", \"3268\", \"3270\", \"3272\", \"3274\", \"3276\", \"3278\", \"3280\", \"3282\", \"3284\", \"3286\", \"3288\", \"3290\", \"3292\", \"3294\", \"3296\", \"3298\", \"3300\", \"3302\", \"3304\", \"3306\", \"3308\", \"3310\", \"3312\", \"3314\", \"3316\", \"3318\", \"3320\", \"3322\", \"3324\", \"3326\", \"3328\", \"3330\", \"3332\", \"3334\", \"3336\", \"3338\", \"3340\", \"3342\", \"3344\", \"3346\", \"3348\", \"3350\", \"3352\", \"3354\", \"3356\", \"3358\", \"3360\", \"3362\", \"3364\", \"3366\", \"3368\", \"3370\", \"3372\", \"3374\", \"3376\", \"3378\", \"3380\", \"3382\", \"3384\", \"3386\", \"3388\", \"3390\", \"3392\", \"3394\", \"3396\", \"3398\", \"3400\", \"3402\", \"3404\", \"3406\", \"3408\", \"3410\", \"3412\", \"3414\", \"3416\", \"3418\", \"3420\", \"3422\", \"3424\", \"3426\", \"3428\", \"3430\", \"3432\", \"3434\", \"3436\", \"3438\", \"3440\", \"3442\", \"3444\", \"3446\", \"3448\", \"3450\", \"3452\", \"3454\", \"3456\", \"3458\", \"3460\", \"3462\", \"3464\", \"3466\", \"3468\", \"3470\", \"3472\", \"3474\", \"3476\", \"3478\", \"3480\", \"3482\", \"3484\", \"3486\", \"3488\", \"3490\", \"3492\", \"3494\", \"3496\", \"3498\", \"3500\", \"3502\", \"3504\", \"3506\", \"3508\", \"3510\", \"3512\", \"3514\", \"3516\", \"3518\", \"3520\", \"3522\", \"3524\", \"3526\", \"3528\", \"3530\", \"3532\", \"3534\", \"3536\", \"3538\", \"3540\", \"3542\", \"3544\", \"3546\", \"3548\", \"3550\", \"3552\", \"3554\", \"3556\", \"3558\", \"3560\", \"3562\", \"3564\", \"3566\", \"3568\", \"3570\", \"3572\", \"3574\", \"3576\", \"3578\", \"3580\", \"3582\", \"3584\", \"3586\", \"3588\", \"3590\", \"3592\", \"3594\", \"3596\", \"3598\", \"3600\", \"3602\", \"3604\", \"3606\", \"3608\", \"3610\", \"3612\", \"3614\", \"3616\", \"3618\", \"3620\", \"3622\", \"3624\", \"3626\", \"3628\", \"3630\", \"3632\", \"3634\", \"3636\", \"3638\", \"3640\", \"3642\", \"3644\", \"3646\", \"3648\", \"3650\", \"3652\", \"3654\", \"3656\", \"3658\", \"3660\", \"3662\", \"3664\", \"3666\", \"3668\", \"3670\", \"3672\", \"3674\", \"3676\", \"3678\", \"3680\", \"3682\", \"3684\", \"3686\", \"3688\", \"3690\", \"3692\", \"3694\", \"3696\", \"3698\", \"3700\", \"3702\", \"3704\", \"3706\", \"3708\", \"3710\", \"3712\", \"3714\", \"3716\", \"3718\", \"3720\", \"3722\", \"3724\", \"3726\", \"3728\", \"3730\", \"3732\", \"3734\", \"3736\", \"3738\", \"3740\", \"3742\", \"3744\", \"3746\", \"3748\", \"3750\", \"3752\", \"3754\", \"3756\", \"3758\", \"3760\", \"3762\", \"3764\", \"3766\", \"3768\", \"3770\", \"3772\", \"3774\", \"3776\", \"3778\", \"3780\", \"3782\", \"3784\", \"3786\", \"3788\", \"3790\", \"3792\", \"3794\", \"3796\", \"3798\", \"3800\", \"3802\", \"3804\", \"3806\", \"3808\", \"3810\", \"3812\", \"3814\", \"3816\", \"3818\", \"3820\", \"3822\", \"3824\", \"3826\", \"3828\", \"3830\", \"3832\", \"3834\", \"3836\", \"3838\", \"3840\", \"3842\", \"3844\", \"3846\", \"3848\", \"3850\", \"3852\", \"3854\", \"3856\", \"3858\", \"3860\", \"3862\", \"3864\", \"3866\", \"3868\", \"3870\", \"3872\", \"3874\", \"3876\", \"3878\", \"3880\", \"3882\", \"3884\", \"3886\", \"3888\", \"3890\", \"3892\", \"3894\", \"3896\", \"3898\", \"3900\", \"3902\", \"3904\", \"3906\", \"3908\", \"3910\", \"3912\", \"3914\", \"3916\", \"3918\", \"3920\", \"3922\", \"3924\", \"3926\", \"3928\", \"3930\", \"3932\", \"3934\", \"3936\", \"3938\", \"3940\", \"3942\", \"3944\", \"3946\", \"3948\", \"3950\", \"3952\", \"3954\", \"3956\", \"3958\", \"3960\", \"3962\", \"3964\", \"3966\", \"3968\", \"3970\", \"3972\", \"3974\", \"3976\", \"3978\", \"3980\", \"3982\", \"3984\", \"3986\", \"3988\", \"3990\", \"3992\", \"3994\", \"3996\", \"3998\", \"4000\"], \"y\": [0.04759069801890924, 0.049594088930107944, 0.051613178504263606, 0.05362421748203107, 0.05559902877605173, 0.0575074226498699, 0.0593139764793776, 0.06098326764046681, 0.062477055800293696, 0.06375951580493083, 0.06479683514954789, 0.06556003168714739, 0.06602696627766186, 0.06618314784759255, 0.06602334350928717, 0.06555198109075921, 0.06478194154622975, 0.0637357665455857, 0.06244082811654689, 0.060930938763943635, 0.05924192364170338, 0.05741041296339233, 0.05547303694257671, 0.05346401061390628, 0.05141432877347554, 0.04935216850864312, 0.047300876548934744, 0.04528017685550146, 0.04330536556148079, 0.04138932362109385, 0.03954130922018704, 0.03776776283587089, 0.03608679831001881, 0.034476679032382725, 0.03290681273668754, 0.03145770538681506, 0.03008910400082438, 0.02880100857871551, 0.027593419120488447, 0.02642608264420229, 0.02533925213179793, 0.024332927583275373, 0.023407108998634622, 0.02248129041399387, 0.021676230775175824, 0.020871171136357784, 0.020146617461421542, 0.01946231676842621, 0.018818269057371773, 0.018214474328258238, 0.017650932581085608, 0.017127643815853882, 0.01660435505062215, 0.016161572249272227, 0.015718789447922304, 0.015316259628513278, 0.014953982791045161, 0.01459170595357704, 0.014269682098049827, 0.013987911224463509, 0.013706140350877194, 0.013464622459231784, 0.01322310456758637, 0.013021839657881857, 0.012820574748177348, 0.01265956282041374, 0.012498550892650126, 0.01233753896488652, 0.012216780019063813, 0.012136274055182009, 0.012055768091300205, 0.0119752621274184, 0.011894756163536595, 0.011854503181595694, 0.011854503181595694, 0.011854503181595694, 0.011854503181595694, 0.011894756163536595, 0.011935009145477498, 0.0119752621274184, 0.012055768091300205, 0.012136274055182009, 0.012257033001004716, 0.012377791946827423, 0.012538803874591033, 0.012699815802354637, 0.01290108071205915, 0.01310234562176366, 0.013343863513409073, 0.013585381405054487, 0.013867152278640806, 0.014148923152227117, 0.014511199989695234, 0.014833223845222454, 0.01523575366463148, 0.015638283484040498, 0.016081066285390425, 0.016523849086740348, 0.017006884870031175, 0.0175301736352629, 0.018053462400494633, 0.01857675116572636, 0.01914029291289899, 0.01974408764201252, 0.020307629389185154, 0.020911424118298685, 0.021474965865471315, 0.02203850761264395, 0.022561796377875677, 0.023044832161166505, 0.023527867944457333, 0.023890144781925443, 0.02421216863745267, 0.02449393951103898, 0.024654951438802586, 0.024735457402684395, 0.024735457402684395, 0.024654951438802586, 0.02449393951103898, 0.024252421619393567, 0.02397065074580725, 0.02360837390833913, 0.023205844088930113, 0.02280331426952109, 0.022320278486230263, 0.02187749568488034, 0.02139445990158951, 0.020911424118298685, 0.020428388335007857, 0.01998560553365793, 0.019542822732308007, 0.01914029291289899, 0.018737763093489963, 0.01837548625602185, 0.018053462400494633, 0.017731438544967414, 0.0174496676713811, 0.017208149779735685, 0.017006884870031175, 0.016805619960326663, 0.016644608032563055, 0.016523849086740348, 0.01640309014091764, 0.01632258417703584, 0.016282331195094937, 0.016242078213154033, 0.016242078213154033, 0.016242078213154033, 0.016282331195094937, 0.01632258417703584, 0.01640309014091764, 0.016483596104799447, 0.01656410206868125, 0.016644608032563055, 0.01676536697838576, 0.016845872942267564, 0.01696663188809027, 0.017087390833912978, 0.017208149779735685, 0.01732890872555839, 0.0174496676713811, 0.017570426617203806, 0.017691185563026512, 0.01785219749079012, 0.01801320941855373, 0.01817422134631734, 0.018335233274080945, 0.018536498183785454, 0.01877801607543087, 0.019019533967076282, 0.019261051858721696, 0.019542822732308007, 0.01986484658783523, 0.020186870443362447, 0.020589400262771465, 0.020951677100239586, 0.02139445990158951, 0.021837242702939436, 0.022320278486230263, 0.02284356725146199, 0.023407108998634622, 0.02397065074580725, 0.02457444547492078, 0.025178240204034318, 0.025822287915088758, 0.026466335626143186, 0.027110383337197615, 0.02779468403019296, 0.0284387317412474, 0.02908277945230183, 0.029726827163356263, 0.030370874874410703, 0.030974669603524234, 0.03153821135069686, 0.032101753097869494, 0.03262504186310122, 0.03310807764639205, 0.03359111342968288, 0.0340338962310328, 0.034516932014323626, 0.034959714815673545, 0.03540249761702348, 0.03584528041837339, 0.03632831620166422, 0.03685160496689595, 0.03738374938815468, 0.03797627328232476, 0.03862273617229564, 0.0393299810649973, 0.040105253497179076, 0.0409541888863127, 0.0418820201200505, 0.042894382615864195, 0.043994496612309045, 0.045185984877759745, 0.04647166512095216, 0.04785395252080274, 0.04933244454749209, 0.050907543730839576, 0.052577237421748205, 0.05433750032202386, 0.05618350207383364, 0.058106789550969935, 0.06009770203776696, 0.06214335858000361, 0.06422765798490353, 0.06633208388077388, 0.06843610724682485, 0.07051678388335009, 0.07254915694154623, 0.07450867210242935, 0.07637158010665432, 0.0781157418141536, 0.079722238323415, 0.08117818868021744, 0.08247473722853389, 0.08361027384908674, 0.0845892263698895, 0.08542125550660794, 0.08612125486256023, 0.08670774080943917, 0.08720164489785405, 0.08762309361877528, 0.08799342105263158, 0.08832953345183811, 0.08864753200917125, 0.08895868755957442, 0.08927105069943582, 0.08959025684622718, 0.08991831864904552, 0.09025684622716852, 0.09060463199113791, 0.09096167594095371, 0.09132838060643532, 0.09170555104722158, 0.09209600497204834, 0.09250215755983204, 0.092929241698225, 0.09338047762578254, 0.09386029317051807, 0.09437150604116754, 0.0949145187675503, 0.09548772123038875, 0.09608789319112761, 0.0967077891130175, 0.09733815081021203, 0.09796690238812891, 0.09857915024345006, 0.09915839065357962, 0.09968570471700544, 0.10014096594275705, 0.10050364531004458, 0.10075240873843934, 0.10086672720715152, 0.10082848687430766, 0.1006207814874926, 0.10023153515212407, 0.09965068462271685, 0.09887460713089626, 0.0979033026766623, 0.09674160161784787, 0.09539996972975757, 0.09389169049643199, 0.09223487775974444, 0.09045086560012366, 0.08856300074709535, 0.08659624004946287, 0.0845763454156684, 0.08252907875415412, 0.08047979944354278, 0.07845145168354072, 0.07646617461421543, 0.07454248460725972, 0.07269809297472757, 0.0709462832006595, 0.0692991311796378, 0.06776589509750883, 0.06635422302084139, 0.06506934783728778, 0.06391489231522271, 0.06289367416338203, 0.06200770603086278, 0.06125779297730376, 0.060643532472885606, 0.06016532704742768, 0.05982196911147178, 0.0596130561351985, 0.059537380529149614, 0.059593332174047456, 0.059779703480433835, 0.060095286858850516, 0.06053726460056162, 0.06110402658628952, 0.061792755107298356, 0.06260063245485226, 0.06352323080093775, 0.0645569273771801, 0.06569608676610764, 0.06693386596079039, 0.06826221436484016, 0.06967106873277172, 0.07114875569982226, 0.07267997913285416, 0.07424662518999407, 0.07582856738027154, 0.07740084885488317, 0.07893609758610919, 0.08040372130767448, 0.08177151763402635, 0.08300486900069558, 0.0840719755519489, 0.08494103743205297, 0.0855850851431074, 0.08598358966432235, 0.08612205992219904, 0.0859952630290852, 0.08560641922353608, 0.08496679934049516, 0.08409693240075225, 0.08302217778293017, 0.08177393281294279, 0.0803868150552593, 0.07889503954452946, 0.07733362637504188, 0.07573598552180746, 0.0741315016616431, 0.07254674176262979, 0.07100424749465441, 0.06952253522940981, 0.06811569351057528, 0.06679418811345544, 0.06556445951516088, 0.06443013048406626, 0.06339160354999099, 0.062446061004199194, 0.06158867248885798, 0.060813400056676195, 0.06011138805162687, 0.059473378287863574, 0.05888930751990108, 0.05834870997243476, 0.057841522399979396, 0.05735888914650798, 0.056893564675271145, 0.05643951103897778, 0.05599350799907258, 0.055554347966097324, 0.05512243346987145, 0.05470138727876962, 0.05429563722080532, 0.05391162377308912, 0.05355538488291214, 0.053234568616843135, 0.052956420511631505, 0.05272738104438777, 0.052553085632583665, 0.052438767163871504, 0.05238845093644537, 0.05240455212922174, 0.052488680861478225, 0.05264083713321483, 0.052860215884792755, 0.05314440193729553, 0.05348896746270965, 0.05388948463302162, 0.05433911044130149, 0.05483059935079991, 0.05535549823530928, 0.05590454890898318, 0.056468493185975216, 0.05703887794007781, 0.05760604245562512, 0.058163546255506605, 0.058704948862611746, 0.05922541991910761, 0.059722946775897165, 0.060195114254063944, 0.06064192235360796, 0.061064176134168036, 0.06146147306592473, 0.061834215678697485, 0.062180391323389234, 0.06249718229126415, 0.06277975822448927, 0.06302167864595411, 0.06321529548908984, 0.0633513505680501, 0.06342018316716903, 0.06341374269005848, 0.06332438107014968, 0.0631472679496097, 0.06287958561970271, 0.06252294419970632, 0.06208096645799521, 0.061561702990957576, 0.06097521704407863, 0.060334389571579466, 0.05965330911713941, 0.05894686928407657, 0.05823036620552851, 0.05751869348481336, 0.056825939665610434, 0.056164985702140825, 0.05554710242934797, 0.05498195056289771, 0.054477178169358785, 0.05403922572584177, 0.05367332611999897, 0.05338189453074684, 0.05316734613700183, 0.053029680938763944, 0.05296889893603319, 0.05298298747971251, 0.053069531390885445, 0.053225310430996736, 0.053447104361491096, 0.05373088788417446, 0.0540718306412139, 0.05446590733441533, 0.05490828760594585, 0.05539494615761136, 0.05592065010175954, 0.056481374140196314, 0.057072287915088754, 0.05768856106860397, 0.05832536324290904, 0.058977461550351655, 0.05964002563309889, 0.06030742007367906, 0.060974009454620406, 0.061634158358451194, 0.06228182883788032, 0.06291138547543602, 0.06351638779400778, 0.06409200543576268, 0.06463300551304842, 0.06513576525749028, 0.06559706443053302, 0.06601609797253781, 0.0663944760027823, 0.06673541875982174, 0.06704496419094727, 0.06733156542236649, 0.06760488316974522, 0.0678765907978463, 0.06816037432052967, 0.06846830963237757, 0.06881408274724993, 0.06920936702990957, 0.06966543331530001, 0.07019113725944819, 0.0707941269289229, 0.07148003774119588, 0.07225208993482238, 0.07311068603962183, 0.07405582605559419, 0.07508469227400366, 0.07619366192647552, 0.07737709959553804, 0.07863017492335833, 0.07994604490300643, 0.08131947664683, 0.08274402967771853, 0.0842152761676585, 0.08572758069917821, 0.08727691797408352, 0.08885805510472217, 0.09046455161398356, 0.09208996702475719, 0.09372423809155783, 0.095356093979442, 0.09697023855527219, 0.09854855797717495, 0.10006931563490223, 0.10150876226910892, 0.10284073344153334, 0.10403664953499757, 0.10506913852178171, 0.10591042584434657, 0.10653555465388878, 0.10692278834016025, 0.10705401306128758, 0.10691715292268852, 0.10650536491743309, 0.10581864904552131, 0.10486264072442489, 0.1036506234381843, 0.10220030849885361, 0.10053504263595847, 0.09868300293685758, 0.09667437913800656, 0.09454137362495814, 0.09231659131308448, 0.09003183205811888, 0.087717285596517, 0.08540072648581808, 0.08310670904500606, 0.08085616482469021, 0.07866680513692455, 0.07655271852538838, 0.07452557835484454, 0.0725926301620424, 0.07076031442409254, 0.0690318513795502, 0.06740885114769302, 0.06589131372852101, 0.06447883659221476, 0.0631690045598578, 0.061959804982353095, 0.06084761509132597, 0.059829617178040556, 0.058902188474122166, 0.058061706211196135, 0.05730454762088776, 0.05662708993482237, 0.05602611291444471, 0.055498396321199475, 0.05504071991653142, 0.05465026599170467, 0.054324216837983365, 0.05405975474663164, 0.053855269598371856, 0.05370794368446815, 0.05361576435582349, 0.05357752402297963, 0.05359121003683954, 0.05365561480794498, 0.05376912821701832, 0.05393094520442075, 0.054140260710513435, 0.054396269675657576, 0.05469776451039494, 0.05504474521472551, 0.055436809258829906, 0.05587355411288868, 0.05635497977690188, 0.056880683721050054, 0.057451471004972055, 0.05806693909884845, 0.058728295592137464, 0.059435137955019715, 0.06018827124713398, 0.06098850052811912, 0.06183703338743335, 0.06273427235489605, 0.0636818275497849, 0.06468010150191927, 0.06573110686039622, 0.06683645374449339, 0.0679969472138496, 0.06921500244738131, 0.07049222956436613, 0.07183064121390113, 0.07323265257490275, 0.07470027629646805, 0.07623673261715229, 0.07784403418605251, 0.079525401241724, 0.08128405402272201, 0.08312361529742124, 0.08504690277455754, 0.08705874681196385, 0.08916277017801479, 0.09136299817090451, 0.09366506620810469, 0.0960734021176289, 0.09859364131694877, 0.1012314192235361, 0.10399317631450139, 0.10688575559677463, 0.10991519501764692, 0.11309035023314529, 0.11641846678001909, 0.1199088028441147, 0.12357061661127858, 0.1274135687971765, 0.13144893023675194, 0.13568756923512892, 0.1401423667465286, 0.14482660625499139, 0.14975437630419663, 0.15494057049746246, 0.16040249761702347, 0.16615706391529486, 0.17222318829378883, 0.17862180230311464, 0.18537424002370098, 0.19250384818507355, 0.2000363886956746, 0.20799842852358505, 0.21641894981580237, 0.22532854483860168, 0.23476062356699387, 0.24475020609526757, 0.25533513022644716, 0.2665548438828349, 0.27845201522528795, 0.2910705200041219, 0.30445785673802717, 0.3186619264755133, 0.333733447973826, 0.3497239450498494, 0.36668614910992603, 0.3846715839709406, 0.4037317734497773, 0.423915021124765, 0.4452648002164, 0.46781854599788764, 0.49160363049694733, 0.5166349473168973, 0.5429100812788212, 0.5704052831233738, 0.5990694315634902, 0.628818397866914, 0.6595278003194477, 0.69102817386712, 0.723096919519798, 0.7554534739933534, 0.7877564920009275, 0.8196010285441947, 0.8505229667413762, 0.8800054583043512, 0.9074922070226963, 0.9324059851353789, 0.9541719800602828, 0.9722471790710256, 0.9861497539737745, 0.9954912634927996, 1.0, 0.9995415185356931, 0.9941291025839194, 0.9839217514233455, 0.969212506762501, 0.9504087287786279, 0.9280043215601413, 0.9025507509596311, 0.8746248422083109, 0.844801005358477, 0.8136311087925393, 0.7816227426127728, 0.7492307655151094, 0.7168480466032925, 0.6848062704485149, 0.6533751320297808, 0.6227675696215575, 0.5931445951516089, 0.5646233447973826, 0.5372819093438441, 0.5111653721307674, 0.4862942621789422, 0.4626669693690909, 0.4402669899786177, 0.4190641342710669, 0.3990201619135946, 0.3800903920962465, 0.36222531365123534, 0.3453746103511348, 0.32948514825978314, 0.31450459850065693, 0.3003822423165109, 0.28706695842027985, 0.2745108457634542, 0.2626676134168019, 0.2514929831001881, 0.24094509171239403, 0.2309844913311178, 0.22157374668315433, 0.21267864273385376, 0.20426576950820519, 0.19630453473993356, 0.18876676134168022, 0.18162547981554475, 0.17485613584254325, 0.1684345776335111, 0.1623402761676585, 0.15655270242419558, 0.15105253497179072, 0.1458228675580287, 0.1408475989901332, 0.13611062807532784, 0.1315986713295721, 0.1272980427390061, 0.12319666640904758, 0.11928286897493366, 0.11554618466135973, 0.11197655022284053, 0.10856470747352964, 0.10530139822758071, 0.10217897441842493, 0.09918938544967412, 0.09632578831439832, 0.09358174253548704, 0.09095040510601025, 0.08842614060849627, 0.0860033136254734, 0.08367709379910863, 0.08144184571193035, 0.07929394659556381, 0.07722856609217611, 0.07524167890357318, 0.07332966226138032, 0.07148849086740347, 0.06971534701290673, 0.06800660792951542, 0.0663594559084937, 0.0647710732411057, 0.06323864221861555, 0.06175974766210682, 0.06033197439266301, 0.058953309761187116, 0.05762093605894326, 0.0563336456964732, 0.055089023494860515, 0.05388505680500812, 0.05272053803745782, 0.05159345454311256, 0.05050219620269471, 0.04944595795656543, 0.04842232462580828, 0.04743089368060387, 0.04646965247185512, 0.04553819846974264, 0.04463451902516939, 0.043757809078496544, 0.042907666099904686, 0.04208207744029678, 0.041280640569853415, 0.040502550428935774, 0.03974659942808564, 0.039012385037483575, 0.03829869966767138, 0.03760514078882964, 0.03693211093077776, 0.036288063219723325, 0.035644015508668886, 0.034999967797614454, 0.034396173068500915, 0.033832631321328285, 0.033269089574155655, 0.032705547826983025, 0.03214200607981039, 0.031618717314578666, 0.031095428549346937, 0.03061239276605611, 0.03012935698276529, 0.02964632119947446, 0.029163285416183633, 0.028720502614833707, 0.028277719813483787, 0.02783493701213386, 0.02743240719272484, 0.02702987737331582, 0.026627347553906798, 0.02622481773449778, 0.025862540897029655, 0.02546001107762063, 0.025097734240152512, 0.024735457402684395, 0.02441343354715718, 0.024051156709689055, 0.023729132854161842, 0.023407108998634622, 0.023085085143107403, 0.02280331426952109, 0.02248129041399387, 0.022199519540407553, 0.021917748666821238, 0.02159572481129402, 0.02135420691964861, 0.021072436046062293, 0.020790665172475978, 0.020549147280830564, 0.020307629389185154, 0.020025858515598835, 0.01978434062395342, 0.019583075714248912, 0.019341557822603498, 0.01910003993095809, 0.01889877502125358, 0.018657257129608164, 0.018455992219903652, 0.018254727310199143, 0.018053462400494633, 0.01785219749079012, 0.017650932581085608, 0.0174496676713811, 0.01724840276167659, 0.017087390833912978, 0.016886125924208472, 0.016725113996444857, 0.016523849086740348, 0.016362837158976736, 0.01620182523121313, 0.016040813303449523, 0.015879801375685912, 0.015718789447922304, 0.015557777520158692, 0.015437018574335989, 0.01527600664657238, 0.015114994718808769, 0.014994235772986066, 0.014833223845222454, 0.014712464899399747, 0.01459170595357704, 0.014430694025813436, 0.014309935079990729, 0.014189176134168022, 0.014068417188345318, 0.013947658242522608, 0.013826899296699904, 0.013706140350877194, 0.013585381405054487, 0.013504875441172685, 0.013384116495349978, 0.01326335754952727, 0.013182851585645465, 0.013062092639822758, 0.012981586675940956, 0.012860827730118249, 0.012780321766236447, 0.01265956282041374, 0.012579056856531934, 0.012498550892650126, 0.012418044928768326, 0.012297285982945615, 0.012216780019063813, 0.012136274055182009, 0.012055768091300205, 0.0119752621274184, 0.011894756163536595, 0.011814250199654791, 0.011733744235772989, 0.011693491253832084, 0.011612985289950282, 0.011532479326068474, 0.011451973362186674, 0.011411720380245767, 0.011331214416363965, 0.011250708452482164, 0.01121045547054126, 0.011129949506659454, 0.011089696524718551, 0.01100919056083675, 0.010968937578895844, 0.01088843161501404, 0.01084817863307314, 0.010807925651132238, 0.01072741968725043, 0.010687166705309531, 0.01064691372336863, 0.010606660741427727, 0.010526154777545921, 0.010485901795605016, 0.010445648813664117, 0.010405395831723216, 0.010365142849782313, 0.01032488986784141, 0.010284636885900507, 0.010244383903959606, 0.010204130922018707, 0.010163877940077802, 0.010123624958136897, 0.010083371976195996, 0.010043118994255097, 0.010043118994255097, 0.010002866012314192, 0.009962613030373293, 0.00992236004843239, 0.00992236004843239, 0.009882107066491484, 0.009841854084550586, 0.009841854084550586, 0.009801601102609683, 0.00976134812066878, 0.00976134812066878, 0.009721095138727879, 0.009721095138727879, 0.009680842156786976, 0.009680842156786976, 0.009640589174846073, 0.009640589174846073, 0.009600336192905172, 0.009600336192905172, 0.009600336192905172, 0.009560083210964269, 0.009560083210964269, 0.009560083210964269, 0.009519830229023366, 0.009519830229023366, 0.009519830229023366, 0.009519830229023366, 0.009519830229023366, 0.009479577247082465, 0.009479577247082465, 0.009479577247082465, 0.009479577247082465, 0.009479577247082465, 0.009479577247082465, 0.009479577247082465, 0.009479577247082465, 0.009479577247082465, 0.009479577247082465, 0.009479577247082465, 0.009479577247082465, 0.009479577247082465, 0.009479577247082465, 0.009519830229023366, 0.009519830229023366, 0.009519830229023366, 0.009519830229023366, 0.009519830229023366, 0.009560083210964269, 0.009560083210964269, 0.009560083210964269, 0.009600336192905172, 0.009600336192905172, 0.009600336192905172, 0.009640589174846073, 0.009640589174846073, 0.009640589174846073, 0.009680842156786976, 0.009680842156786976, 0.009721095138727879, 0.009721095138727879, 0.00976134812066878, 0.009801601102609683, 0.009801601102609683, 0.009841854084550586, 0.009841854084550586, 0.009882107066491484, 0.00992236004843239, 0.00992236004843239, 0.009962613030373293, 0.010002866012314192, 0.010043118994255097, 0.010083371976195996, 0.010083371976195996, 0.010123624958136897, 0.010163877940077802, 0.010204130922018707, 0.010244383903959606, 0.010284636885900507, 0.01032488986784141, 0.010365142849782313, 0.010405395831723216, 0.010445648813664117, 0.010485901795605016, 0.010526154777545921, 0.010566407759486824, 0.01064691372336863, 0.010687166705309531, 0.01072741968725043, 0.010767672669191333, 0.01084817863307314, 0.01088843161501404, 0.010928684596954941, 0.01100919056083675, 0.01104944354277765, 0.011129949506659454, 0.011170202488600355, 0.011250708452482164, 0.011290961434423062, 0.011371467398304868, 0.011411720380245767, 0.011492226344127575, 0.011572732308009379, 0.011612985289950282, 0.011693491253832084, 0.011773997217713888, 0.011854503181595694, 0.011935009145477498, 0.0119752621274184, 0.012055768091300205, 0.012136274055182009, 0.012216780019063813, 0.012297285982945615, 0.012377791946827423, 0.012498550892650126, 0.012579056856531934, 0.01265956282041374, 0.012740068784295538, 0.012860827730118249, 0.012941333694000051, 0.013021839657881857, 0.013142598603704564, 0.01322310456758637, 0.013343863513409073, 0.013424369477290879, 0.013545128423113582, 0.013665887368936293, 0.013746393332818095, 0.013867152278640806, 0.013987911224463509, 0.014108670170286216, 0.014229429116108923, 0.01435018806193163, 0.014470947007754337, 0.01459170595357704, 0.014712464899399747, 0.014833223845222454, 0.014994235772986066, 0.015114994718808769, 0.01523575366463148, 0.015396765592395088, 0.015557777520158692, 0.015678536465981403, 0.01583954839374501, 0.016000560321508615, 0.016161572249272227, 0.016282331195094937, 0.016443343122858542, 0.016644608032563055, 0.016805619960326663, 0.01696663188809027, 0.017127643815853882, 0.01732890872555839, 0.017489920653322, 0.017691185563026512, 0.01785219749079012, 0.018053462400494633, 0.018254727310199143, 0.018455992219903652, 0.018657257129608164, 0.018858522039312677, 0.01910003993095809, 0.0193013048406626, 0.019542822732308007, 0.01974408764201252, 0.01998560553365793, 0.020227123425303344, 0.020468641316948758, 0.02071015920859418, 0.020951677100239586, 0.021233447973825904, 0.021474965865471315, 0.02175673673905763, 0.02203850761264395, 0.022320278486230263, 0.022602049359816575, 0.022883820233402886, 0.023205844088930113, 0.02348761496251642, 0.023809638818043644, 0.024131662673570864, 0.02449393951103898, 0.0248159633665662, 0.025178240204034318, 0.02550026405956153, 0.025862540897029655, 0.026265070716438677, 0.026627347553906798, 0.02702987737331582, 0.02743240719272484, 0.02783493701213386, 0.02823746683154288, 0.028680249632892812, 0.029123032434242732, 0.02956581523559266, 0.030048851018883486, 0.030531886802174307, 0.031014922585465135, 0.03153821135069686, 0.03206150011592859, 0.03258478888116032, 0.03310807764639205, 0.03367161939356468, 0.03427541412267821, 0.03487920885179174, 0.03548300358090528, 0.03608679831001881, 0.036771099003014146, 0.037424002370095584, 0.038113133420923824, 0.03882319602236134, 0.03955539776386636, 0.04031014117525827, 0.04108903637581472, 0.04189248589535513, 0.04272209985315712, 0.04357868330885953, 0.04446344385192055, 0.04537799160161785, 0.04632313161759023, 0.047300876548934744, 0.04831243398510963, 0.04935941404539248, 0.050443829378880395, 0.05156688757503156, 0.05273100381276245, 0.05393778821135071, 0.055190058479532164, 0.056489424736584484, 0.05783870469124353, 0.059240313522425744, 0.06069747146868641, 0.06221259370894196, 0.06378890048174769, 0.06542961202565886, 0.06713875363886958, 0.0689199480897545, 0.07077722067650771, 0.07271499922714275, 0.07473771156967308, 0.07685099312157045, 0.07905927171084834, 0.08136898781461732, 0.08378577685034908, 0.086316884354793, 0.08896875080505964, 0.09174902426771775, 0.09466575533915554, 0.09772820220521938, 0.10094481799211685, 0.10432647100497207, 0.10788322448927017, 0.11162675180977408, 0.11556953139088545, 0.11972444418682537, 0.12410598127109257, 0.1287286337171858, 0.13360850271788133, 0.1387632995852333, 0.14420993057165676, 0.14996852216812223, 0.15605839580596131, 0.16250088556560272, 0.1693177280572945, 0.17653186748074298, 0.1841658455058351, 0.19224341139191595, 0.20078710680887243, 0.20981947342659146, 0.21936184532550176, 0.22943233634747662, 0.24004664515547314, 0.25121604258443464, 0.26294455393255534, 0.27522895896127986, 0.2880559741865678, 0.30139903264033796, 0.3152170762810109, 0.3294497256356751, 0.34401647474044883, 0.35881266584228555, 0.3737074767498777, 0.3885443233634749, 0.40313844449596825, 0.4172797195816267, 0.4307379015637478, 0.4432666421928537, 0.45461436033181335, 0.46453551279078753, 0.47280186516217126, 0.4792165803642735, 0.4836283071849963, 0.4859384258185847, 0.48611231870056937, 0.48417856544812843, 0.4802281378004484, 0.47440956926089095, 0.46691526908313374, 0.4579726666151429, 0.447829317695855, 0.4367396211711363, 0.4249539505886596, 0.4127089934822372, 0.40022090836489166, 0.38768170196048124, 0.37525681402478295, 0.3630835072262153, 0.3512740873843935, 0.33991670852976796, 0.32907819061236054, 0.3188068372105006, 0.30913525323956004, 0.30008356519050927, 0.29166103124919496, 0.2838696640647139, 0.27670463327923334, 0.2701562781770874, 0.26421332792333263, 0.2588604863848314, 0.25408285995826574, 0.2498643474508592, 0.24618925019965482, 0.2430426746013345, 0.2404105321122189, 0.23827994177808692, 0.2366396327639952, 0.2354795418244584, 0.23479121583326895, 0.23456901937295516, 0.23480812208568413, 0.23550570626271997, 0.23666096684442384, 0.23827511142025404, 0.24035136022876577, 0.24289454362779195, 0.24591230968390138, 0.24941270899348225, 0.25340781745111685, 0.25790971095138726, 0.2629340881572507, 0.26849785532112225, 0.27461912628487517, 0.28131883259911894, 0.28861951593374036, 0.29654452301826517, 0.3051192132313162, 0.31436854342169673, 0.32431988561712655, 0.3349990017260478, 0.3464312511270835, 0.35864078560939794, 0.3716489392534199, 0.385473020841384, 0.40012510626787234, 0.4156108309503569, 0.43192616959064334, 0.4490566311152331, 0.4669744409665868, 0.4856373335136668, 0.504984526753742, 0.5249359172527501, 0.5453912750856583, 0.5662274261277276, 0.5872982520545121, 0.6084367029909576, 0.6294543949815803, 0.6501480504675786, 0.6703007058762913, 0.6896913723368628, 0.7081014761573537, 0.7253241170105882, 0.7411741311796378, 0.7554969472138496, 0.7681794542339696, 0.779153624700518, 0.7884033574207179, 0.7959644775484969, 0.8019215163459309, 0.8064040884148699, 0.8095764259216324, 0.8116281204111601, 0.8127624494422546, 0.8131830931035372, 0.8130856808872402, 0.8126481309735426, 0.8120230021640004, 0.8113354812324498, 0.8106809677460907, 0.8101270867145838, 0.8097161037689672, 0.8094685479300305, 0.8093872369065102, 0.8094596922740037, 0.8096609571837082, 0.8099531938325992, 0.8102824632248757, 0.8105775175825025, 0.8107457750470156, 0.8106692943813278, 0.8102047749697299, 0.8091831542880696, 0.8074128281423087, 0.8046872987350903, 0.8007952379112244, 0.7955317579926322, 0.7887125003220239, 0.7801869187469408, 0.7698487453950589, 0.7576488716284102, 0.7435953480433831, 0.727758617358374, 0.7102654764664966, 0.6912910258391942, 0.6710490088105726, 0.6497797356828194, 0.6277355926527037, 0.6051705760362727, 0.582328216374269, 0.559434332895381, 0.5366918006285907, 0.514275720045341, 0.49233180694025824, 0.47097840508024835, 0.45030688873431746, 0.43038407785248733, 0.4112554583043513, 0.3929475970579901, 0.3754721674781668, 0.3588279619754232, 0.3430041122446351, 0.3279821019141098, 0.313736974135044, 0.3002405518200788, 0.28746143764330057, 0.27536662415951774, 0.26392229886389984, 0.2530946492516166, 0.24285026534765697, 0.23315613970682947, 0.22398087500322025, 0.21529428150037358, 0.20706697452147257, 0.19927117950897802, 0.1918811345544478, 0.1848722853388979, 0.17822128513280266, 0.17190639732591392, 0.16590709289744185, 0.16020445294587426, 0.15478036362933767, 0.14961791869541696, 0.1447018220109746, 0.1400175825025118, 0.1355511116263493, 0.13128993095808536, 0.1272219646031378, 0.12333674678620193, 0.11962300667233429, 0.1160714860756885, 0.11267332934023754, 0.1094196808099544, 0.10630289241827037, 0.10331531609861659, 0.10045051137388258, 0.09770123270731897, 0.09506224721127343, 0.0925271144086354, 0.090091003941572, 0.08774868292243089, 0.0854953209933792, 0.0833264903264034, 0.08123816562330939, 0.0792267241157225, 0.07728773797562924, 0.07541838949429373, 0.07361545843316074, 0.07187532202385553, 0.07019516255764227, 0.0685725648556045, 0.06700471120900638, 0.0654895889687508, 0.06402397789628257, 0.06260667040214339, 0.06123484877759745, 0.059907305433186495, 0.05862122266017467, 0.05737579539892315, 0.056168608470515496, 0.05499845428549347, 0.053863722724579434, 0.05276320619831518, 0.051695294587423044, 0.05065878030244481, 0.04965205322410284, 0.048674710822577745, 0.04772514297859186, 0.04680214210268697, 0.04590530566504367, 0.04503302354638432, 0.04418489321688951, 0.04335930455728161, 0.04255666009738001, 0.0417749471880877, 0.04101376329958524, 0.04027270590205323, 0.03955096993585285, 0.03884734781152588, 0.038162242058891724, 0.03749404255867275, 0.03685160496689595, 0.036207557255841516, 0.035603762526727985, 0.034999967797614454, 0.034396173068500915, 0.033832631321328285, 0.033269089574155655, 0.032705547826983025, 0.032182259061751296, 0.031658970296519574, 0.03113568153128784, 0.030652645747997018, 0.03012935698276529, 0.029686574181415355, 0.029203538398124534, 0.028760755596774615, 0.02831797279542468, 0.027875189994074765, 0.02743240719272484, 0.02702987737331582, 0.026587094571965897, 0.026184564752556868, 0.025822287915088758, 0.025419758095679732, 0.025057481258211608, 0.02469520442074349, 0.024332927583275373, 0.02397065074580725, 0.02360837390833913, 0.023286350052811912, 0.0229643261972847, 0.022602049359816575, 0.022280025504289362, 0.021998254630703044, 0.021676230775175824, 0.02139445990158951, 0.021072436046062293, 0.020790665172475978, 0.020508894298889666, 0.020227123425303344, 0.019945352551717033, 0.01966358167813072, 0.019422063786485307, 0.01914029291289899, 0.01889877502125358, 0.018657257129608164, 0.01841573923796275, 0.01817422134631734, 0.017932703454671926, 0.017691185563026512, 0.0174496676713811, 0.01724840276167659, 0.017006884870031175, 0.016805619960326663, 0.01656410206868125, 0.016362837158976736, 0.016161572249272227, 0.015960307339567718, 0.015759042429863205, 0.015557777520158692, 0.015356512610454183, 0.015155247700749674, 0.014994235772986066, 0.014792970863281553, 0.014631958935517945, 0.014430694025813436, 0.014269682098049827, 0.014068417188345318, 0.013907405260581703, 0.013746393332818095, 0.013585381405054487, 0.013424369477290879, 0.01326335754952727, 0.01310234562176366, 0.012941333694000051, 0.012780321766236447, 0.01265956282041374, 0.012498550892650126, 0.01233753896488652, 0.012216780019063813, 0.012055768091300205, 0.011935009145477498, 0.011773997217713888, 0.011653238271891185, 0.011492226344127575, 0.011371467398304868, 0.011250708452482164, 0.011129949506659454, 0.01100919056083675, 0.01084817863307314, 0.01072741968725043, 0.010606660741427727, 0.010485901795605016, 0.010365142849782313, 0.010244383903959606, 0.010163877940077802, 0.010043118994255097, 0.00992236004843239, 0.009801601102609683, 0.009721095138727879, 0.009600336192905172, 0.009479577247082465, 0.00939907128320066, 0.009278312337377952, 0.009197806373496148, 0.009077047427673441, 0.008996541463791639, 0.008875782517968932, 0.00879527655408713, 0.00867451760826442, 0.008594011644382617, 0.008513505680500811, 0.008392746734678108, 0.0083122407707963, 0.008231734806914496, 0.008151228843032694, 0.008030469897209984, 0.007949963933328181, 0.007869457969446379, 0.007788952005564573, 0.007708446041682767, 0.007627940077800965, 0.007547434113919159, 0.007466928150037357, 0.007386422186155551, 0.007305916222273747, 0.007225410258391943, 0.007144904294510137, 0.007064398330628335, 0.006983892366746529, 0.006943639384805628, 0.006863133420923822, 0.006782627457042018, 0.006702121493160214, 0.006621615529278408, 0.006581362547337509, 0.0065008565834557015, 0.006420350619573899, 0.006339844655692093, 0.006299591673751192, 0.006219085709869386, 0.006178832727928487, 0.0060983267640466795, 0.006017820800164877, 0.005977567818223974, 0.00589706185434217, 0.005856808872401267, 0.005776302908519465, 0.00573604992657856, 0.005655543962696758, 0.005615290980755855, 0.005534785016874051, 0.005494532034933148, 0.005414026071051344, 0.005373773089110443, 0.0053335201071695384, 0.005253014143287736, 0.0052127611613468315, 0.005132255197465029, 0.005092002215524126, 0.005051749233583225, 0.004971243269701419, 0.004930990287760518, 0.004890737305819615, 0.004850484323878714, 0.00476997835999691, 0.004729725378056007, 0.0046894723961151035, 0.004649219414174203, 0.004568713450292398, 0.004528460468351496, 0.004488207486410593, 0.004447954504469691, 0.004407701522528789, 0.004327195558646984, 0.004286942576706082, 0.004246689594765181, 0.0042064366128242775, 0.004166183630883377, 0.004125930648942474, 0.004085677667001571, 0.00404542468506067, 0.004005171703119767, 0.003964918721178865, 0.0038844127572970604, 0.0038441597753561593, 0.0038039067934152555, 0.003763653811474355, 0.0037234008295334523, 0.0036831478475925486, 0.0036428948656516483, 0.0036026418837107454, 0.0035623889017698434, 0.0035221359198289413, 0.0035221359198289413, 0.0034818829378880384, 0.0034416299559471364, 0.0034013769740062353, 0.0033611239920653332, 0.0033208710101244304, 0.0032806180281835283, 0.0032403650462426263, 0.0032001120643017234, 0.0031598590823608214, 0.0031196061004199194, 0.0031196061004199194, 0.0030793531184790165, 0.0030391001365381145, 0.0029988471545972133, 0.0029585941726563104, 0.0029183411907154075, 0.0029183411907154075, 0.0028780882087745064, 0.002837835226833605, 0.0027975822448927015, 0.0027573292629517994, 0.0027573292629517994, 0.0027170762810108965, 0.0026768232990699954, 0.0026365703171290942, 0.0025963173351881905, 0.0025963173351881905, 0.0025560643532472884, 0.0025158113713063873, 0.0024755583893654844, 0.0024755583893654844, 0.0024353054074245832, 0.0023950524254836795, 0.0023950524254836795, 0.0023547994435427783, 0.0023145464616018763, 0.0022742934796609734, 0.0022742934796609734, 0.0022340404977200723, 0.0021937875157791694, 0.0021937875157791694, 0.0021535345338382665, 0.0021132815518973653, 0.0021132815518973653, 0.0020730285699564624, 0.0020327755880155604, 0.0020327755880155604, 0.0019925226060746584, 0.0019925226060746584, 0.0019522696241337555, 0.0019120166421928543, 0.0019120166421928543, 0.0018717636602519514, 0.0018315106783110494, 0.0018315106783110494, 0.0017912576963701474, 0.0017912576963701474, 0.0017510047144292445, 0.0017107517324883434, 0.0017107517324883434, 0.0016704987505474413, 0.0016704987505474413, 0.0016302457686065384, 0.0016302457686065384, 0.0015899927866656364, 0.0015899927866656364, 0.0015497398047247335, 0.0015094868227838324, 0.0015094868227838324, 0.0014692338408429303, 0.0014692338408429303, 0.0014289808589020275, 0.0014289808589020275, 0.0013887278769611254, 0.0013887278769611254, 0.0013484748950202234, 0.0013484748950202234, 0.0013082219130793205, 0.0013082219130793205, 0.0012679689311384194, 0.0012679689311384194, 0.0012277159491975173, 0.0012277159491975173, 0.0011874629672566145, 0.0011874629672566145, 0.0011472099853157124, 0.0011472099853157124, 0.0011069570033748095, 0.0011069570033748095, 0.0010667040214339084, 0.0010667040214339084, 0.0010264510394930064, 0.0010264510394930064, 0.0010264510394930064, 0.0009861980575521035, 0.0009861980575521035, 0.0009459450756112014, 0.0009459450756112014, 0.0009056920936702994, 0.000901666795476209, 0.000885565602699848, 0.0008654391117293974, 0.0008493379189530364, 0.0008332367261766746, 0.0008171355334003145, 0.000797009042429863, 0.0007809078496535025, 0.0007648066568771419, 0.0007487054641007805, 0.0007326042713244195, 0.000716503078548059, 0.0007004018857716984, 0.000684300692995337, 0.000668199500218976, 0.0006520983074426155, 0.0006359971146662549, 0.0006198959218898939, 0.000607820027307623, 0.000591718834531262, 0.0005756176417549014, 0.0005595164489785405, 0.000543415256202179, 0.0005313393616199085, 0.000515238168843548, 0.0004991369760671874, 0.0004870610814849165, 0.0004709598887085555, 0.0004548586959321945, 0.000442782801349924, 0.00042668160857356344, 0.0004146057139912929, 0.0003985045212149315, 0.000386428626632661, 0.0003703274338563, 0.0003582515392740295, 0.00034215034649766893, 0.00033007445191539754, 0.000317998557333127, 0.0003018973645567665, 0.00028982146997449595, 0.00027372027719813497, 0.000261644382615864, 0.0002495684880335935, 0.00023749259345132298, 0.000221391400674962, 0.00020931550609269147, 0.00019723961151042095, 0.00018516371692814957, 0.00017308782234587905, 0.0001569866295695185, 0.00014491073498724798, 0.00013283484040497746, 0.00012075894582270607, 0.00010868305124043555, 9.660715665816503e-05, 8.453126207589451e-05, 7.245536749362399e-05, 6.037947291135347e-05, 4.8303578329082515e-05, 3.622768374681156e-05, 2.415178916454104e-05, 1.207589458227052e-05, 0.0]}, {\"mode\": \"markers\", \"name\": \"2-methoxy-13-dioxolane\", \"type\": \"scatter\", \"x\": [\"502\", \"504\", \"506\", \"508\", \"510\", \"512\", \"514\", \"516\", \"518\", \"520\", \"522\", \"524\", \"526\", \"528\", \"530\", \"532\", \"534\", \"536\", \"538\", \"540\", \"542\", \"544\", \"546\", \"548\", \"550\", \"552\", \"554\", \"556\", \"558\", \"560\", \"562\", \"564\", \"566\", \"568\", \"570\", \"572\", \"574\", \"576\", \"578\", \"580\", \"582\", \"584\", \"586\", \"588\", \"590\", \"592\", \"594\", \"596\", \"598\", \"600\", \"602\", \"604\", \"606\", \"608\", \"610\", \"612\", \"614\", \"616\", \"618\", \"620\", \"622\", \"624\", \"626\", \"628\", \"630\", \"632\", \"634\", \"636\", \"638\", \"640\", \"642\", \"644\", \"646\", \"648\", \"650\", \"652\", \"654\", \"656\", \"658\", \"660\", \"662\", \"664\", \"666\", \"668\", \"670\", \"672\", \"674\", \"676\", \"678\", \"680\", \"682\", \"684\", \"686\", \"688\", \"690\", \"692\", \"694\", \"696\", \"698\", \"700\", \"702\", \"704\", \"706\", \"708\", \"710\", \"712\", \"714\", \"716\", \"718\", \"720\", \"722\", \"724\", \"726\", \"728\", \"730\", \"732\", \"734\", \"736\", \"738\", \"740\", \"742\", \"744\", \"746\", \"748\", \"750\", \"752\", \"754\", \"756\", \"758\", \"760\", \"762\", \"764\", \"766\", \"768\", \"770\", \"772\", \"774\", \"776\", \"778\", \"780\", \"782\", \"784\", \"786\", \"788\", \"790\", \"792\", \"794\", \"796\", \"798\", \"800\", \"802\", \"804\", \"806\", \"808\", \"810\", \"812\", \"814\", \"816\", \"818\", \"820\", \"822\", \"824\", \"826\", \"828\", \"830\", \"832\", \"834\", \"836\", \"838\", \"840\", \"842\", \"844\", \"846\", \"848\", \"850\", \"852\", \"854\", \"856\", \"858\", \"860\", \"862\", \"864\", \"866\", \"868\", \"870\", \"872\", \"874\", \"876\", \"878\", \"880\", \"882\", \"884\", \"886\", \"888\", \"890\", \"892\", \"894\", \"896\", \"898\", \"900\", \"902\", \"904\", \"906\", \"908\", \"910\", \"912\", \"914\", \"916\", \"918\", \"920\", \"922\", \"924\", \"926\", \"928\", \"930\", \"932\", \"934\", \"936\", \"938\", \"940\", \"942\", \"944\", \"946\", \"948\", \"950\", \"952\", \"954\", \"956\", \"958\", \"960\", \"962\", \"964\", \"966\", \"968\", \"970\", \"972\", \"974\", \"976\", \"978\", \"980\", \"982\", \"984\", \"986\", \"988\", \"990\", \"992\", \"994\", \"996\", \"998\", \"1000\", \"1002\", \"1004\", \"1006\", \"1008\", \"1010\", \"1012\", \"1014\", \"1016\", \"1018\", \"1020\", \"1022\", \"1024\", \"1026\", \"1028\", \"1030\", \"1032\", \"1034\", \"1036\", \"1038\", \"1040\", \"1042\", \"1044\", \"1046\", \"1048\", \"1050\", \"1052\", \"1054\", \"1056\", \"1058\", \"1060\", \"1062\", \"1064\", \"1066\", \"1068\", \"1070\", \"1072\", \"1074\", \"1076\", \"1078\", \"1080\", \"1082\", \"1084\", \"1086\", \"1088\", \"1090\", \"1092\", \"1094\", \"1096\", \"1098\", \"1100\", \"1102\", \"1104\", \"1106\", \"1108\", \"1110\", \"1112\", \"1114\", \"1116\", \"1118\", \"1120\", \"1122\", \"1124\", \"1126\", \"1128\", \"1130\", \"1132\", \"1134\", \"1136\", \"1138\", \"1140\", \"1142\", \"1144\", \"1146\", \"1148\", \"1150\", \"1152\", \"1154\", \"1156\", \"1158\", \"1160\", \"1162\", \"1164\", \"1166\", \"1168\", \"1170\", \"1172\", \"1174\", \"1176\", \"1178\", \"1180\", \"1182\", \"1184\", \"1186\", \"1188\", \"1190\", \"1192\", \"1194\", \"1196\", \"1198\", \"1200\", \"1202\", \"1204\", \"1206\", \"1208\", \"1210\", \"1212\", \"1214\", \"1216\", \"1218\", \"1220\", \"1222\", \"1224\", \"1226\", \"1228\", \"1230\", \"1232\", \"1234\", \"1236\", \"1238\", \"1240\", \"1242\", \"1244\", \"1246\", \"1248\", \"1250\", \"1252\", \"1254\", \"1256\", \"1258\", \"1260\", \"1262\", \"1264\", \"1266\", \"1268\", \"1270\", \"1272\", \"1274\", \"1276\", \"1278\", \"1280\", \"1282\", \"1284\", \"1286\", \"1288\", \"1290\", \"1292\", \"1294\", \"1296\", \"1298\", \"1300\", \"1302\", \"1304\", \"1306\", \"1308\", \"1310\", \"1312\", \"1314\", \"1316\", \"1318\", \"1320\", \"1322\", \"1324\", \"1326\", \"1328\", \"1330\", \"1332\", \"1334\", \"1336\", \"1338\", \"1340\", \"1342\", \"1344\", \"1346\", \"1348\", \"1350\", \"1352\", \"1354\", \"1356\", \"1358\", \"1360\", \"1362\", \"1364\", \"1366\", \"1368\", \"1370\", \"1372\", \"1374\", \"1376\", \"1378\", \"1380\", \"1382\", \"1384\", \"1386\", \"1388\", \"1390\", \"1392\", \"1394\", \"1396\", \"1398\", \"1400\", \"1402\", \"1404\", \"1406\", \"1408\", \"1410\", \"1412\", \"1414\", \"1416\", \"1418\", \"1420\", \"1422\", \"1424\", \"1426\", \"1428\", \"1430\", \"1432\", \"1434\", \"1436\", \"1438\", \"1440\", \"1442\", \"1444\", \"1446\", \"1448\", \"1450\", \"1452\", \"1454\", \"1456\", \"1458\", \"1460\", \"1462\", \"1464\", \"1466\", \"1468\", \"1470\", \"1472\", \"1474\", \"1476\", \"1478\", \"1480\", \"1482\", \"1484\", \"1486\", \"1488\", \"1490\", \"1492\", \"1494\", \"1496\", \"1498\", \"1500\", \"1502\", \"1504\", \"1506\", \"1508\", \"1510\", \"1512\", \"1514\", \"1516\", \"1518\", \"1520\", \"1522\", \"1524\", \"1526\", \"1528\", \"1530\", \"1532\", \"1534\", \"1536\", \"1538\", \"1540\", \"1542\", \"1544\", \"1546\", \"1548\", \"1550\", \"1552\", \"1554\", \"1556\", \"1558\", \"1560\", \"1562\", \"1564\", \"1566\", \"1568\", \"1570\", \"1572\", \"1574\", \"1576\", \"1578\", \"1580\", \"1582\", \"1584\", \"1586\", \"1588\", \"1590\", \"1592\", \"1594\", \"1596\", \"1598\", \"1600\", \"1602\", \"1604\", \"1606\", \"1608\", \"1610\", \"1612\", \"1614\", \"1616\", \"1618\", \"1620\", \"1622\", \"1624\", \"1626\", \"1628\", \"1630\", \"1632\", \"1634\", \"1636\", \"1638\", \"1640\", \"1642\", \"1644\", \"1646\", \"1648\", \"1650\", \"1652\", \"1654\", \"1656\", \"1658\", \"1660\", \"1662\", \"1664\", \"1666\", \"1668\", \"1670\", \"1672\", \"1674\", \"1676\", \"1678\", \"1680\", \"1682\", \"1684\", \"1686\", \"1688\", \"1690\", \"1692\", \"1694\", \"1696\", \"1698\", \"1700\", \"1702\", \"1704\", \"1706\", \"1708\", \"1710\", \"1712\", \"1714\", \"1716\", \"1718\", \"1720\", \"1722\", \"1724\", \"1726\", \"1728\", \"1730\", \"1732\", \"1734\", \"1736\", \"1738\", \"1740\", \"1742\", \"1744\", \"1746\", \"1748\", \"1750\", \"1752\", \"1754\", \"1756\", \"1758\", \"1760\", \"1762\", \"1764\", \"1766\", \"1768\", \"1770\", \"1772\", \"1774\", \"1776\", \"1778\", \"1780\", \"1782\", \"1784\", \"1786\", \"1788\", \"1790\", \"1792\", \"1794\", \"1796\", \"1798\", \"1800\", \"1802\", \"1804\", \"1806\", \"1808\", \"1810\", \"1812\", \"1814\", \"1816\", \"1818\", \"1820\", \"1822\", \"1824\", \"1826\", \"1828\", \"1830\", \"1832\", \"1834\", \"1836\", \"1838\", \"1840\", \"1842\", \"1844\", \"1846\", \"1848\", \"1850\", \"1852\", \"1854\", \"1856\", \"1858\", \"1860\", \"1862\", \"1864\", \"1866\", \"1868\", \"1870\", \"1872\", \"1874\", \"1876\", \"1878\", \"1880\", \"1882\", \"1884\", \"1886\", \"1888\", \"1890\", \"1892\", \"1894\", \"1896\", \"1898\", \"1900\", \"1902\", \"1904\", \"1906\", \"1908\", \"1910\", \"1912\", \"1914\", \"1916\", \"1918\", \"1920\", \"1922\", \"1924\", \"1926\", \"1928\", \"1930\", \"1932\", \"1934\", \"1936\", \"1938\", \"1940\", \"1942\", \"1944\", \"1946\", \"1948\", \"1950\", \"1952\", \"1954\", \"1956\", \"1958\", \"1960\", \"1962\", \"1964\", \"1966\", \"1968\", \"1970\", \"1972\", \"1974\", \"1976\", \"1978\", \"1980\", \"1982\", \"1984\", \"1986\", \"1988\", \"1990\", \"1992\", \"1994\", \"1996\", \"1998\", \"2000\", \"2002\", \"2004\", \"2006\", \"2008\", \"2010\", \"2012\", \"2014\", \"2016\", \"2018\", \"2020\", \"2022\", \"2024\", \"2026\", \"2028\", \"2030\", \"2032\", \"2034\", \"2036\", \"2038\", \"2040\", \"2042\", \"2044\", \"2046\", \"2048\", \"2050\", \"2052\", \"2054\", \"2056\", \"2058\", \"2060\", \"2062\", \"2064\", \"2066\", \"2068\", \"2070\", \"2072\", \"2074\", \"2076\", \"2078\", \"2080\", \"2082\", \"2084\", \"2086\", \"2088\", \"2090\", \"2092\", \"2094\", \"2096\", \"2098\", \"2100\", \"2102\", \"2104\", \"2106\", \"2108\", \"2110\", \"2112\", \"2114\", \"2116\", \"2118\", \"2120\", \"2122\", \"2124\", \"2126\", \"2128\", \"2130\", \"2132\", \"2134\", \"2136\", \"2138\", \"2140\", \"2142\", \"2144\", \"2146\", \"2148\", \"2150\", \"2152\", \"2154\", \"2156\", \"2158\", \"2160\", \"2162\", \"2164\", \"2166\", \"2168\", \"2170\", \"2172\", \"2174\", \"2176\", \"2178\", \"2180\", \"2182\", \"2184\", \"2186\", \"2188\", \"2190\", \"2192\", \"2194\", \"2196\", \"2198\", \"2200\", \"2202\", \"2204\", \"2206\", \"2208\", \"2210\", \"2212\", \"2214\", \"2216\", \"2218\", \"2220\", \"2222\", \"2224\", \"2226\", \"2228\", \"2230\", \"2232\", \"2234\", \"2236\", \"2238\", \"2240\", \"2242\", \"2244\", \"2246\", \"2248\", \"2250\", \"2252\", \"2254\", \"2256\", \"2258\", \"2260\", \"2262\", \"2264\", \"2266\", \"2268\", \"2270\", \"2272\", \"2274\", \"2276\", \"2278\", \"2280\", \"2282\", \"2284\", \"2286\", \"2288\", \"2290\", \"2292\", \"2294\", \"2296\", \"2298\", \"2300\", \"2302\", \"2304\", \"2306\", \"2308\", \"2310\", \"2312\", \"2314\", \"2316\", \"2318\", \"2320\", \"2322\", \"2324\", \"2326\", \"2328\", \"2330\", \"2332\", \"2334\", \"2336\", \"2338\", \"2340\", \"2342\", \"2344\", \"2346\", \"2348\", \"2350\", \"2352\", \"2354\", \"2356\", \"2358\", \"2360\", \"2362\", \"2364\", \"2366\", \"2368\", \"2370\", \"2372\", \"2374\", \"2376\", \"2378\", \"2380\", \"2382\", \"2384\", \"2386\", \"2388\", \"2390\", \"2392\", \"2394\", \"2396\", \"2398\", \"2400\", \"2402\", \"2404\", \"2406\", \"2408\", \"2410\", \"2412\", \"2414\", \"2416\", \"2418\", \"2420\", \"2422\", \"2424\", \"2426\", \"2428\", \"2430\", \"2432\", \"2434\", \"2436\", \"2438\", \"2440\", \"2442\", \"2444\", \"2446\", \"2448\", \"2450\", \"2452\", \"2454\", \"2456\", \"2458\", \"2460\", \"2462\", \"2464\", \"2466\", \"2468\", \"2470\", \"2472\", \"2474\", \"2476\", \"2478\", \"2480\", \"2482\", \"2484\", \"2486\", \"2488\", \"2490\", \"2492\", \"2494\", \"2496\", \"2498\", \"2500\", \"2502\", \"2504\", \"2506\", \"2508\", \"2510\", \"2512\", \"2514\", \"2516\", \"2518\", \"2520\", \"2522\", \"2524\", \"2526\", \"2528\", \"2530\", \"2532\", \"2534\", \"2536\", \"2538\", \"2540\", \"2542\", \"2544\", \"2546\", \"2548\", \"2550\", \"2552\", \"2554\", \"2556\", \"2558\", \"2560\", \"2562\", \"2564\", \"2566\", \"2568\", \"2570\", \"2572\", \"2574\", \"2576\", \"2578\", \"2580\", \"2582\", \"2584\", \"2586\", \"2588\", \"2590\", \"2592\", \"2594\", \"2596\", \"2598\", \"2600\", \"2602\", \"2604\", \"2606\", \"2608\", \"2610\", \"2612\", \"2614\", \"2616\", \"2618\", \"2620\", \"2622\", \"2624\", \"2626\", \"2628\", \"2630\", \"2632\", \"2634\", \"2636\", \"2638\", \"2640\", \"2642\", \"2644\", \"2646\", \"2648\", \"2650\", \"2652\", \"2654\", \"2656\", \"2658\", \"2660\", \"2662\", \"2664\", \"2666\", \"2668\", \"2670\", \"2672\", \"2674\", \"2676\", \"2678\", \"2680\", \"2682\", \"2684\", \"2686\", \"2688\", \"2690\", \"2692\", \"2694\", \"2696\", \"2698\", \"2700\", \"2702\", \"2704\", \"2706\", \"2708\", \"2710\", \"2712\", \"2714\", \"2716\", \"2718\", \"2720\", \"2722\", \"2724\", \"2726\", \"2728\", \"2730\", \"2732\", \"2734\", \"2736\", \"2738\", \"2740\", \"2742\", \"2744\", \"2746\", \"2748\", \"2750\", \"2752\", \"2754\", \"2756\", \"2758\", \"2760\", \"2762\", \"2764\", \"2766\", \"2768\", \"2770\", \"2772\", \"2774\", \"2776\", \"2778\", \"2780\", \"2782\", \"2784\", \"2786\", \"2788\", \"2790\", \"2792\", \"2794\", \"2796\", \"2798\", \"2800\", \"2802\", \"2804\", \"2806\", \"2808\", \"2810\", \"2812\", \"2814\", \"2816\", \"2818\", \"2820\", \"2822\", \"2824\", \"2826\", \"2828\", \"2830\", \"2832\", \"2834\", \"2836\", \"2838\", \"2840\", \"2842\", \"2844\", \"2846\", \"2848\", \"2850\", \"2852\", \"2854\", \"2856\", \"2858\", \"2860\", \"2862\", \"2864\", \"2866\", \"2868\", \"2870\", \"2872\", \"2874\", \"2876\", \"2878\", \"2880\", \"2882\", \"2884\", \"2886\", \"2888\", \"2890\", \"2892\", \"2894\", \"2896\", \"2898\", \"2900\", \"2902\", \"2904\", \"2906\", \"2908\", \"2910\", \"2912\", \"2914\", \"2916\", \"2918\", \"2920\", \"2922\", \"2924\", \"2926\", \"2928\", \"2930\", \"2932\", \"2934\", \"2936\", \"2938\", \"2940\", \"2942\", \"2944\", \"2946\", \"2948\", \"2950\", \"2952\", \"2954\", \"2956\", \"2958\", \"2960\", \"2962\", \"2964\", \"2966\", \"2968\", \"2970\", \"2972\", \"2974\", \"2976\", \"2978\", \"2980\", \"2982\", \"2984\", \"2986\", \"2988\", \"2990\", \"2992\", \"2994\", \"2996\", \"2998\", \"3000\", \"3002\", \"3004\", \"3006\", \"3008\", \"3010\", \"3012\", \"3014\", \"3016\", \"3018\", \"3020\", \"3022\", \"3024\", \"3026\", \"3028\", \"3030\", \"3032\", \"3034\", \"3036\", \"3038\", \"3040\", \"3042\", \"3044\", \"3046\", \"3048\", \"3050\", \"3052\", \"3054\", \"3056\", \"3058\", \"3060\", \"3062\", \"3064\", \"3066\", \"3068\", \"3070\", \"3072\", \"3074\", \"3076\", \"3078\", \"3080\", \"3082\", \"3084\", \"3086\", \"3088\", \"3090\", \"3092\", \"3094\", \"3096\", \"3098\", \"3100\", \"3102\", \"3104\", \"3106\", \"3108\", \"3110\", \"3112\", \"3114\", \"3116\", \"3118\", \"3120\", \"3122\", \"3124\", \"3126\", \"3128\", \"3130\", \"3132\", \"3134\", \"3136\", \"3138\", \"3140\", \"3142\", \"3144\", \"3146\", \"3148\", \"3150\", \"3152\", \"3154\", \"3156\", \"3158\", \"3160\", \"3162\", \"3164\", \"3166\", \"3168\", \"3170\", \"3172\", \"3174\", \"3176\", \"3178\", \"3180\", \"3182\", \"3184\", \"3186\", \"3188\", \"3190\", \"3192\", \"3194\", \"3196\", \"3198\", \"3200\", \"3202\", \"3204\", \"3206\", \"3208\", \"3210\", \"3212\", \"3214\", \"3216\", \"3218\", \"3220\", \"3222\", \"3224\", \"3226\", \"3228\", \"3230\", \"3232\", \"3234\", \"3236\", \"3238\", \"3240\", \"3242\", \"3244\", \"3246\", \"3248\", \"3250\", \"3252\", \"3254\", \"3256\", \"3258\", \"3260\", \"3262\", \"3264\", \"3266\", \"3268\", \"3270\", \"3272\", \"3274\", \"3276\", \"3278\", \"3280\", \"3282\", \"3284\", \"3286\", \"3288\", \"3290\", \"3292\", \"3294\", \"3296\", \"3298\", \"3300\", \"3302\", \"3304\", \"3306\", \"3308\", \"3310\", \"3312\", \"3314\", \"3316\", \"3318\", \"3320\", \"3322\", \"3324\", \"3326\", \"3328\", \"3330\", \"3332\", \"3334\", \"3336\", \"3338\", \"3340\", \"3342\", \"3344\", \"3346\", \"3348\", \"3350\", \"3352\", \"3354\", \"3356\", \"3358\", \"3360\", \"3362\", \"3364\", \"3366\", \"3368\", \"3370\", \"3372\", \"3374\", \"3376\", \"3378\", \"3380\", \"3382\", \"3384\", \"3386\", \"3388\", \"3390\", \"3392\", \"3394\", \"3396\", \"3398\", \"3400\", \"3402\", \"3404\", \"3406\", \"3408\", \"3410\", \"3412\", \"3414\", \"3416\", \"3418\", \"3420\", \"3422\", \"3424\", \"3426\", \"3428\", \"3430\", \"3432\", \"3434\", \"3436\", \"3438\", \"3440\", \"3442\", \"3444\", \"3446\", \"3448\", \"3450\", \"3452\", \"3454\", \"3456\", \"3458\", \"3460\", \"3462\", \"3464\", \"3466\", \"3468\", \"3470\", \"3472\", \"3474\", \"3476\", \"3478\", \"3480\", \"3482\", \"3484\", \"3486\", \"3488\", \"3490\", \"3492\", \"3494\", \"3496\", \"3498\", \"3500\", \"3502\", \"3504\", \"3506\", \"3508\", \"3510\", \"3512\", \"3514\", \"3516\", \"3518\", \"3520\", \"3522\", \"3524\", \"3526\", \"3528\", \"3530\", \"3532\", \"3534\", \"3536\", \"3538\", \"3540\", \"3542\", \"3544\", \"3546\", \"3548\", \"3550\", \"3552\", \"3554\", \"3556\", \"3558\", \"3560\", \"3562\", \"3564\", \"3566\", \"3568\", \"3570\", \"3572\", \"3574\", \"3576\", \"3578\", \"3580\", \"3582\", \"3584\", \"3586\", \"3588\", \"3590\", \"3592\", \"3594\", \"3596\", \"3598\", \"3600\", \"3602\", \"3604\", \"3606\", \"3608\", \"3610\", \"3612\", \"3614\", \"3616\", \"3618\", \"3620\", \"3622\", \"3624\", \"3626\", \"3628\", \"3630\", \"3632\", \"3634\", \"3636\", \"3638\", \"3640\", \"3642\", \"3644\", \"3646\", \"3648\", \"3650\", \"3652\", \"3654\", \"3656\", \"3658\", \"3660\", \"3662\", \"3664\", \"3666\", \"3668\", \"3670\", \"3672\", \"3674\", \"3676\", \"3678\", \"3680\", \"3682\", \"3684\", \"3686\", \"3688\", \"3690\", \"3692\", \"3694\", \"3696\", \"3698\", \"3700\", \"3702\", \"3704\", \"3706\", \"3708\", \"3710\", \"3712\", \"3714\", \"3716\", \"3718\", \"3720\", \"3722\", \"3724\", \"3726\", \"3728\", \"3730\", \"3732\", \"3734\", \"3736\", \"3738\", \"3740\", \"3742\", \"3744\", \"3746\", \"3748\", \"3750\", \"3752\", \"3754\", \"3756\", \"3758\", \"3760\", \"3762\", \"3764\", \"3766\", \"3768\", \"3770\", \"3772\", \"3774\", \"3776\", \"3778\", \"3780\", \"3782\", \"3784\", \"3786\", \"3788\", \"3790\", \"3792\", \"3794\", \"3796\", \"3798\", \"3800\", \"3802\", \"3804\", \"3806\", \"3808\", \"3810\", \"3812\", \"3814\", \"3816\", \"3818\", \"3820\", \"3822\", \"3824\", \"3826\", \"3828\", \"3830\", \"3832\", \"3834\", \"3836\", \"3838\", \"3840\", \"3842\", \"3844\", \"3846\", \"3848\", \"3850\", \"3852\", \"3854\", \"3856\", \"3858\", \"3860\", \"3862\", \"3864\", \"3866\", \"3868\", \"3870\", \"3872\", \"3874\", \"3876\", \"3878\", \"3880\", \"3882\", \"3884\", \"3886\", \"3888\", \"3890\", \"3892\", \"3894\", \"3896\", \"3898\", \"3900\", \"3902\", \"3904\", \"3906\", \"3908\", \"3910\", \"3912\", \"3914\", \"3916\", \"3918\", \"3920\", \"3922\", \"3924\", \"3926\", \"3928\", \"3930\", \"3932\", \"3934\", \"3936\", \"3938\", \"3940\", \"3942\", \"3944\", \"3946\", \"3948\", \"3950\", \"3952\", \"3954\", \"3956\", \"3958\", \"3960\", \"3962\", \"3964\", \"3966\", \"3968\", \"3970\", \"3972\", \"3974\", \"3976\", \"3978\", \"3980\", \"3982\", \"3984\", \"3986\", \"3988\", \"3990\", \"3992\", \"3994\", \"3996\", \"3998\", \"4000\"], \"y\": [0.015998075050535035, 0.016134402916325705, 0.016270730782116372, 0.016441140614354713, 0.016645632413040717, 0.01681604224527905, 0.01705461601041272, 0.017293189775546395, 0.017531763540680062, 0.017804419272261406, 0.018111156970290407, 0.018417894668319414, 0.01875871433279609, 0.01909953399727276, 0.0194744356281971, 0.01988341922556911, 0.020292402822941116, 0.020701386420313123, 0.02111037001768513, 0.021553435581504802, 0.02196241917887681, 0.02237140277624882, 0.022780386373620832, 0.02318936997099284, 0.023564271601917177, 0.023871009299946185, 0.02417774699797519, 0.024450402729556526, 0.024654894528242533, 0.024791222394033197, 0.0248934682933762, 0.024961632226271534, 0.024961632226271534, 0.0248934682933762, 0.02482530436048087, 0.024688976494690196, 0.02455264862889953, 0.024382238796661192, 0.02417774699797519, 0.023973255199289185, 0.02376876340060318, 0.023564271601917177, 0.02339386176967884, 0.02318936997099284, 0.023018960138754506, 0.02284855030651617, 0.02271222244072549, 0.022575894574934825, 0.022473648675591824, 0.022405484742696487, 0.022337320809801157, 0.022303238843353484, 0.02226915687690582, 0.02226915687690582, 0.022303238843353484, 0.022337320809801157, 0.022405484742696487, 0.02250773064203949, 0.022609976541382498, 0.02274630440717316, 0.022882632272963832, 0.023087124071649832, 0.023257533903888173, 0.02349610766902184, 0.023734681434155514, 0.023973255199289185, 0.024245910930870525, 0.02455264862889953, 0.0248934682933762, 0.025234287957852878, 0.025575107622329552, 0.025984091219701553, 0.026393074817073564, 0.026802058414445572, 0.02724512397826525, 0.02768818954208492, 0.028165337072352265, 0.02864248460261961, 0.02911963213288695, 0.029596779663154296, 0.0301080091598693, 0.03058515669013664, 0.03102822225395632, 0.031471287817776, 0.03191435338159567, 0.03228925501252001, 0.032668928118747026, 0.03299679663597359, 0.03328683417044324, 0.03353904072215598, 0.033753416291111796, 0.03393200579529757, 0.03407889907068702, 0.034197504313924904, 0.03429361545930733, 0.034372685621465913, 0.03444050873469678, 0.034502537913631524, 0.03456456709256628, 0.03463170856646818, 0.03470805217131097, 0.03479768774306832, 0.034904705117714, 0.03503114921323485, 0.03518008740661115, 0.0353532237961653, 0.03555226248021968, 0.03577822591776772, 0.03603281820713179, 0.036316380167976385, 0.03662993425929492, 0.03697416212041636, 0.03734940457100518, 0.03775702488971928, 0.03819702307655866, 0.03867008077085229, 0.03917722043159357, 0.03971912369811149, 0.040296472209734965, 0.04091028842545746, 0.04156159480427238, 0.04225141380517317, 0.042981108706817726, 0.043751361148535006, 0.044563875228647395, 0.045419673406148324, 0.04631943732036674, 0.047265211889289505, 0.04825699711291663, 0.04929649708957048, 0.050383370999586584, 0.051517959662629426, 0.05269992225903453, 0.053927895510143986, 0.055200516137299885, 0.05651471676352193, 0.0578667483725009, 0.05925149866926962, 0.060662492080203044, 0.062091548933353745, 0.0635298079174453, 0.06496670362287896, 0.0663906481810625, 0.06778869044474581, 0.06914856090600772, 0.07045730841759816, 0.07170436756991828, 0.07287951377303385, 0.07397593063365532, 0.07498918749614446, 0.07591826190150788, 0.07676656204639032, 0.07753988186508788, 0.07824776430820594, 0.07890213806400116, 0.07951731755838155, 0.08010795803691963, 0.08069041884351026, 0.08127969604339043, 0.0818907857017971, 0.0825380022446383, 0.08323361517983519, 0.08398955319564447, 0.08481570006233591, 0.08572057627152148, 0.08671133903615517, 0.08779412311019756, 0.08897438160828026, 0.09025620436637705, 0.09164299958113263, 0.09313681217053388, 0.09473968705256768, 0.09645196504689849, 0.09827466861251972, 0.10020677529043799, 0.10224658098233089, 0.10439169995054705, 0.10663906481810624, 0.10898492656869918, 0.11142383208769426, 0.11395066908012433, 0.1165603252510222, 0.11924666584642732, 0.12200526021070153, 0.12483167768820659, 0.1277242141806201, 0.1306828696879421, 0.1337100299478239, 0.13681182971422612, 0.13999747111808958, 0.14327820120834206, 0.1466700385092139, 0.15019002400392897, 0.15385860687235586, 0.15769759957302112, 0.16172881456445123, 0.16597679086248848, 0.17046436338465282, 0.17521538950745766, 0.1802537266074163, 0.1856015279627198, 0.1912819693105525, 0.19731549983078303, 0.20372359116227345, 0.2105256700258989, 0.21773979986387662, 0.22538268083976604, 0.23346862737947513, 0.24200956817126051, 0.2510143645263987, 0.26048676546119887, 0.2704260893363321, 0.28082620139783776, 0.29167346885913686, 0.3029460792617028, 0.3146140404750617, 0.32663815823779874, 0.3389696953378937, 0.3515507124323856, 0.364315090506366, 0.37718989415163673, 0.3900970756650329, 0.4029562016057378, 0.415686838532935, 0.42821196120245264, 0.44046136076340875, 0.4523730080368685, 0.4638950984338314, 0.4749884376928826, 0.48562576024086407, 0.49579138837320974, 0.5054788465162947, 0.5146888163094478, 0.523424705949314, 0.5316885603538798, 0.5394759488675073, 0.5467725570642885, 0.553550437731736, 0.5597663067724616, 0.5653625656631686, 0.5702690055529747, 0.5744089420173728, 0.5777039865335333, 0.5800846118899029, 0.5814969685794943, 0.5819117461111624, 0.5813296261242362, 0.5797863946834858, 0.5773543055577803, 0.5741393536627718, 0.5702768444052577, 0.565925599748884, 0.5612604601815273, 0.5564627417646891, 0.5517130789205422, 0.5471852896779696, 0.5430402409186044, 0.5394217585408555, 0.5364545825419216, 0.5342436853784615, 0.5328729086879362, 0.5324053041082742, 0.5328858598351864, 0.5343404781631728, 0.5367793836821679, 0.5401981457365334, 0.5445797233430455, 0.5498965101088815, 0.5561137424282651, 0.5631918852201167, 0.5710903809443635, 0.5797703761592554, 0.5891998338163316, 0.599355237358743, 0.6102246580982331, 0.6218087776741307, 0.6341215696926794, 0.6471879139893861, 0.661040188432376, 0.6757145199060837, 0.6912432862786343, 0.7076489816478835, 0.7249370591284626, 0.7430870695405034, 0.7620478899343343, 0.7817302255578621, 0.8020014975616057, 0.822684479720037, 0.8435552535135951, 0.8643459346860011, 0.884751148817884, 0.9044358701790631, 0.9230500769741212, 0.9402444290469695, 0.9556893537820585, 0.9690934503662617, 0.9802232573294118, 0.9889172261505474, 0.9950949233888516, 0.9987607796999628, 0.9999999999999999, 0.9989673164166356, 0.9958689248468783, 0.9909457847935127, 0.9844501028082517, 0.9766262465905253, 0.9676957489222431, 0.9578443565205448, 0.9472158952838398, 0.9359115886524773, 0.9239948290840504, 0.9114986760860132, 0.8984367624449446, 0.884814882095141, 0.8706429188068721, 0.8559433666779931, 0.840758146527235, 0.8251496283531967, 0.8091999496950174, 0.7930065849767373, 0.7766738250156862, 0.760305278989865, 0.7439956947659983, 0.7278224384079223, 0.7118414043406109, 0.6960819030552097, 0.6805480243876918, 0.6652189783385245, 0.6500552298266283, 0.6350029293450161, 0.6200017518130753, 0.6049940987075095, 0.5899305511769696, 0.5747760047960143, 0.5595164859584002, 0.5441577885984233, 0.5287285415679, 0.5132747555215341, 0.49785982291691877, 0.4825559975229226, 0.4674416678623757, 0.45259556327777184, 0.4380923232756314, 0.42399840769052755, 0.41037039258676333, 0.3972536069797141, 0.3846800879178407, 0.3726689213023537, 0.36122692352654284, 0.35034966393476985, 0.3400221464617977, 0.33021983209178407, 0.32091068377626825, 0.31205721135215775, 0.30361715318105736, 0.29554654352624976, 0.2878007350116884, 0.2803364435399848, 0.27311413403005963, 0.2660987020564718, 0.2592615187674052, 0.25257940842567556, 0.24603635250705244, 0.23962212642160147, 0.23333229951368445, 0.22716584932430797, 0.22112584323045237, 0.21521671188775585, 0.209443226771521, 0.20381050017671498, 0.1983229627589761, 0.19298368189528453, 0.18779504332329167, 0.1827580695019909, 0.17787344207071124, 0.1731415018491171, 0.16856190801754403, 0.164135342215321, 0.15986214526211248, 0.1557429987972474, 0.15177960691904818, 0.14797231044717926, 0.14432315429962753, 0.14083247929605744, 0.13750096707579795, 0.13432929927817802, 0.13131645344420426, 0.12846174793454765, 0.12576416029021478, 0.12322164559321876, 0.12083215892557282, 0.11859297372996107, 0.11650102262940326, 0.11455357906658353, 0.11274723484485716, 0.11107824094791491, 0.10954250753978302, 0.10813662642381675, 0.10685616694437788, 0.10569601680649929, 0.10465174535454276, 0.10371721783454772, 0.10288732195154704, 0.10215524131225114, 0.10151415952337052, 0.10095691937195114, 0.10047670446470351, 0.10006567594934465, 0.099717017432585, 0.0994249349801285, 0.09918363465767902, 0.0989893674489273, 0.09884008843588654, 0.0987354567988922, 0.09867785827559564, 0.09867104188230609, 0.09872080155331969, 0.0988346353212549, 0.09902208613671706, 0.0992920153109826, 0.09965464743398579, 0.1001205479153254, 0.10069823724661335, 0.10139691755879054, 0.10222340524514648, 0.10318349423997725, 0.10428059273992767, 0.10551572320399114, 0.10688786317317421, 0.10839258199183872, 0.1100220408077017, 0.1117649925718354, 0.11360610039933837, 0.11552491511034205, 0.11749792014799752, 0.11949580502115979, 0.12148482858304566, 0.12342750067056268, 0.1252815596453158, 0.12700372140991642, 0.12854797530966025, 0.12986865150950735, 0.13092212509240472, 0.13166988343626657, 0.13207784457464514, 0.13212146949169817, 0.13178542130252413, 0.13106458771215598, 0.1299657851138832, 0.1285060544909296, 0.1267133430557823, 0.12462241441421791, 0.12227518938496706, 0.11971767862273411, 0.11699725606088127, 0.11416095481310641, 0.11125444471444933, 0.10831964658364071, 0.10539439140343743, 0.10251173868129373, 0.09969929481003222, 0.0969805763465018, 0.0943739875525842, 0.09189418367385194, 0.08955173011990375, 0.08735378410369368, 0.08530579873985336, 0.08341015976603411, 0.0816672080019004, 0.0800762618081233, 0.07863493544705144, 0.07734050236136904, 0.07618819107577342, 0.0751728892952974, 0.07428846226598043, 0.07352843441419746, 0.072884626068001, 0.0723485167357792, 0.07191090428659117, 0.07156156413050258, 0.07128890839892123, 0.0710820308625839, 0.07092832119390491, 0.0708158507046276, 0.07073269070649531, 0.07066657169158683, 0.0706069282503034, 0.07054251333371732, 0.07046446563055216, 0.07036460546886049, 0.07023577563568831, 0.07007150055741056, 0.06986734957838903, 0.06961821040365658, 0.06932135647589739, 0.06897303877880225, 0.06857087157471976, 0.06811178748666968, 0.0675930599573362, 0.06701162160973899, 0.06636440506689778, 0.06564834295183229, 0.0648607087072267, 0.06399945741509414, 0.06306322579677673, 0.06205235467193892, 0.060968888958567585, 0.059815555213978515, 0.05859848819213232, 0.0573245042863185, 0.05600144234882007, 0.054638845330242325, 0.053246597000855114, 0.051834921950592736, 0.050413363130060534, 0.048991804309528326, 0.04757876598060805, 0.04618242781524711, 0.0448092653870706, 0.043465413450039084, 0.042155643479455225, 0.04088370449162828, 0.039653004683203014, 0.038464907332837334, 0.037321457358518086, 0.0362226547602453, 0.035168840357683424, 0.03415967333116799, 0.0331937904020411, 0.032255173046072345, 0.03140312388488066, 0.03055107472368897, 0.02973310752894496, 0.02898330426709628, 0.028233501005247602, 0.027551861676294254, 0.02687022234734091, 0.026222664984835227, 0.025643271555224882, 0.025029796159166874, 0.024484484696004193, 0.023939173232841518, 0.02342794373612651, 0.02295079620585917, 0.022473648675591824, 0.022030583111772147, 0.021587517547952476, 0.021178533950580468, 0.02076955035320846, 0.02039464872228412, 0.02001974709135978, 0.019644845460435437, 0.019304025795958763, 0.01896320613148209, 0.018656468433453085, 0.01831564876897641, 0.018042993037395073, 0.017736255339366066, 0.01746359960778473, 0.017190943876203388, 0.016918288144622054, 0.016645632413040717, 0.016407058647907043, 0.016168484882773372, 0.0159299111176397, 0.015691337352506027, 0.015486845553820024, 0.015248271788686353, 0.01504377999000035, 0.014839288191314345, 0.014634796392628342, 0.014464386560390004, 0.014259894761704004, 0.014089484929465665, 0.013884993130779661, 0.013714583298541324, 0.013544173466302989, 0.013373763634064654, 0.013203353801826315, 0.01306702593603565, 0.01289661610379731, 0.01276028823800664, 0.012589878405768305, 0.012453550539977635, 0.012317222674186966, 0.012180894808396295, 0.012044566942605629, 0.011908239076814955, 0.01177191121102429, 0.01163558334523362, 0.011499255479442949, 0.011397009580099947, 0.01126068171430928, 0.011158435814966276, 0.01102210794917561, 0.010919862049832604, 0.010783534184041937, 0.010681288284698937, 0.010579042385355933, 0.010476796486012933, 0.010374550586669928, 0.010272304687326926, 0.010170058787983927, 0.010067812888640922, 0.009965566989297922, 0.009863321089954918, 0.009761075190611918, 0.009692911257716581, 0.009590665358373582, 0.00948841945903058, 0.009420255526135244, 0.009318009626792242, 0.009249845693896908, 0.009147599794553905, 0.009079435861658571, 0.00897718996231557, 0.008909026029420234, 0.008840862096524899, 0.008772698163629565, 0.008670452264286563, 0.00860228833139123, 0.008534124398495893, 0.00846596046560056, 0.008397796532705224, 0.00829555063336222, 0.008227386700466887, 0.008159222767571556, 0.00809105883467622, 0.008022894901780884, 0.007954730968885548, 0.007920649002437883, 0.007852485069542546, 0.007784321136647213, 0.0077161572037518795, 0.007647993270856544, 0.007579829337961211, 0.007545747371513542, 0.007477583438618209, 0.007409419505722874, 0.0073412555728275385, 0.007307173606379872, 0.007239009673484537, 0.007170845740589201, 0.007136763774141535, 0.0070685998412461995, 0.007034517874798533, 0.006966353941903198, 0.006898190009007864, 0.006864108042560196, 0.0067959441096648605, 0.006761862143217194, 0.006727780176769527, 0.006659616243874192, 0.006625534277426525, 0.00655737034453119, 0.0065232883780835214, 0.006455124445188188, 0.0064210424787405195, 0.0063869605122928545, 0.006318796579397519, 0.006284714612949853, 0.006250632646502184, 0.006216550680054517, 0.006148386747159182, 0.0061143047807115155, 0.006080222814263849, 0.006046140847816182, 0.005977976914920845, 0.00594389494847318, 0.005909812982025512, 0.005875731015577845, 0.0058416490491301765, 0.005773485116234843, 0.0057394031497871745, 0.005705321183339508, 0.005671239216891839, 0.005637157250444173, 0.005603075283996506, 0.005568993317548837, 0.0055349113511011724, 0.005500829384653504, 0.0054667474182058355, 0.0054326654517581705, 0.005398583485310502, 0.005364501518862835, 0.005330419552415169, 0.0052963375859675, 0.005262255619519833, 0.005228173653072165, 0.005194091686624498, 0.0051600097201768315, 0.005125927753729163, 0.005091845787281496, 0.005057763820833828, 0.005023681854386161, 0.004989599887938494, 0.004955517921490826, 0.004955517921490826, 0.004921435955043159, 0.0048873539885954925, 0.004853272022147826, 0.004819190055700157, 0.0047851080892524905, 0.0047851080892524905, 0.004751026122804824, 0.004716944156357155, 0.004682862189909489, 0.004648780223461822, 0.004648780223461822, 0.004614698257014153, 0.004580616290566487, 0.00454653432411882, 0.00454653432411882, 0.0045124523576711515, 0.004478370391223485, 0.004444288424775816, 0.004444288424775816, 0.00441020645832815, 0.004376124491880481, 0.004376124491880481, 0.004342042525432816, 0.004307960558985148, 0.004273878592537479, 0.004273878592537479, 0.004239796626089814, 0.004205714659642146, 0.004205714659642146, 0.004171632693194479, 0.004171632693194479, 0.004137550726746812, 0.004103468760299144, 0.004103468760299144, 0.004069386793851477, 0.00403530482740381, 0.00403530482740381, 0.004001222860956144, 0.004001222860956144, 0.003967140894508475, 0.003967140894508475, 0.0039330589280608085, 0.0038989769616131404, 0.0038989769616131404, 0.003864894995165473, 0.003864894995165473, 0.0038308130287178052, 0.0038308130287178052, 0.0037967310622701385, 0.0037967310622701385, 0.003762649095822471, 0.003762649095822471, 0.0037285671293748033, 0.0037285671293748033, 0.0036944851629271366, 0.0036944851629271366, 0.003660403196479469, 0.003660403196479469, 0.0036263212300318014, 0.0036263212300318014, 0.0035922392635841347, 0.0035922392635841347, 0.003558157297136468, 0.003558157297136468, 0.0035240753306887995, 0.0035240753306887995, 0.0034899933642411327, 0.0034899933642411327, 0.0034899933642411327, 0.003455911397793465, 0.003455911397793465, 0.0034218294313457984, 0.0034218294313457984, 0.0034218294313457984, 0.0033877474648981317, 0.0033877474648981317, 0.0033536654984504632, 0.0033536654984504632, 0.0033536654984504632, 0.0033195835320027956, 0.0033195835320027956, 0.003285501565555129, 0.003285501565555129, 0.003285501565555129, 0.0032514195991074613, 0.0032514195991074613, 0.0032514195991074613, 0.0032173376326597946, 0.0032173376326597946, 0.0032173376326597946, 0.003183255666212126, 0.003183255666212126, 0.003183255666212126, 0.0031491736997644594, 0.0031491736997644594, 0.0031491736997644594, 0.0031150917333167927, 0.0031150917333167927, 0.0031150917333167927, 0.003081009766869125, 0.003081009766869125, 0.003081009766869125, 0.003081009766869125, 0.0030469278004214583, 0.0030469278004214583, 0.0030469278004214583, 0.0030128458339737907, 0.0030128458339737907, 0.0030128458339737907, 0.0030128458339737907, 0.002978763867526123, 0.002978763867526123, 0.002978763867526123, 0.002978763867526123, 0.0029446819010784555, 0.0029446819010784555, 0.0029446819010784555, 0.0029446819010784555, 0.002910599934630789, 0.002910599934630789, 0.002910599934630789, 0.002910599934630789, 0.0028765179681831212, 0.0028765179681831212, 0.0028765179681831212, 0.0028765179681831212, 0.0028765179681831212, 0.0028424360017354536, 0.0028424360017354536, 0.0028424360017354536, 0.0028424360017354536, 0.0028424360017354536, 0.002808354035287786, 0.002808354035287786, 0.002808354035287786, 0.002808354035287786, 0.002808354035287786, 0.002808354035287786, 0.0027742720688401193, 0.0027742720688401193, 0.0027742720688401193, 0.0027742720688401193, 0.0027742720688401193, 0.0027742720688401193, 0.0027401901023924517, 0.0027401901023924517, 0.0027401901023924517, 0.0027401901023924517, 0.0027401901023924517, 0.0027401901023924517, 0.0027401901023924517, 0.0027401901023924517, 0.002706108135944785, 0.002706108135944785, 0.002706108135944785, 0.002706108135944785, 0.002706108135944785, 0.002706108135944785, 0.002706108135944785, 0.002706108135944785, 0.002706108135944785, 0.0026720261694971174, 0.0026720261694971174, 0.0026720261694971174, 0.0026720261694971174, 0.0026720261694971174, 0.0026720261694971174, 0.0026720261694971174, 0.0026720261694971174, 0.0026720261694971174, 0.0026720261694971174, 0.0026720261694971174, 0.0026720261694971174, 0.0026720261694971174, 0.0026720261694971174, 0.00263794420304945, 0.00263794420304945, 0.00263794420304945, 0.00263794420304945, 0.00263794420304945, 0.00263794420304945, 0.00263794420304945, 0.00263794420304945, 0.00263794420304945, 0.00263794420304945, 0.00263794420304945, 0.00263794420304945, 0.00263794420304945, 0.00263794420304945, 0.00263794420304945, 0.00263794420304945, 0.00263794420304945, 0.00263794420304945, 0.00263794420304945, 0.00263794420304945, 0.00263794420304945, 0.00263794420304945, 0.00263794420304945, 0.00263794420304945, 0.00263794420304945, 0.00263794420304945, 0.00263794420304945, 0.00263794420304945, 0.0026720261694971174, 0.0026720261694971174, 0.0026720261694971174, 0.0026720261694971174, 0.0026720261694971174, 0.0026720261694971174, 0.0026720261694971174, 0.0026720261694971174, 0.0026720261694971174, 0.0026720261694971174, 0.0026720261694971174, 0.0026720261694971174, 0.0026720261694971174, 0.0026720261694971174, 0.002706108135944785, 0.002706108135944785, 0.002706108135944785, 0.002706108135944785, 0.002706108135944785, 0.002706108135944785, 0.002706108135944785, 0.002706108135944785, 0.002706108135944785, 0.0027401901023924517, 0.0027401901023924517, 0.0027401901023924517, 0.0027401901023924517, 0.0027401901023924517, 0.0027401901023924517, 0.0027742720688401193, 0.0027742720688401193, 0.0027742720688401193, 0.0027742720688401193, 0.0027742720688401193, 0.0027742720688401193, 0.002808354035287786, 0.002808354035287786, 0.002808354035287786, 0.002808354035287786, 0.002808354035287786, 0.0028424360017354536, 0.0028424360017354536, 0.0028424360017354536, 0.0028424360017354536, 0.0028424360017354536, 0.0028765179681831212, 0.0028765179681831212, 0.0028765179681831212, 0.0028765179681831212, 0.002910599934630789, 0.002910599934630789, 0.002910599934630789, 0.002910599934630789, 0.0029446819010784555, 0.0029446819010784555, 0.0029446819010784555, 0.002978763867526123, 0.002978763867526123, 0.002978763867526123, 0.002978763867526123, 0.0030128458339737907, 0.0030128458339737907, 0.0030128458339737907, 0.0030469278004214583, 0.0030469278004214583, 0.0030469278004214583, 0.003081009766869125, 0.003081009766869125, 0.003081009766869125, 0.0031150917333167927, 0.0031150917333167927, 0.0031150917333167927, 0.0031491736997644594, 0.0031491736997644594, 0.003183255666212126, 0.003183255666212126, 0.003183255666212126, 0.0032173376326597946, 0.0032173376326597946, 0.0032514195991074613, 0.0032514195991074613, 0.003285501565555129, 0.003285501565555129, 0.003285501565555129, 0.0033195835320027956, 0.0033195835320027956, 0.0033536654984504632, 0.0033536654984504632, 0.0033877474648981317, 0.0033877474648981317, 0.0034218294313457984, 0.0034218294313457984, 0.003455911397793465, 0.003455911397793465, 0.0034899933642411327, 0.0034899933642411327, 0.0035240753306887995, 0.003558157297136468, 0.003558157297136468, 0.0035922392635841347, 0.0035922392635841347, 0.0036263212300318014, 0.003660403196479469, 0.003660403196479469, 0.0036944851629271366, 0.0036944851629271366, 0.0037285671293748033, 0.003762649095822471, 0.003762649095822471, 0.0037967310622701385, 0.0038308130287178052, 0.0038308130287178052, 0.003864894995165473, 0.0038989769616131404, 0.0039330589280608085, 0.0039330589280608085, 0.003967140894508475, 0.004001222860956144, 0.00403530482740381, 0.00403530482740381, 0.004069386793851477, 0.004103468760299144, 0.004137550726746812, 0.004171632693194479, 0.004171632693194479, 0.004205714659642146, 0.004239796626089814, 0.004273878592537479, 0.004307960558985148, 0.004342042525432816, 0.004376124491880481, 0.00441020645832815, 0.004444288424775816, 0.004478370391223485, 0.0045124523576711515, 0.0045124523576711515, 0.00454653432411882, 0.004614698257014153, 0.004648780223461822, 0.004682862189909489, 0.004716944156357155, 0.004751026122804824, 0.0047851080892524905, 0.004819190055700157, 0.004853272022147826, 0.0048873539885954925, 0.004921435955043159, 0.004989599887938494, 0.005023681854386161, 0.005057763820833828, 0.005091845787281496, 0.0051600097201768315, 0.005194091686624498, 0.005228173653072165, 0.005262255619519833, 0.005330419552415169, 0.005364501518862835, 0.0054326654517581705, 0.0054667474182058355, 0.005500829384653504, 0.005568993317548837, 0.005603075283996506, 0.005671239216891839, 0.005705321183339508, 0.005773485116234843, 0.00580756708268251, 0.005875731015577845, 0.00594389494847318, 0.005977976914920845, 0.006046140847816182, 0.0061143047807115155, 0.006148386747159182, 0.006216550680054517, 0.006284714612949853, 0.006352878545845186, 0.0064210424787405195, 0.006489206411635855, 0.0065232883780835214, 0.006591452310978857, 0.006659616243874192, 0.006727780176769527, 0.0067959441096648605, 0.006898190009007864, 0.006966353941903198, 0.007034517874798533, 0.007102681807693866, 0.007170845740589201, 0.007239009673484537, 0.0073412555728275385, 0.007409419505722874, 0.007511665405065876, 0.007579829337961211, 0.007647993270856544, 0.007750239170199546, 0.007852485069542546, 0.007920649002437883, 0.008022894901780884, 0.008125140801123885, 0.00819330473401922, 0.00829555063336222, 0.008397796532705224, 0.008500042432048226, 0.00860228833139123, 0.00870453423073423, 0.008806780130077232, 0.008909026029420234, 0.009011271928763236, 0.009147599794553905, 0.009249845693896908, 0.00935209159323991, 0.00948841945903058, 0.009590665358373582, 0.009726993224164248, 0.009863321089954918, 0.009999648955745588, 0.01010189485508859, 0.010238222720879257, 0.010374550586669928, 0.010510878452460598, 0.010681288284698937, 0.010817616150489602, 0.010953944016280272, 0.01112435384851861, 0.01126068171430928, 0.011431091546547615, 0.011567419412338284, 0.01173782924457662, 0.011908239076814955, 0.012078648909053294, 0.012249058741291629, 0.012453550539977635, 0.01262396037221597, 0.012828452170901974, 0.01299886200314031, 0.013203353801826315, 0.01340784560051232, 0.01361233739919832, 0.013816829197884328, 0.014055402963018, 0.014259894761704004, 0.014498468526837671, 0.014702960325523675, 0.014941534090657349, 0.015214189822238686, 0.01545276358737236, 0.015691337352506027, 0.015963993084087368, 0.016236648815668706, 0.016509304547250046, 0.016781960278831384, 0.01708869797686039, 0.01739543567488939, 0.0177021733729184, 0.01800891107094741, 0.01831564876897641, 0.018656468433453085, 0.018997288097929756, 0.01933810776240643, 0.01971300939333077, 0.020087911024255115, 0.020462812655179456, 0.020837714286103794, 0.021246697883475805, 0.021655681480847812, 0.022098747044667483, 0.022541812608487154, 0.022984878172306832, 0.023462025702574177, 0.023939173232841518, 0.024416320763108863, 0.02492755025982387, 0.025472861722986545, 0.026018173186149227, 0.026563484649311898, 0.027142878078922242, 0.027756353474980257, 0.028369828871038266, 0.02901738623354395, 0.029664943596049625, 0.030346582925002977, 0.031062304220403982, 0.031812107482252674, 0.032561910744101356, 0.03334477351340427, 0.03416069579016143, 0.03500729183672148, 0.03588524329241339, 0.03679625425555953, 0.03774236964414678, 0.03872529355649751, 0.03974638927126962, 0.04080838334577893, 0.041912979878347835, 0.04306256460662765, 0.04425952326826973, 0.04550658242058988, 0.046806127801239425, 0.04816156760686315, 0.04957596921444135, 0.0510524000009543, 0.05259426816304676, 0.05420600435635695, 0.055891357597194095, 0.05765441772153194, 0.05950029702433759, 0.06143410780057824, 0.06346062152555652, 0.06558563213356858, 0.06781561519823945, 0.07015670547352973, 0.07261640099205788, 0.07520151814711344, 0.07791989579097938, 0.08078073605459658, 0.08379221860991246, 0.08696422722719685, 0.09030698649638408, 0.09383038018774391, 0.09754633698953308, 0.1014661039506793, 0.10560195057910372, 0.10996614638272753, 0.11457164250880081, 0.11943173092423816, 0.12455902195662523, 0.12996612593354767, 0.1356653123629266, 0.14166782829368976, 0.147983557496107, 0.15462033882246123, 0.16158430702671311, 0.16887784784651394, 0.17649993882287024, 0.18444478602148595, 0.19270250567209127, 0.20125707925045577, 0.2100870351177174, 0.2191647668810536, 0.22845789667233904, 0.23792995678747478, 0.24754073050605244, 0.257249319468335, 0.2670151661342495, 0.2768014619800327, 0.2865761699572237, 0.2963144102303157, 0.3059984601767559, 0.31561809520661005, 0.32516820302491084, 0.3346470795333361, 0.34405097571557647, 0.35337137108002004, 0.36259020218444954, 0.37167406870174635, 0.3805732109608968, 0.38921810175034754, 0.3975201279573348, 0.4053732946662063, 0.41265729253540173, 0.4192446550104069, 0.42500655225804956, 0.4298202891991181, 0.4335785076393024, 0.4361963434821477, 0.43761585738469305, 0.4378114878721026, 0.43678902887867266, 0.43458733384615333, 0.4312725217894532, 0.4269349099196586, 0.42168083397208617, 0.41562889918997387, 0.40890145983286885, 0.40162291507830505, 0.39391255180884927, 0.3858842037924367, 0.37764488840371313, 0.3692924208863833, 0.36091643681220464, 0.352597710441658, 0.34440781390428354, 0.3364097988380095, 0.32865546983183613, 0.32118708852415884, 0.31403601032410927, 0.30722200277222717, 0.3007539271797889, 0.2946314427271299, 0.2888439840046515, 0.28337451002912983, 0.2781998450633805, 0.2732937459932388, 0.2686279247865531, 0.264174093411172, 0.2599049862939372, 0.2557947011403485, 0.25181869893456366, 0.24795312230006922, 0.2441737730406874, 0.24045611214057586, 0.23677219238724748, 0.2330916808305639, 0.22938185878273532, 0.22560796263798508, 0.22173454715120772, 0.217727189536291, 0.2135545343841031, 0.20919136103947272, 0.20462028769951154, 0.19983177141361433, 0.1948275162801033, 0.18961876934790634, 0.18422597979689195, 0.1786774356592117, 0.17300790054064225, 0.1672565687025984, 0.16146399768515285, 0.15567074502837835, 0.14991532335436075, 0.14423351872787016, 0.13865668655803837, 0.13321175159835902, 0.12792018548769418, 0.1227990292092677, 0.11786089309066518, 0.11311395680383408, 0.10856265100441259, 0.10420902061038756, 0.10005204316276559, 0.09608865128456637, 0.09231441432015168, 0.08872353833522545, 0.08530988857582708, 0.08206562618967364, 0.07898359396381108, 0.07605595304595646, 0.07327520540349128, 0.07063351218413258, 0.06812371617492638, 0.06573797852358966, 0.0634698236564974, 0.06131277600002454, 0.059259678341217065, 0.057305418385107824, 0.05544386137773623, 0.05366989502413514, 0.051978066209672935, 0.050363944278711416, 0.04882309857561238, 0.04735109844473762, 0.045944194869777924, 0.04459897965408849, 0.043311703781360095, 0.04207895905494797, 0.0408980189175363, 0.03976615681180926, 0.03868064618045106, 0.03763876046614587, 0.03663845475090684, 0.0356776841167471, 0.034754062826015314, 0.033865886780389105, 0.03301111106188161, 0.03218700911317701, 0.03140312388488066, 0.03061923865658431, 0.029903517361183293, 0.029187796065782284, 0.028506156736828936, 0.02782451740787559, 0.027211042011817583, 0.02659756661575957, 0.025984091219701553, 0.025404697790091215, 0.024859386326928537, 0.02431407486376586, 0.023802845367050848, 0.023291615870335836, 0.022780386373620832, 0.022303238843353484, 0.021860173279533816, 0.02141710771571414, 0.020974042151894464, 0.020565058554522453, 0.020156074957150445, 0.019747091359778438, 0.019372189728854097, 0.018997288097929756, 0.018622386467005418, 0.018281566802528744, 0.01794074713805207, 0.0175999274735754, 0.017259107809098725, 0.01695237011106972, 0.016645632413040717, 0.01633889471501171, 0.01606623898343037, 0.015759501285401364, 0.015486845553820024, 0.015214189822238686, 0.014941534090657349, 0.014702960325523675, 0.014430304593942341, 0.014191730828808667, 0.013953157063674995, 0.013714583298541324, 0.01351009149985532, 0.013271517734721652, 0.01306702593603565, 0.012862534137349644, 0.012658042338663638, 0.012453550539977635, 0.012249058741291629, 0.012044566942605629, 0.011840075143919623, 0.011669665311681288, 0.011499255479442949, 0.011328845647204613, 0.01112435384851861, 0.010953944016280272, 0.010817616150489602, 0.010647206318251268, 0.010476796486012933, 0.010340468620222263, 0.010170058787983927, 0.010033730922193253, 0.009863321089954918, 0.009726993224164248, 0.009590665358373582, 0.009454337492582912, 0.009318009626792242, 0.009181681761001573, 0.009045353895210903, 0.0089431079958679, 0.008806780130077232, 0.008670452264286563, 0.008568206364943562, 0.008431878499152893, 0.008329632599809891, 0.008227386700466887, 0.00809105883467622, 0.007988812935333217, 0.007886567035990215, 0.007784321136647213, 0.007682075237304209, 0.007579829337961211, 0.007477583438618209, 0.007375337539275205, 0.007273091639932203, 0.007170845740589201, 0.007102681807693866, 0.007000435908350864, 0.006898190009007864, 0.006830026076112529, 0.006727780176769527, 0.006659616243874192, 0.00655737034453119, 0.006489206411635855, 0.0063869605122928545, 0.006318796579397519, 0.006250632646502184, 0.006148386747159182, 0.006080222814263849, 0.006012058881368514, 0.00594389494847318, 0.005875731015577845, 0.005773485116234843, 0.005705321183339508, 0.005637157250444173, 0.005568993317548837, 0.005500829384653504, 0.0054326654517581705, 0.005364501518862835, 0.005330419552415169, 0.005262255619519833, 0.005194091686624498, 0.005125927753729163, 0.005057763820833828, 0.005023681854386161, 0.004955517921490826, 0.0048873539885954925, 0.004819190055700157, 0.0047851080892524905, 0.004716944156357155, 0.004682862189909489, 0.004614698257014153, 0.00454653432411882, 0.0045124523576711515, 0.004444288424775816, 0.00441020645832815, 0.004342042525432816, 0.004307960558985148, 0.004239796626089814, 0.004205714659642146, 0.004171632693194479, 0.004103468760299144, 0.004069386793851477, 0.00403530482740381, 0.003967140894508475, 0.0039330589280608085, 0.0038989769616131404, 0.0038308130287178052, 0.0037967310622701385, 0.003762649095822471, 0.0037285671293748033, 0.003660403196479469, 0.0036263212300318014, 0.0035922392635841347, 0.003558157297136468, 0.0035240753306887995, 0.0034899933642411327, 0.003455911397793465, 0.0033877474648981317, 0.0033536654984504632, 0.0033195835320027956, 0.003285501565555129, 0.0032514195991074613, 0.0032173376326597946, 0.003183255666212126, 0.0031491736997644594, 0.0031150917333167927, 0.003081009766869125, 0.0030469278004214583, 0.0030128458339737907, 0.002978763867526123, 0.0029446819010784555, 0.002910599934630789, 0.0028765179681831212, 0.0028424360017354536, 0.0028424360017354536, 0.002808354035287786, 0.0027742720688401193, 0.0027401901023924517, 0.002706108135944785, 0.0026720261694971174, 0.00263794420304945, 0.00263794420304945, 0.002603862236601783, 0.0025697802701541155, 0.002535698303706448, 0.0025016163372587803, 0.0025016163372587803, 0.0024675343708111127, 0.002433452404363446, 0.0023993704379157792, 0.0023652884714681116, 0.0023652884714681116, 0.002331206505020444, 0.002297124538572777, 0.002297124538572777, 0.0022630425721251093, 0.0022289606056774425, 0.0021948786392297754, 0.0021948786392297754, 0.0021607966727821074, 0.00212671470633444, 0.00212671470633444, 0.0020926327398867726, 0.002058550773439106, 0.002058550773439106, 0.0020244688069914387, 0.0019903868405437707, 0.0019903868405437707, 0.0019563048740961035, 0.0019563048740961035, 0.0019222229076484368, 0.0019017737277798358, 0.0018813245479112357, 0.0018608753680426351, 0.0018404261881740346, 0.0018199770083054344, 0.001802936025081601, 0.001782486845213, 0.0017620376653444, 0.0017449966821205666, 0.001724547502251966, 0.0017075065190281322, 0.0016870573391595321, 0.0016700163559356979, 0.0016495671760670978, 0.0016325261928432644, 0.0016154852096194302, 0.0015984442263955968, 0.0015814032431717634, 0.00156436225994793, 0.0015473212767240958, 0.0015302802935002625, 0.0015132393102764287, 0.0014961983270525949, 0.001479157343828761, 0.0014621163606049277, 0.0014450753773810943, 0.0014314425908020269, 0.0014144016075781935, 0.0013973606243543597, 0.0013837278377752931, 0.0013666868545514589, 0.0013530540679723923, 0.001336013084748559, 0.0013223802981694919, 0.001305339314945658, 0.001291706528366591, 0.0012780737417875244, 0.0012644409552084574, 0.0012473999719846236, 0.0012337671854055566, 0.00122013439882649, 0.001206501612247423, 0.0011928688256683559, 0.0011792360390892888, 0.0011656032525102222, 0.0011519704659311552, 0.0011383376793520886, 0.0011247048927730211, 0.0011110721061939545, 0.0010974393196148875, 0.0010838065330358204, 0.0010735819431015206, 0.0010599491565224531, 0.0010463163699433865, 0.00103268358336432, 0.0010224589934300192, 0.0010088262068509526, 0.0009951934202718856, 0.0009849688303375853, 0.0009713360437585182, 0.0009611114538242184, 0.0009474786672451514, 0.0009372540773108511, 0.000923621290731784, 0.0009133967007974842, 0.0009031721108631839, 0.0008895393242841169, 0.0008793147343498166, 0.0008690901444155163, 0.0008554573578364497, 0.0008452327679021494, 0.0008350081779678492, 0.0008247835880335493, 0.0008145589980992486, 0.0008043344081649488, 0.0007907016215858817, 0.0007804770316515814, 0.0007702524417172812, 0.0007600278517829809, 0.000749803261848681, 0.0007395786719143808, 0.0007293540819800805, 0.0007191294920457802, 0.0007089049021114804, 0.0006986803121771796, 0.0006918639188876466, 0.0006816393289533463, 0.0006714147390190464, 0.0006611901490847457, 0.0006509655591504459, 0.0006407409692161456, 0.0006339245759266121, 0.0006236999859923118, 0.000613475396058012, 0.000606659002768478, 0.0005964344128341782, 0.0005862098228998779, 0.0005793934296103444, 0.0005691688396760441, 0.0005589442497417442, 0.0005521278564522107, 0.0005419032665179104, 0.0005350868732283769, 0.0005248622832940766, 0.0005180458900045431, 0.0005078213000702428, 0.0005010049067807098, 0.0004907803168464095, 0.00048396392355687596, 0.0004737393336225757, 0.0004669229403330424, 0.00046010654704350886, 0.0004498819571092086, 0.00044306556381967506, 0.000432840973885375, 0.00042602458059584126, 0.00041920818730630796, 0.00041239179401677466, 0.0004021672040824744, 0.00039535081079294086, 0.00038853441750340734, 0.00038171802421387404, 0.000371493434279574, 0.00036467704099004024, 0.0003578606477005067, 0.0003510442544109734, 0.0003442278611214401, 0.0003374114678319064, 0.0003271868778976063, 0.0003203704846080728, 0.0003135540913185395, 0.00030673769802900576, 0.00029992130473947246, 0.00029310491144993894, 0.00028628851816040564, 0.0002794721248708721, 0.0002726557315813386, 0.0002658393382918051, 0.0002590229450022718, 0.00025220655171273826, 0.0002453901584232045, 0.00023857376513367122, 0.00023175737184413792, 0.0002249409785546044, 0.0002181245852650711, 0.00021130819197553736, 0.0002078999953307706, 0.0002010836020412373, 0.00019426720875170378, 0.00018745081546217026, 0.00018063442217263674, 0.00017381802888310344, 0.00016700163559356992, 0.00016359343894880338, 0.00015677704565926964, 0.00014996065236973612, 0.00014314425908020282, 0.00013973606243543606, 0.00013291966914590276, 0.00012610327585636902, 0.00011928688256683572, 0.00011587868592206896, 0.00010906229263253544, 0.00010224589934300214, 9.883770269823538e-05, 9.202130940870164e-05, 8.520491611916834e-05, 8.179671947440158e-05, 7.498032618486828e-05, 6.816393289533476e-05, 6.475573625056778e-05, 5.793934296103448e-05, 5.112294967150118e-05, 4.771475302673442e-05, 4.08983597372009e-05, 3.7490163092434355e-05, 3.067376980290062e-05, 2.726557315813386e-05, 2.0449179868600557e-05, 1.3632786579067038e-05, 1.0224589934300496e-05, 3.4081966447667596e-06, 0.0]}],\n",
              "                        {\"template\": {\"data\": {\"bar\": [{\"error_x\": {\"color\": \"#2a3f5f\"}, \"error_y\": {\"color\": \"#2a3f5f\"}, \"marker\": {\"line\": {\"color\": \"#E5ECF6\", \"width\": 0.5}}, \"type\": \"bar\"}], \"barpolar\": [{\"marker\": {\"line\": {\"color\": \"#E5ECF6\", \"width\": 0.5}}, \"type\": \"barpolar\"}], \"carpet\": [{\"aaxis\": {\"endlinecolor\": \"#2a3f5f\", \"gridcolor\": \"white\", \"linecolor\": \"white\", \"minorgridcolor\": \"white\", \"startlinecolor\": \"#2a3f5f\"}, \"baxis\": {\"endlinecolor\": \"#2a3f5f\", \"gridcolor\": \"white\", \"linecolor\": \"white\", \"minorgridcolor\": \"white\", \"startlinecolor\": \"#2a3f5f\"}, \"type\": \"carpet\"}], \"choropleth\": [{\"colorbar\": {\"outlinewidth\": 0, \"ticks\": \"\"}, \"type\": \"choropleth\"}], \"contour\": [{\"colorbar\": {\"outlinewidth\": 0, \"ticks\": \"\"}, \"colorscale\": [[0.0, \"#0d0887\"], [0.1111111111111111, \"#46039f\"], [0.2222222222222222, \"#7201a8\"], [0.3333333333333333, \"#9c179e\"], [0.4444444444444444, \"#bd3786\"], [0.5555555555555556, \"#d8576b\"], [0.6666666666666666, \"#ed7953\"], [0.7777777777777778, \"#fb9f3a\"], [0.8888888888888888, \"#fdca26\"], [1.0, \"#f0f921\"]], \"type\": \"contour\"}], \"contourcarpet\": [{\"colorbar\": {\"outlinewidth\": 0, \"ticks\": \"\"}, \"type\": \"contourcarpet\"}], \"heatmap\": [{\"colorbar\": {\"outlinewidth\": 0, \"ticks\": \"\"}, \"colorscale\": [[0.0, \"#0d0887\"], [0.1111111111111111, \"#46039f\"], [0.2222222222222222, \"#7201a8\"], [0.3333333333333333, \"#9c179e\"], [0.4444444444444444, \"#bd3786\"], [0.5555555555555556, \"#d8576b\"], [0.6666666666666666, \"#ed7953\"], [0.7777777777777778, \"#fb9f3a\"], [0.8888888888888888, \"#fdca26\"], [1.0, \"#f0f921\"]], \"type\": \"heatmap\"}], \"heatmapgl\": [{\"colorbar\": {\"outlinewidth\": 0, \"ticks\": \"\"}, \"colorscale\": [[0.0, \"#0d0887\"], [0.1111111111111111, \"#46039f\"], [0.2222222222222222, \"#7201a8\"], [0.3333333333333333, \"#9c179e\"], [0.4444444444444444, \"#bd3786\"], [0.5555555555555556, \"#d8576b\"], [0.6666666666666666, \"#ed7953\"], [0.7777777777777778, \"#fb9f3a\"], [0.8888888888888888, \"#fdca26\"], [1.0, \"#f0f921\"]], \"type\": \"heatmapgl\"}], \"histogram\": [{\"marker\": {\"colorbar\": {\"outlinewidth\": 0, \"ticks\": \"\"}}, \"type\": \"histogram\"}], \"histogram2d\": [{\"colorbar\": {\"outlinewidth\": 0, \"ticks\": \"\"}, \"colorscale\": [[0.0, \"#0d0887\"], [0.1111111111111111, \"#46039f\"], [0.2222222222222222, \"#7201a8\"], [0.3333333333333333, \"#9c179e\"], [0.4444444444444444, \"#bd3786\"], [0.5555555555555556, \"#d8576b\"], [0.6666666666666666, \"#ed7953\"], [0.7777777777777778, \"#fb9f3a\"], [0.8888888888888888, \"#fdca26\"], [1.0, \"#f0f921\"]], \"type\": \"histogram2d\"}], \"histogram2dcontour\": [{\"colorbar\": {\"outlinewidth\": 0, \"ticks\": \"\"}, \"colorscale\": [[0.0, \"#0d0887\"], [0.1111111111111111, \"#46039f\"], [0.2222222222222222, \"#7201a8\"], [0.3333333333333333, \"#9c179e\"], [0.4444444444444444, \"#bd3786\"], [0.5555555555555556, \"#d8576b\"], [0.6666666666666666, \"#ed7953\"], [0.7777777777777778, \"#fb9f3a\"], [0.8888888888888888, \"#fdca26\"], [1.0, \"#f0f921\"]], \"type\": \"histogram2dcontour\"}], \"mesh3d\": [{\"colorbar\": {\"outlinewidth\": 0, \"ticks\": \"\"}, \"type\": \"mesh3d\"}], \"parcoords\": [{\"line\": {\"colorbar\": {\"outlinewidth\": 0, \"ticks\": \"\"}}, \"type\": \"parcoords\"}], \"pie\": [{\"automargin\": true, \"type\": \"pie\"}], \"scatter\": [{\"marker\": {\"colorbar\": {\"outlinewidth\": 0, \"ticks\": \"\"}}, \"type\": \"scatter\"}], \"scatter3d\": [{\"line\": {\"colorbar\": {\"outlinewidth\": 0, \"ticks\": \"\"}}, \"marker\": {\"colorbar\": {\"outlinewidth\": 0, \"ticks\": \"\"}}, \"type\": \"scatter3d\"}], \"scattercarpet\": [{\"marker\": {\"colorbar\": {\"outlinewidth\": 0, \"ticks\": \"\"}}, \"type\": \"scattercarpet\"}], \"scattergeo\": [{\"marker\": {\"colorbar\": {\"outlinewidth\": 0, \"ticks\": \"\"}}, \"type\": \"scattergeo\"}], \"scattergl\": [{\"marker\": {\"colorbar\": {\"outlinewidth\": 0, \"ticks\": \"\"}}, \"type\": \"scattergl\"}], \"scattermapbox\": [{\"marker\": {\"colorbar\": {\"outlinewidth\": 0, \"ticks\": \"\"}}, \"type\": \"scattermapbox\"}], \"scatterpolar\": [{\"marker\": {\"colorbar\": {\"outlinewidth\": 0, \"ticks\": \"\"}}, \"type\": \"scatterpolar\"}], \"scatterpolargl\": [{\"marker\": {\"colorbar\": {\"outlinewidth\": 0, \"ticks\": \"\"}}, \"type\": \"scatterpolargl\"}], \"scatterternary\": [{\"marker\": {\"colorbar\": {\"outlinewidth\": 0, \"ticks\": \"\"}}, \"type\": \"scatterternary\"}], \"surface\": [{\"colorbar\": {\"outlinewidth\": 0, \"ticks\": \"\"}, \"colorscale\": [[0.0, \"#0d0887\"], [0.1111111111111111, \"#46039f\"], [0.2222222222222222, \"#7201a8\"], [0.3333333333333333, \"#9c179e\"], [0.4444444444444444, \"#bd3786\"], [0.5555555555555556, \"#d8576b\"], [0.6666666666666666, \"#ed7953\"], [0.7777777777777778, \"#fb9f3a\"], [0.8888888888888888, \"#fdca26\"], [1.0, \"#f0f921\"]], \"type\": \"surface\"}], \"table\": [{\"cells\": {\"fill\": {\"color\": \"#EBF0F8\"}, \"line\": {\"color\": \"white\"}}, \"header\": {\"fill\": {\"color\": \"#C8D4E3\"}, \"line\": {\"color\": \"white\"}}, \"type\": \"table\"}]}, \"layout\": {\"annotationdefaults\": {\"arrowcolor\": \"#2a3f5f\", \"arrowhead\": 0, \"arrowwidth\": 1}, \"coloraxis\": {\"colorbar\": {\"outlinewidth\": 0, \"ticks\": \"\"}}, \"colorscale\": {\"diverging\": [[0, \"#8e0152\"], [0.1, \"#c51b7d\"], [0.2, \"#de77ae\"], [0.3, \"#f1b6da\"], [0.4, \"#fde0ef\"], [0.5, \"#f7f7f7\"], [0.6, \"#e6f5d0\"], [0.7, \"#b8e186\"], [0.8, \"#7fbc41\"], [0.9, \"#4d9221\"], [1, \"#276419\"]], \"sequential\": [[0.0, \"#0d0887\"], [0.1111111111111111, \"#46039f\"], [0.2222222222222222, \"#7201a8\"], [0.3333333333333333, \"#9c179e\"], [0.4444444444444444, \"#bd3786\"], [0.5555555555555556, \"#d8576b\"], [0.6666666666666666, \"#ed7953\"], [0.7777777777777778, \"#fb9f3a\"], [0.8888888888888888, \"#fdca26\"], [1.0, \"#f0f921\"]], \"sequentialminus\": [[0.0, \"#0d0887\"], [0.1111111111111111, \"#46039f\"], [0.2222222222222222, \"#7201a8\"], [0.3333333333333333, \"#9c179e\"], [0.4444444444444444, \"#bd3786\"], [0.5555555555555556, \"#d8576b\"], [0.6666666666666666, \"#ed7953\"], [0.7777777777777778, \"#fb9f3a\"], [0.8888888888888888, \"#fdca26\"], [1.0, \"#f0f921\"]]}, \"colorway\": [\"#636efa\", \"#EF553B\", \"#00cc96\", \"#ab63fa\", \"#FFA15A\", \"#19d3f3\", \"#FF6692\", \"#B6E880\", \"#FF97FF\", \"#FECB52\"], \"font\": {\"color\": \"#2a3f5f\"}, \"geo\": {\"bgcolor\": \"white\", \"lakecolor\": \"white\", \"landcolor\": \"#E5ECF6\", \"showlakes\": true, \"showland\": true, \"subunitcolor\": \"white\"}, \"hoverlabel\": {\"align\": \"left\"}, \"hovermode\": \"closest\", \"mapbox\": {\"style\": \"light\"}, \"paper_bgcolor\": \"white\", \"plot_bgcolor\": \"#E5ECF6\", \"polar\": {\"angularaxis\": {\"gridcolor\": \"white\", \"linecolor\": \"white\", \"ticks\": \"\"}, \"bgcolor\": \"#E5ECF6\", \"radialaxis\": {\"gridcolor\": \"white\", \"linecolor\": \"white\", \"ticks\": \"\"}}, \"scene\": {\"xaxis\": {\"backgroundcolor\": \"#E5ECF6\", \"gridcolor\": \"white\", \"gridwidth\": 2, \"linecolor\": \"white\", \"showbackground\": true, \"ticks\": \"\", \"zerolinecolor\": \"white\"}, \"yaxis\": {\"backgroundcolor\": \"#E5ECF6\", \"gridcolor\": \"white\", \"gridwidth\": 2, \"linecolor\": \"white\", \"showbackground\": true, \"ticks\": \"\", \"zerolinecolor\": \"white\"}, \"zaxis\": {\"backgroundcolor\": \"#E5ECF6\", \"gridcolor\": \"white\", \"gridwidth\": 2, \"linecolor\": \"white\", \"showbackground\": true, \"ticks\": \"\", \"zerolinecolor\": \"white\"}}, \"shapedefaults\": {\"line\": {\"color\": \"#2a3f5f\"}}, \"ternary\": {\"aaxis\": {\"gridcolor\": \"white\", \"linecolor\": \"white\", \"ticks\": \"\"}, \"baxis\": {\"gridcolor\": \"white\", \"linecolor\": \"white\", \"ticks\": \"\"}, \"bgcolor\": \"#E5ECF6\", \"caxis\": {\"gridcolor\": \"white\", \"linecolor\": \"white\", \"ticks\": \"\"}}, \"title\": {\"x\": 0.05}, \"xaxis\": {\"automargin\": true, \"gridcolor\": \"white\", \"linecolor\": \"white\", \"ticks\": \"\", \"title\": {\"standoff\": 15}, \"zerolinecolor\": \"white\", \"zerolinewidth\": 2}, \"yaxis\": {\"automargin\": true, \"gridcolor\": \"white\", \"linecolor\": \"white\", \"ticks\": \"\", \"title\": {\"standoff\": 15}, \"zerolinecolor\": \"white\", \"zerolinewidth\": 2}}}, \"title\": {\"text\": \"Intensities over frequency\", \"x\": 0.5}},\n",
              "                        {\"responsive\": true}\n",
              "                    ).then(function(){\n",
              "                            \n",
              "var gd = document.getElementById('578e11cf-7764-4b7d-964c-4504f15b13c7');\n",
              "var x = new MutationObserver(function (mutations, observer) {{\n",
              "        var display = window.getComputedStyle(gd).display;\n",
              "        if (!display || display === 'none') {{\n",
              "            console.log([gd, 'removed!']);\n",
              "            Plotly.purge(gd);\n",
              "            observer.disconnect();\n",
              "        }}\n",
              "}});\n",
              "\n",
              "// Listen for the removal of the full notebook cells\n",
              "var notebookContainer = gd.closest('#notebook-container');\n",
              "if (notebookContainer) {{\n",
              "    x.observe(notebookContainer, {childList: true});\n",
              "}}\n",
              "\n",
              "// Listen for the clearing of the current output cell\n",
              "var outputEl = gd.closest('.output');\n",
              "if (outputEl) {{\n",
              "    x.observe(outputEl, {childList: true});\n",
              "}}\n",
              "\n",
              "                        })\n",
              "                };\n",
              "                \n",
              "            </script>\n",
              "        </div>\n",
              "</body>\n",
              "</html>"
            ]
          },
          "metadata": {}
        }
      ]
    },
    {
      "cell_type": "code",
      "metadata": {
        "id": "yCxaTL27Du21"
      },
      "source": [
        "# set threshold value\n",
        "threshold=0.2"
      ],
      "execution_count": 10,
      "outputs": []
    },
    {
      "cell_type": "code",
      "metadata": {
        "id": "FdmRVO1UD0J7"
      },
      "source": [
        "# define a function to apply the threshold chosen above\n",
        "def applyThreshold (dataframe,i=3):\n",
        "  \"\"\"\n",
        "  i is the position of the start of the attributes\n",
        "  \"\"\"\n",
        "  dataframe.iloc[:,i:]=np.where((dataframe.iloc[:,i:]< threshold),0,dataframe.iloc[:,i:])"
      ],
      "execution_count": 11,
      "outputs": []
    },
    {
      "cell_type": "code",
      "metadata": {
        "id": "Y5RSTc9ZD21g"
      },
      "source": [
        "# use the function to apply the threshold to the training and test data\n",
        "applyThreshold(train)\n",
        "applyThreshold(test)"
      ],
      "execution_count": 12,
      "outputs": []
    },
    {
      "cell_type": "code",
      "metadata": {
        "colab": {
          "base_uri": "https://localhost:8080/",
          "height": 542
        },
        "id": "xkb8BYg-D5rN",
        "outputId": "b29e15c4-3bb7-4812-8c52-345822d49150"
      },
      "source": [
        "# change the index values below to pick molecules with and without a carbonyl\n",
        "idx_hasCarbonyl=1\n",
        "idx_notCarbonyl=0\n",
        "# get the data for the two molecules\n",
        "hasCarbonyl=train.set_index('name').iloc[idx_hasCarbonyl,3:] # picked\n",
        "notCarbonyl=train.set_index('name').iloc[idx_notCarbonyl,3:] # picked \n",
        "# plot the spectra\n",
        "fig = go.Figure()\n",
        "fig.add_trace(go.Scatter(x=hasCarbonyl.index, y=hasCarbonyl, name=hasCarbonyl.name,mode='markers'))\n",
        "fig.add_trace(go.Scatter(x=notCarbonyl.index, y=notCarbonyl,name=notCarbonyl.name,mode='markers'))\n",
        "fig.update_layout(title='Intensities over frequency',title_x=0.5)"
      ],
      "execution_count": 13,
      "outputs": [
        {
          "output_type": "display_data",
          "data": {
            "text/html": [
              "<html>\n",
              "<head><meta charset=\"utf-8\" /></head>\n",
              "<body>\n",
              "    <div>\n",
              "            <script src=\"https://cdnjs.cloudflare.com/ajax/libs/mathjax/2.7.5/MathJax.js?config=TeX-AMS-MML_SVG\"></script><script type=\"text/javascript\">if (window.MathJax) {MathJax.Hub.Config({SVG: {font: \"STIX-Web\"}});}</script>\n",
              "                <script type=\"text/javascript\">window.PlotlyConfig = {MathJaxConfig: 'local'};</script>\n",
              "        <script src=\"https://cdn.plot.ly/plotly-latest.min.js\"></script>    \n",
              "            <div id=\"9c0fb552-b252-4e84-8f18-346f5b46daa2\" class=\"plotly-graph-div\" style=\"height:525px; width:100%;\"></div>\n",
              "            <script type=\"text/javascript\">\n",
              "                \n",
              "                    window.PLOTLYENV=window.PLOTLYENV || {};\n",
              "                    \n",
              "                if (document.getElementById(\"9c0fb552-b252-4e84-8f18-346f5b46daa2\")) {\n",
              "                    Plotly.newPlot(\n",
              "                        '9c0fb552-b252-4e84-8f18-346f5b46daa2',\n",
              "                        [{\"mode\": \"markers\", \"name\": \"hexanal\", \"type\": \"scatter\", \"x\": [\"502\", \"504\", \"506\", \"508\", \"510\", \"512\", \"514\", \"516\", \"518\", \"520\", \"522\", \"524\", \"526\", \"528\", \"530\", \"532\", \"534\", \"536\", \"538\", \"540\", \"542\", \"544\", \"546\", \"548\", \"550\", \"552\", \"554\", \"556\", \"558\", \"560\", \"562\", \"564\", \"566\", \"568\", \"570\", \"572\", \"574\", \"576\", \"578\", \"580\", \"582\", \"584\", \"586\", \"588\", \"590\", \"592\", \"594\", \"596\", \"598\", \"600\", \"602\", \"604\", \"606\", \"608\", \"610\", \"612\", \"614\", \"616\", \"618\", \"620\", \"622\", \"624\", \"626\", \"628\", \"630\", \"632\", \"634\", \"636\", \"638\", \"640\", \"642\", \"644\", \"646\", \"648\", \"650\", \"652\", \"654\", \"656\", \"658\", \"660\", \"662\", \"664\", \"666\", \"668\", \"670\", \"672\", \"674\", \"676\", \"678\", \"680\", \"682\", \"684\", \"686\", \"688\", \"690\", \"692\", \"694\", \"696\", \"698\", \"700\", \"702\", \"704\", \"706\", \"708\", \"710\", \"712\", \"714\", \"716\", \"718\", \"720\", \"722\", \"724\", \"726\", \"728\", \"730\", \"732\", \"734\", \"736\", \"738\", \"740\", \"742\", \"744\", \"746\", \"748\", \"750\", \"752\", \"754\", \"756\", \"758\", \"760\", \"762\", \"764\", \"766\", \"768\", \"770\", \"772\", \"774\", \"776\", \"778\", \"780\", \"782\", \"784\", \"786\", \"788\", \"790\", \"792\", \"794\", \"796\", \"798\", \"800\", \"802\", \"804\", \"806\", \"808\", \"810\", \"812\", \"814\", \"816\", \"818\", \"820\", \"822\", \"824\", \"826\", \"828\", \"830\", \"832\", \"834\", \"836\", \"838\", \"840\", \"842\", \"844\", \"846\", \"848\", \"850\", \"852\", \"854\", \"856\", \"858\", \"860\", \"862\", \"864\", \"866\", \"868\", \"870\", \"872\", \"874\", \"876\", \"878\", \"880\", \"882\", \"884\", \"886\", \"888\", \"890\", \"892\", \"894\", \"896\", \"898\", \"900\", \"902\", \"904\", \"906\", \"908\", \"910\", \"912\", \"914\", \"916\", \"918\", \"920\", \"922\", \"924\", \"926\", \"928\", \"930\", \"932\", \"934\", \"936\", \"938\", \"940\", \"942\", \"944\", \"946\", \"948\", \"950\", \"952\", \"954\", \"956\", \"958\", \"960\", \"962\", \"964\", \"966\", \"968\", \"970\", \"972\", \"974\", \"976\", \"978\", \"980\", \"982\", \"984\", \"986\", \"988\", \"990\", \"992\", \"994\", \"996\", \"998\", \"1000\", \"1002\", \"1004\", \"1006\", \"1008\", \"1010\", \"1012\", \"1014\", \"1016\", \"1018\", \"1020\", \"1022\", \"1024\", \"1026\", \"1028\", \"1030\", \"1032\", \"1034\", \"1036\", \"1038\", \"1040\", \"1042\", \"1044\", \"1046\", \"1048\", \"1050\", \"1052\", \"1054\", \"1056\", \"1058\", \"1060\", \"1062\", \"1064\", \"1066\", \"1068\", \"1070\", \"1072\", \"1074\", \"1076\", \"1078\", \"1080\", \"1082\", \"1084\", \"1086\", \"1088\", \"1090\", \"1092\", \"1094\", \"1096\", \"1098\", \"1100\", \"1102\", \"1104\", \"1106\", \"1108\", \"1110\", \"1112\", \"1114\", \"1116\", \"1118\", \"1120\", \"1122\", \"1124\", \"1126\", \"1128\", \"1130\", \"1132\", \"1134\", \"1136\", \"1138\", \"1140\", \"1142\", \"1144\", \"1146\", \"1148\", \"1150\", \"1152\", \"1154\", \"1156\", \"1158\", \"1160\", \"1162\", \"1164\", \"1166\", \"1168\", \"1170\", \"1172\", \"1174\", \"1176\", \"1178\", \"1180\", \"1182\", \"1184\", \"1186\", \"1188\", \"1190\", \"1192\", \"1194\", \"1196\", \"1198\", \"1200\", \"1202\", \"1204\", \"1206\", \"1208\", \"1210\", \"1212\", \"1214\", \"1216\", \"1218\", \"1220\", \"1222\", \"1224\", \"1226\", \"1228\", \"1230\", \"1232\", \"1234\", \"1236\", \"1238\", \"1240\", \"1242\", \"1244\", \"1246\", \"1248\", \"1250\", \"1252\", \"1254\", \"1256\", \"1258\", \"1260\", \"1262\", \"1264\", \"1266\", \"1268\", \"1270\", \"1272\", \"1274\", \"1276\", \"1278\", \"1280\", \"1282\", \"1284\", \"1286\", \"1288\", \"1290\", \"1292\", \"1294\", \"1296\", \"1298\", \"1300\", \"1302\", \"1304\", \"1306\", \"1308\", \"1310\", \"1312\", \"1314\", \"1316\", \"1318\", \"1320\", \"1322\", \"1324\", \"1326\", \"1328\", \"1330\", \"1332\", \"1334\", \"1336\", \"1338\", \"1340\", \"1342\", \"1344\", \"1346\", \"1348\", \"1350\", \"1352\", \"1354\", \"1356\", \"1358\", \"1360\", \"1362\", \"1364\", \"1366\", \"1368\", \"1370\", \"1372\", \"1374\", \"1376\", \"1378\", \"1380\", \"1382\", \"1384\", \"1386\", \"1388\", \"1390\", \"1392\", \"1394\", \"1396\", \"1398\", \"1400\", \"1402\", \"1404\", \"1406\", \"1408\", \"1410\", \"1412\", \"1414\", \"1416\", \"1418\", \"1420\", \"1422\", \"1424\", \"1426\", \"1428\", \"1430\", \"1432\", \"1434\", \"1436\", \"1438\", \"1440\", \"1442\", \"1444\", \"1446\", \"1448\", \"1450\", \"1452\", \"1454\", \"1456\", \"1458\", \"1460\", \"1462\", \"1464\", \"1466\", \"1468\", \"1470\", \"1472\", \"1474\", \"1476\", \"1478\", \"1480\", \"1482\", \"1484\", \"1486\", \"1488\", \"1490\", \"1492\", \"1494\", \"1496\", \"1498\", \"1500\", \"1502\", \"1504\", \"1506\", \"1508\", \"1510\", \"1512\", \"1514\", \"1516\", \"1518\", \"1520\", \"1522\", \"1524\", \"1526\", \"1528\", \"1530\", \"1532\", \"1534\", \"1536\", \"1538\", \"1540\", \"1542\", \"1544\", \"1546\", \"1548\", \"1550\", \"1552\", \"1554\", \"1556\", \"1558\", \"1560\", \"1562\", \"1564\", \"1566\", \"1568\", \"1570\", \"1572\", \"1574\", \"1576\", \"1578\", \"1580\", \"1582\", \"1584\", \"1586\", \"1588\", \"1590\", \"1592\", \"1594\", \"1596\", \"1598\", \"1600\", \"1602\", \"1604\", \"1606\", \"1608\", \"1610\", \"1612\", \"1614\", \"1616\", \"1618\", \"1620\", \"1622\", \"1624\", \"1626\", \"1628\", \"1630\", \"1632\", \"1634\", \"1636\", \"1638\", \"1640\", \"1642\", \"1644\", \"1646\", \"1648\", \"1650\", \"1652\", \"1654\", \"1656\", \"1658\", \"1660\", \"1662\", \"1664\", \"1666\", \"1668\", \"1670\", \"1672\", \"1674\", \"1676\", \"1678\", \"1680\", \"1682\", \"1684\", \"1686\", \"1688\", \"1690\", \"1692\", \"1694\", \"1696\", \"1698\", \"1700\", \"1702\", \"1704\", \"1706\", \"1708\", \"1710\", \"1712\", \"1714\", \"1716\", \"1718\", \"1720\", \"1722\", \"1724\", \"1726\", \"1728\", \"1730\", \"1732\", \"1734\", \"1736\", \"1738\", \"1740\", \"1742\", \"1744\", \"1746\", \"1748\", \"1750\", \"1752\", \"1754\", \"1756\", \"1758\", \"1760\", \"1762\", \"1764\", \"1766\", \"1768\", \"1770\", \"1772\", \"1774\", \"1776\", \"1778\", \"1780\", \"1782\", \"1784\", \"1786\", \"1788\", \"1790\", \"1792\", \"1794\", \"1796\", \"1798\", \"1800\", \"1802\", \"1804\", \"1806\", \"1808\", \"1810\", \"1812\", \"1814\", \"1816\", \"1818\", \"1820\", \"1822\", \"1824\", \"1826\", \"1828\", \"1830\", \"1832\", \"1834\", \"1836\", \"1838\", \"1840\", \"1842\", \"1844\", \"1846\", \"1848\", \"1850\", \"1852\", \"1854\", \"1856\", \"1858\", \"1860\", \"1862\", \"1864\", \"1866\", \"1868\", \"1870\", \"1872\", \"1874\", \"1876\", \"1878\", \"1880\", \"1882\", \"1884\", \"1886\", \"1888\", \"1890\", \"1892\", \"1894\", \"1896\", \"1898\", \"1900\", \"1902\", \"1904\", \"1906\", \"1908\", \"1910\", \"1912\", \"1914\", \"1916\", \"1918\", \"1920\", \"1922\", \"1924\", \"1926\", \"1928\", \"1930\", \"1932\", \"1934\", \"1936\", \"1938\", \"1940\", \"1942\", \"1944\", \"1946\", \"1948\", \"1950\", \"1952\", \"1954\", \"1956\", \"1958\", \"1960\", \"1962\", \"1964\", \"1966\", \"1968\", \"1970\", \"1972\", \"1974\", \"1976\", \"1978\", \"1980\", \"1982\", \"1984\", \"1986\", \"1988\", \"1990\", \"1992\", \"1994\", \"1996\", \"1998\", \"2000\", \"2002\", \"2004\", \"2006\", \"2008\", \"2010\", \"2012\", \"2014\", \"2016\", \"2018\", \"2020\", \"2022\", \"2024\", \"2026\", \"2028\", \"2030\", \"2032\", \"2034\", \"2036\", \"2038\", \"2040\", \"2042\", \"2044\", \"2046\", \"2048\", \"2050\", \"2052\", \"2054\", \"2056\", \"2058\", \"2060\", \"2062\", \"2064\", \"2066\", \"2068\", \"2070\", \"2072\", \"2074\", \"2076\", \"2078\", \"2080\", \"2082\", \"2084\", \"2086\", \"2088\", \"2090\", \"2092\", \"2094\", \"2096\", \"2098\", \"2100\", \"2102\", \"2104\", \"2106\", \"2108\", \"2110\", \"2112\", \"2114\", \"2116\", \"2118\", \"2120\", \"2122\", \"2124\", \"2126\", \"2128\", \"2130\", \"2132\", \"2134\", \"2136\", \"2138\", \"2140\", \"2142\", \"2144\", \"2146\", \"2148\", \"2150\", \"2152\", \"2154\", \"2156\", \"2158\", \"2160\", \"2162\", \"2164\", \"2166\", \"2168\", \"2170\", \"2172\", \"2174\", \"2176\", \"2178\", \"2180\", \"2182\", \"2184\", \"2186\", \"2188\", \"2190\", \"2192\", \"2194\", \"2196\", \"2198\", \"2200\", \"2202\", \"2204\", \"2206\", \"2208\", \"2210\", \"2212\", \"2214\", \"2216\", \"2218\", \"2220\", \"2222\", \"2224\", \"2226\", \"2228\", \"2230\", \"2232\", \"2234\", \"2236\", \"2238\", \"2240\", \"2242\", \"2244\", \"2246\", \"2248\", \"2250\", \"2252\", \"2254\", \"2256\", \"2258\", \"2260\", \"2262\", \"2264\", \"2266\", \"2268\", \"2270\", \"2272\", \"2274\", \"2276\", \"2278\", \"2280\", \"2282\", \"2284\", \"2286\", \"2288\", \"2290\", \"2292\", \"2294\", \"2296\", \"2298\", \"2300\", \"2302\", \"2304\", \"2306\", \"2308\", \"2310\", \"2312\", \"2314\", \"2316\", \"2318\", \"2320\", \"2322\", \"2324\", \"2326\", \"2328\", \"2330\", \"2332\", \"2334\", \"2336\", \"2338\", \"2340\", \"2342\", \"2344\", \"2346\", \"2348\", \"2350\", \"2352\", \"2354\", \"2356\", \"2358\", \"2360\", \"2362\", \"2364\", \"2366\", \"2368\", \"2370\", \"2372\", \"2374\", \"2376\", \"2378\", \"2380\", \"2382\", \"2384\", \"2386\", \"2388\", \"2390\", \"2392\", \"2394\", \"2396\", \"2398\", \"2400\", \"2402\", \"2404\", \"2406\", \"2408\", \"2410\", \"2412\", \"2414\", \"2416\", \"2418\", \"2420\", \"2422\", \"2424\", \"2426\", \"2428\", \"2430\", \"2432\", \"2434\", \"2436\", \"2438\", \"2440\", \"2442\", \"2444\", \"2446\", \"2448\", \"2450\", \"2452\", \"2454\", \"2456\", \"2458\", \"2460\", \"2462\", \"2464\", \"2466\", \"2468\", \"2470\", \"2472\", \"2474\", \"2476\", \"2478\", \"2480\", \"2482\", \"2484\", \"2486\", \"2488\", \"2490\", \"2492\", \"2494\", \"2496\", \"2498\", \"2500\", \"2502\", \"2504\", \"2506\", \"2508\", \"2510\", \"2512\", \"2514\", \"2516\", \"2518\", \"2520\", \"2522\", \"2524\", \"2526\", \"2528\", \"2530\", \"2532\", \"2534\", \"2536\", \"2538\", \"2540\", \"2542\", \"2544\", \"2546\", \"2548\", \"2550\", \"2552\", \"2554\", \"2556\", \"2558\", \"2560\", \"2562\", \"2564\", \"2566\", \"2568\", \"2570\", \"2572\", \"2574\", \"2576\", \"2578\", \"2580\", \"2582\", \"2584\", \"2586\", \"2588\", \"2590\", \"2592\", \"2594\", \"2596\", \"2598\", \"2600\", \"2602\", \"2604\", \"2606\", \"2608\", \"2610\", \"2612\", \"2614\", \"2616\", \"2618\", \"2620\", \"2622\", \"2624\", \"2626\", \"2628\", \"2630\", \"2632\", \"2634\", \"2636\", \"2638\", \"2640\", \"2642\", \"2644\", \"2646\", \"2648\", \"2650\", \"2652\", \"2654\", \"2656\", \"2658\", \"2660\", \"2662\", \"2664\", \"2666\", \"2668\", \"2670\", \"2672\", \"2674\", \"2676\", \"2678\", \"2680\", \"2682\", \"2684\", \"2686\", \"2688\", \"2690\", \"2692\", \"2694\", \"2696\", \"2698\", \"2700\", \"2702\", \"2704\", \"2706\", \"2708\", \"2710\", \"2712\", \"2714\", \"2716\", \"2718\", \"2720\", \"2722\", \"2724\", \"2726\", \"2728\", \"2730\", \"2732\", \"2734\", \"2736\", \"2738\", \"2740\", \"2742\", \"2744\", \"2746\", \"2748\", \"2750\", \"2752\", \"2754\", \"2756\", \"2758\", \"2760\", \"2762\", \"2764\", \"2766\", \"2768\", \"2770\", \"2772\", \"2774\", \"2776\", \"2778\", \"2780\", \"2782\", \"2784\", \"2786\", \"2788\", \"2790\", \"2792\", \"2794\", \"2796\", \"2798\", \"2800\", \"2802\", \"2804\", \"2806\", \"2808\", \"2810\", \"2812\", \"2814\", \"2816\", \"2818\", \"2820\", \"2822\", \"2824\", \"2826\", \"2828\", \"2830\", \"2832\", \"2834\", \"2836\", \"2838\", \"2840\", \"2842\", \"2844\", \"2846\", \"2848\", \"2850\", \"2852\", \"2854\", \"2856\", \"2858\", \"2860\", \"2862\", \"2864\", \"2866\", \"2868\", \"2870\", \"2872\", \"2874\", \"2876\", \"2878\", \"2880\", \"2882\", \"2884\", \"2886\", \"2888\", \"2890\", \"2892\", \"2894\", \"2896\", \"2898\", \"2900\", \"2902\", \"2904\", \"2906\", \"2908\", \"2910\", \"2912\", \"2914\", \"2916\", \"2918\", \"2920\", \"2922\", \"2924\", \"2926\", \"2928\", \"2930\", \"2932\", \"2934\", \"2936\", \"2938\", \"2940\", \"2942\", \"2944\", \"2946\", \"2948\", \"2950\", \"2952\", \"2954\", \"2956\", \"2958\", \"2960\", \"2962\", \"2964\", \"2966\", \"2968\", \"2970\", \"2972\", \"2974\", \"2976\", \"2978\", \"2980\", \"2982\", \"2984\", \"2986\", \"2988\", \"2990\", \"2992\", \"2994\", \"2996\", \"2998\", \"3000\", \"3002\", \"3004\", \"3006\", \"3008\", \"3010\", \"3012\", \"3014\", \"3016\", \"3018\", \"3020\", \"3022\", \"3024\", \"3026\", \"3028\", \"3030\", \"3032\", \"3034\", \"3036\", \"3038\", \"3040\", \"3042\", \"3044\", \"3046\", \"3048\", \"3050\", \"3052\", \"3054\", \"3056\", \"3058\", \"3060\", \"3062\", \"3064\", \"3066\", \"3068\", \"3070\", \"3072\", \"3074\", \"3076\", \"3078\", \"3080\", \"3082\", \"3084\", \"3086\", \"3088\", \"3090\", \"3092\", \"3094\", \"3096\", \"3098\", \"3100\", \"3102\", \"3104\", \"3106\", \"3108\", \"3110\", \"3112\", \"3114\", \"3116\", \"3118\", \"3120\", \"3122\", \"3124\", \"3126\", \"3128\", \"3130\", \"3132\", \"3134\", \"3136\", \"3138\", \"3140\", \"3142\", \"3144\", \"3146\", \"3148\", \"3150\", \"3152\", \"3154\", \"3156\", \"3158\", \"3160\", \"3162\", \"3164\", \"3166\", \"3168\", \"3170\", \"3172\", \"3174\", \"3176\", \"3178\", \"3180\", \"3182\", \"3184\", \"3186\", \"3188\", \"3190\", \"3192\", \"3194\", \"3196\", \"3198\", \"3200\", \"3202\", \"3204\", \"3206\", \"3208\", \"3210\", \"3212\", \"3214\", \"3216\", \"3218\", \"3220\", \"3222\", \"3224\", \"3226\", \"3228\", \"3230\", \"3232\", \"3234\", \"3236\", \"3238\", \"3240\", \"3242\", \"3244\", \"3246\", \"3248\", \"3250\", \"3252\", \"3254\", \"3256\", \"3258\", \"3260\", \"3262\", \"3264\", \"3266\", \"3268\", \"3270\", \"3272\", \"3274\", \"3276\", \"3278\", \"3280\", \"3282\", \"3284\", \"3286\", \"3288\", \"3290\", \"3292\", \"3294\", \"3296\", \"3298\", \"3300\", \"3302\", \"3304\", \"3306\", \"3308\", \"3310\", \"3312\", \"3314\", \"3316\", \"3318\", \"3320\", \"3322\", \"3324\", \"3326\", \"3328\", \"3330\", \"3332\", \"3334\", \"3336\", \"3338\", \"3340\", \"3342\", \"3344\", \"3346\", \"3348\", \"3350\", \"3352\", \"3354\", \"3356\", \"3358\", \"3360\", \"3362\", \"3364\", \"3366\", \"3368\", \"3370\", \"3372\", \"3374\", \"3376\", \"3378\", \"3380\", \"3382\", \"3384\", \"3386\", \"3388\", \"3390\", \"3392\", \"3394\", \"3396\", \"3398\", \"3400\", \"3402\", \"3404\", \"3406\", \"3408\", \"3410\", \"3412\", \"3414\", \"3416\", \"3418\", \"3420\", \"3422\", \"3424\", \"3426\", \"3428\", \"3430\", \"3432\", \"3434\", \"3436\", \"3438\", \"3440\", \"3442\", \"3444\", \"3446\", \"3448\", \"3450\", \"3452\", \"3454\", \"3456\", \"3458\", \"3460\", \"3462\", \"3464\", \"3466\", \"3468\", \"3470\", \"3472\", \"3474\", \"3476\", \"3478\", \"3480\", \"3482\", \"3484\", \"3486\", \"3488\", \"3490\", \"3492\", \"3494\", \"3496\", \"3498\", \"3500\", \"3502\", \"3504\", \"3506\", \"3508\", \"3510\", \"3512\", \"3514\", \"3516\", \"3518\", \"3520\", \"3522\", \"3524\", \"3526\", \"3528\", \"3530\", \"3532\", \"3534\", \"3536\", \"3538\", \"3540\", \"3542\", \"3544\", \"3546\", \"3548\", \"3550\", \"3552\", \"3554\", \"3556\", \"3558\", \"3560\", \"3562\", \"3564\", \"3566\", \"3568\", \"3570\", \"3572\", \"3574\", \"3576\", \"3578\", \"3580\", \"3582\", \"3584\", \"3586\", \"3588\", \"3590\", \"3592\", \"3594\", \"3596\", \"3598\", \"3600\", \"3602\", \"3604\", \"3606\", \"3608\", \"3610\", \"3612\", \"3614\", \"3616\", \"3618\", \"3620\", \"3622\", \"3624\", \"3626\", \"3628\", \"3630\", \"3632\", \"3634\", \"3636\", \"3638\", \"3640\", \"3642\", \"3644\", \"3646\", \"3648\", \"3650\", \"3652\", \"3654\", \"3656\", \"3658\", \"3660\", \"3662\", \"3664\", \"3666\", \"3668\", \"3670\", \"3672\", \"3674\", \"3676\", \"3678\", \"3680\", \"3682\", \"3684\", \"3686\", \"3688\", \"3690\", \"3692\", \"3694\", \"3696\", \"3698\", \"3700\", \"3702\", \"3704\", \"3706\", \"3708\", \"3710\", \"3712\", \"3714\", \"3716\", \"3718\", \"3720\", \"3722\", \"3724\", \"3726\", \"3728\", \"3730\", \"3732\", \"3734\", \"3736\", \"3738\", \"3740\", \"3742\", \"3744\", \"3746\", \"3748\", \"3750\", \"3752\", \"3754\", \"3756\", \"3758\", \"3760\", \"3762\", \"3764\", \"3766\", \"3768\", \"3770\", \"3772\", \"3774\", \"3776\", \"3778\", \"3780\", \"3782\", \"3784\", \"3786\", \"3788\", \"3790\", \"3792\", \"3794\", \"3796\", \"3798\", \"3800\", \"3802\", \"3804\", \"3806\", \"3808\", \"3810\", \"3812\", \"3814\", \"3816\", \"3818\", \"3820\", \"3822\", \"3824\", \"3826\", \"3828\", \"3830\", \"3832\", \"3834\", \"3836\", \"3838\", \"3840\", \"3842\", \"3844\", \"3846\", \"3848\", \"3850\", \"3852\", \"3854\", \"3856\", \"3858\", \"3860\", \"3862\", \"3864\", \"3866\", \"3868\", \"3870\", \"3872\", \"3874\", \"3876\", \"3878\", \"3880\", \"3882\", \"3884\", \"3886\", \"3888\", \"3890\", \"3892\", \"3894\", \"3896\", \"3898\", \"3900\", \"3902\", \"3904\", \"3906\", \"3908\", \"3910\", \"3912\", \"3914\", \"3916\", \"3918\", \"3920\", \"3922\", \"3924\", \"3926\", \"3928\", \"3930\", \"3932\", \"3934\", \"3936\", \"3938\", \"3940\", \"3942\", \"3944\", \"3946\", \"3948\", \"3950\", \"3952\", \"3954\", \"3956\", \"3958\", \"3960\", \"3962\", \"3964\", \"3966\", \"3968\", \"3970\", \"3972\", \"3974\", \"3976\", \"3978\", \"3980\", \"3982\", \"3984\", \"3986\", \"3988\", \"3990\", \"3992\", \"3994\", \"3996\", \"3998\", \"4000\"], \"y\": [0.0, 0.0, 0.0, 0.0, 0.0, 0.0, 0.0, 0.0, 0.0, 0.0, 0.0, 0.0, 0.0, 0.0, 0.0, 0.0, 0.0, 0.0, 0.0, 0.0, 0.0, 0.0, 0.0, 0.0, 0.0, 0.0, 0.0, 0.0, 0.0, 0.0, 0.0, 0.0, 0.0, 0.0, 0.0, 0.0, 0.0, 0.0, 0.0, 0.0, 0.0, 0.0, 0.0, 0.0, 0.0, 0.0, 0.0, 0.0, 0.0, 0.0, 0.0, 0.0, 0.0, 0.0, 0.0, 0.0, 0.0, 0.0, 0.0, 0.0, 0.0, 0.0, 0.0, 0.0, 0.0, 0.0, 0.0, 0.0, 0.0, 0.0, 0.0, 0.0, 0.0, 0.0, 0.0, 0.0, 0.0, 0.0, 0.0, 0.0, 0.0, 0.0, 0.0, 0.0, 0.0, 0.0, 0.0, 0.0, 0.0, 0.0, 0.0, 0.0, 0.0, 0.0, 0.0, 0.0, 0.0, 0.0, 0.0, 0.0, 0.0, 0.0, 0.0, 0.0, 0.0, 0.0, 0.0, 0.0, 0.0, 0.0, 0.0, 0.0, 0.0, 0.0, 0.0, 0.0, 0.0, 0.0, 0.0, 0.0, 0.0, 0.0, 0.0, 0.0, 0.0, 0.0, 0.0, 0.0, 0.0, 0.0, 0.0, 0.0, 0.0, 0.0, 0.0, 0.0, 0.0, 0.0, 0.0, 0.0, 0.0, 0.0, 0.0, 0.0, 0.0, 0.0, 0.0, 0.0, 0.0, 0.0, 0.0, 0.0, 0.0, 0.0, 0.0, 0.0, 0.0, 0.0, 0.0, 0.0, 0.0, 0.0, 0.0, 0.0, 0.0, 0.0, 0.0, 0.0, 0.0, 0.0, 0.0, 0.0, 0.0, 0.0, 0.0, 0.0, 0.0, 0.0, 0.0, 0.0, 0.0, 0.0, 0.0, 0.0, 0.0, 0.0, 0.0, 0.0, 0.0, 0.0, 0.0, 0.0, 0.0, 0.0, 0.0, 0.0, 0.0, 0.0, 0.0, 0.0, 0.0, 0.0, 0.0, 0.0, 0.0, 0.0, 0.0, 0.0, 0.0, 0.0, 0.0, 0.0, 0.0, 0.0, 0.0, 0.0, 0.0, 0.0, 0.0, 0.0, 0.0, 0.0, 0.0, 0.0, 0.0, 0.0, 0.0, 0.0, 0.0, 0.0, 0.0, 0.0, 0.0, 0.0, 0.0, 0.0, 0.0, 0.0, 0.0, 0.0, 0.0, 0.0, 0.0, 0.0, 0.0, 0.0, 0.0, 0.0, 0.0, 0.0, 0.0, 0.0, 0.0, 0.0, 0.0, 0.0, 0.0, 0.0, 0.0, 0.0, 0.0, 0.0, 0.0, 0.0, 0.0, 0.0, 0.0, 0.0, 0.0, 0.0, 0.0, 0.0, 0.0, 0.0, 0.0, 0.0, 0.0, 0.0, 0.0, 0.0, 0.0, 0.0, 0.0, 0.0, 0.0, 0.0, 0.0, 0.0, 0.0, 0.0, 0.0, 0.0, 0.0, 0.0, 0.0, 0.0, 0.0, 0.0, 0.0, 0.0, 0.0, 0.0, 0.0, 0.0, 0.0, 0.0, 0.0, 0.0, 0.0, 0.0, 0.0, 0.0, 0.0, 0.0, 0.0, 0.0, 0.0, 0.0, 0.0, 0.0, 0.0, 0.0, 0.0, 0.0, 0.0, 0.0, 0.0, 0.0, 0.0, 0.0, 0.0, 0.0, 0.0, 0.0, 0.0, 0.0, 0.0, 0.0, 0.0, 0.0, 0.0, 0.0, 0.0, 0.0, 0.0, 0.0, 0.0, 0.0, 0.0, 0.0, 0.0, 0.0, 0.0, 0.0, 0.0, 0.0, 0.0, 0.0, 0.0, 0.0, 0.0, 0.0, 0.0, 0.0, 0.0, 0.0, 0.0, 0.0, 0.0, 0.0, 0.0, 0.0, 0.0, 0.0, 0.0, 0.0, 0.0, 0.0, 0.0, 0.0, 0.0, 0.0, 0.0, 0.0, 0.0, 0.0, 0.0, 0.0, 0.0, 0.0, 0.0, 0.0, 0.0, 0.0, 0.0, 0.0, 0.0, 0.0, 0.0, 0.0, 0.0, 0.0, 0.0, 0.0, 0.0, 0.0, 0.0, 0.0, 0.0, 0.0, 0.0, 0.0, 0.0, 0.0, 0.0, 0.0, 0.0, 0.0, 0.0, 0.0, 0.0, 0.0, 0.0, 0.0, 0.0, 0.0, 0.0, 0.0, 0.0, 0.0, 0.0, 0.0, 0.0, 0.0, 0.0, 0.0, 0.0, 0.0, 0.0, 0.0, 0.0, 0.0, 0.0, 0.0, 0.0, 0.0, 0.0, 0.0, 0.0, 0.0, 0.0, 0.0, 0.0, 0.0, 0.0, 0.0, 0.0, 0.0, 0.0, 0.0, 0.0, 0.0, 0.0, 0.0, 0.0, 0.0, 0.0, 0.0, 0.0, 0.0, 0.0, 0.0, 0.0, 0.0, 0.0, 0.0, 0.0, 0.0, 0.0, 0.0, 0.0, 0.0, 0.0, 0.0, 0.0, 0.0, 0.0, 0.0, 0.0, 0.0, 0.0, 0.0, 0.0, 0.0, 0.0, 0.0, 0.0, 0.0, 0.0, 0.0, 0.0, 0.0, 0.0, 0.0, 0.0, 0.0, 0.0, 0.0, 0.0, 0.0, 0.0, 0.0, 0.0, 0.0, 0.0, 0.0, 0.0, 0.0, 0.0, 0.0, 0.0, 0.0, 0.0, 0.0, 0.0, 0.0, 0.0, 0.0, 0.0, 0.0, 0.0, 0.0, 0.0, 0.0, 0.0, 0.0, 0.0, 0.0, 0.0, 0.0, 0.0, 0.0, 0.0, 0.0, 0.0, 0.0, 0.0, 0.0, 0.0, 0.0, 0.0, 0.0, 0.0, 0.0, 0.0, 0.0, 0.0, 0.0, 0.0, 0.0, 0.0, 0.0, 0.0, 0.0, 0.0, 0.0, 0.0, 0.0, 0.0, 0.0, 0.0, 0.0, 0.0, 0.0, 0.0, 0.0, 0.0, 0.0, 0.0, 0.0, 0.0, 0.0, 0.0, 0.0, 0.0, 0.0, 0.0, 0.0, 0.0, 0.0, 0.0, 0.0, 0.0, 0.0, 0.0, 0.0, 0.0, 0.0, 0.0, 0.0, 0.0, 0.0, 0.0, 0.0, 0.0, 0.0, 0.0, 0.0, 0.2000363886956746, 0.20799842852358505, 0.21641894981580237, 0.22532854483860168, 0.23476062356699387, 0.24475020609526757, 0.25533513022644716, 0.2665548438828349, 0.27845201522528795, 0.2910705200041219, 0.30445785673802717, 0.3186619264755133, 0.333733447973826, 0.3497239450498494, 0.36668614910992603, 0.3846715839709406, 0.4037317734497773, 0.423915021124765, 0.4452648002164, 0.46781854599788764, 0.49160363049694733, 0.5166349473168973, 0.5429100812788212, 0.5704052831233738, 0.5990694315634902, 0.628818397866914, 0.6595278003194477, 0.69102817386712, 0.723096919519798, 0.7554534739933534, 0.7877564920009275, 0.8196010285441947, 0.8505229667413762, 0.8800054583043512, 0.9074922070226963, 0.9324059851353789, 0.9541719800602828, 0.9722471790710256, 0.9861497539737745, 0.9954912634927996, 1.0, 0.9995415185356931, 0.9941291025839194, 0.9839217514233455, 0.969212506762501, 0.9504087287786279, 0.9280043215601413, 0.9025507509596311, 0.8746248422083109, 0.844801005358477, 0.8136311087925393, 0.7816227426127728, 0.7492307655151094, 0.7168480466032925, 0.6848062704485149, 0.6533751320297808, 0.6227675696215575, 0.5931445951516089, 0.5646233447973826, 0.5372819093438441, 0.5111653721307674, 0.4862942621789422, 0.4626669693690909, 0.4402669899786177, 0.4190641342710669, 0.3990201619135946, 0.3800903920962465, 0.36222531365123534, 0.3453746103511348, 0.32948514825978314, 0.31450459850065693, 0.3003822423165109, 0.28706695842027985, 0.2745108457634542, 0.2626676134168019, 0.2514929831001881, 0.24094509171239403, 0.2309844913311178, 0.22157374668315433, 0.21267864273385376, 0.20426576950820519, 0.0, 0.0, 0.0, 0.0, 0.0, 0.0, 0.0, 0.0, 0.0, 0.0, 0.0, 0.0, 0.0, 0.0, 0.0, 0.0, 0.0, 0.0, 0.0, 0.0, 0.0, 0.0, 0.0, 0.0, 0.0, 0.0, 0.0, 0.0, 0.0, 0.0, 0.0, 0.0, 0.0, 0.0, 0.0, 0.0, 0.0, 0.0, 0.0, 0.0, 0.0, 0.0, 0.0, 0.0, 0.0, 0.0, 0.0, 0.0, 0.0, 0.0, 0.0, 0.0, 0.0, 0.0, 0.0, 0.0, 0.0, 0.0, 0.0, 0.0, 0.0, 0.0, 0.0, 0.0, 0.0, 0.0, 0.0, 0.0, 0.0, 0.0, 0.0, 0.0, 0.0, 0.0, 0.0, 0.0, 0.0, 0.0, 0.0, 0.0, 0.0, 0.0, 0.0, 0.0, 0.0, 0.0, 0.0, 0.0, 0.0, 0.0, 0.0, 0.0, 0.0, 0.0, 0.0, 0.0, 0.0, 0.0, 0.0, 0.0, 0.0, 0.0, 0.0, 0.0, 0.0, 0.0, 0.0, 0.0, 0.0, 0.0, 0.0, 0.0, 0.0, 0.0, 0.0, 0.0, 0.0, 0.0, 0.0, 0.0, 0.0, 0.0, 0.0, 0.0, 0.0, 0.0, 0.0, 0.0, 0.0, 0.0, 0.0, 0.0, 0.0, 0.0, 0.0, 0.0, 0.0, 0.0, 0.0, 0.0, 0.0, 0.0, 0.0, 0.0, 0.0, 0.0, 0.0, 0.0, 0.0, 0.0, 0.0, 0.0, 0.0, 0.0, 0.0, 0.0, 0.0, 0.0, 0.0, 0.0, 0.0, 0.0, 0.0, 0.0, 0.0, 0.0, 0.0, 0.0, 0.0, 0.0, 0.0, 0.0, 0.0, 0.0, 0.0, 0.0, 0.0, 0.0, 0.0, 0.0, 0.0, 0.0, 0.0, 0.0, 0.0, 0.0, 0.0, 0.0, 0.0, 0.0, 0.0, 0.0, 0.0, 0.0, 0.0, 0.0, 0.0, 0.0, 0.0, 0.0, 0.0, 0.0, 0.0, 0.0, 0.0, 0.0, 0.0, 0.0, 0.0, 0.0, 0.0, 0.0, 0.0, 0.0, 0.0, 0.0, 0.0, 0.0, 0.0, 0.0, 0.0, 0.0, 0.0, 0.0, 0.0, 0.0, 0.0, 0.0, 0.0, 0.0, 0.0, 0.0, 0.0, 0.0, 0.0, 0.0, 0.0, 0.0, 0.0, 0.0, 0.0, 0.0, 0.0, 0.0, 0.0, 0.0, 0.0, 0.0, 0.0, 0.0, 0.0, 0.0, 0.0, 0.0, 0.0, 0.0, 0.0, 0.0, 0.0, 0.0, 0.0, 0.0, 0.0, 0.0, 0.0, 0.0, 0.0, 0.0, 0.0, 0.0, 0.0, 0.0, 0.0, 0.0, 0.0, 0.0, 0.0, 0.0, 0.0, 0.0, 0.0, 0.0, 0.0, 0.0, 0.0, 0.0, 0.0, 0.0, 0.0, 0.0, 0.0, 0.0, 0.0, 0.0, 0.0, 0.0, 0.0, 0.0, 0.0, 0.0, 0.0, 0.0, 0.0, 0.0, 0.0, 0.0, 0.0, 0.0, 0.0, 0.0, 0.0, 0.0, 0.0, 0.0, 0.0, 0.0, 0.0, 0.0, 0.0, 0.0, 0.0, 0.0, 0.0, 0.0, 0.0, 0.0, 0.0, 0.0, 0.0, 0.0, 0.0, 0.0, 0.0, 0.0, 0.0, 0.0, 0.0, 0.0, 0.0, 0.0, 0.0, 0.0, 0.0, 0.0, 0.0, 0.0, 0.0, 0.0, 0.0, 0.0, 0.0, 0.0, 0.0, 0.0, 0.0, 0.0, 0.0, 0.0, 0.0, 0.0, 0.0, 0.0, 0.0, 0.0, 0.0, 0.0, 0.0, 0.0, 0.0, 0.0, 0.0, 0.0, 0.0, 0.0, 0.0, 0.0, 0.0, 0.0, 0.0, 0.0, 0.0, 0.0, 0.0, 0.0, 0.0, 0.0, 0.0, 0.0, 0.0, 0.0, 0.0, 0.0, 0.0, 0.0, 0.0, 0.0, 0.0, 0.0, 0.0, 0.0, 0.0, 0.0, 0.0, 0.0, 0.0, 0.0, 0.0, 0.0, 0.0, 0.0, 0.0, 0.0, 0.0, 0.0, 0.0, 0.0, 0.0, 0.0, 0.0, 0.0, 0.0, 0.0, 0.0, 0.0, 0.0, 0.0, 0.0, 0.0, 0.0, 0.0, 0.0, 0.0, 0.0, 0.0, 0.0, 0.0, 0.0, 0.0, 0.0, 0.0, 0.0, 0.0, 0.0, 0.0, 0.0, 0.0, 0.0, 0.0, 0.0, 0.0, 0.0, 0.0, 0.0, 0.0, 0.0, 0.0, 0.0, 0.0, 0.0, 0.0, 0.0, 0.20078710680887243, 0.20981947342659146, 0.21936184532550176, 0.22943233634747662, 0.24004664515547314, 0.25121604258443464, 0.26294455393255534, 0.27522895896127986, 0.2880559741865678, 0.30139903264033796, 0.3152170762810109, 0.3294497256356751, 0.34401647474044883, 0.35881266584228555, 0.3737074767498777, 0.3885443233634749, 0.40313844449596825, 0.4172797195816267, 0.4307379015637478, 0.4432666421928537, 0.45461436033181335, 0.46453551279078753, 0.47280186516217126, 0.4792165803642735, 0.4836283071849963, 0.4859384258185847, 0.48611231870056937, 0.48417856544812843, 0.4802281378004484, 0.47440956926089095, 0.46691526908313374, 0.4579726666151429, 0.447829317695855, 0.4367396211711363, 0.4249539505886596, 0.4127089934822372, 0.40022090836489166, 0.38768170196048124, 0.37525681402478295, 0.3630835072262153, 0.3512740873843935, 0.33991670852976796, 0.32907819061236054, 0.3188068372105006, 0.30913525323956004, 0.30008356519050927, 0.29166103124919496, 0.2838696640647139, 0.27670463327923334, 0.2701562781770874, 0.26421332792333263, 0.2588604863848314, 0.25408285995826574, 0.2498643474508592, 0.24618925019965482, 0.2430426746013345, 0.2404105321122189, 0.23827994177808692, 0.2366396327639952, 0.2354795418244584, 0.23479121583326895, 0.23456901937295516, 0.23480812208568413, 0.23550570626271997, 0.23666096684442384, 0.23827511142025404, 0.24035136022876577, 0.24289454362779195, 0.24591230968390138, 0.24941270899348225, 0.25340781745111685, 0.25790971095138726, 0.2629340881572507, 0.26849785532112225, 0.27461912628487517, 0.28131883259911894, 0.28861951593374036, 0.29654452301826517, 0.3051192132313162, 0.31436854342169673, 0.32431988561712655, 0.3349990017260478, 0.3464312511270835, 0.35864078560939794, 0.3716489392534199, 0.385473020841384, 0.40012510626787234, 0.4156108309503569, 0.43192616959064334, 0.4490566311152331, 0.4669744409665868, 0.4856373335136668, 0.504984526753742, 0.5249359172527501, 0.5453912750856583, 0.5662274261277276, 0.5872982520545121, 0.6084367029909576, 0.6294543949815803, 0.6501480504675786, 0.6703007058762913, 0.6896913723368628, 0.7081014761573537, 0.7253241170105882, 0.7411741311796378, 0.7554969472138496, 0.7681794542339696, 0.779153624700518, 0.7884033574207179, 0.7959644775484969, 0.8019215163459309, 0.8064040884148699, 0.8095764259216324, 0.8116281204111601, 0.8127624494422546, 0.8131830931035372, 0.8130856808872402, 0.8126481309735426, 0.8120230021640004, 0.8113354812324498, 0.8106809677460907, 0.8101270867145838, 0.8097161037689672, 0.8094685479300305, 0.8093872369065102, 0.8094596922740037, 0.8096609571837082, 0.8099531938325992, 0.8102824632248757, 0.8105775175825025, 0.8107457750470156, 0.8106692943813278, 0.8102047749697299, 0.8091831542880696, 0.8074128281423087, 0.8046872987350903, 0.8007952379112244, 0.7955317579926322, 0.7887125003220239, 0.7801869187469408, 0.7698487453950589, 0.7576488716284102, 0.7435953480433831, 0.727758617358374, 0.7102654764664966, 0.6912910258391942, 0.6710490088105726, 0.6497797356828194, 0.6277355926527037, 0.6051705760362727, 0.582328216374269, 0.559434332895381, 0.5366918006285907, 0.514275720045341, 0.49233180694025824, 0.47097840508024835, 0.45030688873431746, 0.43038407785248733, 0.4112554583043513, 0.3929475970579901, 0.3754721674781668, 0.3588279619754232, 0.3430041122446351, 0.3279821019141098, 0.313736974135044, 0.3002405518200788, 0.28746143764330057, 0.27536662415951774, 0.26392229886389984, 0.2530946492516166, 0.24285026534765697, 0.23315613970682947, 0.22398087500322025, 0.21529428150037358, 0.20706697452147257, 0.0, 0.0, 0.0, 0.0, 0.0, 0.0, 0.0, 0.0, 0.0, 0.0, 0.0, 0.0, 0.0, 0.0, 0.0, 0.0, 0.0, 0.0, 0.0, 0.0, 0.0, 0.0, 0.0, 0.0, 0.0, 0.0, 0.0, 0.0, 0.0, 0.0, 0.0, 0.0, 0.0, 0.0, 0.0, 0.0, 0.0, 0.0, 0.0, 0.0, 0.0, 0.0, 0.0, 0.0, 0.0, 0.0, 0.0, 0.0, 0.0, 0.0, 0.0, 0.0, 0.0, 0.0, 0.0, 0.0, 0.0, 0.0, 0.0, 0.0, 0.0, 0.0, 0.0, 0.0, 0.0, 0.0, 0.0, 0.0, 0.0, 0.0, 0.0, 0.0, 0.0, 0.0, 0.0, 0.0, 0.0, 0.0, 0.0, 0.0, 0.0, 0.0, 0.0, 0.0, 0.0, 0.0, 0.0, 0.0, 0.0, 0.0, 0.0, 0.0, 0.0, 0.0, 0.0, 0.0, 0.0, 0.0, 0.0, 0.0, 0.0, 0.0, 0.0, 0.0, 0.0, 0.0, 0.0, 0.0, 0.0, 0.0, 0.0, 0.0, 0.0, 0.0, 0.0, 0.0, 0.0, 0.0, 0.0, 0.0, 0.0, 0.0, 0.0, 0.0, 0.0, 0.0, 0.0, 0.0, 0.0, 0.0, 0.0, 0.0, 0.0, 0.0, 0.0, 0.0, 0.0, 0.0, 0.0, 0.0, 0.0, 0.0, 0.0, 0.0, 0.0, 0.0, 0.0, 0.0, 0.0, 0.0, 0.0, 0.0, 0.0, 0.0, 0.0, 0.0, 0.0, 0.0, 0.0, 0.0, 0.0, 0.0, 0.0, 0.0, 0.0, 0.0, 0.0, 0.0, 0.0, 0.0, 0.0, 0.0, 0.0, 0.0, 0.0, 0.0, 0.0, 0.0, 0.0, 0.0, 0.0, 0.0, 0.0, 0.0, 0.0, 0.0, 0.0, 0.0, 0.0, 0.0, 0.0, 0.0, 0.0, 0.0, 0.0, 0.0, 0.0, 0.0, 0.0, 0.0, 0.0, 0.0, 0.0, 0.0, 0.0, 0.0, 0.0, 0.0, 0.0, 0.0, 0.0, 0.0, 0.0, 0.0, 0.0, 0.0, 0.0, 0.0, 0.0, 0.0, 0.0, 0.0, 0.0, 0.0, 0.0, 0.0, 0.0, 0.0, 0.0, 0.0, 0.0, 0.0, 0.0, 0.0, 0.0, 0.0, 0.0, 0.0, 0.0, 0.0, 0.0, 0.0, 0.0, 0.0, 0.0, 0.0, 0.0, 0.0, 0.0, 0.0, 0.0, 0.0, 0.0, 0.0, 0.0, 0.0, 0.0, 0.0, 0.0, 0.0, 0.0, 0.0, 0.0, 0.0, 0.0, 0.0, 0.0, 0.0, 0.0, 0.0, 0.0, 0.0, 0.0, 0.0, 0.0, 0.0, 0.0, 0.0, 0.0, 0.0, 0.0, 0.0, 0.0, 0.0, 0.0, 0.0, 0.0, 0.0, 0.0, 0.0, 0.0, 0.0, 0.0, 0.0, 0.0, 0.0, 0.0, 0.0, 0.0, 0.0, 0.0, 0.0, 0.0, 0.0, 0.0, 0.0, 0.0, 0.0, 0.0, 0.0, 0.0, 0.0, 0.0, 0.0, 0.0, 0.0, 0.0, 0.0, 0.0, 0.0, 0.0, 0.0, 0.0, 0.0, 0.0, 0.0, 0.0, 0.0, 0.0, 0.0, 0.0, 0.0, 0.0, 0.0, 0.0, 0.0, 0.0, 0.0, 0.0, 0.0, 0.0, 0.0, 0.0, 0.0, 0.0, 0.0, 0.0, 0.0, 0.0, 0.0, 0.0, 0.0, 0.0, 0.0, 0.0, 0.0, 0.0, 0.0, 0.0, 0.0, 0.0, 0.0, 0.0, 0.0, 0.0, 0.0, 0.0, 0.0, 0.0, 0.0, 0.0, 0.0, 0.0, 0.0, 0.0, 0.0, 0.0, 0.0, 0.0, 0.0, 0.0, 0.0, 0.0, 0.0, 0.0, 0.0, 0.0, 0.0, 0.0, 0.0, 0.0, 0.0, 0.0, 0.0, 0.0, 0.0, 0.0, 0.0, 0.0, 0.0, 0.0, 0.0, 0.0, 0.0, 0.0, 0.0, 0.0, 0.0, 0.0, 0.0, 0.0, 0.0, 0.0, 0.0, 0.0, 0.0, 0.0, 0.0, 0.0, 0.0, 0.0, 0.0, 0.0, 0.0, 0.0]}, {\"mode\": \"markers\", \"name\": \"2-methoxy-13-dioxolane\", \"type\": \"scatter\", \"x\": [\"502\", \"504\", \"506\", \"508\", \"510\", \"512\", \"514\", \"516\", \"518\", \"520\", \"522\", \"524\", \"526\", \"528\", \"530\", \"532\", \"534\", \"536\", \"538\", \"540\", \"542\", \"544\", \"546\", \"548\", \"550\", \"552\", \"554\", \"556\", \"558\", \"560\", \"562\", \"564\", \"566\", \"568\", \"570\", \"572\", \"574\", \"576\", \"578\", \"580\", \"582\", \"584\", \"586\", \"588\", \"590\", \"592\", \"594\", \"596\", \"598\", \"600\", \"602\", \"604\", \"606\", \"608\", \"610\", \"612\", \"614\", \"616\", \"618\", \"620\", \"622\", \"624\", \"626\", \"628\", \"630\", \"632\", \"634\", \"636\", \"638\", \"640\", \"642\", \"644\", \"646\", \"648\", \"650\", \"652\", \"654\", \"656\", \"658\", \"660\", \"662\", \"664\", \"666\", \"668\", \"670\", \"672\", \"674\", \"676\", \"678\", \"680\", \"682\", \"684\", \"686\", \"688\", \"690\", \"692\", \"694\", \"696\", \"698\", \"700\", \"702\", \"704\", \"706\", \"708\", \"710\", \"712\", \"714\", \"716\", \"718\", \"720\", \"722\", \"724\", \"726\", \"728\", \"730\", \"732\", \"734\", \"736\", \"738\", \"740\", \"742\", \"744\", \"746\", \"748\", \"750\", \"752\", \"754\", \"756\", \"758\", \"760\", \"762\", \"764\", \"766\", \"768\", \"770\", \"772\", \"774\", \"776\", \"778\", \"780\", \"782\", \"784\", \"786\", \"788\", \"790\", \"792\", \"794\", \"796\", \"798\", \"800\", \"802\", \"804\", \"806\", \"808\", \"810\", \"812\", \"814\", \"816\", \"818\", \"820\", \"822\", \"824\", \"826\", \"828\", \"830\", \"832\", \"834\", \"836\", \"838\", \"840\", \"842\", \"844\", \"846\", \"848\", \"850\", \"852\", \"854\", \"856\", \"858\", \"860\", \"862\", \"864\", \"866\", \"868\", \"870\", \"872\", \"874\", \"876\", \"878\", \"880\", \"882\", \"884\", \"886\", \"888\", \"890\", \"892\", \"894\", \"896\", \"898\", \"900\", \"902\", \"904\", \"906\", \"908\", \"910\", \"912\", \"914\", \"916\", \"918\", \"920\", \"922\", \"924\", \"926\", \"928\", \"930\", \"932\", \"934\", \"936\", \"938\", \"940\", \"942\", \"944\", \"946\", \"948\", \"950\", \"952\", \"954\", \"956\", \"958\", \"960\", \"962\", \"964\", \"966\", \"968\", \"970\", \"972\", \"974\", \"976\", \"978\", \"980\", \"982\", \"984\", \"986\", \"988\", \"990\", \"992\", \"994\", \"996\", \"998\", \"1000\", \"1002\", \"1004\", \"1006\", \"1008\", \"1010\", \"1012\", \"1014\", \"1016\", \"1018\", \"1020\", \"1022\", \"1024\", \"1026\", \"1028\", \"1030\", \"1032\", \"1034\", \"1036\", \"1038\", \"1040\", \"1042\", \"1044\", \"1046\", \"1048\", \"1050\", \"1052\", \"1054\", \"1056\", \"1058\", \"1060\", \"1062\", \"1064\", \"1066\", \"1068\", \"1070\", \"1072\", \"1074\", \"1076\", \"1078\", \"1080\", \"1082\", \"1084\", \"1086\", \"1088\", \"1090\", \"1092\", \"1094\", \"1096\", \"1098\", \"1100\", \"1102\", \"1104\", \"1106\", \"1108\", \"1110\", \"1112\", \"1114\", \"1116\", \"1118\", \"1120\", \"1122\", \"1124\", \"1126\", \"1128\", \"1130\", \"1132\", \"1134\", \"1136\", \"1138\", \"1140\", \"1142\", \"1144\", \"1146\", \"1148\", \"1150\", \"1152\", \"1154\", \"1156\", \"1158\", \"1160\", \"1162\", \"1164\", \"1166\", \"1168\", \"1170\", \"1172\", \"1174\", \"1176\", \"1178\", \"1180\", \"1182\", \"1184\", \"1186\", \"1188\", \"1190\", \"1192\", \"1194\", \"1196\", \"1198\", \"1200\", \"1202\", \"1204\", \"1206\", \"1208\", \"1210\", \"1212\", \"1214\", \"1216\", \"1218\", \"1220\", \"1222\", \"1224\", \"1226\", \"1228\", \"1230\", \"1232\", \"1234\", \"1236\", \"1238\", \"1240\", \"1242\", \"1244\", \"1246\", \"1248\", \"1250\", \"1252\", \"1254\", \"1256\", \"1258\", \"1260\", \"1262\", \"1264\", \"1266\", \"1268\", \"1270\", \"1272\", \"1274\", \"1276\", \"1278\", \"1280\", \"1282\", \"1284\", \"1286\", \"1288\", \"1290\", \"1292\", \"1294\", \"1296\", \"1298\", \"1300\", \"1302\", \"1304\", \"1306\", \"1308\", \"1310\", \"1312\", \"1314\", \"1316\", \"1318\", \"1320\", \"1322\", \"1324\", \"1326\", \"1328\", \"1330\", \"1332\", \"1334\", \"1336\", \"1338\", \"1340\", \"1342\", \"1344\", \"1346\", \"1348\", \"1350\", \"1352\", \"1354\", \"1356\", \"1358\", \"1360\", \"1362\", \"1364\", \"1366\", \"1368\", \"1370\", \"1372\", \"1374\", \"1376\", \"1378\", \"1380\", \"1382\", \"1384\", \"1386\", \"1388\", \"1390\", \"1392\", \"1394\", \"1396\", \"1398\", \"1400\", \"1402\", \"1404\", \"1406\", \"1408\", \"1410\", \"1412\", \"1414\", \"1416\", \"1418\", \"1420\", \"1422\", \"1424\", \"1426\", \"1428\", \"1430\", \"1432\", \"1434\", \"1436\", \"1438\", \"1440\", \"1442\", \"1444\", \"1446\", \"1448\", \"1450\", \"1452\", \"1454\", \"1456\", \"1458\", \"1460\", \"1462\", \"1464\", \"1466\", \"1468\", \"1470\", \"1472\", \"1474\", \"1476\", \"1478\", \"1480\", \"1482\", \"1484\", \"1486\", \"1488\", \"1490\", \"1492\", \"1494\", \"1496\", \"1498\", \"1500\", \"1502\", \"1504\", \"1506\", \"1508\", \"1510\", \"1512\", \"1514\", \"1516\", \"1518\", \"1520\", \"1522\", \"1524\", \"1526\", \"1528\", \"1530\", \"1532\", \"1534\", \"1536\", \"1538\", \"1540\", \"1542\", \"1544\", \"1546\", \"1548\", \"1550\", \"1552\", \"1554\", \"1556\", \"1558\", \"1560\", \"1562\", \"1564\", \"1566\", \"1568\", \"1570\", \"1572\", \"1574\", \"1576\", \"1578\", \"1580\", \"1582\", \"1584\", \"1586\", \"1588\", \"1590\", \"1592\", \"1594\", \"1596\", \"1598\", \"1600\", \"1602\", \"1604\", \"1606\", \"1608\", \"1610\", \"1612\", \"1614\", \"1616\", \"1618\", \"1620\", \"1622\", \"1624\", \"1626\", \"1628\", \"1630\", \"1632\", \"1634\", \"1636\", \"1638\", \"1640\", \"1642\", \"1644\", \"1646\", \"1648\", \"1650\", \"1652\", \"1654\", \"1656\", \"1658\", \"1660\", \"1662\", \"1664\", \"1666\", \"1668\", \"1670\", \"1672\", \"1674\", \"1676\", \"1678\", \"1680\", \"1682\", \"1684\", \"1686\", \"1688\", \"1690\", \"1692\", \"1694\", \"1696\", \"1698\", \"1700\", \"1702\", \"1704\", \"1706\", \"1708\", \"1710\", \"1712\", \"1714\", \"1716\", \"1718\", \"1720\", \"1722\", \"1724\", \"1726\", \"1728\", \"1730\", \"1732\", \"1734\", \"1736\", \"1738\", \"1740\", \"1742\", \"1744\", \"1746\", \"1748\", \"1750\", \"1752\", \"1754\", \"1756\", \"1758\", \"1760\", \"1762\", \"1764\", \"1766\", \"1768\", \"1770\", \"1772\", \"1774\", \"1776\", \"1778\", \"1780\", \"1782\", \"1784\", \"1786\", \"1788\", \"1790\", \"1792\", \"1794\", \"1796\", \"1798\", \"1800\", \"1802\", \"1804\", \"1806\", \"1808\", \"1810\", \"1812\", \"1814\", \"1816\", \"1818\", \"1820\", \"1822\", \"1824\", \"1826\", \"1828\", \"1830\", \"1832\", \"1834\", \"1836\", \"1838\", \"1840\", \"1842\", \"1844\", \"1846\", \"1848\", \"1850\", \"1852\", \"1854\", \"1856\", \"1858\", \"1860\", \"1862\", \"1864\", \"1866\", \"1868\", \"1870\", \"1872\", \"1874\", \"1876\", \"1878\", \"1880\", \"1882\", \"1884\", \"1886\", \"1888\", \"1890\", \"1892\", \"1894\", \"1896\", \"1898\", \"1900\", \"1902\", \"1904\", \"1906\", \"1908\", \"1910\", \"1912\", \"1914\", \"1916\", \"1918\", \"1920\", \"1922\", \"1924\", \"1926\", \"1928\", \"1930\", \"1932\", \"1934\", \"1936\", \"1938\", \"1940\", \"1942\", \"1944\", \"1946\", \"1948\", \"1950\", \"1952\", \"1954\", \"1956\", \"1958\", \"1960\", \"1962\", \"1964\", \"1966\", \"1968\", \"1970\", \"1972\", \"1974\", \"1976\", \"1978\", \"1980\", \"1982\", \"1984\", \"1986\", \"1988\", \"1990\", \"1992\", \"1994\", \"1996\", \"1998\", \"2000\", \"2002\", \"2004\", \"2006\", \"2008\", \"2010\", \"2012\", \"2014\", \"2016\", \"2018\", \"2020\", \"2022\", \"2024\", \"2026\", \"2028\", \"2030\", \"2032\", \"2034\", \"2036\", \"2038\", \"2040\", \"2042\", \"2044\", \"2046\", \"2048\", \"2050\", \"2052\", \"2054\", \"2056\", \"2058\", \"2060\", \"2062\", \"2064\", \"2066\", \"2068\", \"2070\", \"2072\", \"2074\", \"2076\", \"2078\", \"2080\", \"2082\", \"2084\", \"2086\", \"2088\", \"2090\", \"2092\", \"2094\", \"2096\", \"2098\", \"2100\", \"2102\", \"2104\", \"2106\", \"2108\", \"2110\", \"2112\", \"2114\", \"2116\", \"2118\", \"2120\", \"2122\", \"2124\", \"2126\", \"2128\", \"2130\", \"2132\", \"2134\", \"2136\", \"2138\", \"2140\", \"2142\", \"2144\", \"2146\", \"2148\", \"2150\", \"2152\", \"2154\", \"2156\", \"2158\", \"2160\", \"2162\", \"2164\", \"2166\", \"2168\", \"2170\", \"2172\", \"2174\", \"2176\", \"2178\", \"2180\", \"2182\", \"2184\", \"2186\", \"2188\", \"2190\", \"2192\", \"2194\", \"2196\", \"2198\", \"2200\", \"2202\", \"2204\", \"2206\", \"2208\", \"2210\", \"2212\", \"2214\", \"2216\", \"2218\", \"2220\", \"2222\", \"2224\", \"2226\", \"2228\", \"2230\", \"2232\", \"2234\", \"2236\", \"2238\", \"2240\", \"2242\", \"2244\", \"2246\", \"2248\", \"2250\", \"2252\", \"2254\", \"2256\", \"2258\", \"2260\", \"2262\", \"2264\", \"2266\", \"2268\", \"2270\", \"2272\", \"2274\", \"2276\", \"2278\", \"2280\", \"2282\", \"2284\", \"2286\", \"2288\", \"2290\", \"2292\", \"2294\", \"2296\", \"2298\", \"2300\", \"2302\", \"2304\", \"2306\", \"2308\", \"2310\", \"2312\", \"2314\", \"2316\", \"2318\", \"2320\", \"2322\", \"2324\", \"2326\", \"2328\", \"2330\", \"2332\", \"2334\", \"2336\", \"2338\", \"2340\", \"2342\", \"2344\", \"2346\", \"2348\", \"2350\", \"2352\", \"2354\", \"2356\", \"2358\", \"2360\", \"2362\", \"2364\", \"2366\", \"2368\", \"2370\", \"2372\", \"2374\", \"2376\", \"2378\", \"2380\", \"2382\", \"2384\", \"2386\", \"2388\", \"2390\", \"2392\", \"2394\", \"2396\", \"2398\", \"2400\", \"2402\", \"2404\", \"2406\", \"2408\", \"2410\", \"2412\", \"2414\", \"2416\", \"2418\", \"2420\", \"2422\", \"2424\", \"2426\", \"2428\", \"2430\", \"2432\", \"2434\", \"2436\", \"2438\", \"2440\", \"2442\", \"2444\", \"2446\", \"2448\", \"2450\", \"2452\", \"2454\", \"2456\", \"2458\", \"2460\", \"2462\", \"2464\", \"2466\", \"2468\", \"2470\", \"2472\", \"2474\", \"2476\", \"2478\", \"2480\", \"2482\", \"2484\", \"2486\", \"2488\", \"2490\", \"2492\", \"2494\", \"2496\", \"2498\", \"2500\", \"2502\", \"2504\", \"2506\", \"2508\", \"2510\", \"2512\", \"2514\", \"2516\", \"2518\", \"2520\", \"2522\", \"2524\", \"2526\", \"2528\", \"2530\", \"2532\", \"2534\", \"2536\", \"2538\", \"2540\", \"2542\", \"2544\", \"2546\", \"2548\", \"2550\", \"2552\", \"2554\", \"2556\", \"2558\", \"2560\", \"2562\", \"2564\", \"2566\", \"2568\", \"2570\", \"2572\", \"2574\", \"2576\", \"2578\", \"2580\", \"2582\", \"2584\", \"2586\", \"2588\", \"2590\", \"2592\", \"2594\", \"2596\", \"2598\", \"2600\", \"2602\", \"2604\", \"2606\", \"2608\", \"2610\", \"2612\", \"2614\", \"2616\", \"2618\", \"2620\", \"2622\", \"2624\", \"2626\", \"2628\", \"2630\", \"2632\", \"2634\", \"2636\", \"2638\", \"2640\", \"2642\", \"2644\", \"2646\", \"2648\", \"2650\", \"2652\", \"2654\", \"2656\", \"2658\", \"2660\", \"2662\", \"2664\", \"2666\", \"2668\", \"2670\", \"2672\", \"2674\", \"2676\", \"2678\", \"2680\", \"2682\", \"2684\", \"2686\", \"2688\", \"2690\", \"2692\", \"2694\", \"2696\", \"2698\", \"2700\", \"2702\", \"2704\", \"2706\", \"2708\", \"2710\", \"2712\", \"2714\", \"2716\", \"2718\", \"2720\", \"2722\", \"2724\", \"2726\", \"2728\", \"2730\", \"2732\", \"2734\", \"2736\", \"2738\", \"2740\", \"2742\", \"2744\", \"2746\", \"2748\", \"2750\", \"2752\", \"2754\", \"2756\", \"2758\", \"2760\", \"2762\", \"2764\", \"2766\", \"2768\", \"2770\", \"2772\", \"2774\", \"2776\", \"2778\", \"2780\", \"2782\", \"2784\", \"2786\", \"2788\", \"2790\", \"2792\", \"2794\", \"2796\", \"2798\", \"2800\", \"2802\", \"2804\", \"2806\", \"2808\", \"2810\", \"2812\", \"2814\", \"2816\", \"2818\", \"2820\", \"2822\", \"2824\", \"2826\", \"2828\", \"2830\", \"2832\", \"2834\", \"2836\", \"2838\", \"2840\", \"2842\", \"2844\", \"2846\", \"2848\", \"2850\", \"2852\", \"2854\", \"2856\", \"2858\", \"2860\", \"2862\", \"2864\", \"2866\", \"2868\", \"2870\", \"2872\", \"2874\", \"2876\", \"2878\", \"2880\", \"2882\", \"2884\", \"2886\", \"2888\", \"2890\", \"2892\", \"2894\", \"2896\", \"2898\", \"2900\", \"2902\", \"2904\", \"2906\", \"2908\", \"2910\", \"2912\", \"2914\", \"2916\", \"2918\", \"2920\", \"2922\", \"2924\", \"2926\", \"2928\", \"2930\", \"2932\", \"2934\", \"2936\", \"2938\", \"2940\", \"2942\", \"2944\", \"2946\", \"2948\", \"2950\", \"2952\", \"2954\", \"2956\", \"2958\", \"2960\", \"2962\", \"2964\", \"2966\", \"2968\", \"2970\", \"2972\", \"2974\", \"2976\", \"2978\", \"2980\", \"2982\", \"2984\", \"2986\", \"2988\", \"2990\", \"2992\", \"2994\", \"2996\", \"2998\", \"3000\", \"3002\", \"3004\", \"3006\", \"3008\", \"3010\", \"3012\", \"3014\", \"3016\", \"3018\", \"3020\", \"3022\", \"3024\", \"3026\", \"3028\", \"3030\", \"3032\", \"3034\", \"3036\", \"3038\", \"3040\", \"3042\", \"3044\", \"3046\", \"3048\", \"3050\", \"3052\", \"3054\", \"3056\", \"3058\", \"3060\", \"3062\", \"3064\", \"3066\", \"3068\", \"3070\", \"3072\", \"3074\", \"3076\", \"3078\", \"3080\", \"3082\", \"3084\", \"3086\", \"3088\", \"3090\", \"3092\", \"3094\", \"3096\", \"3098\", \"3100\", \"3102\", \"3104\", \"3106\", \"3108\", \"3110\", \"3112\", \"3114\", \"3116\", \"3118\", \"3120\", \"3122\", \"3124\", \"3126\", \"3128\", \"3130\", \"3132\", \"3134\", \"3136\", \"3138\", \"3140\", \"3142\", \"3144\", \"3146\", \"3148\", \"3150\", \"3152\", \"3154\", \"3156\", \"3158\", \"3160\", \"3162\", \"3164\", \"3166\", \"3168\", \"3170\", \"3172\", \"3174\", \"3176\", \"3178\", \"3180\", \"3182\", \"3184\", \"3186\", \"3188\", \"3190\", \"3192\", \"3194\", \"3196\", \"3198\", \"3200\", \"3202\", \"3204\", \"3206\", \"3208\", \"3210\", \"3212\", \"3214\", \"3216\", \"3218\", \"3220\", \"3222\", \"3224\", \"3226\", \"3228\", \"3230\", \"3232\", \"3234\", \"3236\", \"3238\", \"3240\", \"3242\", \"3244\", \"3246\", \"3248\", \"3250\", \"3252\", \"3254\", \"3256\", \"3258\", \"3260\", \"3262\", \"3264\", \"3266\", \"3268\", \"3270\", \"3272\", \"3274\", \"3276\", \"3278\", \"3280\", \"3282\", \"3284\", \"3286\", \"3288\", \"3290\", \"3292\", \"3294\", \"3296\", \"3298\", \"3300\", \"3302\", \"3304\", \"3306\", \"3308\", \"3310\", \"3312\", \"3314\", \"3316\", \"3318\", \"3320\", \"3322\", \"3324\", \"3326\", \"3328\", \"3330\", \"3332\", \"3334\", \"3336\", \"3338\", \"3340\", \"3342\", \"3344\", \"3346\", \"3348\", \"3350\", \"3352\", \"3354\", \"3356\", \"3358\", \"3360\", \"3362\", \"3364\", \"3366\", \"3368\", \"3370\", \"3372\", \"3374\", \"3376\", \"3378\", \"3380\", \"3382\", \"3384\", \"3386\", \"3388\", \"3390\", \"3392\", \"3394\", \"3396\", \"3398\", \"3400\", \"3402\", \"3404\", \"3406\", \"3408\", \"3410\", \"3412\", \"3414\", \"3416\", \"3418\", \"3420\", \"3422\", \"3424\", \"3426\", \"3428\", \"3430\", \"3432\", \"3434\", \"3436\", \"3438\", \"3440\", \"3442\", \"3444\", \"3446\", \"3448\", \"3450\", \"3452\", \"3454\", \"3456\", \"3458\", \"3460\", \"3462\", \"3464\", \"3466\", \"3468\", \"3470\", \"3472\", \"3474\", \"3476\", \"3478\", \"3480\", \"3482\", \"3484\", \"3486\", \"3488\", \"3490\", \"3492\", \"3494\", \"3496\", \"3498\", \"3500\", \"3502\", \"3504\", \"3506\", \"3508\", \"3510\", \"3512\", \"3514\", \"3516\", \"3518\", \"3520\", \"3522\", \"3524\", \"3526\", \"3528\", \"3530\", \"3532\", \"3534\", \"3536\", \"3538\", \"3540\", \"3542\", \"3544\", \"3546\", \"3548\", \"3550\", \"3552\", \"3554\", \"3556\", \"3558\", \"3560\", \"3562\", \"3564\", \"3566\", \"3568\", \"3570\", \"3572\", \"3574\", \"3576\", \"3578\", \"3580\", \"3582\", \"3584\", \"3586\", \"3588\", \"3590\", \"3592\", \"3594\", \"3596\", \"3598\", \"3600\", \"3602\", \"3604\", \"3606\", \"3608\", \"3610\", \"3612\", \"3614\", \"3616\", \"3618\", \"3620\", \"3622\", \"3624\", \"3626\", \"3628\", \"3630\", \"3632\", \"3634\", \"3636\", \"3638\", \"3640\", \"3642\", \"3644\", \"3646\", \"3648\", \"3650\", \"3652\", \"3654\", \"3656\", \"3658\", \"3660\", \"3662\", \"3664\", \"3666\", \"3668\", \"3670\", \"3672\", \"3674\", \"3676\", \"3678\", \"3680\", \"3682\", \"3684\", \"3686\", \"3688\", \"3690\", \"3692\", \"3694\", \"3696\", \"3698\", \"3700\", \"3702\", \"3704\", \"3706\", \"3708\", \"3710\", \"3712\", \"3714\", \"3716\", \"3718\", \"3720\", \"3722\", \"3724\", \"3726\", \"3728\", \"3730\", \"3732\", \"3734\", \"3736\", \"3738\", \"3740\", \"3742\", \"3744\", \"3746\", \"3748\", \"3750\", \"3752\", \"3754\", \"3756\", \"3758\", \"3760\", \"3762\", \"3764\", \"3766\", \"3768\", \"3770\", \"3772\", \"3774\", \"3776\", \"3778\", \"3780\", \"3782\", \"3784\", \"3786\", \"3788\", \"3790\", \"3792\", \"3794\", \"3796\", \"3798\", \"3800\", \"3802\", \"3804\", \"3806\", \"3808\", \"3810\", \"3812\", \"3814\", \"3816\", \"3818\", \"3820\", \"3822\", \"3824\", \"3826\", \"3828\", \"3830\", \"3832\", \"3834\", \"3836\", \"3838\", \"3840\", \"3842\", \"3844\", \"3846\", \"3848\", \"3850\", \"3852\", \"3854\", \"3856\", \"3858\", \"3860\", \"3862\", \"3864\", \"3866\", \"3868\", \"3870\", \"3872\", \"3874\", \"3876\", \"3878\", \"3880\", \"3882\", \"3884\", \"3886\", \"3888\", \"3890\", \"3892\", \"3894\", \"3896\", \"3898\", \"3900\", \"3902\", \"3904\", \"3906\", \"3908\", \"3910\", \"3912\", \"3914\", \"3916\", \"3918\", \"3920\", \"3922\", \"3924\", \"3926\", \"3928\", \"3930\", \"3932\", \"3934\", \"3936\", \"3938\", \"3940\", \"3942\", \"3944\", \"3946\", \"3948\", \"3950\", \"3952\", \"3954\", \"3956\", \"3958\", \"3960\", \"3962\", \"3964\", \"3966\", \"3968\", \"3970\", \"3972\", \"3974\", \"3976\", \"3978\", \"3980\", \"3982\", \"3984\", \"3986\", \"3988\", \"3990\", \"3992\", \"3994\", \"3996\", \"3998\", \"4000\"], \"y\": [0.0, 0.0, 0.0, 0.0, 0.0, 0.0, 0.0, 0.0, 0.0, 0.0, 0.0, 0.0, 0.0, 0.0, 0.0, 0.0, 0.0, 0.0, 0.0, 0.0, 0.0, 0.0, 0.0, 0.0, 0.0, 0.0, 0.0, 0.0, 0.0, 0.0, 0.0, 0.0, 0.0, 0.0, 0.0, 0.0, 0.0, 0.0, 0.0, 0.0, 0.0, 0.0, 0.0, 0.0, 0.0, 0.0, 0.0, 0.0, 0.0, 0.0, 0.0, 0.0, 0.0, 0.0, 0.0, 0.0, 0.0, 0.0, 0.0, 0.0, 0.0, 0.0, 0.0, 0.0, 0.0, 0.0, 0.0, 0.0, 0.0, 0.0, 0.0, 0.0, 0.0, 0.0, 0.0, 0.0, 0.0, 0.0, 0.0, 0.0, 0.0, 0.0, 0.0, 0.0, 0.0, 0.0, 0.0, 0.0, 0.0, 0.0, 0.0, 0.0, 0.0, 0.0, 0.0, 0.0, 0.0, 0.0, 0.0, 0.0, 0.0, 0.0, 0.0, 0.0, 0.0, 0.0, 0.0, 0.0, 0.0, 0.0, 0.0, 0.0, 0.0, 0.0, 0.0, 0.0, 0.0, 0.0, 0.0, 0.0, 0.0, 0.0, 0.0, 0.0, 0.0, 0.0, 0.0, 0.0, 0.0, 0.0, 0.0, 0.0, 0.0, 0.0, 0.0, 0.0, 0.0, 0.0, 0.0, 0.0, 0.0, 0.0, 0.0, 0.0, 0.0, 0.0, 0.0, 0.0, 0.0, 0.0, 0.0, 0.0, 0.0, 0.0, 0.0, 0.0, 0.0, 0.0, 0.0, 0.0, 0.0, 0.0, 0.0, 0.0, 0.0, 0.0, 0.0, 0.0, 0.0, 0.0, 0.0, 0.0, 0.0, 0.0, 0.0, 0.0, 0.0, 0.0, 0.0, 0.0, 0.0, 0.0, 0.0, 0.0, 0.0, 0.0, 0.0, 0.0, 0.0, 0.0, 0.0, 0.0, 0.0, 0.0, 0.0, 0.0, 0.0, 0.0, 0.0, 0.0, 0.0, 0.0, 0.0, 0.20372359116227345, 0.2105256700258989, 0.21773979986387662, 0.22538268083976604, 0.23346862737947513, 0.24200956817126051, 0.2510143645263987, 0.26048676546119887, 0.2704260893363321, 0.28082620139783776, 0.29167346885913686, 0.3029460792617028, 0.3146140404750617, 0.32663815823779874, 0.3389696953378937, 0.3515507124323856, 0.364315090506366, 0.37718989415163673, 0.3900970756650329, 0.4029562016057378, 0.415686838532935, 0.42821196120245264, 0.44046136076340875, 0.4523730080368685, 0.4638950984338314, 0.4749884376928826, 0.48562576024086407, 0.49579138837320974, 0.5054788465162947, 0.5146888163094478, 0.523424705949314, 0.5316885603538798, 0.5394759488675073, 0.5467725570642885, 0.553550437731736, 0.5597663067724616, 0.5653625656631686, 0.5702690055529747, 0.5744089420173728, 0.5777039865335333, 0.5800846118899029, 0.5814969685794943, 0.5819117461111624, 0.5813296261242362, 0.5797863946834858, 0.5773543055577803, 0.5741393536627718, 0.5702768444052577, 0.565925599748884, 0.5612604601815273, 0.5564627417646891, 0.5517130789205422, 0.5471852896779696, 0.5430402409186044, 0.5394217585408555, 0.5364545825419216, 0.5342436853784615, 0.5328729086879362, 0.5324053041082742, 0.5328858598351864, 0.5343404781631728, 0.5367793836821679, 0.5401981457365334, 0.5445797233430455, 0.5498965101088815, 0.5561137424282651, 0.5631918852201167, 0.5710903809443635, 0.5797703761592554, 0.5891998338163316, 0.599355237358743, 0.6102246580982331, 0.6218087776741307, 0.6341215696926794, 0.6471879139893861, 0.661040188432376, 0.6757145199060837, 0.6912432862786343, 0.7076489816478835, 0.7249370591284626, 0.7430870695405034, 0.7620478899343343, 0.7817302255578621, 0.8020014975616057, 0.822684479720037, 0.8435552535135951, 0.8643459346860011, 0.884751148817884, 0.9044358701790631, 0.9230500769741212, 0.9402444290469695, 0.9556893537820585, 0.9690934503662617, 0.9802232573294118, 0.9889172261505474, 0.9950949233888516, 0.9987607796999628, 0.9999999999999999, 0.9989673164166356, 0.9958689248468783, 0.9909457847935127, 0.9844501028082517, 0.9766262465905253, 0.9676957489222431, 0.9578443565205448, 0.9472158952838398, 0.9359115886524773, 0.9239948290840504, 0.9114986760860132, 0.8984367624449446, 0.884814882095141, 0.8706429188068721, 0.8559433666779931, 0.840758146527235, 0.8251496283531967, 0.8091999496950174, 0.7930065849767373, 0.7766738250156862, 0.760305278989865, 0.7439956947659983, 0.7278224384079223, 0.7118414043406109, 0.6960819030552097, 0.6805480243876918, 0.6652189783385245, 0.6500552298266283, 0.6350029293450161, 0.6200017518130753, 0.6049940987075095, 0.5899305511769696, 0.5747760047960143, 0.5595164859584002, 0.5441577885984233, 0.5287285415679, 0.5132747555215341, 0.49785982291691877, 0.4825559975229226, 0.4674416678623757, 0.45259556327777184, 0.4380923232756314, 0.42399840769052755, 0.41037039258676333, 0.3972536069797141, 0.3846800879178407, 0.3726689213023537, 0.36122692352654284, 0.35034966393476985, 0.3400221464617977, 0.33021983209178407, 0.32091068377626825, 0.31205721135215775, 0.30361715318105736, 0.29554654352624976, 0.2878007350116884, 0.2803364435399848, 0.27311413403005963, 0.2660987020564718, 0.2592615187674052, 0.25257940842567556, 0.24603635250705244, 0.23962212642160147, 0.23333229951368445, 0.22716584932430797, 0.22112584323045237, 0.21521671188775585, 0.209443226771521, 0.20381050017671498, 0.0, 0.0, 0.0, 0.0, 0.0, 0.0, 0.0, 0.0, 0.0, 0.0, 0.0, 0.0, 0.0, 0.0, 0.0, 0.0, 0.0, 0.0, 0.0, 0.0, 0.0, 0.0, 0.0, 0.0, 0.0, 0.0, 0.0, 0.0, 0.0, 0.0, 0.0, 0.0, 0.0, 0.0, 0.0, 0.0, 0.0, 0.0, 0.0, 0.0, 0.0, 0.0, 0.0, 0.0, 0.0, 0.0, 0.0, 0.0, 0.0, 0.0, 0.0, 0.0, 0.0, 0.0, 0.0, 0.0, 0.0, 0.0, 0.0, 0.0, 0.0, 0.0, 0.0, 0.0, 0.0, 0.0, 0.0, 0.0, 0.0, 0.0, 0.0, 0.0, 0.0, 0.0, 0.0, 0.0, 0.0, 0.0, 0.0, 0.0, 0.0, 0.0, 0.0, 0.0, 0.0, 0.0, 0.0, 0.0, 0.0, 0.0, 0.0, 0.0, 0.0, 0.0, 0.0, 0.0, 0.0, 0.0, 0.0, 0.0, 0.0, 0.0, 0.0, 0.0, 0.0, 0.0, 0.0, 0.0, 0.0, 0.0, 0.0, 0.0, 0.0, 0.0, 0.0, 0.0, 0.0, 0.0, 0.0, 0.0, 0.0, 0.0, 0.0, 0.0, 0.0, 0.0, 0.0, 0.0, 0.0, 0.0, 0.0, 0.0, 0.0, 0.0, 0.0, 0.0, 0.0, 0.0, 0.0, 0.0, 0.0, 0.0, 0.0, 0.0, 0.0, 0.0, 0.0, 0.0, 0.0, 0.0, 0.0, 0.0, 0.0, 0.0, 0.0, 0.0, 0.0, 0.0, 0.0, 0.0, 0.0, 0.0, 0.0, 0.0, 0.0, 0.0, 0.0, 0.0, 0.0, 0.0, 0.0, 0.0, 0.0, 0.0, 0.0, 0.0, 0.0, 0.0, 0.0, 0.0, 0.0, 0.0, 0.0, 0.0, 0.0, 0.0, 0.0, 0.0, 0.0, 0.0, 0.0, 0.0, 0.0, 0.0, 0.0, 0.0, 0.0, 0.0, 0.0, 0.0, 0.0, 0.0, 0.0, 0.0, 0.0, 0.0, 0.0, 0.0, 0.0, 0.0, 0.0, 0.0, 0.0, 0.0, 0.0, 0.0, 0.0, 0.0, 0.0, 0.0, 0.0, 0.0, 0.0, 0.0, 0.0, 0.0, 0.0, 0.0, 0.0, 0.0, 0.0, 0.0, 0.0, 0.0, 0.0, 0.0, 0.0, 0.0, 0.0, 0.0, 0.0, 0.0, 0.0, 0.0, 0.0, 0.0, 0.0, 0.0, 0.0, 0.0, 0.0, 0.0, 0.0, 0.0, 0.0, 0.0, 0.0, 0.0, 0.0, 0.0, 0.0, 0.0, 0.0, 0.0, 0.0, 0.0, 0.0, 0.0, 0.0, 0.0, 0.0, 0.0, 0.0, 0.0, 0.0, 0.0, 0.0, 0.0, 0.0, 0.0, 0.0, 0.0, 0.0, 0.0, 0.0, 0.0, 0.0, 0.0, 0.0, 0.0, 0.0, 0.0, 0.0, 0.0, 0.0, 0.0, 0.0, 0.0, 0.0, 0.0, 0.0, 0.0, 0.0, 0.0, 0.0, 0.0, 0.0, 0.0, 0.0, 0.0, 0.0, 0.0, 0.0, 0.0, 0.0, 0.0, 0.0, 0.0, 0.0, 0.0, 0.0, 0.0, 0.0, 0.0, 0.0, 0.0, 0.0, 0.0, 0.0, 0.0, 0.0, 0.0, 0.0, 0.0, 0.0, 0.0, 0.0, 0.0, 0.0, 0.0, 0.0, 0.0, 0.0, 0.0, 0.0, 0.0, 0.0, 0.0, 0.0, 0.0, 0.0, 0.0, 0.0, 0.0, 0.0, 0.0, 0.0, 0.0, 0.0, 0.0, 0.0, 0.0, 0.0, 0.0, 0.0, 0.0, 0.0, 0.0, 0.0, 0.0, 0.0, 0.0, 0.0, 0.0, 0.0, 0.0, 0.0, 0.0, 0.0, 0.0, 0.0, 0.0, 0.0, 0.0, 0.0, 0.0, 0.0, 0.0, 0.0, 0.0, 0.0, 0.0, 0.0, 0.0, 0.0, 0.0, 0.0, 0.0, 0.0, 0.0, 0.0, 0.0, 0.0, 0.0, 0.0, 0.0, 0.0, 0.0, 0.0, 0.0, 0.0, 0.0, 0.0, 0.0, 0.0, 0.0, 0.0, 0.0, 0.0, 0.0, 0.0, 0.0, 0.0, 0.0, 0.0, 0.0, 0.0, 0.0, 0.0, 0.0, 0.0, 0.0, 0.0, 0.0, 0.0, 0.0, 0.0, 0.0, 0.0, 0.0, 0.0, 0.0, 0.0, 0.0, 0.0, 0.0, 0.0, 0.0, 0.0, 0.0, 0.0, 0.0, 0.0, 0.0, 0.0, 0.0, 0.0, 0.0, 0.0, 0.0, 0.0, 0.0, 0.0, 0.0, 0.0, 0.0, 0.0, 0.0, 0.0, 0.0, 0.0, 0.0, 0.0, 0.0, 0.0, 0.0, 0.0, 0.0, 0.0, 0.0, 0.0, 0.0, 0.0, 0.0, 0.0, 0.0, 0.0, 0.0, 0.0, 0.0, 0.0, 0.0, 0.0, 0.0, 0.0, 0.0, 0.0, 0.0, 0.0, 0.0, 0.0, 0.0, 0.0, 0.0, 0.0, 0.0, 0.0, 0.0, 0.0, 0.0, 0.0, 0.0, 0.0, 0.0, 0.0, 0.0, 0.0, 0.0, 0.0, 0.0, 0.0, 0.0, 0.0, 0.0, 0.0, 0.0, 0.0, 0.0, 0.0, 0.0, 0.0, 0.0, 0.0, 0.0, 0.0, 0.0, 0.0, 0.0, 0.0, 0.0, 0.0, 0.0, 0.0, 0.0, 0.0, 0.0, 0.0, 0.0, 0.0, 0.0, 0.0, 0.0, 0.0, 0.0, 0.0, 0.0, 0.0, 0.0, 0.0, 0.0, 0.0, 0.0, 0.0, 0.0, 0.0, 0.0, 0.0, 0.0, 0.0, 0.0, 0.0, 0.0, 0.0, 0.0, 0.0, 0.0, 0.0, 0.0, 0.0, 0.0, 0.0, 0.0, 0.0, 0.0, 0.0, 0.0, 0.0, 0.0, 0.0, 0.0, 0.0, 0.0, 0.0, 0.0, 0.0, 0.0, 0.0, 0.0, 0.0, 0.0, 0.0, 0.0, 0.0, 0.0, 0.0, 0.0, 0.0, 0.0, 0.0, 0.0, 0.0, 0.0, 0.0, 0.0, 0.0, 0.0, 0.0, 0.0, 0.0, 0.0, 0.0, 0.0, 0.0, 0.0, 0.0, 0.0, 0.0, 0.0, 0.0, 0.0, 0.0, 0.0, 0.0, 0.0, 0.0, 0.0, 0.0, 0.0, 0.0, 0.0, 0.0, 0.0, 0.0, 0.0, 0.0, 0.0, 0.0, 0.0, 0.0, 0.0, 0.0, 0.0, 0.0, 0.0, 0.0, 0.0, 0.0, 0.0, 0.0, 0.0, 0.0, 0.0, 0.0, 0.0, 0.0, 0.0, 0.0, 0.0, 0.0, 0.0, 0.0, 0.0, 0.0, 0.0, 0.0, 0.0, 0.0, 0.0, 0.0, 0.0, 0.0, 0.0, 0.0, 0.0, 0.0, 0.0, 0.0, 0.0, 0.0, 0.0, 0.0, 0.0, 0.0, 0.0, 0.0, 0.0, 0.0, 0.0, 0.0, 0.0, 0.0, 0.0, 0.0, 0.0, 0.0, 0.0, 0.0, 0.0, 0.0, 0.0, 0.0, 0.0, 0.0, 0.0, 0.0, 0.0, 0.0, 0.0, 0.0, 0.0, 0.0, 0.0, 0.0, 0.0, 0.0, 0.0, 0.0, 0.0, 0.0, 0.0, 0.0, 0.0, 0.0, 0.0, 0.0, 0.0, 0.0, 0.0, 0.0, 0.0, 0.0, 0.0, 0.0, 0.0, 0.0, 0.0, 0.0, 0.0, 0.0, 0.0, 0.0, 0.0, 0.0, 0.0, 0.0, 0.0, 0.0, 0.0, 0.0, 0.0, 0.0, 0.0, 0.0, 0.0, 0.0, 0.0, 0.0, 0.0, 0.0, 0.0, 0.0, 0.0, 0.0, 0.0, 0.0, 0.0, 0.0, 0.0, 0.0, 0.0, 0.0, 0.0, 0.0, 0.0, 0.0, 0.0, 0.0, 0.0, 0.0, 0.0, 0.0, 0.0, 0.0, 0.0, 0.0, 0.0, 0.0, 0.0, 0.0, 0.0, 0.0, 0.0, 0.0, 0.0, 0.0, 0.0, 0.0, 0.0, 0.0, 0.0, 0.0, 0.0, 0.0, 0.0, 0.0, 0.0, 0.0, 0.0, 0.0, 0.0, 0.0, 0.0, 0.0, 0.0, 0.0, 0.0, 0.0, 0.0, 0.0, 0.0, 0.0, 0.0, 0.0, 0.0, 0.0, 0.0, 0.0, 0.0, 0.0, 0.0, 0.0, 0.0, 0.0, 0.0, 0.0, 0.0, 0.0, 0.0, 0.0, 0.0, 0.0, 0.0, 0.0, 0.0, 0.0, 0.0, 0.0, 0.0, 0.0, 0.0, 0.0, 0.0, 0.0, 0.0, 0.0, 0.0, 0.20125707925045577, 0.2100870351177174, 0.2191647668810536, 0.22845789667233904, 0.23792995678747478, 0.24754073050605244, 0.257249319468335, 0.2670151661342495, 0.2768014619800327, 0.2865761699572237, 0.2963144102303157, 0.3059984601767559, 0.31561809520661005, 0.32516820302491084, 0.3346470795333361, 0.34405097571557647, 0.35337137108002004, 0.36259020218444954, 0.37167406870174635, 0.3805732109608968, 0.38921810175034754, 0.3975201279573348, 0.4053732946662063, 0.41265729253540173, 0.4192446550104069, 0.42500655225804956, 0.4298202891991181, 0.4335785076393024, 0.4361963434821477, 0.43761585738469305, 0.4378114878721026, 0.43678902887867266, 0.43458733384615333, 0.4312725217894532, 0.4269349099196586, 0.42168083397208617, 0.41562889918997387, 0.40890145983286885, 0.40162291507830505, 0.39391255180884927, 0.3858842037924367, 0.37764488840371313, 0.3692924208863833, 0.36091643681220464, 0.352597710441658, 0.34440781390428354, 0.3364097988380095, 0.32865546983183613, 0.32118708852415884, 0.31403601032410927, 0.30722200277222717, 0.3007539271797889, 0.2946314427271299, 0.2888439840046515, 0.28337451002912983, 0.2781998450633805, 0.2732937459932388, 0.2686279247865531, 0.264174093411172, 0.2599049862939372, 0.2557947011403485, 0.25181869893456366, 0.24795312230006922, 0.2441737730406874, 0.24045611214057586, 0.23677219238724748, 0.2330916808305639, 0.22938185878273532, 0.22560796263798508, 0.22173454715120772, 0.217727189536291, 0.2135545343841031, 0.20919136103947272, 0.20462028769951154, 0.0, 0.0, 0.0, 0.0, 0.0, 0.0, 0.0, 0.0, 0.0, 0.0, 0.0, 0.0, 0.0, 0.0, 0.0, 0.0, 0.0, 0.0, 0.0, 0.0, 0.0, 0.0, 0.0, 0.0, 0.0, 0.0, 0.0, 0.0, 0.0, 0.0, 0.0, 0.0, 0.0, 0.0, 0.0, 0.0, 0.0, 0.0, 0.0, 0.0, 0.0, 0.0, 0.0, 0.0, 0.0, 0.0, 0.0, 0.0, 0.0, 0.0, 0.0, 0.0, 0.0, 0.0, 0.0, 0.0, 0.0, 0.0, 0.0, 0.0, 0.0, 0.0, 0.0, 0.0, 0.0, 0.0, 0.0, 0.0, 0.0, 0.0, 0.0, 0.0, 0.0, 0.0, 0.0, 0.0, 0.0, 0.0, 0.0, 0.0, 0.0, 0.0, 0.0, 0.0, 0.0, 0.0, 0.0, 0.0, 0.0, 0.0, 0.0, 0.0, 0.0, 0.0, 0.0, 0.0, 0.0, 0.0, 0.0, 0.0, 0.0, 0.0, 0.0, 0.0, 0.0, 0.0, 0.0, 0.0, 0.0, 0.0, 0.0, 0.0, 0.0, 0.0, 0.0, 0.0, 0.0, 0.0, 0.0, 0.0, 0.0, 0.0, 0.0, 0.0, 0.0, 0.0, 0.0, 0.0, 0.0, 0.0, 0.0, 0.0, 0.0, 0.0, 0.0, 0.0, 0.0, 0.0, 0.0, 0.0, 0.0, 0.0, 0.0, 0.0, 0.0, 0.0, 0.0, 0.0, 0.0, 0.0, 0.0, 0.0, 0.0, 0.0, 0.0, 0.0, 0.0, 0.0, 0.0, 0.0, 0.0, 0.0, 0.0, 0.0, 0.0, 0.0, 0.0, 0.0, 0.0, 0.0, 0.0, 0.0, 0.0, 0.0, 0.0, 0.0, 0.0, 0.0, 0.0, 0.0, 0.0, 0.0, 0.0, 0.0, 0.0, 0.0, 0.0, 0.0, 0.0, 0.0, 0.0, 0.0, 0.0, 0.0, 0.0, 0.0, 0.0, 0.0, 0.0, 0.0, 0.0, 0.0, 0.0, 0.0, 0.0, 0.0, 0.0, 0.0, 0.0, 0.0, 0.0, 0.0, 0.0, 0.0, 0.0, 0.0, 0.0, 0.0, 0.0, 0.0, 0.0, 0.0, 0.0, 0.0, 0.0, 0.0, 0.0, 0.0, 0.0, 0.0, 0.0, 0.0, 0.0, 0.0, 0.0, 0.0, 0.0, 0.0, 0.0, 0.0, 0.0, 0.0, 0.0, 0.0, 0.0, 0.0, 0.0, 0.0, 0.0, 0.0, 0.0, 0.0, 0.0, 0.0, 0.0, 0.0, 0.0, 0.0, 0.0, 0.0, 0.0, 0.0, 0.0, 0.0, 0.0, 0.0, 0.0, 0.0, 0.0, 0.0, 0.0, 0.0, 0.0, 0.0, 0.0, 0.0, 0.0, 0.0, 0.0, 0.0, 0.0, 0.0, 0.0, 0.0, 0.0, 0.0, 0.0, 0.0, 0.0, 0.0, 0.0, 0.0, 0.0, 0.0, 0.0, 0.0, 0.0, 0.0, 0.0, 0.0, 0.0, 0.0, 0.0, 0.0, 0.0, 0.0, 0.0, 0.0, 0.0, 0.0, 0.0, 0.0, 0.0, 0.0, 0.0, 0.0, 0.0, 0.0, 0.0, 0.0, 0.0, 0.0, 0.0, 0.0, 0.0, 0.0, 0.0, 0.0, 0.0, 0.0, 0.0, 0.0, 0.0, 0.0, 0.0, 0.0, 0.0, 0.0, 0.0, 0.0, 0.0, 0.0, 0.0, 0.0, 0.0, 0.0, 0.0, 0.0, 0.0, 0.0, 0.0, 0.0, 0.0, 0.0, 0.0, 0.0, 0.0, 0.0, 0.0, 0.0, 0.0, 0.0, 0.0, 0.0, 0.0, 0.0, 0.0, 0.0, 0.0, 0.0, 0.0, 0.0, 0.0, 0.0, 0.0, 0.0, 0.0, 0.0, 0.0, 0.0, 0.0, 0.0, 0.0, 0.0, 0.0, 0.0, 0.0, 0.0, 0.0, 0.0, 0.0, 0.0, 0.0, 0.0, 0.0, 0.0, 0.0, 0.0, 0.0, 0.0, 0.0, 0.0, 0.0, 0.0, 0.0, 0.0, 0.0, 0.0, 0.0, 0.0, 0.0, 0.0, 0.0, 0.0, 0.0, 0.0, 0.0, 0.0, 0.0, 0.0, 0.0, 0.0, 0.0, 0.0, 0.0, 0.0, 0.0, 0.0, 0.0, 0.0, 0.0, 0.0, 0.0, 0.0, 0.0, 0.0, 0.0, 0.0, 0.0, 0.0]}],\n",
              "                        {\"template\": {\"data\": {\"bar\": [{\"error_x\": {\"color\": \"#2a3f5f\"}, \"error_y\": {\"color\": \"#2a3f5f\"}, \"marker\": {\"line\": {\"color\": \"#E5ECF6\", \"width\": 0.5}}, \"type\": \"bar\"}], \"barpolar\": [{\"marker\": {\"line\": {\"color\": \"#E5ECF6\", \"width\": 0.5}}, \"type\": \"barpolar\"}], \"carpet\": [{\"aaxis\": {\"endlinecolor\": \"#2a3f5f\", \"gridcolor\": \"white\", \"linecolor\": \"white\", \"minorgridcolor\": \"white\", \"startlinecolor\": \"#2a3f5f\"}, \"baxis\": {\"endlinecolor\": \"#2a3f5f\", \"gridcolor\": \"white\", \"linecolor\": \"white\", \"minorgridcolor\": \"white\", \"startlinecolor\": \"#2a3f5f\"}, \"type\": \"carpet\"}], \"choropleth\": [{\"colorbar\": {\"outlinewidth\": 0, \"ticks\": \"\"}, \"type\": \"choropleth\"}], \"contour\": [{\"colorbar\": {\"outlinewidth\": 0, \"ticks\": \"\"}, \"colorscale\": [[0.0, \"#0d0887\"], [0.1111111111111111, \"#46039f\"], [0.2222222222222222, \"#7201a8\"], [0.3333333333333333, \"#9c179e\"], [0.4444444444444444, \"#bd3786\"], [0.5555555555555556, \"#d8576b\"], [0.6666666666666666, \"#ed7953\"], [0.7777777777777778, \"#fb9f3a\"], [0.8888888888888888, \"#fdca26\"], [1.0, \"#f0f921\"]], \"type\": \"contour\"}], \"contourcarpet\": [{\"colorbar\": {\"outlinewidth\": 0, \"ticks\": \"\"}, \"type\": \"contourcarpet\"}], \"heatmap\": [{\"colorbar\": {\"outlinewidth\": 0, \"ticks\": \"\"}, \"colorscale\": [[0.0, \"#0d0887\"], [0.1111111111111111, \"#46039f\"], [0.2222222222222222, \"#7201a8\"], [0.3333333333333333, \"#9c179e\"], [0.4444444444444444, \"#bd3786\"], [0.5555555555555556, \"#d8576b\"], [0.6666666666666666, \"#ed7953\"], [0.7777777777777778, \"#fb9f3a\"], [0.8888888888888888, \"#fdca26\"], [1.0, \"#f0f921\"]], \"type\": \"heatmap\"}], \"heatmapgl\": [{\"colorbar\": {\"outlinewidth\": 0, \"ticks\": \"\"}, \"colorscale\": [[0.0, \"#0d0887\"], [0.1111111111111111, \"#46039f\"], [0.2222222222222222, \"#7201a8\"], [0.3333333333333333, \"#9c179e\"], [0.4444444444444444, \"#bd3786\"], [0.5555555555555556, \"#d8576b\"], [0.6666666666666666, \"#ed7953\"], [0.7777777777777778, \"#fb9f3a\"], [0.8888888888888888, \"#fdca26\"], [1.0, \"#f0f921\"]], \"type\": \"heatmapgl\"}], \"histogram\": [{\"marker\": {\"colorbar\": {\"outlinewidth\": 0, \"ticks\": \"\"}}, \"type\": \"histogram\"}], \"histogram2d\": [{\"colorbar\": {\"outlinewidth\": 0, \"ticks\": \"\"}, \"colorscale\": [[0.0, \"#0d0887\"], [0.1111111111111111, \"#46039f\"], [0.2222222222222222, \"#7201a8\"], [0.3333333333333333, \"#9c179e\"], [0.4444444444444444, \"#bd3786\"], [0.5555555555555556, \"#d8576b\"], [0.6666666666666666, \"#ed7953\"], [0.7777777777777778, \"#fb9f3a\"], [0.8888888888888888, \"#fdca26\"], [1.0, \"#f0f921\"]], \"type\": \"histogram2d\"}], \"histogram2dcontour\": [{\"colorbar\": {\"outlinewidth\": 0, \"ticks\": \"\"}, \"colorscale\": [[0.0, \"#0d0887\"], [0.1111111111111111, \"#46039f\"], [0.2222222222222222, \"#7201a8\"], [0.3333333333333333, \"#9c179e\"], [0.4444444444444444, \"#bd3786\"], [0.5555555555555556, \"#d8576b\"], [0.6666666666666666, \"#ed7953\"], [0.7777777777777778, \"#fb9f3a\"], [0.8888888888888888, \"#fdca26\"], [1.0, \"#f0f921\"]], \"type\": \"histogram2dcontour\"}], \"mesh3d\": [{\"colorbar\": {\"outlinewidth\": 0, \"ticks\": \"\"}, \"type\": \"mesh3d\"}], \"parcoords\": [{\"line\": {\"colorbar\": {\"outlinewidth\": 0, \"ticks\": \"\"}}, \"type\": \"parcoords\"}], \"pie\": [{\"automargin\": true, \"type\": \"pie\"}], \"scatter\": [{\"marker\": {\"colorbar\": {\"outlinewidth\": 0, \"ticks\": \"\"}}, \"type\": \"scatter\"}], \"scatter3d\": [{\"line\": {\"colorbar\": {\"outlinewidth\": 0, \"ticks\": \"\"}}, \"marker\": {\"colorbar\": {\"outlinewidth\": 0, \"ticks\": \"\"}}, \"type\": \"scatter3d\"}], \"scattercarpet\": [{\"marker\": {\"colorbar\": {\"outlinewidth\": 0, \"ticks\": \"\"}}, \"type\": \"scattercarpet\"}], \"scattergeo\": [{\"marker\": {\"colorbar\": {\"outlinewidth\": 0, \"ticks\": \"\"}}, \"type\": \"scattergeo\"}], \"scattergl\": [{\"marker\": {\"colorbar\": {\"outlinewidth\": 0, \"ticks\": \"\"}}, \"type\": \"scattergl\"}], \"scattermapbox\": [{\"marker\": {\"colorbar\": {\"outlinewidth\": 0, \"ticks\": \"\"}}, \"type\": \"scattermapbox\"}], \"scatterpolar\": [{\"marker\": {\"colorbar\": {\"outlinewidth\": 0, \"ticks\": \"\"}}, \"type\": \"scatterpolar\"}], \"scatterpolargl\": [{\"marker\": {\"colorbar\": {\"outlinewidth\": 0, \"ticks\": \"\"}}, \"type\": \"scatterpolargl\"}], \"scatterternary\": [{\"marker\": {\"colorbar\": {\"outlinewidth\": 0, \"ticks\": \"\"}}, \"type\": \"scatterternary\"}], \"surface\": [{\"colorbar\": {\"outlinewidth\": 0, \"ticks\": \"\"}, \"colorscale\": [[0.0, \"#0d0887\"], [0.1111111111111111, \"#46039f\"], [0.2222222222222222, \"#7201a8\"], [0.3333333333333333, \"#9c179e\"], [0.4444444444444444, \"#bd3786\"], [0.5555555555555556, \"#d8576b\"], [0.6666666666666666, \"#ed7953\"], [0.7777777777777778, \"#fb9f3a\"], [0.8888888888888888, \"#fdca26\"], [1.0, \"#f0f921\"]], \"type\": \"surface\"}], \"table\": [{\"cells\": {\"fill\": {\"color\": \"#EBF0F8\"}, \"line\": {\"color\": \"white\"}}, \"header\": {\"fill\": {\"color\": \"#C8D4E3\"}, \"line\": {\"color\": \"white\"}}, \"type\": \"table\"}]}, \"layout\": {\"annotationdefaults\": {\"arrowcolor\": \"#2a3f5f\", \"arrowhead\": 0, \"arrowwidth\": 1}, \"coloraxis\": {\"colorbar\": {\"outlinewidth\": 0, \"ticks\": \"\"}}, \"colorscale\": {\"diverging\": [[0, \"#8e0152\"], [0.1, \"#c51b7d\"], [0.2, \"#de77ae\"], [0.3, \"#f1b6da\"], [0.4, \"#fde0ef\"], [0.5, \"#f7f7f7\"], [0.6, \"#e6f5d0\"], [0.7, \"#b8e186\"], [0.8, \"#7fbc41\"], [0.9, \"#4d9221\"], [1, \"#276419\"]], \"sequential\": [[0.0, \"#0d0887\"], [0.1111111111111111, \"#46039f\"], [0.2222222222222222, \"#7201a8\"], [0.3333333333333333, \"#9c179e\"], [0.4444444444444444, \"#bd3786\"], [0.5555555555555556, \"#d8576b\"], [0.6666666666666666, \"#ed7953\"], [0.7777777777777778, \"#fb9f3a\"], [0.8888888888888888, \"#fdca26\"], [1.0, \"#f0f921\"]], \"sequentialminus\": [[0.0, \"#0d0887\"], [0.1111111111111111, \"#46039f\"], [0.2222222222222222, \"#7201a8\"], [0.3333333333333333, \"#9c179e\"], [0.4444444444444444, \"#bd3786\"], [0.5555555555555556, \"#d8576b\"], [0.6666666666666666, \"#ed7953\"], [0.7777777777777778, \"#fb9f3a\"], [0.8888888888888888, \"#fdca26\"], [1.0, \"#f0f921\"]]}, \"colorway\": [\"#636efa\", \"#EF553B\", \"#00cc96\", \"#ab63fa\", \"#FFA15A\", \"#19d3f3\", \"#FF6692\", \"#B6E880\", \"#FF97FF\", \"#FECB52\"], \"font\": {\"color\": \"#2a3f5f\"}, \"geo\": {\"bgcolor\": \"white\", \"lakecolor\": \"white\", \"landcolor\": \"#E5ECF6\", \"showlakes\": true, \"showland\": true, \"subunitcolor\": \"white\"}, \"hoverlabel\": {\"align\": \"left\"}, \"hovermode\": \"closest\", \"mapbox\": {\"style\": \"light\"}, \"paper_bgcolor\": \"white\", \"plot_bgcolor\": \"#E5ECF6\", \"polar\": {\"angularaxis\": {\"gridcolor\": \"white\", \"linecolor\": \"white\", \"ticks\": \"\"}, \"bgcolor\": \"#E5ECF6\", \"radialaxis\": {\"gridcolor\": \"white\", \"linecolor\": \"white\", \"ticks\": \"\"}}, \"scene\": {\"xaxis\": {\"backgroundcolor\": \"#E5ECF6\", \"gridcolor\": \"white\", \"gridwidth\": 2, \"linecolor\": \"white\", \"showbackground\": true, \"ticks\": \"\", \"zerolinecolor\": \"white\"}, \"yaxis\": {\"backgroundcolor\": \"#E5ECF6\", \"gridcolor\": \"white\", \"gridwidth\": 2, \"linecolor\": \"white\", \"showbackground\": true, \"ticks\": \"\", \"zerolinecolor\": \"white\"}, \"zaxis\": {\"backgroundcolor\": \"#E5ECF6\", \"gridcolor\": \"white\", \"gridwidth\": 2, \"linecolor\": \"white\", \"showbackground\": true, \"ticks\": \"\", \"zerolinecolor\": \"white\"}}, \"shapedefaults\": {\"line\": {\"color\": \"#2a3f5f\"}}, \"ternary\": {\"aaxis\": {\"gridcolor\": \"white\", \"linecolor\": \"white\", \"ticks\": \"\"}, \"baxis\": {\"gridcolor\": \"white\", \"linecolor\": \"white\", \"ticks\": \"\"}, \"bgcolor\": \"#E5ECF6\", \"caxis\": {\"gridcolor\": \"white\", \"linecolor\": \"white\", \"ticks\": \"\"}}, \"title\": {\"x\": 0.05}, \"xaxis\": {\"automargin\": true, \"gridcolor\": \"white\", \"linecolor\": \"white\", \"ticks\": \"\", \"title\": {\"standoff\": 15}, \"zerolinecolor\": \"white\", \"zerolinewidth\": 2}, \"yaxis\": {\"automargin\": true, \"gridcolor\": \"white\", \"linecolor\": \"white\", \"ticks\": \"\", \"title\": {\"standoff\": 15}, \"zerolinecolor\": \"white\", \"zerolinewidth\": 2}}}, \"title\": {\"text\": \"Intensities over frequency\", \"x\": 0.5}},\n",
              "                        {\"responsive\": true}\n",
              "                    ).then(function(){\n",
              "                            \n",
              "var gd = document.getElementById('9c0fb552-b252-4e84-8f18-346f5b46daa2');\n",
              "var x = new MutationObserver(function (mutations, observer) {{\n",
              "        var display = window.getComputedStyle(gd).display;\n",
              "        if (!display || display === 'none') {{\n",
              "            console.log([gd, 'removed!']);\n",
              "            Plotly.purge(gd);\n",
              "            observer.disconnect();\n",
              "        }}\n",
              "}});\n",
              "\n",
              "// Listen for the removal of the full notebook cells\n",
              "var notebookContainer = gd.closest('#notebook-container');\n",
              "if (notebookContainer) {{\n",
              "    x.observe(notebookContainer, {childList: true});\n",
              "}}\n",
              "\n",
              "// Listen for the clearing of the current output cell\n",
              "var outputEl = gd.closest('.output');\n",
              "if (outputEl) {{\n",
              "    x.observe(outputEl, {childList: true});\n",
              "}}\n",
              "\n",
              "                        })\n",
              "                };\n",
              "                \n",
              "            </script>\n",
              "        </div>\n",
              "</body>\n",
              "</html>"
            ]
          },
          "metadata": {}
        }
      ]
    },
    {
      "cell_type": "markdown",
      "metadata": {
        "id": "SlTIBxV3ERD_"
      },
      "source": [
        "#### Split Attribute and Label"
      ]
    },
    {
      "cell_type": "code",
      "metadata": {
        "id": "Goqa3cbXD-hv"
      },
      "source": [
        "# define a function to split the column containing the label from the columns containing the attributes\n",
        "def splitXY(dataframe,start_X=3,end_X=None,start_Y=2,end_Y=3):\n",
        "  X=dataframe.iloc[:,start_X:end_X]\n",
        "  # since current X is a dataframe structure, we use \".value\" to only get values\n",
        "  X=X.values\n",
        "  Y=dataframe.iloc[:,start_Y:end_Y]\n",
        "  # since current Y is a dataframe structure, we use \".value\" to only get values\n",
        "  Y=Y.values.ravel()\n",
        "  # this makes sure all the labels are integers\n",
        "  Y=Y.astype(float).astype(int)\n",
        "  return X,Y"
      ],
      "execution_count": 14,
      "outputs": []
    },
    {
      "cell_type": "code",
      "metadata": {
        "id": "lQ7gjuBxEXx7"
      },
      "source": [
        "# now apply the function to the normalized and thresholded train and test data\n",
        "X,Y=splitXY(train)\n",
        "X_test,Y_test=splitXY(test)"
      ],
      "execution_count": 15,
      "outputs": []
    },
    {
      "cell_type": "markdown",
      "metadata": {
        "id": "qlcMCue7EbAc"
      },
      "source": [
        "#### Data Balancing"
      ]
    },
    {
      "cell_type": "code",
      "metadata": {
        "colab": {
          "base_uri": "https://localhost:8080/",
          "height": 264
        },
        "id": "yCc3hIWOEaAM",
        "outputId": "3d305d0d-b529-4c50-b37b-4666e2d4553a"
      },
      "source": [
        "# get the total number of molecules in the training data\n",
        "total=len(Y)\n",
        "# determine how many contain a carbonyl\n",
        "label1=Y.sum()\n",
        "# find the number without a carbonyl by subtraction\n",
        "label0=total-label1\n",
        "# plot the data\n",
        "data=[label1,label0]\n",
        "my_labels = 'Carbonyl','notCarbonyl'\n",
        "plt.pie(data,labels=my_labels,autopct='%1.1f%%')\n",
        "plt.title('Data Distribution')\n",
        "plt.show()"
      ],
      "execution_count": 16,
      "outputs": [
        {
          "output_type": "display_data",
          "data": {
            "image/png": "[encoded data removed]",
            "text/plain": [
              "<Figure size 432x288 with 1 Axes>"
            ]
          },
          "metadata": {}
        }
      ]
    },
    {
      "cell_type": "markdown",
      "metadata": {
        "id": "5QeNPt0NEngF"
      },
      "source": [
        "#### Synthetic Minority Oversampling Technique (SMOTE)"
      ]
    },
    {
      "cell_type": "code",
      "metadata": {
        "id": "ZjpujsrWEkOc"
      },
      "source": [
        "%%capture\n",
        "# define SMOTE method\n",
        "sm = SMOTE(ratio='minority')\n",
        "# apply SMOTE to the training data\n",
        "X, Y= sm.fit_sample(X,Y)"
      ],
      "execution_count": 17,
      "outputs": []
    },
    {
      "cell_type": "code",
      "metadata": {
        "colab": {
          "base_uri": "https://localhost:8080/",
          "height": 264
        },
        "id": "pQglGR2QEvvl",
        "outputId": "c561b7d5-5f27-4ec0-e892-8f184c4693b6"
      },
      "source": [
        "# again determine the number of molecules with and without carbonyl groups and visualize\n",
        "total=len(Y)\n",
        "label1=Y.sum()\n",
        "label0=total-label1\n",
        "data=[label1,label0]\n",
        "my_labels = 'Carbonyl','notCarbonyl'\n",
        "plt.pie(data,labels=my_labels,autopct='%1.1f%%')\n",
        "plt.title('Data Distribution')\n",
        "plt.show()"
      ],
      "execution_count": 18,
      "outputs": [
        {
          "output_type": "display_data",
          "data": {
            "image/png": "[encoded data removed]",
            "text/plain": [
              "<Figure size 432x288 with 1 Axes>"
            ]
          },
          "metadata": {}
        }
      ]
    },
    {
      "cell_type": "code",
      "metadata": {
        "colab": {
          "base_uri": "https://localhost:8080/",
          "height": 279
        },
        "id": "kxwZA3t1Ex7l",
        "outputId": "b3828872-2c21-44f7-f0f8-f62555e62f34"
      },
      "source": [
        "# index values of a real and synthetic carbonyl (you can change these values to see other spectra)\n",
        "idx_realCarbonyl=1 # this selects the molecule in row 1 of the training data (hexanal)\n",
        "idx_synCarbonyl=len(train) # this selects the first synthetic carbonyl spectrum\n",
        "# get the data for the two molecules\n",
        "spectrum_realCarbonyl=X[idx_realCarbonyl,:]\n",
        "spectrum_synCarbonyl=X[idx_synCarbonyl,:]\n",
        "# get the frequencies for plotting\n",
        "frequencies=range(500,4002,2)\n",
        "# generate the plot\n",
        "plt.plot(frequencies,spectrum_realCarbonyl,\"o\",label=\"Real carbonyl\") \n",
        "plt.plot(frequencies,spectrum_synCarbonyl,\"o\",label=\"Synthetic carbonyl\")\n",
        "plt.legend(loc=\"upper right\")\n",
        "plt.xlabel(\"Frequency (cm^-1)\")\n",
        "plt.ylabel(\"Intensity\")\n",
        "plt.show()"
      ],
      "execution_count": 19,
      "outputs": [
        {
          "output_type": "display_data",
          "data": {
            "image/png": "[encoded data removed]",
            "text/plain": [
              "<Figure size 432x288 with 1 Axes>"
            ]
          },
          "metadata": {
            "needs_background": "light"
          }
        }
      ]
    },
    {
      "cell_type": "markdown",
      "metadata": {
        "id": "geunZGCHE_pD"
      },
      "source": [
        "### Building Machine Learning Models"
      ]
    },
    {
      "cell_type": "markdown",
      "metadata": {
        "id": "ecrsw4srFNHH"
      },
      "source": [
        "#### Decision Tree Model"
      ]
    },
    {
      "cell_type": "code",
      "metadata": {
        "colab": {
          "base_uri": "https://localhost:8080/"
        },
        "id": "1cA1inuTE2hx",
        "outputId": "4639b353-e69b-4c4b-accf-a9ca8faada53"
      },
      "source": [
        "# use the Decision Tree algorithm with the default parameters\n",
        "dt_clf=DecisionTreeClassifier()\n",
        "# fit the model using the training dataset\n",
        "dt_clf.fit(X,Y)"
      ],
      "execution_count": 20,
      "outputs": [
        {
          "output_type": "execute_result",
          "data": {
            "text/plain": [
              "DecisionTreeClassifier(ccp_alpha=0.0, class_weight=None, criterion='gini',\n",
              "                       max_depth=None, max_features=None, max_leaf_nodes=None,\n",
              "                       min_impurity_decrease=0.0, min_impurity_split=None,\n",
              "                       min_samples_leaf=1, min_samples_split=2,\n",
              "                       min_weight_fraction_leaf=0.0, presort='deprecated',\n",
              "                       random_state=None, splitter='best')"
            ]
          },
          "metadata": {},
          "execution_count": 20
        }
      ]
    },
    {
      "cell_type": "markdown",
      "metadata": {
        "id": "tJwV_XDwFTEf"
      },
      "source": [
        "#### Random Forest Model"
      ]
    },
    {
      "cell_type": "code",
      "metadata": {
        "colab": {
          "base_uri": "https://localhost:8080/"
        },
        "id": "8EBbRYOaFREu",
        "outputId": "edcf4665-7b58-49fc-e6fa-67cd897bf61f"
      },
      "source": [
        "# use the Random Forest algorithm with the default parameters\n",
        "rf_clf=RandomForestClassifier()\n",
        "# fit the model using the training dataset\n",
        "rf_clf.fit(X,Y)"
      ],
      "execution_count": 21,
      "outputs": [
        {
          "output_type": "execute_result",
          "data": {
            "text/plain": [
              "RandomForestClassifier(bootstrap=True, ccp_alpha=0.0, class_weight=None,\n",
              "                       criterion='gini', max_depth=None, max_features='auto',\n",
              "                       max_leaf_nodes=None, max_samples=None,\n",
              "                       min_impurity_decrease=0.0, min_impurity_split=None,\n",
              "                       min_samples_leaf=1, min_samples_split=2,\n",
              "                       min_weight_fraction_leaf=0.0, n_estimators=100,\n",
              "                       n_jobs=None, oob_score=False, random_state=None,\n",
              "                       verbose=0, warm_start=False)"
            ]
          },
          "metadata": {},
          "execution_count": 21
        }
      ]
    },
    {
      "cell_type": "markdown",
      "metadata": {
        "id": "iNU02k5cHfkv"
      },
      "source": [
        "#### KNN Model"
      ]
    },
    {
      "cell_type": "code",
      "metadata": {
        "colab": {
          "base_uri": "https://localhost:8080/"
        },
        "id": "OOBHR_twHlPX",
        "outputId": "f4a05164-ccea-436e-c66f-cc76ab93162d"
      },
      "source": [
        "# import KNN model \n",
        "from sklearn.neighbors import KNeighborsClassifier\n",
        "\n",
        "# create instance of KNN model\n",
        "neigh = KNeighborsClassifier()\n",
        "\n",
        "# fit the model using the training dataset\n",
        "neigh.fit(X, Y)"
      ],
      "execution_count": 22,
      "outputs": [
        {
          "output_type": "execute_result",
          "data": {
            "text/plain": [
              "KNeighborsClassifier(algorithm='auto', leaf_size=30, metric='minkowski',\n",
              "                     metric_params=None, n_jobs=None, n_neighbors=5, p=2,\n",
              "                     weights='uniform')"
            ]
          },
          "metadata": {},
          "execution_count": 22
        }
      ]
    },
    {
      "cell_type": "markdown",
      "metadata": {
        "id": "StgA6unvJz5M"
      },
      "source": [
        "#### Naive-Bayes Model"
      ]
    },
    {
      "cell_type": "code",
      "metadata": {
        "colab": {
          "base_uri": "https://localhost:8080/"
        },
        "id": "oBQNXLCZJ3jL",
        "outputId": "f2cfb266-73b3-4976-b272-6ba6aa2f1226"
      },
      "source": [
        "# import Naive-Bayes model tools\n",
        "from sklearn.naive_bayes import MultinomialNB\n",
        "\n",
        "# create instance of Naive-Bayes Model\n",
        "gnb = MultinomialNB()\n",
        "\n",
        "# fit the model using the training dataset\n",
        "gnb.fit(X,Y)"
      ],
      "execution_count": 23,
      "outputs": [
        {
          "output_type": "execute_result",
          "data": {
            "text/plain": [
              "MultinomialNB(alpha=1.0, class_prior=None, fit_prior=True)"
            ]
          },
          "metadata": {},
          "execution_count": 23
        }
      ]
    },
    {
      "cell_type": "markdown",
      "metadata": {
        "id": "MVj8bJNgQfJI"
      },
      "source": [
        "#### SVM Model"
      ]
    },
    {
      "cell_type": "code",
      "metadata": {
        "colab": {
          "base_uri": "https://localhost:8080/"
        },
        "id": "QwZuXkEeQkGj",
        "outputId": "bf88f927-134a-4df4-9f63-69a0fe4ba0ae"
      },
      "source": [
        "# import SVM model tools\n",
        "from sklearn import svm\n",
        "\n",
        "# create instance of SVM model\n",
        "clf_svm = svm.SVC()\n",
        "\n",
        "# fit the model using the training dataset\n",
        "clf_svm.fit(X,Y)"
      ],
      "execution_count": 24,
      "outputs": [
        {
          "output_type": "execute_result",
          "data": {
            "text/plain": [
              "SVC(C=1.0, break_ties=False, cache_size=200, class_weight=None, coef0=0.0,\n",
              "    decision_function_shape='ovr', degree=3, gamma='scale', kernel='rbf',\n",
              "    max_iter=-1, probability=False, random_state=None, shrinking=True,\n",
              "    tol=0.001, verbose=False)"
            ]
          },
          "metadata": {},
          "execution_count": 24
        }
      ]
    },
    {
      "cell_type": "markdown",
      "metadata": {
        "id": "SLqg_-rlOsuK"
      },
      "source": [
        "#### Neural-Network Model"
      ]
    },
    {
      "cell_type": "code",
      "metadata": {
        "colab": {
          "base_uri": "https://localhost:8080/"
        },
        "id": "olcTS6gJPFrV",
        "outputId": "b7a578dd-4497-4a45-c820-131a5d6f11a7"
      },
      "source": [
        "# import neural network model tools\n",
        "from sklearn.neural_network import MLPClassifier\n",
        "\n",
        "# create instance of neural network model\n",
        "nn = MLPClassifier()\n",
        "\n",
        "# fit the model using the training dataset\n",
        "nn.fit(X, Y)"
      ],
      "execution_count": 25,
      "outputs": [
        {
          "output_type": "execute_result",
          "data": {
            "text/plain": [
              "MLPClassifier(activation='relu', alpha=0.0001, batch_size='auto', beta_1=0.9,\n",
              "              beta_2=0.999, early_stopping=False, epsilon=1e-08,\n",
              "              hidden_layer_sizes=(100,), learning_rate='constant',\n",
              "              learning_rate_init=0.001, max_fun=15000, max_iter=200,\n",
              "              momentum=0.9, n_iter_no_change=10, nesterovs_momentum=True,\n",
              "              power_t=0.5, random_state=None, shuffle=True, solver='adam',\n",
              "              tol=0.0001, validation_fraction=0.1, verbose=False,\n",
              "              warm_start=False)"
            ]
          },
          "metadata": {},
          "execution_count": 25
        }
      ]
    },
    {
      "cell_type": "markdown",
      "metadata": {
        "id": "UjyXHhqDFd8p"
      },
      "source": [
        "### Testing Machine Learning Models"
      ]
    },
    {
      "cell_type": "markdown",
      "metadata": {
        "id": "95N1qisJFkpj"
      },
      "source": [
        "#### Test the Decision Tree Model"
      ]
    },
    {
      "cell_type": "code",
      "metadata": {
        "id": "W6yfbZXxFbPH"
      },
      "source": [
        "# use the fitted Decision Tree model to predict the labels (with or without carbonyl) for the test dataset\n",
        "Y_pred=dt_clf.predict(X_test)"
      ],
      "execution_count": 26,
      "outputs": []
    },
    {
      "cell_type": "code",
      "metadata": {
        "colab": {
          "base_uri": "https://localhost:8080/"
        },
        "id": "NTs5y1eGFole",
        "outputId": "94a776ee-2828-484b-d07f-2049912ee83a"
      },
      "source": [
        "# determine the accuracy, sensitivity, and specificity by comparing the predicted labels to the actual labels\n",
        "dt_accuracy=np.round(accuracy_score(Y_test,Y_pred),2)\n",
        "dt_sensitivity=np.round(recall_score(Y_test,Y_pred),2)\n",
        "dt_specificity=np.round(recall_score(Y_test,Y_pred,pos_label=0),2)\n",
        "\n",
        "# display the accuracy, sensitivity, and specificity\n",
        "print(\"Accuracy: \"+str(dt_accuracy)+\" Sensitivity: \"+str(dt_sensitivity)+\" Specificity: \"+str(dt_specificity))"
      ],
      "execution_count": 27,
      "outputs": [
        {
          "output_type": "stream",
          "name": "stdout",
          "text": [
            "Accuracy: 0.97 Sensitivity: 0.93 Specificity: 0.98\n"
          ]
        }
      ]
    },
    {
      "cell_type": "markdown",
      "metadata": {
        "id": "1OJhp6iDFsxw"
      },
      "source": [
        "#### Test the Random Forest Model"
      ]
    },
    {
      "cell_type": "code",
      "metadata": {
        "id": "TVc06Ud0Fq_z"
      },
      "source": [
        "# use the fitted Random Forest model to predict the labels (with or without carbonyl) for the test dataset\n",
        "Y_pred=rf_clf.predict(X_test)"
      ],
      "execution_count": 28,
      "outputs": []
    },
    {
      "cell_type": "code",
      "metadata": {
        "colab": {
          "base_uri": "https://localhost:8080/"
        },
        "id": "iPu8hD2AFyxx",
        "outputId": "ae89a135-e4c9-47f9-af95-4c16876075bb"
      },
      "source": [
        "# determine the accuracy, sensitivity, and specificity by comparing the predicted labels to the actual labels\n",
        "rf_accuracy=np.round(accuracy_score(Y_test,Y_pred),2)\n",
        "rf_sensitivity=np.round(recall_score(Y_test,Y_pred),2)\n",
        "rf_specificity=np.round(recall_score(Y_test,Y_pred,pos_label=0),2)\n",
        "\n",
        "# display the accuracy, sensitivity, and specificity\n",
        "print(\"Accuracy: \"+str(rf_accuracy)+\" Sensitivity: \"+str(rf_sensitivity)+\" Specificity: \"+str(rf_specificity))"
      ],
      "execution_count": 29,
      "outputs": [
        {
          "output_type": "stream",
          "name": "stdout",
          "text": [
            "Accuracy: 0.98 Sensitivity: 1.0 Specificity: 0.98\n"
          ]
        }
      ]
    },
    {
      "cell_type": "markdown",
      "metadata": {
        "id": "lcw6hyVzIOdi"
      },
      "source": [
        "#### Test the KNN Model"
      ]
    },
    {
      "cell_type": "code",
      "metadata": {
        "id": "l5oKfE5uIQZa"
      },
      "source": [
        "# use the KNN model to predict the labels (with or without carbonyl) for the test dataset\n",
        "Y_pred=neigh.predict(X_test)"
      ],
      "execution_count": 30,
      "outputs": []
    },
    {
      "cell_type": "code",
      "metadata": {
        "colab": {
          "base_uri": "https://localhost:8080/"
        },
        "id": "mdIoJT-MIcys",
        "outputId": "f49c01cc-600c-408f-a189-b3b35a9ae444"
      },
      "source": [
        "# determine the accuracy, sensitivity, and specificity by comparing the predicted labels to the actual labels\n",
        "knn_accuracy=np.round(accuracy_score(Y_test,Y_pred),2)\n",
        "knn_sensitivity=np.round(recall_score(Y_test,Y_pred),2)\n",
        "knn_specificity=np.round(recall_score(Y_test,Y_pred,pos_label=0),2)\n",
        "\n",
        "# display the accuracy, sensitivity, and specificity\n",
        "print(\"Accuracy: \"+str(knn_accuracy)+\" Sensitivity: \"+str(knn_sensitivity)+\" Specificity: \"+str(knn_specificity))"
      ],
      "execution_count": 31,
      "outputs": [
        {
          "output_type": "stream",
          "name": "stdout",
          "text": [
            "Accuracy: 0.97 Sensitivity: 1.0 Specificity: 0.96\n"
          ]
        }
      ]
    },
    {
      "cell_type": "markdown",
      "metadata": {
        "id": "bVmu00fmJwE_"
      },
      "source": [
        "#### Test the Naive-Bayes Model"
      ]
    },
    {
      "cell_type": "code",
      "metadata": {
        "id": "ff0v7FrrKrAh"
      },
      "source": [
        "# use the Naive-Bayes model to predict the labels (with or without carbonyl) for the test dataset\n",
        "Y_pred = gnb.predict(X_test)"
      ],
      "execution_count": 32,
      "outputs": []
    },
    {
      "cell_type": "code",
      "metadata": {
        "colab": {
          "base_uri": "https://localhost:8080/"
        },
        "id": "pJksQdvkLAaK",
        "outputId": "1fea06d3-e262-4010-975f-00af4d8e755d"
      },
      "source": [
        "# determine the accuracy, sensitivity, and specificity by comparing the predicted labels to the actual labels\n",
        "nb_accuracy=np.round(accuracy_score(Y_test,Y_pred),2)\n",
        "nb_sensitivity=np.round(recall_score(Y_test,Y_pred),2)\n",
        "nb_specificity=np.round(recall_score(Y_test,Y_pred,pos_label=0),2)\n",
        "\n",
        "# display the accuracy, sensitivity, and specificity\n",
        "print(\"Accuracy: \"+str(nb_accuracy)+\" Sensitivity: \"+str(nb_sensitivity)+\" Specificity: \"+str(nb_specificity))"
      ],
      "execution_count": 33,
      "outputs": [
        {
          "output_type": "stream",
          "name": "stdout",
          "text": [
            "Accuracy: 0.91 Sensitivity: 1.0 Specificity: 0.88\n"
          ]
        }
      ]
    },
    {
      "cell_type": "markdown",
      "metadata": {
        "id": "jCB9Ls1hRcv2"
      },
      "source": [
        "#### Test SVM Model"
      ]
    },
    {
      "cell_type": "code",
      "metadata": {
        "id": "fYVNaGbKRek6"
      },
      "source": [
        "# use the SVM model to predict the labels (with or without carbonyl) for the test dataset\n",
        "Y_pred = clf_svm.predict(X_test)"
      ],
      "execution_count": 34,
      "outputs": []
    },
    {
      "cell_type": "code",
      "metadata": {
        "colab": {
          "base_uri": "https://localhost:8080/"
        },
        "id": "sYwGmrrxRjF8",
        "outputId": "dc4dbb2d-8abb-40a2-9466-03a1423e00be"
      },
      "source": [
        "# determine the accuracy, sensitivity, and specificity by comparing the predicted labels to the actual labels\n",
        "svm_accuracy=np.round(accuracy_score(Y_test,Y_pred),2)\n",
        "svm_sensitivity=np.round(recall_score(Y_test,Y_pred),2)\n",
        "svm_specificity=np.round(recall_score(Y_test,Y_pred,pos_label=0),2)\n",
        "\n",
        "# display the accuracy, sensitivity, and specificity\n",
        "print(\"Accuracy: \"+str(svm_accuracy)+\" Sensitivity: \"+str(svm_sensitivity)+\" Specificity: \"+str(svm_specificity))"
      ],
      "execution_count": 35,
      "outputs": [
        {
          "output_type": "stream",
          "name": "stdout",
          "text": [
            "Accuracy: 0.99 Sensitivity: 1.0 Specificity: 0.98\n"
          ]
        }
      ]
    },
    {
      "cell_type": "markdown",
      "metadata": {
        "id": "kD7DE9l9PbGM"
      },
      "source": [
        "#### Test the Neural Network Model"
      ]
    },
    {
      "cell_type": "code",
      "metadata": {
        "id": "nrirLxPsPnHY"
      },
      "source": [
        "# use the Naive-Bayes model to predict the labels (with or without carbonyl) for the test dataset\n",
        "Y_pred = nn.predict(X_test)"
      ],
      "execution_count": 36,
      "outputs": []
    },
    {
      "cell_type": "code",
      "metadata": {
        "colab": {
          "base_uri": "https://localhost:8080/"
        },
        "id": "huC8NUQkPquZ",
        "outputId": "ffa9f8a2-bd29-4d31-8b77-178bdafbfd75"
      },
      "source": [
        "# determine the accuracy, sensitivity, and specificity by comparing the predicted labels to the actual labels\n",
        "nn_accuracy=np.round(accuracy_score(Y_test,Y_pred),2)\n",
        "nn_sensitivity=np.round(recall_score(Y_test,Y_pred),2)\n",
        "nn_specificity=np.round(recall_score(Y_test,Y_pred,pos_label=0),2)\n",
        "\n",
        "# display the accuracy, sensitivity, and specificity\n",
        "print(\"Accuracy: \"+str(nn_accuracy)+\" Sensitivity: \"+str(nn_sensitivity)+\" Specificity: \"+str(nn_specificity))"
      ],
      "execution_count": 37,
      "outputs": [
        {
          "output_type": "stream",
          "name": "stdout",
          "text": [
            "Accuracy: 0.98 Sensitivity: 0.98 Specificity: 0.98\n"
          ]
        }
      ]
    },
    {
      "cell_type": "markdown",
      "metadata": {
        "id": "6cSgInlLF3Ak"
      },
      "source": [
        "### FP/FN Group Analysis"
      ]
    },
    {
      "cell_type": "code",
      "metadata": {
        "id": "xS2lyqHJF1FZ"
      },
      "source": [
        "# rerun the label prediction (change the line below to specify which model to use)\n",
        "Y_pred=dt_clf.predict(X_test)\n",
        "\n",
        "# create new variables to hold the indices (i.e., row number) of all FPs and FNs\n",
        "fp=[]\n",
        "fn=[]\n",
        "\n",
        "# go through all predictions to identify the errors and then determine whether each one is an FP or FN\n",
        "for i in range (len(Y_test)):\n",
        "  # identify FPs and store their indices\n",
        "  if Y_pred[i] != Y_test[i] and Y_test[i] ==0:\n",
        "       fp.append(i)\n",
        "  # identify FNs and store their indices\n",
        "  elif Y_pred[i] != Y_test[i] and Y_test[i]==1:\n",
        "       fn.append(i)"
      ],
      "execution_count": 38,
      "outputs": []
    },
    {
      "cell_type": "markdown",
      "metadata": {
        "id": "vtJIeD8EGC1l"
      },
      "source": [
        "#### Utilizing RDkit to get molecule structure"
      ]
    },
    {
      "cell_type": "code",
      "metadata": {
        "id": "X3ujg2JdF9It"
      },
      "source": [
        "# get the SMILES strings\n",
        "fpmols=test.iloc[fp,0].values \n",
        "# get the molecule name\n",
        "fpmols_name=test.iloc[fp,1].values \n",
        "\n",
        "# get the SMILES strings \n",
        "fnmols=test.iloc[fn,0].values \n",
        "# get the molecule names\n",
        "fnmols_name=test.iloc[fn,1].values\n",
        "\n",
        "# get lists of the FP and FN SMILES strings\n",
        "fp_list = [Chem.MolFromSmiles(smiles) for smiles in fpmols]\n",
        "fn_list = [Chem.MolFromSmiles(smiles) for smiles in fnmols]"
      ],
      "execution_count": 39,
      "outputs": []
    },
    {
      "cell_type": "code",
      "metadata": {
        "id": "HP7QWPFdGK44"
      },
      "source": [
        "# set molecule names for the FP plot displayed below\n",
        "for i in range(len(fp_list)):\n",
        "  mol=fp_list[i]\n",
        "  mol.SetProp(\"_Name\",fpmols_name[i])\n",
        "\n",
        "# set molecule names for the FN plot displayed below\n",
        "for i in range(len(fn_list)):\n",
        "  mol=fn_list[i]\n",
        "  mol.SetProp(\"_Name\",fnmols_name[i])"
      ],
      "execution_count": 40,
      "outputs": []
    },
    {
      "cell_type": "code",
      "metadata": {
        "colab": {
          "base_uri": "https://localhost:8080/",
          "height": 191
        },
        "id": "2SBpXDOuGNmQ",
        "outputId": "faf8ba4a-44c6-4897-c383-3c3eadd71c39"
      },
      "source": [
        "# display a table showing the index, SMILES string, and name of all FPs\n",
        "print('\\033[1m' + 'FP List' + '\\033[0m')\n",
        "test.iloc[fp, 0:2]"
      ],
      "execution_count": 41,
      "outputs": [
        {
          "output_type": "stream",
          "name": "stdout",
          "text": [
            "\u001b[1mFP List\u001b[0m\n"
          ]
        },
        {
          "output_type": "execute_result",
          "data": {
            "text/html": [
              "<div>\n",
              "<style scoped>\n",
              "    .dataframe tbody tr th:only-of-type {\n",
              "        vertical-align: middle;\n",
              "    }\n",
              "\n",
              "    .dataframe tbody tr th {\n",
              "        vertical-align: top;\n",
              "    }\n",
              "\n",
              "    .dataframe thead th {\n",
              "        text-align: right;\n",
              "    }\n",
              "</style>\n",
              "<table border=\"1\" class=\"dataframe\">\n",
              "  <thead>\n",
              "    <tr style=\"text-align: right;\">\n",
              "      <th></th>\n",
              "      <th>SMILES</th>\n",
              "      <th>name</th>\n",
              "    </tr>\n",
              "  </thead>\n",
              "  <tbody>\n",
              "    <tr>\n",
              "      <th>29</th>\n",
              "      <td>BC</td>\n",
              "      <td>methylborane</td>\n",
              "    </tr>\n",
              "    <tr>\n",
              "      <th>105</th>\n",
              "      <td>F[CrH]</td>\n",
              "      <td>chromium-fluoride-hydride</td>\n",
              "    </tr>\n",
              "    <tr>\n",
              "      <th>182</th>\n",
              "      <td>[CrH2]</td>\n",
              "      <td>chromium-dihydride</td>\n",
              "    </tr>\n",
              "    <tr>\n",
              "      <th>210</th>\n",
              "      <td>CN(C)C(=N)N(C)C</td>\n",
              "      <td>1133-tetramethylguanidine</td>\n",
              "    </tr>\n",
              "  </tbody>\n",
              "</table>\n",
              "</div>"
            ],
            "text/plain": [
              "              SMILES                       name\n",
              "29                BC               methylborane\n",
              "105           F[CrH]  chromium-fluoride-hydride\n",
              "182           [CrH2]         chromium-dihydride\n",
              "210  CN(C)C(=N)N(C)C  1133-tetramethylguanidine"
            ]
          },
          "metadata": {},
          "execution_count": 41
        }
      ]
    },
    {
      "cell_type": "code",
      "metadata": {
        "colab": {
          "base_uri": "https://localhost:8080/",
          "height": 160
        },
        "id": "Z_7uURoMGQsC",
        "outputId": "3f747a1d-c20a-4e04-da23-c71d0a1823ff"
      },
      "source": [
        "# display a table showing the index, SMILES string, and name of all FNs\n",
        "print('\\033[1m' + 'FN List' + '\\033[0m')\n",
        "test.iloc[fn, 0:2]"
      ],
      "execution_count": 42,
      "outputs": [
        {
          "output_type": "stream",
          "name": "stdout",
          "text": [
            "\u001b[1mFN List\u001b[0m\n"
          ]
        },
        {
          "output_type": "execute_result",
          "data": {
            "text/html": [
              "<div>\n",
              "<style scoped>\n",
              "    .dataframe tbody tr th:only-of-type {\n",
              "        vertical-align: middle;\n",
              "    }\n",
              "\n",
              "    .dataframe tbody tr th {\n",
              "        vertical-align: top;\n",
              "    }\n",
              "\n",
              "    .dataframe thead th {\n",
              "        text-align: right;\n",
              "    }\n",
              "</style>\n",
              "<table border=\"1\" class=\"dataframe\">\n",
              "  <thead>\n",
              "    <tr style=\"text-align: right;\">\n",
              "      <th></th>\n",
              "      <th>SMILES</th>\n",
              "      <th>name</th>\n",
              "    </tr>\n",
              "  </thead>\n",
              "  <tbody>\n",
              "    <tr>\n",
              "      <th>23</th>\n",
              "      <td>CC(C)=O</td>\n",
              "      <td>acetone</td>\n",
              "    </tr>\n",
              "    <tr>\n",
              "      <th>59</th>\n",
              "      <td>CCCC(=O)N(CC)CC</td>\n",
              "      <td>NN-diethylbutanamide</td>\n",
              "    </tr>\n",
              "    <tr>\n",
              "      <th>183</th>\n",
              "      <td>Cc1ccccc1C=O</td>\n",
              "      <td>o-tolualdehyde</td>\n",
              "    </tr>\n",
              "  </tbody>\n",
              "</table>\n",
              "</div>"
            ],
            "text/plain": [
              "              SMILES                  name\n",
              "23           CC(C)=O               acetone\n",
              "59   CCCC(=O)N(CC)CC  NN-diethylbutanamide\n",
              "183     Cc1ccccc1C=O        o-tolualdehyde"
            ]
          },
          "metadata": {},
          "execution_count": 42
        }
      ]
    },
    {
      "cell_type": "markdown",
      "metadata": {
        "id": "KMfrGsIFGWDm"
      },
      "source": [
        "##### FP Group"
      ]
    },
    {
      "cell_type": "code",
      "metadata": {
        "colab": {
          "base_uri": "https://localhost:8080/",
          "height": 217
        },
        "id": "YKgteic_GTEB",
        "outputId": "8810cafb-2598-4621-e1c3-2f3cc9eef55d"
      },
      "source": [
        "# display the molecular structures of all FPs\n",
        "img1=Chem.Draw.MolsToGridImage(fp_list,molsPerRow=4,subImgSize=(200,200),legends=[mol.GetProp('_Name') for mol in fp_list])\n",
        "img1"
      ],
      "execution_count": 43,
      "outputs": [
        {
          "output_type": "execute_result",
          "data": {
            "image/png": "[encoded data removed]",
            "text/plain": [
              "<IPython.core.display.Image object>"
            ]
          },
          "metadata": {},
          "execution_count": 43
        }
      ]
    },
    {
      "cell_type": "markdown",
      "metadata": {
        "id": "3fh05f0UGbHo"
      },
      "source": [
        "##### FN Group"
      ]
    },
    {
      "cell_type": "code",
      "metadata": {
        "colab": {
          "base_uri": "https://localhost:8080/",
          "height": 217
        },
        "id": "sYR9qY-vGZpl",
        "outputId": "0a4548f5-b9c3-49bc-e320-c004a349878f"
      },
      "source": [
        "# display the molecular structures of all FNs\n",
        "img2=Chem.Draw.MolsToGridImage(fn_list,molsPerRow=4,subImgSize=(200,200),legends=[mol.GetProp('_Name') for mol in fn_list])\n",
        "img2"
      ],
      "execution_count": 44,
      "outputs": [
        {
          "output_type": "execute_result",
          "data": {
            "image/png": "[encoded data removed]",
            "text/plain": [
              "<IPython.core.display.Image object>"
            ]
          },
          "metadata": {},
          "execution_count": 44
        }
      ]
    },
    {
      "cell_type": "markdown",
      "metadata": {
        "id": "VyGqddubGijl"
      },
      "source": [
        "#### Displaying FN/FP Spectrums"
      ]
    },
    {
      "cell_type": "code",
      "metadata": {
        "colab": {
          "base_uri": "https://localhost:8080/",
          "height": 542
        },
        "id": "msX45gxvGeKX",
        "outputId": "f3684b2d-9a0b-42fd-a913-c1eb24ce113e"
      },
      "source": [
        "# to display the spectrum of a FP\n",
        "# in the line below, insert the index value of the molecule you want to see from the table above\n",
        "fp_idx=78\n",
        "# then display the figure\n",
        "fp_mol=test.set_index('name').iloc[fp_idx,3:]\n",
        "fig = go.Figure()\n",
        "fig.add_trace(go.Scatter(x=fp_mol.index, y=fp_mol, name=fp_mol.name,mode='markers'))\n",
        "fig.update_layout(title='Intensities over frequency',title_x=0.5)\n",
        "fig.update_layout(showlegend=True)"
      ],
      "execution_count": 45,
      "outputs": [
        {
          "output_type": "display_data",
          "data": {
            "text/html": [
              "<html>\n",
              "<head><meta charset=\"utf-8\" /></head>\n",
              "<body>\n",
              "    <div>\n",
              "            <script src=\"https://cdnjs.cloudflare.com/ajax/libs/mathjax/2.7.5/MathJax.js?config=TeX-AMS-MML_SVG\"></script><script type=\"text/javascript\">if (window.MathJax) {MathJax.Hub.Config({SVG: {font: \"STIX-Web\"}});}</script>\n",
              "                <script type=\"text/javascript\">window.PlotlyConfig = {MathJaxConfig: 'local'};</script>\n",
              "        <script src=\"https://cdn.plot.ly/plotly-latest.min.js\"></script>    \n",
              "            <div id=\"58c96a61-ea87-4f07-a21d-bbe54f0fbfcb\" class=\"plotly-graph-div\" style=\"height:525px; width:100%;\"></div>\n",
              "            <script type=\"text/javascript\">\n",
              "                \n",
              "                    window.PLOTLYENV=window.PLOTLYENV || {};\n",
              "                    \n",
              "                if (document.getElementById(\"58c96a61-ea87-4f07-a21d-bbe54f0fbfcb\")) {\n",
              "                    Plotly.newPlot(\n",
              "                        '58c96a61-ea87-4f07-a21d-bbe54f0fbfcb',\n",
              "                        [{\"mode\": \"markers\", \"name\": \"nitrous-acid-trans\", \"type\": \"scatter\", \"x\": [\"502\", \"504\", \"506\", \"508\", \"510\", \"512\", \"514\", \"516\", \"518\", \"520\", \"522\", \"524\", \"526\", \"528\", \"530\", \"532\", \"534\", \"536\", \"538\", \"540\", \"542\", \"544\", \"546\", \"548\", \"550\", \"552\", \"554\", \"556\", \"558\", \"560\", \"562\", \"564\", \"566\", \"568\", \"570\", \"572\", \"574\", \"576\", \"578\", \"580\", \"582\", \"584\", \"586\", \"588\", \"590\", \"592\", \"594\", \"596\", \"598\", \"600\", \"602\", \"604\", \"606\", \"608\", \"610\", \"612\", \"614\", \"616\", \"618\", \"620\", \"622\", \"624\", \"626\", \"628\", \"630\", \"632\", \"634\", \"636\", \"638\", \"640\", \"642\", \"644\", \"646\", \"648\", \"650\", \"652\", \"654\", \"656\", \"658\", \"660\", \"662\", \"664\", \"666\", \"668\", \"670\", \"672\", \"674\", \"676\", \"678\", \"680\", \"682\", \"684\", \"686\", \"688\", \"690\", \"692\", \"694\", \"696\", \"698\", \"700\", \"702\", \"704\", \"706\", \"708\", \"710\", \"712\", \"714\", \"716\", \"718\", \"720\", \"722\", \"724\", \"726\", \"728\", \"730\", \"732\", \"734\", \"736\", \"738\", \"740\", \"742\", \"744\", \"746\", \"748\", \"750\", \"752\", \"754\", \"756\", \"758\", \"760\", \"762\", \"764\", \"766\", \"768\", \"770\", \"772\", \"774\", \"776\", \"778\", \"780\", \"782\", \"784\", \"786\", \"788\", \"790\", \"792\", \"794\", \"796\", \"798\", \"800\", \"802\", \"804\", \"806\", \"808\", \"810\", \"812\", \"814\", \"816\", \"818\", \"820\", \"822\", \"824\", \"826\", \"828\", \"830\", \"832\", \"834\", \"836\", \"838\", \"840\", \"842\", \"844\", \"846\", \"848\", \"850\", \"852\", \"854\", \"856\", \"858\", \"860\", \"862\", \"864\", \"866\", \"868\", \"870\", \"872\", \"874\", \"876\", \"878\", \"880\", \"882\", \"884\", \"886\", \"888\", \"890\", \"892\", \"894\", \"896\", \"898\", \"900\", \"902\", \"904\", \"906\", \"908\", \"910\", \"912\", \"914\", \"916\", \"918\", \"920\", \"922\", \"924\", \"926\", \"928\", \"930\", \"932\", \"934\", \"936\", \"938\", \"940\", \"942\", \"944\", \"946\", \"948\", \"950\", \"952\", \"954\", \"956\", \"958\", \"960\", \"962\", \"964\", \"966\", \"968\", \"970\", \"972\", \"974\", \"976\", \"978\", \"980\", \"982\", \"984\", \"986\", \"988\", \"990\", \"992\", \"994\", \"996\", \"998\", \"1000\", \"1002\", \"1004\", \"1006\", \"1008\", \"1010\", \"1012\", \"1014\", \"1016\", \"1018\", \"1020\", \"1022\", \"1024\", \"1026\", \"1028\", \"1030\", \"1032\", \"1034\", \"1036\", \"1038\", \"1040\", \"1042\", \"1044\", \"1046\", \"1048\", \"1050\", \"1052\", \"1054\", \"1056\", \"1058\", \"1060\", \"1062\", \"1064\", \"1066\", \"1068\", \"1070\", \"1072\", \"1074\", \"1076\", \"1078\", \"1080\", \"1082\", \"1084\", \"1086\", \"1088\", \"1090\", \"1092\", \"1094\", \"1096\", \"1098\", \"1100\", \"1102\", \"1104\", \"1106\", \"1108\", \"1110\", \"1112\", \"1114\", \"1116\", \"1118\", \"1120\", \"1122\", \"1124\", \"1126\", \"1128\", \"1130\", \"1132\", \"1134\", \"1136\", \"1138\", \"1140\", \"1142\", \"1144\", \"1146\", \"1148\", \"1150\", \"1152\", \"1154\", \"1156\", \"1158\", \"1160\", \"1162\", \"1164\", \"1166\", \"1168\", \"1170\", \"1172\", \"1174\", \"1176\", \"1178\", \"1180\", \"1182\", \"1184\", \"1186\", \"1188\", \"1190\", \"1192\", \"1194\", \"1196\", \"1198\", \"1200\", \"1202\", \"1204\", \"1206\", \"1208\", \"1210\", \"1212\", \"1214\", \"1216\", \"1218\", \"1220\", \"1222\", \"1224\", \"1226\", \"1228\", \"1230\", \"1232\", \"1234\", \"1236\", \"1238\", \"1240\", \"1242\", \"1244\", \"1246\", \"1248\", \"1250\", \"1252\", \"1254\", \"1256\", \"1258\", \"1260\", \"1262\", \"1264\", \"1266\", \"1268\", \"1270\", \"1272\", \"1274\", \"1276\", \"1278\", \"1280\", \"1282\", \"1284\", \"1286\", \"1288\", \"1290\", \"1292\", \"1294\", \"1296\", \"1298\", \"1300\", \"1302\", \"1304\", \"1306\", \"1308\", \"1310\", \"1312\", \"1314\", \"1316\", \"1318\", \"1320\", \"1322\", \"1324\", \"1326\", \"1328\", \"1330\", \"1332\", \"1334\", \"1336\", \"1338\", \"1340\", \"1342\", \"1344\", \"1346\", \"1348\", \"1350\", \"1352\", \"1354\", \"1356\", \"1358\", \"1360\", \"1362\", \"1364\", \"1366\", \"1368\", \"1370\", \"1372\", \"1374\", \"1376\", \"1378\", \"1380\", \"1382\", \"1384\", \"1386\", \"1388\", \"1390\", \"1392\", \"1394\", \"1396\", \"1398\", \"1400\", \"1402\", \"1404\", \"1406\", \"1408\", \"1410\", \"1412\", \"1414\", \"1416\", \"1418\", \"1420\", \"1422\", \"1424\", \"1426\", \"1428\", \"1430\", \"1432\", \"1434\", \"1436\", \"1438\", \"1440\", \"1442\", \"1444\", \"1446\", \"1448\", \"1450\", \"1452\", \"1454\", \"1456\", \"1458\", \"1460\", \"1462\", \"1464\", \"1466\", \"1468\", \"1470\", \"1472\", \"1474\", \"1476\", \"1478\", \"1480\", \"1482\", \"1484\", \"1486\", \"1488\", \"1490\", \"1492\", \"1494\", \"1496\", \"1498\", \"1500\", \"1502\", \"1504\", \"1506\", \"1508\", \"1510\", \"1512\", \"1514\", \"1516\", \"1518\", \"1520\", \"1522\", \"1524\", \"1526\", \"1528\", \"1530\", \"1532\", \"1534\", \"1536\", \"1538\", \"1540\", \"1542\", \"1544\", \"1546\", \"1548\", \"1550\", \"1552\", \"1554\", \"1556\", \"1558\", \"1560\", \"1562\", \"1564\", \"1566\", \"1568\", \"1570\", \"1572\", \"1574\", \"1576\", \"1578\", \"1580\", \"1582\", \"1584\", \"1586\", \"1588\", \"1590\", \"1592\", \"1594\", \"1596\", \"1598\", \"1600\", \"1602\", \"1604\", \"1606\", \"1608\", \"1610\", \"1612\", \"1614\", \"1616\", \"1618\", \"1620\", \"1622\", \"1624\", \"1626\", \"1628\", \"1630\", \"1632\", \"1634\", \"1636\", \"1638\", \"1640\", \"1642\", \"1644\", \"1646\", \"1648\", \"1650\", \"1652\", \"1654\", \"1656\", \"1658\", \"1660\", \"1662\", \"1664\", \"1666\", \"1668\", \"1670\", \"1672\", \"1674\", \"1676\", \"1678\", \"1680\", \"1682\", \"1684\", \"1686\", \"1688\", \"1690\", \"1692\", \"1694\", \"1696\", \"1698\", \"1700\", \"1702\", \"1704\", \"1706\", \"1708\", \"1710\", \"1712\", \"1714\", \"1716\", \"1718\", \"1720\", \"1722\", \"1724\", \"1726\", \"1728\", \"1730\", \"1732\", \"1734\", \"1736\", \"1738\", \"1740\", \"1742\", \"1744\", \"1746\", \"1748\", \"1750\", \"1752\", \"1754\", \"1756\", \"1758\", \"1760\", \"1762\", \"1764\", \"1766\", \"1768\", \"1770\", \"1772\", \"1774\", \"1776\", \"1778\", \"1780\", \"1782\", \"1784\", \"1786\", \"1788\", \"1790\", \"1792\", \"1794\", \"1796\", \"1798\", \"1800\", \"1802\", \"1804\", \"1806\", \"1808\", \"1810\", \"1812\", \"1814\", \"1816\", \"1818\", \"1820\", \"1822\", \"1824\", \"1826\", \"1828\", \"1830\", \"1832\", \"1834\", \"1836\", \"1838\", \"1840\", \"1842\", \"1844\", \"1846\", \"1848\", \"1850\", \"1852\", \"1854\", \"1856\", \"1858\", \"1860\", \"1862\", \"1864\", \"1866\", \"1868\", \"1870\", \"1872\", \"1874\", \"1876\", \"1878\", \"1880\", \"1882\", \"1884\", \"1886\", \"1888\", \"1890\", \"1892\", \"1894\", \"1896\", \"1898\", \"1900\", \"1902\", \"1904\", \"1906\", \"1908\", \"1910\", \"1912\", \"1914\", \"1916\", \"1918\", \"1920\", \"1922\", \"1924\", \"1926\", \"1928\", \"1930\", \"1932\", \"1934\", \"1936\", \"1938\", \"1940\", \"1942\", \"1944\", \"1946\", \"1948\", \"1950\", \"1952\", \"1954\", \"1956\", \"1958\", \"1960\", \"1962\", \"1964\", \"1966\", \"1968\", \"1970\", \"1972\", \"1974\", \"1976\", \"1978\", \"1980\", \"1982\", \"1984\", \"1986\", \"1988\", \"1990\", \"1992\", \"1994\", \"1996\", \"1998\", \"2000\", \"2002\", \"2004\", \"2006\", \"2008\", \"2010\", \"2012\", \"2014\", \"2016\", \"2018\", \"2020\", \"2022\", \"2024\", \"2026\", \"2028\", \"2030\", \"2032\", \"2034\", \"2036\", \"2038\", \"2040\", \"2042\", \"2044\", \"2046\", \"2048\", \"2050\", \"2052\", \"2054\", \"2056\", \"2058\", \"2060\", \"2062\", \"2064\", \"2066\", \"2068\", \"2070\", \"2072\", \"2074\", \"2076\", \"2078\", \"2080\", \"2082\", \"2084\", \"2086\", \"2088\", \"2090\", \"2092\", \"2094\", \"2096\", \"2098\", \"2100\", \"2102\", \"2104\", \"2106\", \"2108\", \"2110\", \"2112\", \"2114\", \"2116\", \"2118\", \"2120\", \"2122\", \"2124\", \"2126\", \"2128\", \"2130\", \"2132\", \"2134\", \"2136\", \"2138\", \"2140\", \"2142\", \"2144\", \"2146\", \"2148\", \"2150\", \"2152\", \"2154\", \"2156\", \"2158\", \"2160\", \"2162\", \"2164\", \"2166\", \"2168\", \"2170\", \"2172\", \"2174\", \"2176\", \"2178\", \"2180\", \"2182\", \"2184\", \"2186\", \"2188\", \"2190\", \"2192\", \"2194\", \"2196\", \"2198\", \"2200\", \"2202\", \"2204\", \"2206\", \"2208\", \"2210\", \"2212\", \"2214\", \"2216\", \"2218\", \"2220\", \"2222\", \"2224\", \"2226\", \"2228\", \"2230\", \"2232\", \"2234\", \"2236\", \"2238\", \"2240\", \"2242\", \"2244\", \"2246\", \"2248\", \"2250\", \"2252\", \"2254\", \"2256\", \"2258\", \"2260\", \"2262\", \"2264\", \"2266\", \"2268\", \"2270\", \"2272\", \"2274\", \"2276\", \"2278\", \"2280\", \"2282\", \"2284\", \"2286\", \"2288\", \"2290\", \"2292\", \"2294\", \"2296\", \"2298\", \"2300\", \"2302\", \"2304\", \"2306\", \"2308\", \"2310\", \"2312\", \"2314\", \"2316\", \"2318\", \"2320\", \"2322\", \"2324\", \"2326\", \"2328\", \"2330\", \"2332\", \"2334\", \"2336\", \"2338\", \"2340\", \"2342\", \"2344\", \"2346\", \"2348\", \"2350\", \"2352\", \"2354\", \"2356\", \"2358\", \"2360\", \"2362\", \"2364\", \"2366\", \"2368\", \"2370\", \"2372\", \"2374\", \"2376\", \"2378\", \"2380\", \"2382\", \"2384\", \"2386\", \"2388\", \"2390\", \"2392\", \"2394\", \"2396\", \"2398\", \"2400\", \"2402\", \"2404\", \"2406\", \"2408\", \"2410\", \"2412\", \"2414\", \"2416\", \"2418\", \"2420\", \"2422\", \"2424\", \"2426\", \"2428\", \"2430\", \"2432\", \"2434\", \"2436\", \"2438\", \"2440\", \"2442\", \"2444\", \"2446\", \"2448\", \"2450\", \"2452\", \"2454\", \"2456\", \"2458\", \"2460\", \"2462\", \"2464\", \"2466\", \"2468\", \"2470\", \"2472\", \"2474\", \"2476\", \"2478\", \"2480\", \"2482\", \"2484\", \"2486\", \"2488\", \"2490\", \"2492\", \"2494\", \"2496\", \"2498\", \"2500\", \"2502\", \"2504\", \"2506\", \"2508\", \"2510\", \"2512\", \"2514\", \"2516\", \"2518\", \"2520\", \"2522\", \"2524\", \"2526\", \"2528\", \"2530\", \"2532\", \"2534\", \"2536\", \"2538\", \"2540\", \"2542\", \"2544\", \"2546\", \"2548\", \"2550\", \"2552\", \"2554\", \"2556\", \"2558\", \"2560\", \"2562\", \"2564\", \"2566\", \"2568\", \"2570\", \"2572\", \"2574\", \"2576\", \"2578\", \"2580\", \"2582\", \"2584\", \"2586\", \"2588\", \"2590\", \"2592\", \"2594\", \"2596\", \"2598\", \"2600\", \"2602\", \"2604\", \"2606\", \"2608\", \"2610\", \"2612\", \"2614\", \"2616\", \"2618\", \"2620\", \"2622\", \"2624\", \"2626\", \"2628\", \"2630\", \"2632\", \"2634\", \"2636\", \"2638\", \"2640\", \"2642\", \"2644\", \"2646\", \"2648\", \"2650\", \"2652\", \"2654\", \"2656\", \"2658\", \"2660\", \"2662\", \"2664\", \"2666\", \"2668\", \"2670\", \"2672\", \"2674\", \"2676\", \"2678\", \"2680\", \"2682\", \"2684\", \"2686\", \"2688\", \"2690\", \"2692\", \"2694\", \"2696\", \"2698\", \"2700\", \"2702\", \"2704\", \"2706\", \"2708\", \"2710\", \"2712\", \"2714\", \"2716\", \"2718\", \"2720\", \"2722\", \"2724\", \"2726\", \"2728\", \"2730\", \"2732\", \"2734\", \"2736\", \"2738\", \"2740\", \"2742\", \"2744\", \"2746\", \"2748\", \"2750\", \"2752\", \"2754\", \"2756\", \"2758\", \"2760\", \"2762\", \"2764\", \"2766\", \"2768\", \"2770\", \"2772\", \"2774\", \"2776\", \"2778\", \"2780\", \"2782\", \"2784\", \"2786\", \"2788\", \"2790\", \"2792\", \"2794\", \"2796\", \"2798\", \"2800\", \"2802\", \"2804\", \"2806\", \"2808\", \"2810\", \"2812\", \"2814\", \"2816\", \"2818\", \"2820\", \"2822\", \"2824\", \"2826\", \"2828\", \"2830\", \"2832\", \"2834\", \"2836\", \"2838\", \"2840\", \"2842\", \"2844\", \"2846\", \"2848\", \"2850\", \"2852\", \"2854\", \"2856\", \"2858\", \"2860\", \"2862\", \"2864\", \"2866\", \"2868\", \"2870\", \"2872\", \"2874\", \"2876\", \"2878\", \"2880\", \"2882\", \"2884\", \"2886\", \"2888\", \"2890\", \"2892\", \"2894\", \"2896\", \"2898\", \"2900\", \"2902\", \"2904\", \"2906\", \"2908\", \"2910\", \"2912\", \"2914\", \"2916\", \"2918\", \"2920\", \"2922\", \"2924\", \"2926\", \"2928\", \"2930\", \"2932\", \"2934\", \"2936\", \"2938\", \"2940\", \"2942\", \"2944\", \"2946\", \"2948\", \"2950\", \"2952\", \"2954\", \"2956\", \"2958\", \"2960\", \"2962\", \"2964\", \"2966\", \"2968\", \"2970\", \"2972\", \"2974\", \"2976\", \"2978\", \"2980\", \"2982\", \"2984\", \"2986\", \"2988\", \"2990\", \"2992\", \"2994\", \"2996\", \"2998\", \"3000\", \"3002\", \"3004\", \"3006\", \"3008\", \"3010\", \"3012\", \"3014\", \"3016\", \"3018\", \"3020\", \"3022\", \"3024\", \"3026\", \"3028\", \"3030\", \"3032\", \"3034\", \"3036\", \"3038\", \"3040\", \"3042\", \"3044\", \"3046\", \"3048\", \"3050\", \"3052\", \"3054\", \"3056\", \"3058\", \"3060\", \"3062\", \"3064\", \"3066\", \"3068\", \"3070\", \"3072\", \"3074\", \"3076\", \"3078\", \"3080\", \"3082\", \"3084\", \"3086\", \"3088\", \"3090\", \"3092\", \"3094\", \"3096\", \"3098\", \"3100\", \"3102\", \"3104\", \"3106\", \"3108\", \"3110\", \"3112\", \"3114\", \"3116\", \"3118\", \"3120\", \"3122\", \"3124\", \"3126\", \"3128\", \"3130\", \"3132\", \"3134\", \"3136\", \"3138\", \"3140\", \"3142\", \"3144\", \"3146\", \"3148\", \"3150\", \"3152\", \"3154\", \"3156\", \"3158\", \"3160\", \"3162\", \"3164\", \"3166\", \"3168\", \"3170\", \"3172\", \"3174\", \"3176\", \"3178\", \"3180\", \"3182\", \"3184\", \"3186\", \"3188\", \"3190\", \"3192\", \"3194\", \"3196\", \"3198\", \"3200\", \"3202\", \"3204\", \"3206\", \"3208\", \"3210\", \"3212\", \"3214\", \"3216\", \"3218\", \"3220\", \"3222\", \"3224\", \"3226\", \"3228\", \"3230\", \"3232\", \"3234\", \"3236\", \"3238\", \"3240\", \"3242\", \"3244\", \"3246\", \"3248\", \"3250\", \"3252\", \"3254\", \"3256\", \"3258\", \"3260\", \"3262\", \"3264\", \"3266\", \"3268\", \"3270\", \"3272\", \"3274\", \"3276\", \"3278\", \"3280\", \"3282\", \"3284\", \"3286\", \"3288\", \"3290\", \"3292\", \"3294\", \"3296\", \"3298\", \"3300\", \"3302\", \"3304\", \"3306\", \"3308\", \"3310\", \"3312\", \"3314\", \"3316\", \"3318\", \"3320\", \"3322\", \"3324\", \"3326\", \"3328\", \"3330\", \"3332\", \"3334\", \"3336\", \"3338\", \"3340\", \"3342\", \"3344\", \"3346\", \"3348\", \"3350\", \"3352\", \"3354\", \"3356\", \"3358\", \"3360\", \"3362\", \"3364\", \"3366\", \"3368\", \"3370\", \"3372\", \"3374\", \"3376\", \"3378\", \"3380\", \"3382\", \"3384\", \"3386\", \"3388\", \"3390\", \"3392\", \"3394\", \"3396\", \"3398\", \"3400\", \"3402\", \"3404\", \"3406\", \"3408\", \"3410\", \"3412\", \"3414\", \"3416\", \"3418\", \"3420\", \"3422\", \"3424\", \"3426\", \"3428\", \"3430\", \"3432\", \"3434\", \"3436\", \"3438\", \"3440\", \"3442\", \"3444\", \"3446\", \"3448\", \"3450\", \"3452\", \"3454\", \"3456\", \"3458\", \"3460\", \"3462\", \"3464\", \"3466\", \"3468\", \"3470\", \"3472\", \"3474\", \"3476\", \"3478\", \"3480\", \"3482\", \"3484\", \"3486\", \"3488\", \"3490\", \"3492\", \"3494\", \"3496\", \"3498\", \"3500\", \"3502\", \"3504\", \"3506\", \"3508\", \"3510\", \"3512\", \"3514\", \"3516\", \"3518\", \"3520\", \"3522\", \"3524\", \"3526\", \"3528\", \"3530\", \"3532\", \"3534\", \"3536\", \"3538\", \"3540\", \"3542\", \"3544\", \"3546\", \"3548\", \"3550\", \"3552\", \"3554\", \"3556\", \"3558\", \"3560\", \"3562\", \"3564\", \"3566\", \"3568\", \"3570\", \"3572\", \"3574\", \"3576\", \"3578\", \"3580\", \"3582\", \"3584\", \"3586\", \"3588\", \"3590\", \"3592\", \"3594\", \"3596\", \"3598\", \"3600\", \"3602\", \"3604\", \"3606\", \"3608\", \"3610\", \"3612\", \"3614\", \"3616\", \"3618\", \"3620\", \"3622\", \"3624\", \"3626\", \"3628\", \"3630\", \"3632\", \"3634\", \"3636\", \"3638\", \"3640\", \"3642\", \"3644\", \"3646\", \"3648\", \"3650\", \"3652\", \"3654\", \"3656\", \"3658\", \"3660\", \"3662\", \"3664\", \"3666\", \"3668\", \"3670\", \"3672\", \"3674\", \"3676\", \"3678\", \"3680\", \"3682\", \"3684\", \"3686\", \"3688\", \"3690\", \"3692\", \"3694\", \"3696\", \"3698\", \"3700\", \"3702\", \"3704\", \"3706\", \"3708\", \"3710\", \"3712\", \"3714\", \"3716\", \"3718\", \"3720\", \"3722\", \"3724\", \"3726\", \"3728\", \"3730\", \"3732\", \"3734\", \"3736\", \"3738\", \"3740\", \"3742\", \"3744\", \"3746\", \"3748\", \"3750\", \"3752\", \"3754\", \"3756\", \"3758\", \"3760\", \"3762\", \"3764\", \"3766\", \"3768\", \"3770\", \"3772\", \"3774\", \"3776\", \"3778\", \"3780\", \"3782\", \"3784\", \"3786\", \"3788\", \"3790\", \"3792\", \"3794\", \"3796\", \"3798\", \"3800\", \"3802\", \"3804\", \"3806\", \"3808\", \"3810\", \"3812\", \"3814\", \"3816\", \"3818\", \"3820\", \"3822\", \"3824\", \"3826\", \"3828\", \"3830\", \"3832\", \"3834\", \"3836\", \"3838\", \"3840\", \"3842\", \"3844\", \"3846\", \"3848\", \"3850\", \"3852\", \"3854\", \"3856\", \"3858\", \"3860\", \"3862\", \"3864\", \"3866\", \"3868\", \"3870\", \"3872\", \"3874\", \"3876\", \"3878\", \"3880\", \"3882\", \"3884\", \"3886\", \"3888\", \"3890\", \"3892\", \"3894\", \"3896\", \"3898\", \"3900\", \"3902\", \"3904\", \"3906\", \"3908\", \"3910\", \"3912\", \"3914\", \"3916\", \"3918\", \"3920\", \"3922\", \"3924\", \"3926\", \"3928\", \"3930\", \"3932\", \"3934\", \"3936\", \"3938\", \"3940\", \"3942\", \"3944\", \"3946\", \"3948\", \"3950\", \"3952\", \"3954\", \"3956\", \"3958\", \"3960\", \"3962\", \"3964\", \"3966\", \"3968\", \"3970\", \"3972\", \"3974\", \"3976\", \"3978\", \"3980\", \"3982\", \"3984\", \"3986\", \"3988\", \"3990\", \"3992\", \"3994\", \"3996\", \"3998\", \"4000\"], \"y\": [0.0, 0.0, 0.0, 0.0, 0.204727649236308, 0.21261834349559108, 0.22094349965148308, 0.22973199159950103, 0.23901404669901447, 0.2488212457732452, 0.2591874254185023, 0.27014777569494725, 0.28174019359044633, 0.29400212493824823, 0.30697417365392377, 0.3206964924984266, 0.3352092342327101, 0.3505534539269626, 0.36676840203290273, 0.38389017091992683, 0.401952597184344, 0.4209836524124365, 0.4410027362527549, 0.4620215787253528, 0.4840379240571432, 0.5070359818365151, 0.5309810131579245, 0.5558161725395719, 0.5814620567687856, 0.6078117422012286, 0.6347312359155168, 0.6620576710947492, 0.6896020139542124, 0.7171513195144675, 0.7444764012298475, 0.7713367936892493, 0.7974920314815692, 0.8227097699788183, 0.8467766130469404, 0.8695053315196918, 0.8907393747448158, 0.9103533217386597, 0.9282510765677061, 0.9443545894831348, 0.9585988942200326, 0.9709145129673116, 0.9812211402030647, 0.9894181684475997, 0.9953797255626462, 0.9989605397613845, 1.0, 0.9983402021623842, 0.9938390325440384, 0.9863913721190958, 0.9759462404157843, 0.9625198790003316, 0.9462056768785514, 0.9271723658773716, 0.9056622160263655, 0.8819775009192276, 0.8564647073021631, 0.8294964888891897, 0.8014554247959089, 0.772714619890956, 0.743625523621328, 0.7145066511469479, 0.685639974103725, 0.6572627998204406, 0.6295722828649221, 0.6027231692709568, 0.576834112702935, 0.5519885767650862, 0.5282425046299744, 0.5056265748115866, 0.4841520661753593, 0.46381311371126555, 0.44459302469845957, 0.4264633763960416, 0.40939033220770255, 0.39333464168172394, 0.37825479859329986, 0.36410658978991983, 0.3508453509644558, 0.3384273201190146, 0.3268091864103206, 0.315949443613568, 0.3058079389678033, 0.2963463243305429, 0.2875285073323904, 0.2793211025316541, 0.2716925291051122, 0.2646125596933953, 0.25805457617407346, 0.25199331388856927, 0.24640576395139258, 0.2412711732501404, 0.23656923982702732, 0.23228372211582496, 0.22839882970492234, 0.22490057680117842, 0.22177678222992195, 0.21901661828033395, 0.21661151301468282, 0.21455379680447184, 0.21283715348505663, 0.21145707151026263, 0.2104103927977677, 0.2096948615744845, 0.20931002668579565, 0.20925679044093598, 0.20953785976761027, 0.21015684390275813, 0.21111780323793672, 0.21242840740164268, 0.21409632602237275, 0.21613103334709352, 0.2185429059320065, 0.22134547841563526, 0.2245522854365034, 0.22817866625160443, 0.23224311820025403, 0.23676413862176776, 0.2417620294739312, 0.24725934848761694, 0.25328000685755014, 0.25984836693307345, 0.2669919491458515, 0.2747369204636967, 0.28311170362750865, 0.29214336791433476, 0.3018598849104571, 0.3122865192744531, 0.32344673104643057, 0.3353599198749399, 0.34803962039850483, 0.36149259993638716, 0.3757143469424123, 0.39068907100496947, 0.4063842889916018, 0.422748118121302, 0.43970521557295505, 0.4571540715576339, 0.47496069315395417, 0.4929590554626929, 0.5109456877513777, 0.5286814780727578, 0.545891673264803, 0.5622717439607315, 0.5774946030628887, 0.5912209822989487, 0.60311432032429, 0.6128570042882246, 0.6201688671733133, 0.6248243316708286, 0.6266672982831312, 0.625622424189106, 0.6217000859449547, 0.6149972817934298, 0.6056877062622517, 0.5940122759171409, 0.5802610831771211, 0.564757605902907, 0.5478384054391201, 0.5298391408211466, 0.5110814852912317, 0.49186094512380807, 0.4724405434608522, 0.4530490156934133, 0.4338781025339099, 0.41508345232536364, 0.3967882302783398, 0.3790844719347991, 0.3620393993327423, 0.3456976767792974, 0.33008456893304183, 0.31521090350479464, 0.3010753270307033, 0.287667011799949, 0.2749679116278335, 0.2629554687834841, 0.25160306514447095, 0.24088137566065956, 0.2307606241272978, 0.22120922972116394, 0.21219741623750585, 0.2036936028531018, 0.0, 0.0, 0.0, 0.0, 0.0, 0.0, 0.0, 0.0, 0.0, 0.0, 0.0, 0.0, 0.0, 0.0, 0.0, 0.0, 0.0, 0.0, 0.0, 0.0, 0.0, 0.0, 0.0, 0.0, 0.0, 0.0, 0.0, 0.0, 0.0, 0.0, 0.0, 0.0, 0.0, 0.0, 0.0, 0.0, 0.0, 0.0, 0.0, 0.0, 0.0, 0.0, 0.0, 0.0, 0.0, 0.0, 0.0, 0.0, 0.0, 0.0, 0.0, 0.0, 0.0, 0.0, 0.0, 0.0, 0.0, 0.0, 0.0, 0.0, 0.0, 0.0, 0.0, 0.0, 0.0, 0.0, 0.0, 0.0, 0.0, 0.0, 0.0, 0.0, 0.0, 0.0, 0.0, 0.0, 0.0, 0.0, 0.0, 0.0, 0.0, 0.0, 0.0, 0.0, 0.0, 0.0, 0.0, 0.0, 0.0, 0.0, 0.0, 0.0, 0.0, 0.0, 0.0, 0.0, 0.0, 0.0, 0.0, 0.0, 0.0, 0.0, 0.0, 0.0, 0.0, 0.0, 0.0, 0.0, 0.0, 0.0, 0.0, 0.0, 0.0, 0.0, 0.0, 0.0, 0.0, 0.0, 0.0, 0.0, 0.0, 0.0, 0.0, 0.0, 0.0, 0.0, 0.0, 0.0, 0.0, 0.0, 0.0, 0.0, 0.0, 0.0, 0.0, 0.0, 0.0, 0.0, 0.0, 0.0, 0.0, 0.0, 0.0, 0.0, 0.0, 0.0, 0.0, 0.0, 0.0, 0.0, 0.0, 0.0, 0.0, 0.0, 0.0, 0.0, 0.0, 0.0, 0.0, 0.0, 0.0, 0.0, 0.0, 0.0, 0.0, 0.0, 0.0, 0.0, 0.0, 0.0, 0.0, 0.0, 0.0, 0.0, 0.0, 0.0, 0.20471682152548912, 0.21326845729934332, 0.22233576280094836, 0.23195257462661317, 0.24215453399111678, 0.25297908672770786, 0.26446548328810504, 0.27665342527864434, 0.2895830654602792, 0.3032963612124329, 0.317832562986824, 0.3332304700805536, 0.3495261748630182, 0.3667503558482045, 0.3849278265400727, 0.40407437735023355, 0.42419316636100934, 0.4452733658615812, 0.46728249271949235, 0.49016550607141324, 0.5138389423131149, 0.5381832454709715, 0.5630418648927268, 0.5882135856189955, 0.6134498214555602, 0.6384537126641358, 0.6628810282716041, 0.686342421843102, 0.7084156126566916, 0.7286535064864755, 0.7466053998696165, 0.7618363797548878, 0.7739498812335471, 0.782612501043295, 0.7875765552991494, 0.7886954187504371, 0.785936157110084, 0.7793795270546146, 0.769217269296447, 0.75573496470843, 0.7392953416029975, 0.7203134622282076, 0.6992350673461055, 0.6765104092649112, 0.652578461427408, 0.627848872226245, 0.6026929419115873, 0.5774355018080022, 0.5523526585413719, 0.5276731475027464, 0.5035787840029596, 0.4802098771280399, 0.45767019244000207, 0.43603101236840386, 0.4153370012203732, 0.3956111678814005, 0.37685802389766004, 0.3590680950221855, 0.3422224327610437, 0.3262930655279524, 0.3112470590358375, 0.2970465162968326, 0.2836526380138369, 0.2710248202712793, 0.2591220079989714, 0.24790404843595978, 0.2373307888212909, 0.2273647833217161, 0.21796858610398667, 0.2091079094171759, 0.20074891666497482, 0.0, 0.0, 0.0, 0.0, 0.0, 0.0, 0.0, 0.0, 0.0, 0.0, 0.0, 0.0, 0.0, 0.0, 0.0, 0.0, 0.0, 0.0, 0.0, 0.0, 0.0, 0.0, 0.0, 0.0, 0.0, 0.0, 0.0, 0.0, 0.0, 0.0, 0.0, 0.0, 0.0, 0.0, 0.0, 0.0, 0.0, 0.0, 0.0, 0.0, 0.0, 0.0, 0.0, 0.0, 0.0, 0.0, 0.0, 0.0, 0.0, 0.0, 0.0, 0.0, 0.0, 0.0, 0.0, 0.0, 0.0, 0.0, 0.0, 0.0, 0.0, 0.0, 0.0, 0.0, 0.0, 0.0, 0.0, 0.0, 0.0, 0.0, 0.0, 0.0, 0.0, 0.0, 0.0, 0.0, 0.0, 0.0, 0.0, 0.0, 0.0, 0.0, 0.0, 0.0, 0.0, 0.0, 0.0, 0.0, 0.0, 0.0, 0.0, 0.0, 0.0, 0.0, 0.0, 0.0, 0.0, 0.0, 0.0, 0.0, 0.0, 0.0, 0.0, 0.0, 0.0, 0.0, 0.0, 0.0, 0.0, 0.0, 0.0, 0.0, 0.0, 0.0, 0.0, 0.0, 0.0, 0.0, 0.0, 0.0, 0.0, 0.0, 0.0, 0.0, 0.0, 0.0, 0.0, 0.0, 0.0, 0.0, 0.0, 0.0, 0.0, 0.0, 0.0, 0.0, 0.0, 0.0, 0.0, 0.0, 0.0, 0.0, 0.0, 0.0, 0.0, 0.0, 0.0, 0.0, 0.0, 0.0, 0.0, 0.0, 0.0, 0.0, 0.0, 0.0, 0.0, 0.0, 0.0, 0.0, 0.0, 0.0, 0.0, 0.0, 0.0, 0.0, 0.0, 0.0, 0.0, 0.2071341079658115, 0.21599252887953496, 0.22538692147879463, 0.2353538292876043, 0.24592979582997787, 0.2571536204030164, 0.2690645534584385, 0.28170410122104994, 0.29511376991565663, 0.3093350657670643, 0.32440769038160916, 0.3403704430563921, 0.35725806269695715, 0.37509942319882156, 0.393917082292858, 0.4137214165352679, 0.43451197477143383, 0.4562680038889527, 0.47895025343610637, 0.5024910502202762, 0.5267915913802399, 0.5517174328399959, 0.5770921731441192, 0.6026924907569697, 0.6282472417534577, 0.653435655200572, 0.6778900400850878, 0.7011998457051208, 0.7229242939994182, 0.7426059141858803, 0.7597899424101131, 0.7740459771670648, 0.7849932439596037, 0.7923249576478604, 0.7958263686339265, 0.7953928090465525, 0.7910351065965574, 0.7828804868860633, 0.7711621968522943, 0.756204165510583, 0.73839799506888, 0.7181804031968817, 0.6960084095220694, 0.6723381313626899, 0.6476049329245873, 0.6222116952811483, 0.5965179886624845, 0.5708346586000221, 0.545423374771885, 0.5204979844667466, 0.49622676835691737, 0.47273695204451993, 0.45012057107151476, 0.4284394336204933, 0.4077291809062343, 0.3880056033403488, 0.3692677986136018, 0.3515017809328524, 0.33468454141261017, 0.31878495038427096, 0.30376736663305565, 0.2895938931710981, 0.27622302377359254, 0.26361370337035056, 0.2517244257365663, 0.2405141358020514, 0.2299435831150873, 0.21997396837857286, 0.2105687480684943, 0.20169318327930758, 0.0, 0.0, 0.0, 0.0, 0.0, 0.0, 0.0, 0.0, 0.0, 0.0, 0.0, 0.0, 0.0, 0.0, 0.0, 0.0, 0.0, 0.0, 0.0, 0.0, 0.0, 0.0, 0.0, 0.0, 0.0, 0.0, 0.0, 0.0, 0.0, 0.0, 0.0, 0.0, 0.0, 0.0, 0.0, 0.0, 0.0, 0.0, 0.0, 0.0, 0.0, 0.0, 0.0, 0.0, 0.0, 0.0, 0.0, 0.0, 0.0, 0.0, 0.0, 0.0, 0.0, 0.0, 0.0, 0.0, 0.0, 0.0, 0.0, 0.0, 0.0, 0.0, 0.0, 0.0, 0.0, 0.0, 0.0, 0.0, 0.0, 0.0, 0.0, 0.0, 0.0, 0.0, 0.0, 0.0, 0.0, 0.0, 0.0, 0.0, 0.0, 0.0, 0.0, 0.0, 0.0, 0.0, 0.0, 0.0, 0.0, 0.0, 0.0, 0.0, 0.0, 0.0, 0.0, 0.0, 0.0, 0.0, 0.0, 0.0, 0.0, 0.0, 0.0, 0.0, 0.0, 0.0, 0.0, 0.0, 0.0, 0.0, 0.0, 0.0, 0.0, 0.0, 0.0, 0.0, 0.0, 0.0, 0.0, 0.0, 0.0, 0.0, 0.0, 0.0, 0.0, 0.0, 0.0, 0.0, 0.0, 0.0, 0.0, 0.0, 0.0, 0.0, 0.0, 0.0, 0.0, 0.0, 0.0, 0.0, 0.0, 0.0, 0.0, 0.0, 0.0, 0.0, 0.0, 0.0, 0.0, 0.0, 0.0, 0.0, 0.0, 0.0, 0.0, 0.0, 0.0, 0.0, 0.0, 0.0, 0.0, 0.0, 0.0, 0.0, 0.0, 0.0, 0.0, 0.0, 0.0, 0.0, 0.0, 0.0, 0.0, 0.0, 0.0, 0.0, 0.0, 0.0, 0.0, 0.0, 0.0, 0.0, 0.0, 0.0, 0.0, 0.0, 0.0, 0.0, 0.0, 0.0, 0.0, 0.0, 0.0, 0.0, 0.0, 0.0, 0.0, 0.0, 0.0, 0.0, 0.0, 0.0, 0.0, 0.0, 0.0, 0.0, 0.0, 0.0, 0.0, 0.0, 0.0, 0.0, 0.0, 0.0, 0.0, 0.0, 0.0, 0.0, 0.0, 0.0, 0.0, 0.0, 0.0, 0.0, 0.0, 0.0, 0.0, 0.0, 0.0, 0.0, 0.0, 0.0, 0.0, 0.0, 0.0, 0.0, 0.0, 0.0, 0.0, 0.0, 0.0, 0.0, 0.0, 0.0, 0.0, 0.0, 0.0, 0.0, 0.0, 0.0, 0.0, 0.0, 0.0, 0.0, 0.0, 0.0, 0.0, 0.0, 0.0, 0.0, 0.0, 0.0, 0.0, 0.0, 0.0, 0.0, 0.0, 0.0, 0.0, 0.0, 0.0, 0.0, 0.0, 0.0, 0.0, 0.0, 0.0, 0.0, 0.0, 0.0, 0.0, 0.0, 0.0, 0.0, 0.0, 0.0, 0.0, 0.0, 0.0, 0.0, 0.0, 0.0, 0.0, 0.0, 0.0, 0.0, 0.0, 0.0, 0.0, 0.0, 0.0, 0.0, 0.0, 0.0, 0.0, 0.0, 0.0, 0.0, 0.0, 0.0, 0.0, 0.0, 0.0, 0.0, 0.0, 0.0, 0.0, 0.0, 0.0, 0.0, 0.0, 0.0, 0.0, 0.0, 0.0, 0.0, 0.0, 0.0, 0.0, 0.0, 0.0, 0.0, 0.0, 0.0, 0.0, 0.0, 0.0, 0.0, 0.0, 0.0, 0.0, 0.0, 0.0, 0.0, 0.0, 0.0, 0.0, 0.0, 0.0, 0.0, 0.0, 0.0, 0.0, 0.0, 0.0, 0.0, 0.0, 0.0, 0.0, 0.0, 0.0, 0.0, 0.0, 0.0, 0.0, 0.0, 0.0, 0.0, 0.0, 0.0, 0.0, 0.0, 0.0, 0.0, 0.0, 0.0, 0.0, 0.0, 0.0, 0.0, 0.0, 0.0, 0.0, 0.0, 0.0, 0.0, 0.0, 0.0, 0.0, 0.0, 0.0, 0.0, 0.0, 0.0, 0.0, 0.0, 0.0, 0.0, 0.0, 0.0, 0.0, 0.0, 0.0, 0.0, 0.0, 0.0, 0.0, 0.0, 0.0, 0.0, 0.0, 0.0, 0.0, 0.0, 0.0, 0.0, 0.0, 0.0, 0.0, 0.0, 0.0, 0.0, 0.0, 0.0, 0.0, 0.0, 0.0, 0.0, 0.0, 0.0, 0.0, 0.0, 0.0, 0.0, 0.0, 0.0, 0.0, 0.0, 0.0, 0.0, 0.0, 0.0, 0.0, 0.0, 0.0, 0.0, 0.0, 0.0, 0.0, 0.0, 0.0, 0.0, 0.0, 0.0, 0.0, 0.0, 0.0, 0.0, 0.0, 0.0, 0.0, 0.0, 0.0, 0.0, 0.0, 0.0, 0.0, 0.0, 0.0, 0.0, 0.0, 0.0, 0.0, 0.0, 0.0, 0.0, 0.0, 0.0, 0.0, 0.0, 0.0, 0.0, 0.0, 0.0, 0.0, 0.0, 0.0, 0.0, 0.0, 0.0, 0.0, 0.0, 0.0, 0.0, 0.0, 0.0, 0.0, 0.0, 0.0, 0.0, 0.0, 0.0, 0.0, 0.0, 0.0, 0.0, 0.0, 0.0, 0.0, 0.0, 0.0, 0.0, 0.0, 0.0, 0.0, 0.0, 0.0, 0.0, 0.0, 0.0, 0.0, 0.0, 0.0, 0.0, 0.0, 0.0, 0.0, 0.0, 0.0, 0.0, 0.0, 0.0, 0.0, 0.0, 0.0, 0.0, 0.0, 0.0, 0.0, 0.0, 0.0, 0.0, 0.0, 0.0, 0.0, 0.0, 0.0, 0.0, 0.0, 0.0, 0.0, 0.0, 0.0, 0.0, 0.0, 0.0, 0.0, 0.0, 0.0, 0.0, 0.0, 0.0, 0.0, 0.0, 0.0, 0.0, 0.0, 0.0, 0.0, 0.0, 0.0, 0.0, 0.0, 0.0, 0.0, 0.0, 0.0, 0.0, 0.0, 0.0, 0.0, 0.0, 0.0, 0.0, 0.0, 0.0, 0.0, 0.0, 0.0, 0.0, 0.0, 0.0, 0.0, 0.0, 0.0, 0.0, 0.0, 0.0, 0.0, 0.0, 0.0, 0.0, 0.0, 0.0, 0.0, 0.0, 0.0, 0.0, 0.0, 0.0, 0.0, 0.0, 0.0, 0.0, 0.0, 0.0, 0.0, 0.0, 0.0, 0.0, 0.0, 0.0, 0.0, 0.0, 0.0, 0.0, 0.0, 0.0, 0.0, 0.0, 0.0, 0.0, 0.0, 0.0, 0.0, 0.0, 0.0, 0.0, 0.0, 0.0, 0.0, 0.0, 0.0, 0.0, 0.0, 0.0, 0.0, 0.0, 0.0, 0.0, 0.0, 0.0, 0.0, 0.0, 0.0, 0.0, 0.0, 0.0, 0.0, 0.0, 0.0, 0.0, 0.0, 0.0, 0.0, 0.0, 0.0, 0.0, 0.0, 0.0, 0.0, 0.0, 0.0, 0.0, 0.0, 0.0, 0.0, 0.0, 0.0, 0.0, 0.0, 0.0, 0.0, 0.0, 0.0, 0.0, 0.0, 0.0, 0.0, 0.0, 0.0, 0.0, 0.0, 0.0, 0.0, 0.0, 0.0, 0.0, 0.0, 0.0, 0.0, 0.0, 0.0, 0.0, 0.0, 0.0, 0.0, 0.0, 0.0, 0.0, 0.0, 0.0, 0.0, 0.0, 0.0, 0.0, 0.0, 0.0, 0.0, 0.0, 0.0, 0.0, 0.0, 0.0, 0.0, 0.0, 0.0, 0.0, 0.0, 0.0, 0.0, 0.0, 0.0, 0.0, 0.0, 0.0, 0.0, 0.0, 0.0, 0.0, 0.0, 0.0, 0.0, 0.0, 0.0, 0.0, 0.0, 0.0, 0.0, 0.0, 0.0, 0.0, 0.0, 0.0, 0.0, 0.0, 0.0, 0.0, 0.0, 0.0, 0.0, 0.0, 0.0, 0.0, 0.0, 0.0, 0.0, 0.0, 0.0, 0.0, 0.0, 0.0, 0.0, 0.0, 0.0, 0.0, 0.0, 0.0, 0.0, 0.0, 0.0, 0.0, 0.0, 0.0, 0.0, 0.0, 0.0, 0.0, 0.0, 0.0, 0.0, 0.0, 0.0, 0.0, 0.0, 0.0, 0.0, 0.0, 0.0, 0.0, 0.0, 0.0, 0.0, 0.0, 0.0, 0.0, 0.0, 0.0, 0.0, 0.0, 0.0, 0.0, 0.0, 0.0, 0.0, 0.0, 0.0, 0.0, 0.0, 0.0, 0.0, 0.0, 0.0, 0.0, 0.0, 0.0, 0.0, 0.0, 0.0, 0.0, 0.0, 0.0, 0.0, 0.0, 0.0, 0.0, 0.0, 0.0, 0.0, 0.0, 0.0, 0.0, 0.0, 0.0, 0.0, 0.0, 0.0, 0.0, 0.0, 0.0, 0.0, 0.0, 0.0, 0.0, 0.0, 0.0, 0.0, 0.0, 0.0, 0.0, 0.0, 0.0, 0.0, 0.0, 0.0, 0.0, 0.0, 0.0, 0.0, 0.0, 0.0, 0.0, 0.0, 0.0, 0.0, 0.0, 0.0, 0.0, 0.0, 0.0, 0.0, 0.0, 0.0, 0.0, 0.0, 0.0, 0.0, 0.0, 0.0, 0.0, 0.0, 0.0, 0.0, 0.0, 0.0, 0.0, 0.0, 0.0, 0.0, 0.0, 0.0, 0.0, 0.0, 0.0, 0.0, 0.0, 0.0, 0.0, 0.0, 0.0, 0.0, 0.0, 0.0, 0.0, 0.0, 0.0, 0.0, 0.0, 0.0, 0.0, 0.0, 0.0, 0.0, 0.0, 0.0, 0.0, 0.0, 0.0, 0.0, 0.0, 0.0, 0.0, 0.0, 0.0, 0.0, 0.20375089948951855, 0.21394564038014288, 0.22444130140060953, 0.23517291628600498, 0.24605792374133503, 0.2569921070499676, 0.2678513986921027, 0.2784896245716851, 0.28874301556257853, 0.2984302075085663, 0.3073594596972301, 0.3153354221792121, 0.32216770770594644, 0.32768081713124314, 0.33172451596748975, 0.33418375978723547, 0.3349868150063049, 0.3341093192753554, 0.331577890716817, 0.3274660675333347, 0.3218906987708292, 0.31500292122614804, 0.3069795875093333, 0.2980115360235683, 0.28829366556359365, 0.27801726568720997, 0.2673637005506342, 0.25649583697076744, 0.24555849557981266, 0.23467529274295243, 0.2239490917129664, 0.21346245378484885, 0.2032789917596609, 0.0, 0.0, 0.0, 0.0, 0.0, 0.0, 0.0, 0.0, 0.0, 0.0, 0.0, 0.0, 0.0, 0.0, 0.0, 0.0, 0.0, 0.0, 0.0, 0.0, 0.0, 0.0, 0.0, 0.0, 0.0, 0.0, 0.0, 0.0, 0.0, 0.0, 0.0, 0.0, 0.0, 0.0, 0.0, 0.0, 0.0, 0.0, 0.0, 0.0, 0.0, 0.0, 0.0, 0.0, 0.0, 0.0, 0.0, 0.0, 0.0, 0.0, 0.0, 0.0, 0.0, 0.0, 0.0, 0.0, 0.0, 0.0, 0.0, 0.0, 0.0, 0.0, 0.0, 0.0, 0.0, 0.0, 0.0, 0.0, 0.0, 0.0, 0.0, 0.0, 0.0, 0.0, 0.0, 0.0, 0.0, 0.0, 0.0, 0.0, 0.0, 0.0, 0.0, 0.0, 0.0, 0.0, 0.0, 0.0, 0.0, 0.0, 0.0, 0.0, 0.0, 0.0, 0.0, 0.0, 0.0, 0.0, 0.0, 0.0, 0.0, 0.0, 0.0, 0.0, 0.0, 0.0, 0.0, 0.0, 0.0, 0.0]}],\n",
              "                        {\"showlegend\": true, \"template\": {\"data\": {\"bar\": [{\"error_x\": {\"color\": \"#2a3f5f\"}, \"error_y\": {\"color\": \"#2a3f5f\"}, \"marker\": {\"line\": {\"color\": \"#E5ECF6\", \"width\": 0.5}}, \"type\": \"bar\"}], \"barpolar\": [{\"marker\": {\"line\": {\"color\": \"#E5ECF6\", \"width\": 0.5}}, \"type\": \"barpolar\"}], \"carpet\": [{\"aaxis\": {\"endlinecolor\": \"#2a3f5f\", \"gridcolor\": \"white\", \"linecolor\": \"white\", \"minorgridcolor\": \"white\", \"startlinecolor\": \"#2a3f5f\"}, \"baxis\": {\"endlinecolor\": \"#2a3f5f\", \"gridcolor\": \"white\", \"linecolor\": \"white\", \"minorgridcolor\": \"white\", \"startlinecolor\": \"#2a3f5f\"}, \"type\": \"carpet\"}], \"choropleth\": [{\"colorbar\": {\"outlinewidth\": 0, \"ticks\": \"\"}, \"type\": \"choropleth\"}], \"contour\": [{\"colorbar\": {\"outlinewidth\": 0, \"ticks\": \"\"}, \"colorscale\": [[0.0, \"#0d0887\"], [0.1111111111111111, \"#46039f\"], [0.2222222222222222, \"#7201a8\"], [0.3333333333333333, \"#9c179e\"], [0.4444444444444444, \"#bd3786\"], [0.5555555555555556, \"#d8576b\"], [0.6666666666666666, \"#ed7953\"], [0.7777777777777778, \"#fb9f3a\"], [0.8888888888888888, \"#fdca26\"], [1.0, \"#f0f921\"]], \"type\": \"contour\"}], \"contourcarpet\": [{\"colorbar\": {\"outlinewidth\": 0, \"ticks\": \"\"}, \"type\": \"contourcarpet\"}], \"heatmap\": [{\"colorbar\": {\"outlinewidth\": 0, \"ticks\": \"\"}, \"colorscale\": [[0.0, \"#0d0887\"], [0.1111111111111111, \"#46039f\"], [0.2222222222222222, \"#7201a8\"], [0.3333333333333333, \"#9c179e\"], [0.4444444444444444, \"#bd3786\"], [0.5555555555555556, \"#d8576b\"], [0.6666666666666666, \"#ed7953\"], [0.7777777777777778, \"#fb9f3a\"], [0.8888888888888888, \"#fdca26\"], [1.0, \"#f0f921\"]], \"type\": \"heatmap\"}], \"heatmapgl\": [{\"colorbar\": {\"outlinewidth\": 0, \"ticks\": \"\"}, \"colorscale\": [[0.0, \"#0d0887\"], [0.1111111111111111, \"#46039f\"], [0.2222222222222222, \"#7201a8\"], [0.3333333333333333, \"#9c179e\"], [0.4444444444444444, \"#bd3786\"], [0.5555555555555556, \"#d8576b\"], [0.6666666666666666, \"#ed7953\"], [0.7777777777777778, \"#fb9f3a\"], [0.8888888888888888, \"#fdca26\"], [1.0, \"#f0f921\"]], \"type\": \"heatmapgl\"}], \"histogram\": [{\"marker\": {\"colorbar\": {\"outlinewidth\": 0, \"ticks\": \"\"}}, \"type\": \"histogram\"}], \"histogram2d\": [{\"colorbar\": {\"outlinewidth\": 0, \"ticks\": \"\"}, \"colorscale\": [[0.0, \"#0d0887\"], [0.1111111111111111, \"#46039f\"], [0.2222222222222222, \"#7201a8\"], [0.3333333333333333, \"#9c179e\"], [0.4444444444444444, \"#bd3786\"], [0.5555555555555556, \"#d8576b\"], [0.6666666666666666, \"#ed7953\"], [0.7777777777777778, \"#fb9f3a\"], [0.8888888888888888, \"#fdca26\"], [1.0, \"#f0f921\"]], \"type\": \"histogram2d\"}], \"histogram2dcontour\": [{\"colorbar\": {\"outlinewidth\": 0, \"ticks\": \"\"}, \"colorscale\": [[0.0, \"#0d0887\"], [0.1111111111111111, \"#46039f\"], [0.2222222222222222, \"#7201a8\"], [0.3333333333333333, \"#9c179e\"], [0.4444444444444444, \"#bd3786\"], [0.5555555555555556, \"#d8576b\"], [0.6666666666666666, \"#ed7953\"], [0.7777777777777778, \"#fb9f3a\"], [0.8888888888888888, \"#fdca26\"], [1.0, \"#f0f921\"]], \"type\": \"histogram2dcontour\"}], \"mesh3d\": [{\"colorbar\": {\"outlinewidth\": 0, \"ticks\": \"\"}, \"type\": \"mesh3d\"}], \"parcoords\": [{\"line\": {\"colorbar\": {\"outlinewidth\": 0, \"ticks\": \"\"}}, \"type\": \"parcoords\"}], \"pie\": [{\"automargin\": true, \"type\": \"pie\"}], \"scatter\": [{\"marker\": {\"colorbar\": {\"outlinewidth\": 0, \"ticks\": \"\"}}, \"type\": \"scatter\"}], \"scatter3d\": [{\"line\": {\"colorbar\": {\"outlinewidth\": 0, \"ticks\": \"\"}}, \"marker\": {\"colorbar\": {\"outlinewidth\": 0, \"ticks\": \"\"}}, \"type\": \"scatter3d\"}], \"scattercarpet\": [{\"marker\": {\"colorbar\": {\"outlinewidth\": 0, \"ticks\": \"\"}}, \"type\": \"scattercarpet\"}], \"scattergeo\": [{\"marker\": {\"colorbar\": {\"outlinewidth\": 0, \"ticks\": \"\"}}, \"type\": \"scattergeo\"}], \"scattergl\": [{\"marker\": {\"colorbar\": {\"outlinewidth\": 0, \"ticks\": \"\"}}, \"type\": \"scattergl\"}], \"scattermapbox\": [{\"marker\": {\"colorbar\": {\"outlinewidth\": 0, \"ticks\": \"\"}}, \"type\": \"scattermapbox\"}], \"scatterpolar\": [{\"marker\": {\"colorbar\": {\"outlinewidth\": 0, \"ticks\": \"\"}}, \"type\": \"scatterpolar\"}], \"scatterpolargl\": [{\"marker\": {\"colorbar\": {\"outlinewidth\": 0, \"ticks\": \"\"}}, \"type\": \"scatterpolargl\"}], \"scatterternary\": [{\"marker\": {\"colorbar\": {\"outlinewidth\": 0, \"ticks\": \"\"}}, \"type\": \"scatterternary\"}], \"surface\": [{\"colorbar\": {\"outlinewidth\": 0, \"ticks\": \"\"}, \"colorscale\": [[0.0, \"#0d0887\"], [0.1111111111111111, \"#46039f\"], [0.2222222222222222, \"#7201a8\"], [0.3333333333333333, \"#9c179e\"], [0.4444444444444444, \"#bd3786\"], [0.5555555555555556, \"#d8576b\"], [0.6666666666666666, \"#ed7953\"], [0.7777777777777778, \"#fb9f3a\"], [0.8888888888888888, \"#fdca26\"], [1.0, \"#f0f921\"]], \"type\": \"surface\"}], \"table\": [{\"cells\": {\"fill\": {\"color\": \"#EBF0F8\"}, \"line\": {\"color\": \"white\"}}, \"header\": {\"fill\": {\"color\": \"#C8D4E3\"}, \"line\": {\"color\": \"white\"}}, \"type\": \"table\"}]}, \"layout\": {\"annotationdefaults\": {\"arrowcolor\": \"#2a3f5f\", \"arrowhead\": 0, \"arrowwidth\": 1}, \"coloraxis\": {\"colorbar\": {\"outlinewidth\": 0, \"ticks\": \"\"}}, \"colorscale\": {\"diverging\": [[0, \"#8e0152\"], [0.1, \"#c51b7d\"], [0.2, \"#de77ae\"], [0.3, \"#f1b6da\"], [0.4, \"#fde0ef\"], [0.5, \"#f7f7f7\"], [0.6, \"#e6f5d0\"], [0.7, \"#b8e186\"], [0.8, \"#7fbc41\"], [0.9, \"#4d9221\"], [1, \"#276419\"]], \"sequential\": [[0.0, \"#0d0887\"], [0.1111111111111111, \"#46039f\"], [0.2222222222222222, \"#7201a8\"], [0.3333333333333333, \"#9c179e\"], [0.4444444444444444, \"#bd3786\"], [0.5555555555555556, \"#d8576b\"], [0.6666666666666666, \"#ed7953\"], [0.7777777777777778, \"#fb9f3a\"], [0.8888888888888888, \"#fdca26\"], [1.0, \"#f0f921\"]], \"sequentialminus\": [[0.0, \"#0d0887\"], [0.1111111111111111, \"#46039f\"], [0.2222222222222222, \"#7201a8\"], [0.3333333333333333, \"#9c179e\"], [0.4444444444444444, \"#bd3786\"], [0.5555555555555556, \"#d8576b\"], [0.6666666666666666, \"#ed7953\"], [0.7777777777777778, \"#fb9f3a\"], [0.8888888888888888, \"#fdca26\"], [1.0, \"#f0f921\"]]}, \"colorway\": [\"#636efa\", \"#EF553B\", \"#00cc96\", \"#ab63fa\", \"#FFA15A\", \"#19d3f3\", \"#FF6692\", \"#B6E880\", \"#FF97FF\", \"#FECB52\"], \"font\": {\"color\": \"#2a3f5f\"}, \"geo\": {\"bgcolor\": \"white\", \"lakecolor\": \"white\", \"landcolor\": \"#E5ECF6\", \"showlakes\": true, \"showland\": true, \"subunitcolor\": \"white\"}, \"hoverlabel\": {\"align\": \"left\"}, \"hovermode\": \"closest\", \"mapbox\": {\"style\": \"light\"}, \"paper_bgcolor\": \"white\", \"plot_bgcolor\": \"#E5ECF6\", \"polar\": {\"angularaxis\": {\"gridcolor\": \"white\", \"linecolor\": \"white\", \"ticks\": \"\"}, \"bgcolor\": \"#E5ECF6\", \"radialaxis\": {\"gridcolor\": \"white\", \"linecolor\": \"white\", \"ticks\": \"\"}}, \"scene\": {\"xaxis\": {\"backgroundcolor\": \"#E5ECF6\", \"gridcolor\": \"white\", \"gridwidth\": 2, \"linecolor\": \"white\", \"showbackground\": true, \"ticks\": \"\", \"zerolinecolor\": \"white\"}, \"yaxis\": {\"backgroundcolor\": \"#E5ECF6\", \"gridcolor\": \"white\", \"gridwidth\": 2, \"linecolor\": \"white\", \"showbackground\": true, \"ticks\": \"\", \"zerolinecolor\": \"white\"}, \"zaxis\": {\"backgroundcolor\": \"#E5ECF6\", \"gridcolor\": \"white\", \"gridwidth\": 2, \"linecolor\": \"white\", \"showbackground\": true, \"ticks\": \"\", \"zerolinecolor\": \"white\"}}, \"shapedefaults\": {\"line\": {\"color\": \"#2a3f5f\"}}, \"ternary\": {\"aaxis\": {\"gridcolor\": \"white\", \"linecolor\": \"white\", \"ticks\": \"\"}, \"baxis\": {\"gridcolor\": \"white\", \"linecolor\": \"white\", \"ticks\": \"\"}, \"bgcolor\": \"#E5ECF6\", \"caxis\": {\"gridcolor\": \"white\", \"linecolor\": \"white\", \"ticks\": \"\"}}, \"title\": {\"x\": 0.05}, \"xaxis\": {\"automargin\": true, \"gridcolor\": \"white\", \"linecolor\": \"white\", \"ticks\": \"\", \"title\": {\"standoff\": 15}, \"zerolinecolor\": \"white\", \"zerolinewidth\": 2}, \"yaxis\": {\"automargin\": true, \"gridcolor\": \"white\", \"linecolor\": \"white\", \"ticks\": \"\", \"title\": {\"standoff\": 15}, \"zerolinecolor\": \"white\", \"zerolinewidth\": 2}}}, \"title\": {\"text\": \"Intensities over frequency\", \"x\": 0.5}},\n",
              "                        {\"responsive\": true}\n",
              "                    ).then(function(){\n",
              "                            \n",
              "var gd = document.getElementById('58c96a61-ea87-4f07-a21d-bbe54f0fbfcb');\n",
              "var x = new MutationObserver(function (mutations, observer) {{\n",
              "        var display = window.getComputedStyle(gd).display;\n",
              "        if (!display || display === 'none') {{\n",
              "            console.log([gd, 'removed!']);\n",
              "            Plotly.purge(gd);\n",
              "            observer.disconnect();\n",
              "        }}\n",
              "}});\n",
              "\n",
              "// Listen for the removal of the full notebook cells\n",
              "var notebookContainer = gd.closest('#notebook-container');\n",
              "if (notebookContainer) {{\n",
              "    x.observe(notebookContainer, {childList: true});\n",
              "}}\n",
              "\n",
              "// Listen for the clearing of the current output cell\n",
              "var outputEl = gd.closest('.output');\n",
              "if (outputEl) {{\n",
              "    x.observe(outputEl, {childList: true});\n",
              "}}\n",
              "\n",
              "                        })\n",
              "                };\n",
              "                \n",
              "            </script>\n",
              "        </div>\n",
              "</body>\n",
              "</html>"
            ]
          },
          "metadata": {}
        }
      ]
    },
    {
      "cell_type": "code",
      "metadata": {
        "colab": {
          "base_uri": "https://localhost:8080/",
          "height": 542
        },
        "id": "OPRq9vIRGr-T",
        "outputId": "5f359cdd-c98e-47a4-d5d8-c0d3c800cc31"
      },
      "source": [
        "# to display the spectrum of a FN\n",
        "# in the line below, insert the index value of the molecule you want to see from the table above\n",
        "fn_idx=137\n",
        "# then display the figure\n",
        "fn_mol=test.set_index('name').iloc[fn_idx,3:]\n",
        "fig = go.Figure()\n",
        "fig.add_trace(go.Scatter(x=fn_mol.index, y=fn_mol, name=fn_mol.name,mode='markers'))\n",
        "fig.update_layout(title='Intensities over frequency',title_x=0.5)\n",
        "fig.update_layout(showlegend=True)"
      ],
      "execution_count": 46,
      "outputs": [
        {
          "output_type": "display_data",
          "data": {
            "text/html": [
              "<html>\n",
              "<head><meta charset=\"utf-8\" /></head>\n",
              "<body>\n",
              "    <div>\n",
              "            <script src=\"https://cdnjs.cloudflare.com/ajax/libs/mathjax/2.7.5/MathJax.js?config=TeX-AMS-MML_SVG\"></script><script type=\"text/javascript\">if (window.MathJax) {MathJax.Hub.Config({SVG: {font: \"STIX-Web\"}});}</script>\n",
              "                <script type=\"text/javascript\">window.PlotlyConfig = {MathJaxConfig: 'local'};</script>\n",
              "        <script src=\"https://cdn.plot.ly/plotly-latest.min.js\"></script>    \n",
              "            <div id=\"38af7427-8008-423e-8d17-80e7016d33a3\" class=\"plotly-graph-div\" style=\"height:525px; width:100%;\"></div>\n",
              "            <script type=\"text/javascript\">\n",
              "                \n",
              "                    window.PLOTLYENV=window.PLOTLYENV || {};\n",
              "                    \n",
              "                if (document.getElementById(\"38af7427-8008-423e-8d17-80e7016d33a3\")) {\n",
              "                    Plotly.newPlot(\n",
              "                        '38af7427-8008-423e-8d17-80e7016d33a3',\n",
              "                        [{\"mode\": \"markers\", \"name\": \"diacetone-alcohol\", \"type\": \"scatter\", \"x\": [\"502\", \"504\", \"506\", \"508\", \"510\", \"512\", \"514\", \"516\", \"518\", \"520\", \"522\", \"524\", \"526\", \"528\", \"530\", \"532\", \"534\", \"536\", \"538\", \"540\", \"542\", \"544\", \"546\", \"548\", \"550\", \"552\", \"554\", \"556\", \"558\", \"560\", \"562\", \"564\", \"566\", \"568\", \"570\", \"572\", \"574\", \"576\", \"578\", \"580\", \"582\", \"584\", \"586\", \"588\", \"590\", \"592\", \"594\", \"596\", \"598\", \"600\", \"602\", \"604\", \"606\", \"608\", \"610\", \"612\", \"614\", \"616\", \"618\", \"620\", \"622\", \"624\", \"626\", \"628\", \"630\", \"632\", \"634\", \"636\", \"638\", \"640\", \"642\", \"644\", \"646\", \"648\", \"650\", \"652\", \"654\", \"656\", \"658\", \"660\", \"662\", \"664\", \"666\", \"668\", \"670\", \"672\", \"674\", \"676\", \"678\", \"680\", \"682\", \"684\", \"686\", \"688\", \"690\", \"692\", \"694\", \"696\", \"698\", \"700\", \"702\", \"704\", \"706\", \"708\", \"710\", \"712\", \"714\", \"716\", \"718\", \"720\", \"722\", \"724\", \"726\", \"728\", \"730\", \"732\", \"734\", \"736\", \"738\", \"740\", \"742\", \"744\", \"746\", \"748\", \"750\", \"752\", \"754\", \"756\", \"758\", \"760\", \"762\", \"764\", \"766\", \"768\", \"770\", \"772\", \"774\", \"776\", \"778\", \"780\", \"782\", \"784\", \"786\", \"788\", \"790\", \"792\", \"794\", \"796\", \"798\", \"800\", \"802\", \"804\", \"806\", \"808\", \"810\", \"812\", \"814\", \"816\", \"818\", \"820\", \"822\", \"824\", \"826\", \"828\", \"830\", \"832\", \"834\", \"836\", \"838\", \"840\", \"842\", \"844\", \"846\", \"848\", \"850\", \"852\", \"854\", \"856\", \"858\", \"860\", \"862\", \"864\", \"866\", \"868\", \"870\", \"872\", \"874\", \"876\", \"878\", \"880\", \"882\", \"884\", \"886\", \"888\", \"890\", \"892\", \"894\", \"896\", \"898\", \"900\", \"902\", \"904\", \"906\", \"908\", \"910\", \"912\", \"914\", \"916\", \"918\", \"920\", \"922\", \"924\", \"926\", \"928\", \"930\", \"932\", \"934\", \"936\", \"938\", \"940\", \"942\", \"944\", \"946\", \"948\", \"950\", \"952\", \"954\", \"956\", \"958\", \"960\", \"962\", \"964\", \"966\", \"968\", \"970\", \"972\", \"974\", \"976\", \"978\", \"980\", \"982\", \"984\", \"986\", \"988\", \"990\", \"992\", \"994\", \"996\", \"998\", \"1000\", \"1002\", \"1004\", \"1006\", \"1008\", \"1010\", \"1012\", \"1014\", \"1016\", \"1018\", \"1020\", \"1022\", \"1024\", \"1026\", \"1028\", \"1030\", \"1032\", \"1034\", \"1036\", \"1038\", \"1040\", \"1042\", \"1044\", \"1046\", \"1048\", \"1050\", \"1052\", \"1054\", \"1056\", \"1058\", \"1060\", \"1062\", \"1064\", \"1066\", \"1068\", \"1070\", \"1072\", \"1074\", \"1076\", \"1078\", \"1080\", \"1082\", \"1084\", \"1086\", \"1088\", \"1090\", \"1092\", \"1094\", \"1096\", \"1098\", \"1100\", \"1102\", \"1104\", \"1106\", \"1108\", \"1110\", \"1112\", \"1114\", \"1116\", \"1118\", \"1120\", \"1122\", \"1124\", \"1126\", \"1128\", \"1130\", \"1132\", \"1134\", \"1136\", \"1138\", \"1140\", \"1142\", \"1144\", \"1146\", \"1148\", \"1150\", \"1152\", \"1154\", \"1156\", \"1158\", \"1160\", \"1162\", \"1164\", \"1166\", \"1168\", \"1170\", \"1172\", \"1174\", \"1176\", \"1178\", \"1180\", \"1182\", \"1184\", \"1186\", \"1188\", \"1190\", \"1192\", \"1194\", \"1196\", \"1198\", \"1200\", \"1202\", \"1204\", \"1206\", \"1208\", \"1210\", \"1212\", \"1214\", \"1216\", \"1218\", \"1220\", \"1222\", \"1224\", \"1226\", \"1228\", \"1230\", \"1232\", \"1234\", \"1236\", \"1238\", \"1240\", \"1242\", \"1244\", \"1246\", \"1248\", \"1250\", \"1252\", \"1254\", \"1256\", \"1258\", \"1260\", \"1262\", \"1264\", \"1266\", \"1268\", \"1270\", \"1272\", \"1274\", \"1276\", \"1278\", \"1280\", \"1282\", \"1284\", \"1286\", \"1288\", \"1290\", \"1292\", \"1294\", \"1296\", \"1298\", \"1300\", \"1302\", \"1304\", \"1306\", \"1308\", \"1310\", \"1312\", \"1314\", \"1316\", \"1318\", \"1320\", \"1322\", \"1324\", \"1326\", \"1328\", \"1330\", \"1332\", \"1334\", \"1336\", \"1338\", \"1340\", \"1342\", \"1344\", \"1346\", \"1348\", \"1350\", \"1352\", \"1354\", \"1356\", \"1358\", \"1360\", \"1362\", \"1364\", \"1366\", \"1368\", \"1370\", \"1372\", \"1374\", \"1376\", \"1378\", \"1380\", \"1382\", \"1384\", \"1386\", \"1388\", \"1390\", \"1392\", \"1394\", \"1396\", \"1398\", \"1400\", \"1402\", \"1404\", \"1406\", \"1408\", \"1410\", \"1412\", \"1414\", \"1416\", \"1418\", \"1420\", \"1422\", \"1424\", \"1426\", \"1428\", \"1430\", \"1432\", \"1434\", \"1436\", \"1438\", \"1440\", \"1442\", \"1444\", \"1446\", \"1448\", \"1450\", \"1452\", \"1454\", \"1456\", \"1458\", \"1460\", \"1462\", \"1464\", \"1466\", \"1468\", \"1470\", \"1472\", \"1474\", \"1476\", \"1478\", \"1480\", \"1482\", \"1484\", \"1486\", \"1488\", \"1490\", \"1492\", \"1494\", \"1496\", \"1498\", \"1500\", \"1502\", \"1504\", \"1506\", \"1508\", \"1510\", \"1512\", \"1514\", \"1516\", \"1518\", \"1520\", \"1522\", \"1524\", \"1526\", \"1528\", \"1530\", \"1532\", \"1534\", \"1536\", \"1538\", \"1540\", \"1542\", \"1544\", \"1546\", \"1548\", \"1550\", \"1552\", \"1554\", \"1556\", \"1558\", \"1560\", \"1562\", \"1564\", \"1566\", \"1568\", \"1570\", \"1572\", \"1574\", \"1576\", \"1578\", \"1580\", \"1582\", \"1584\", \"1586\", \"1588\", \"1590\", \"1592\", \"1594\", \"1596\", \"1598\", \"1600\", \"1602\", \"1604\", \"1606\", \"1608\", \"1610\", \"1612\", \"1614\", \"1616\", \"1618\", \"1620\", \"1622\", \"1624\", \"1626\", \"1628\", \"1630\", \"1632\", \"1634\", \"1636\", \"1638\", \"1640\", \"1642\", \"1644\", \"1646\", \"1648\", \"1650\", \"1652\", \"1654\", \"1656\", \"1658\", \"1660\", \"1662\", \"1664\", \"1666\", \"1668\", \"1670\", \"1672\", \"1674\", \"1676\", \"1678\", \"1680\", \"1682\", \"1684\", \"1686\", \"1688\", \"1690\", \"1692\", \"1694\", \"1696\", \"1698\", \"1700\", \"1702\", \"1704\", \"1706\", \"1708\", \"1710\", \"1712\", \"1714\", \"1716\", \"1718\", \"1720\", \"1722\", \"1724\", \"1726\", \"1728\", \"1730\", \"1732\", \"1734\", \"1736\", \"1738\", \"1740\", \"1742\", \"1744\", \"1746\", \"1748\", \"1750\", \"1752\", \"1754\", \"1756\", \"1758\", \"1760\", \"1762\", \"1764\", \"1766\", \"1768\", \"1770\", \"1772\", \"1774\", \"1776\", \"1778\", \"1780\", \"1782\", \"1784\", \"1786\", \"1788\", \"1790\", \"1792\", \"1794\", \"1796\", \"1798\", \"1800\", \"1802\", \"1804\", \"1806\", \"1808\", \"1810\", \"1812\", \"1814\", \"1816\", \"1818\", \"1820\", \"1822\", \"1824\", \"1826\", \"1828\", \"1830\", \"1832\", \"1834\", \"1836\", \"1838\", \"1840\", \"1842\", \"1844\", \"1846\", \"1848\", \"1850\", \"1852\", \"1854\", \"1856\", \"1858\", \"1860\", \"1862\", \"1864\", \"1866\", \"1868\", \"1870\", \"1872\", \"1874\", \"1876\", \"1878\", \"1880\", \"1882\", \"1884\", \"1886\", \"1888\", \"1890\", \"1892\", \"1894\", \"1896\", \"1898\", \"1900\", \"1902\", \"1904\", \"1906\", \"1908\", \"1910\", \"1912\", \"1914\", \"1916\", \"1918\", \"1920\", \"1922\", \"1924\", \"1926\", \"1928\", \"1930\", \"1932\", \"1934\", \"1936\", \"1938\", \"1940\", \"1942\", \"1944\", \"1946\", \"1948\", \"1950\", \"1952\", \"1954\", \"1956\", \"1958\", \"1960\", \"1962\", \"1964\", \"1966\", \"1968\", \"1970\", \"1972\", \"1974\", \"1976\", \"1978\", \"1980\", \"1982\", \"1984\", \"1986\", \"1988\", \"1990\", \"1992\", \"1994\", \"1996\", \"1998\", \"2000\", \"2002\", \"2004\", \"2006\", \"2008\", \"2010\", \"2012\", \"2014\", \"2016\", \"2018\", \"2020\", \"2022\", \"2024\", \"2026\", \"2028\", \"2030\", \"2032\", \"2034\", \"2036\", \"2038\", \"2040\", \"2042\", \"2044\", \"2046\", \"2048\", \"2050\", \"2052\", \"2054\", \"2056\", \"2058\", \"2060\", \"2062\", \"2064\", \"2066\", \"2068\", \"2070\", \"2072\", \"2074\", \"2076\", \"2078\", \"2080\", \"2082\", \"2084\", \"2086\", \"2088\", \"2090\", \"2092\", \"2094\", \"2096\", \"2098\", \"2100\", \"2102\", \"2104\", \"2106\", \"2108\", \"2110\", \"2112\", \"2114\", \"2116\", \"2118\", \"2120\", \"2122\", \"2124\", \"2126\", \"2128\", \"2130\", \"2132\", \"2134\", \"2136\", \"2138\", \"2140\", \"2142\", \"2144\", \"2146\", \"2148\", \"2150\", \"2152\", \"2154\", \"2156\", \"2158\", \"2160\", \"2162\", \"2164\", \"2166\", \"2168\", \"2170\", \"2172\", \"2174\", \"2176\", \"2178\", \"2180\", \"2182\", \"2184\", \"2186\", \"2188\", \"2190\", \"2192\", \"2194\", \"2196\", \"2198\", \"2200\", \"2202\", \"2204\", \"2206\", \"2208\", \"2210\", \"2212\", \"2214\", \"2216\", \"2218\", \"2220\", \"2222\", \"2224\", \"2226\", \"2228\", \"2230\", \"2232\", \"2234\", \"2236\", \"2238\", \"2240\", \"2242\", \"2244\", \"2246\", \"2248\", \"2250\", \"2252\", \"2254\", \"2256\", \"2258\", \"2260\", \"2262\", \"2264\", \"2266\", \"2268\", \"2270\", \"2272\", \"2274\", \"2276\", \"2278\", \"2280\", \"2282\", \"2284\", \"2286\", \"2288\", \"2290\", \"2292\", \"2294\", \"2296\", \"2298\", \"2300\", \"2302\", \"2304\", \"2306\", \"2308\", \"2310\", \"2312\", \"2314\", \"2316\", \"2318\", \"2320\", \"2322\", \"2324\", \"2326\", \"2328\", \"2330\", \"2332\", \"2334\", \"2336\", \"2338\", \"2340\", \"2342\", \"2344\", \"2346\", \"2348\", \"2350\", \"2352\", \"2354\", \"2356\", \"2358\", \"2360\", \"2362\", \"2364\", \"2366\", \"2368\", \"2370\", \"2372\", \"2374\", \"2376\", \"2378\", \"2380\", \"2382\", \"2384\", \"2386\", \"2388\", \"2390\", \"2392\", \"2394\", \"2396\", \"2398\", \"2400\", \"2402\", \"2404\", \"2406\", \"2408\", \"2410\", \"2412\", \"2414\", \"2416\", \"2418\", \"2420\", \"2422\", \"2424\", \"2426\", \"2428\", \"2430\", \"2432\", \"2434\", \"2436\", \"2438\", \"2440\", \"2442\", \"2444\", \"2446\", \"2448\", \"2450\", \"2452\", \"2454\", \"2456\", \"2458\", \"2460\", \"2462\", \"2464\", \"2466\", \"2468\", \"2470\", \"2472\", \"2474\", \"2476\", \"2478\", \"2480\", \"2482\", \"2484\", \"2486\", \"2488\", \"2490\", \"2492\", \"2494\", \"2496\", \"2498\", \"2500\", \"2502\", \"2504\", \"2506\", \"2508\", \"2510\", \"2512\", \"2514\", \"2516\", \"2518\", \"2520\", \"2522\", \"2524\", \"2526\", \"2528\", \"2530\", \"2532\", \"2534\", \"2536\", \"2538\", \"2540\", \"2542\", \"2544\", \"2546\", \"2548\", \"2550\", \"2552\", \"2554\", \"2556\", \"2558\", \"2560\", \"2562\", \"2564\", \"2566\", \"2568\", \"2570\", \"2572\", \"2574\", \"2576\", \"2578\", \"2580\", \"2582\", \"2584\", \"2586\", \"2588\", \"2590\", \"2592\", \"2594\", \"2596\", \"2598\", \"2600\", \"2602\", \"2604\", \"2606\", \"2608\", \"2610\", \"2612\", \"2614\", \"2616\", \"2618\", \"2620\", \"2622\", \"2624\", \"2626\", \"2628\", \"2630\", \"2632\", \"2634\", \"2636\", \"2638\", \"2640\", \"2642\", \"2644\", \"2646\", \"2648\", \"2650\", \"2652\", \"2654\", \"2656\", \"2658\", \"2660\", \"2662\", \"2664\", \"2666\", \"2668\", \"2670\", \"2672\", \"2674\", \"2676\", \"2678\", \"2680\", \"2682\", \"2684\", \"2686\", \"2688\", \"2690\", \"2692\", \"2694\", \"2696\", \"2698\", \"2700\", \"2702\", \"2704\", \"2706\", \"2708\", \"2710\", \"2712\", \"2714\", \"2716\", \"2718\", \"2720\", \"2722\", \"2724\", \"2726\", \"2728\", \"2730\", \"2732\", \"2734\", \"2736\", \"2738\", \"2740\", \"2742\", \"2744\", \"2746\", \"2748\", \"2750\", \"2752\", \"2754\", \"2756\", \"2758\", \"2760\", \"2762\", \"2764\", \"2766\", \"2768\", \"2770\", \"2772\", \"2774\", \"2776\", \"2778\", \"2780\", \"2782\", \"2784\", \"2786\", \"2788\", \"2790\", \"2792\", \"2794\", \"2796\", \"2798\", \"2800\", \"2802\", \"2804\", \"2806\", \"2808\", \"2810\", \"2812\", \"2814\", \"2816\", \"2818\", \"2820\", \"2822\", \"2824\", \"2826\", \"2828\", \"2830\", \"2832\", \"2834\", \"2836\", \"2838\", \"2840\", \"2842\", \"2844\", \"2846\", \"2848\", \"2850\", \"2852\", \"2854\", \"2856\", \"2858\", \"2860\", \"2862\", \"2864\", \"2866\", \"2868\", \"2870\", \"2872\", \"2874\", \"2876\", \"2878\", \"2880\", \"2882\", \"2884\", \"2886\", \"2888\", \"2890\", \"2892\", \"2894\", \"2896\", \"2898\", \"2900\", \"2902\", \"2904\", \"2906\", \"2908\", \"2910\", \"2912\", \"2914\", \"2916\", \"2918\", \"2920\", \"2922\", \"2924\", \"2926\", \"2928\", \"2930\", \"2932\", \"2934\", \"2936\", \"2938\", \"2940\", \"2942\", \"2944\", \"2946\", \"2948\", \"2950\", \"2952\", \"2954\", \"2956\", \"2958\", \"2960\", \"2962\", \"2964\", \"2966\", \"2968\", \"2970\", \"2972\", \"2974\", \"2976\", \"2978\", \"2980\", \"2982\", \"2984\", \"2986\", \"2988\", \"2990\", \"2992\", \"2994\", \"2996\", \"2998\", \"3000\", \"3002\", \"3004\", \"3006\", \"3008\", \"3010\", \"3012\", \"3014\", \"3016\", \"3018\", \"3020\", \"3022\", \"3024\", \"3026\", \"3028\", \"3030\", \"3032\", \"3034\", \"3036\", \"3038\", \"3040\", \"3042\", \"3044\", \"3046\", \"3048\", \"3050\", \"3052\", \"3054\", \"3056\", \"3058\", \"3060\", \"3062\", \"3064\", \"3066\", \"3068\", \"3070\", \"3072\", \"3074\", \"3076\", \"3078\", \"3080\", \"3082\", \"3084\", \"3086\", \"3088\", \"3090\", \"3092\", \"3094\", \"3096\", \"3098\", \"3100\", \"3102\", \"3104\", \"3106\", \"3108\", \"3110\", \"3112\", \"3114\", \"3116\", \"3118\", \"3120\", \"3122\", \"3124\", \"3126\", \"3128\", \"3130\", \"3132\", \"3134\", \"3136\", \"3138\", \"3140\", \"3142\", \"3144\", \"3146\", \"3148\", \"3150\", \"3152\", \"3154\", \"3156\", \"3158\", \"3160\", \"3162\", \"3164\", \"3166\", \"3168\", \"3170\", \"3172\", \"3174\", \"3176\", \"3178\", \"3180\", \"3182\", \"3184\", \"3186\", \"3188\", \"3190\", \"3192\", \"3194\", \"3196\", \"3198\", \"3200\", \"3202\", \"3204\", \"3206\", \"3208\", \"3210\", \"3212\", \"3214\", \"3216\", \"3218\", \"3220\", \"3222\", \"3224\", \"3226\", \"3228\", \"3230\", \"3232\", \"3234\", \"3236\", \"3238\", \"3240\", \"3242\", \"3244\", \"3246\", \"3248\", \"3250\", \"3252\", \"3254\", \"3256\", \"3258\", \"3260\", \"3262\", \"3264\", \"3266\", \"3268\", \"3270\", \"3272\", \"3274\", \"3276\", \"3278\", \"3280\", \"3282\", \"3284\", \"3286\", \"3288\", \"3290\", \"3292\", \"3294\", \"3296\", \"3298\", \"3300\", \"3302\", \"3304\", \"3306\", \"3308\", \"3310\", \"3312\", \"3314\", \"3316\", \"3318\", \"3320\", \"3322\", \"3324\", \"3326\", \"3328\", \"3330\", \"3332\", \"3334\", \"3336\", \"3338\", \"3340\", \"3342\", \"3344\", \"3346\", \"3348\", \"3350\", \"3352\", \"3354\", \"3356\", \"3358\", \"3360\", \"3362\", \"3364\", \"3366\", \"3368\", \"3370\", \"3372\", \"3374\", \"3376\", \"3378\", \"3380\", \"3382\", \"3384\", \"3386\", \"3388\", \"3390\", \"3392\", \"3394\", \"3396\", \"3398\", \"3400\", \"3402\", \"3404\", \"3406\", \"3408\", \"3410\", \"3412\", \"3414\", \"3416\", \"3418\", \"3420\", \"3422\", \"3424\", \"3426\", \"3428\", \"3430\", \"3432\", \"3434\", \"3436\", \"3438\", \"3440\", \"3442\", \"3444\", \"3446\", \"3448\", \"3450\", \"3452\", \"3454\", \"3456\", \"3458\", \"3460\", \"3462\", \"3464\", \"3466\", \"3468\", \"3470\", \"3472\", \"3474\", \"3476\", \"3478\", \"3480\", \"3482\", \"3484\", \"3486\", \"3488\", \"3490\", \"3492\", \"3494\", \"3496\", \"3498\", \"3500\", \"3502\", \"3504\", \"3506\", \"3508\", \"3510\", \"3512\", \"3514\", \"3516\", \"3518\", \"3520\", \"3522\", \"3524\", \"3526\", \"3528\", \"3530\", \"3532\", \"3534\", \"3536\", \"3538\", \"3540\", \"3542\", \"3544\", \"3546\", \"3548\", \"3550\", \"3552\", \"3554\", \"3556\", \"3558\", \"3560\", \"3562\", \"3564\", \"3566\", \"3568\", \"3570\", \"3572\", \"3574\", \"3576\", \"3578\", \"3580\", \"3582\", \"3584\", \"3586\", \"3588\", \"3590\", \"3592\", \"3594\", \"3596\", \"3598\", \"3600\", \"3602\", \"3604\", \"3606\", \"3608\", \"3610\", \"3612\", \"3614\", \"3616\", \"3618\", \"3620\", \"3622\", \"3624\", \"3626\", \"3628\", \"3630\", \"3632\", \"3634\", \"3636\", \"3638\", \"3640\", \"3642\", \"3644\", \"3646\", \"3648\", \"3650\", \"3652\", \"3654\", \"3656\", \"3658\", \"3660\", \"3662\", \"3664\", \"3666\", \"3668\", \"3670\", \"3672\", \"3674\", \"3676\", \"3678\", \"3680\", \"3682\", \"3684\", \"3686\", \"3688\", \"3690\", \"3692\", \"3694\", \"3696\", \"3698\", \"3700\", \"3702\", \"3704\", \"3706\", \"3708\", \"3710\", \"3712\", \"3714\", \"3716\", \"3718\", \"3720\", \"3722\", \"3724\", \"3726\", \"3728\", \"3730\", \"3732\", \"3734\", \"3736\", \"3738\", \"3740\", \"3742\", \"3744\", \"3746\", \"3748\", \"3750\", \"3752\", \"3754\", \"3756\", \"3758\", \"3760\", \"3762\", \"3764\", \"3766\", \"3768\", \"3770\", \"3772\", \"3774\", \"3776\", \"3778\", \"3780\", \"3782\", \"3784\", \"3786\", \"3788\", \"3790\", \"3792\", \"3794\", \"3796\", \"3798\", \"3800\", \"3802\", \"3804\", \"3806\", \"3808\", \"3810\", \"3812\", \"3814\", \"3816\", \"3818\", \"3820\", \"3822\", \"3824\", \"3826\", \"3828\", \"3830\", \"3832\", \"3834\", \"3836\", \"3838\", \"3840\", \"3842\", \"3844\", \"3846\", \"3848\", \"3850\", \"3852\", \"3854\", \"3856\", \"3858\", \"3860\", \"3862\", \"3864\", \"3866\", \"3868\", \"3870\", \"3872\", \"3874\", \"3876\", \"3878\", \"3880\", \"3882\", \"3884\", \"3886\", \"3888\", \"3890\", \"3892\", \"3894\", \"3896\", \"3898\", \"3900\", \"3902\", \"3904\", \"3906\", \"3908\", \"3910\", \"3912\", \"3914\", \"3916\", \"3918\", \"3920\", \"3922\", \"3924\", \"3926\", \"3928\", \"3930\", \"3932\", \"3934\", \"3936\", \"3938\", \"3940\", \"3942\", \"3944\", \"3946\", \"3948\", \"3950\", \"3952\", \"3954\", \"3956\", \"3958\", \"3960\", \"3962\", \"3964\", \"3966\", \"3968\", \"3970\", \"3972\", \"3974\", \"3976\", \"3978\", \"3980\", \"3982\", \"3984\", \"3986\", \"3988\", \"3990\", \"3992\", \"3994\", \"3996\", \"3998\", \"4000\"], \"y\": [0.0, 0.0, 0.0, 0.0, 0.0, 0.0, 0.0, 0.0, 0.0, 0.0, 0.0, 0.0, 0.0, 0.0, 0.0, 0.0, 0.0, 0.0, 0.0, 0.0, 0.0, 0.0, 0.0, 0.0, 0.0, 0.0, 0.0, 0.0, 0.0, 0.0, 0.0, 0.0, 0.0, 0.0, 0.0, 0.0, 0.0, 0.0, 0.0, 0.0, 0.0, 0.0, 0.0, 0.0, 0.0, 0.0, 0.0, 0.0, 0.0, 0.0, 0.0, 0.0, 0.0, 0.0, 0.0, 0.0, 0.0, 0.0, 0.0, 0.0, 0.0, 0.0, 0.0, 0.0, 0.0, 0.0, 0.0, 0.0, 0.0, 0.0, 0.0, 0.0, 0.0, 0.0, 0.0, 0.0, 0.0, 0.0, 0.0, 0.0, 0.0, 0.0, 0.0, 0.0, 0.0, 0.0, 0.0, 0.0, 0.0, 0.0, 0.0, 0.0, 0.0, 0.0, 0.0, 0.0, 0.0, 0.0, 0.0, 0.0, 0.0, 0.0, 0.0, 0.0, 0.0, 0.0, 0.0, 0.0, 0.0, 0.0, 0.0, 0.0, 0.0, 0.0, 0.0, 0.0, 0.0, 0.0, 0.0, 0.0, 0.0, 0.0, 0.0, 0.0, 0.0, 0.0, 0.0, 0.0, 0.0, 0.0, 0.0, 0.0, 0.0, 0.0, 0.0, 0.0, 0.0, 0.0, 0.0, 0.0, 0.0, 0.0, 0.0, 0.0, 0.0, 0.0, 0.0, 0.0, 0.0, 0.0, 0.0, 0.0, 0.0, 0.0, 0.0, 0.0, 0.0, 0.0, 0.0, 0.0, 0.0, 0.0, 0.0, 0.0, 0.0, 0.0, 0.0, 0.0, 0.0, 0.0, 0.0, 0.0, 0.0, 0.0, 0.0, 0.0, 0.0, 0.0, 0.0, 0.0, 0.0, 0.0, 0.0, 0.0, 0.0, 0.0, 0.20409436169144604, 0.21133300484814876, 0.21846858079106415, 0.22541664089986327, 0.23208542210678695, 0.23838249639430986, 0.2442167656444394, 0.2495017863875474, 0.2541617543502676, 0.25813416425456137, 0.26137313456654915, 0.26385472709464164, 0.2655742871904742, 0.26655176334703795, 0.2668257226507823, 0.2664533507816152, 0.2655077922138372, 0.2640695058691791, 0.2622282599661009, 0.2600698330244641, 0.2576793386143644, 0.2551312511096349, 0.25248807578831456, 0.24979968388288104, 0.24710065278118565, 0.2444096010766867, 0.2417318483675151, 0.2390587503067081, 0.23637368315010643, 0.23365204375635443, 0.23086590423526457, 0.22798733669664925, 0.22499439779821837, 0.2218684689465134, 0.21860290064387086, 0.21519902278982334, 0.21166946942993192, 0.20803684885625315, 0.20433041885850736, 0.20058741662361115, 0.0, 0.0, 0.0, 0.0, 0.0, 0.0, 0.0, 0.0, 0.0, 0.0, 0.0, 0.0, 0.0, 0.0, 0.0, 0.0, 0.0, 0.0, 0.0, 0.0, 0.0, 0.0, 0.0, 0.0, 0.0, 0.0, 0.0, 0.0, 0.0, 0.0, 0.0, 0.0, 0.0, 0.0, 0.0, 0.0, 0.0, 0.0, 0.0, 0.0, 0.0, 0.0, 0.0, 0.0, 0.0, 0.0, 0.0, 0.0, 0.0, 0.0, 0.0, 0.0, 0.0, 0.0, 0.0, 0.0, 0.2002841995301465, 0.20162872795774645, 0.20328112812717564, 0.20526267843095797, 0.20759066756301894, 0.21028105431775157, 0.21334713769048314, 0.21680022182724207, 0.22065094592429013, 0.2249066244290575, 0.22957324188944148, 0.23465345810450752, 0.24014860297378837, 0.24605535174845217, 0.2523643951317698, 0.25906442897771287, 0.26613483984352404, 0.2735510245878475, 0.28127774087306573, 0.28927309686389746, 0.29748589142833204, 0.3058562790873963, 0.314317099914687, 0.3227952094359032, 0.3312134734781461, 0.3394940929187505, 0.3475625933838828, 0.355350485047607, 0.3627999172802491, 0.3698683332967611, 0.37652647530742295, 0.38276503401550527, 0.38858932901913923, 0.394021303660615, 0.3990955353277837, 0.4038552457554594, 0.40835230102541903, 0.41264122701850486, 0.4167792094146248, 0.42082609369275203, 0.4248430552313926, 0.4288932642583516, 0.4330425508004998, 0.43736272943260507, 0.44193026937779983, 0.44682629450758143, 0.4521365833418115, 0.45795156904871626, 0.46436234974628837, 0.4714613534520535, 0.4793370184849386, 0.48807578831457177, 0.4977581218626839, 0.5084558337040429, 0.5202334239659865, 0.5331420937805255, 0.5472237349829409, 0.5625036156643547, 0.5789910451214964, 0.5966767140576367, 0.6155293698337561, 0.6354918267699468, 0.6564796362458799, 0.6783744372031416, 0.7010252860447658, 0.7242420071375709, 0.7477985175609909, 0.7714301673080108, 0.7948390588832968, 0.8176987019515612, 0.8396599978854599, 0.8603671985599849, 0.8794638909003621, 0.8966129453750418, 0.9115058252924284, 0.9238778806455068, 0.9335183223583375, 0.9402795315827867, 0.9440823792966562, 0.9449188861027493, 0.9428502273795728, 0.9380040734822689, 0.9305686051947207, 0.9207825394830548, 0.9089251552491467, 0.8953009994859938, 0.8802319078805194, 0.8640377212703468, 0.8470256464475392, 0.829480281912103, 0.8116529786757261, 0.7937558557138802, 0.775960470066289, 0.7583978168369272, 0.7411576642442548, 0.7242991928174787, 0.7078549850951511, 0.6918363452233002, 0.6762465979507579, 0.6610850783277578, 0.6463524513040663, 0.6320580261764126, 0.6182210864880214, 0.6048695601290801, 0.5920420141860384, 0.5797823353434765, 0.5681377350348069, 0.5571547597436752, 0.546875301305363, 0.5373326072081885, 0.5285512805935075, 0.5205412957078158, 0.5132993278022813, 0.5068067582834456, 0.5010303396629903, 0.49592419040703567, 0.4914278000868425, 0.48747201392670797, 0.4839803627034996, 0.48087105759595394, 0.4780643046321066, 0.4754849644883577, 0.47306720713783684, 0.4707598314485333, 0.46852892498236226, 0.4663598588444637, 0.46426061243203376, 0.4622571187859614, 0.460395924389892, 0.4587375396725655, 0.45735577405804884, 0.45633042151830644, 0.45574526572390095, 0.45568409034539487, 0.45622735430451916, 0.4574482020755742, 0.45941312863519723, 0.4621786547135297, 0.465790661844451, 0.47028306246604606, 0.475677799920605, 0.4819815237057916, 0.48918891422347505, 0.49727603328206565, 0.506201653996049, 0.5159059308864512, 0.5263064101822429, 0.5373006896194028, 0.5487597689432553, 0.5605327045568343, 0.572445279621351, 0.5843026638552591, 0.5958927382830864, 0.6069907498838001, 0.6173686208875351, 0.6268009333234922, 0.6350762331659655, 0.6420043447817736, 0.6474283400260529, 0.651230522790156, 0.6533357537504829, 0.6537167699666129, 0.6523921900320041, 0.6494205295260971, 0.6448962113157163, 0.6389415861578738, 0.6316976234030401, 0.6233165965477139, 0.6139574285860575, 0.603776382713168, 0.5929290571743758, 0.5815630708178151, 0.5698180630944236, 0.5578250291081761, 0.5457056546663183, 0.5335696564803013, 0.521517441964847, 0.5096361195393495, 0.4980034883264744, 0.48668670825262506, 0.47574429489724196, 0.4652247895932702, 0.45517340892482283, 0.4456260601792838, 0.4366159908449716, 0.4281691339627748, 0.42030809782474987, 0.4130488412252897, 0.4063986786118242, 0.4003596048336529, 0.3949223105940462, 0.39006817729954596, 0.38576861211019814, 0.3819837180400207, 0.3786616290072367, 0.37574316448263917, 0.37315650989146026, 0.37082586096033376, 0.36866809896846336, 0.36659811034575396, 0.36453211142164266, 0.3623896432743989, 0.3600975614297218, 0.35759203071004003, 0.35482317988287576, 0.3517537717613123, 0.3483611980532931, 0.3446374793616216, 0.34058527548536344, 0.33621788541984593, 0.331556587557593, 0.326623990190661, 0.321446691309705, 0.31604929405608057, 0.3104517469227787, 0.30467399840279064, 0.29873067739097653, 0.2926337529831309, 0.28639452932528214, 0.28002497551322486, 0.2735377255925201, 0.2669480734077944, 0.26027596745203885, 0.2535453459168427, 0.2467828067928608, 0.24001827281957985, 0.2332836615857855, 0.2266122205797963, 0.22003653234016438, 0.2135865196063763, 0.20728944531885338, 0.2011705775687176, 0.0, 0.0, 0.0, 0.0, 0.0, 0.0, 0.0, 0.0, 0.0, 0.0, 0.0, 0.0, 0.0, 0.0, 0.0, 0.0, 0.0, 0.0, 0.0, 0.0, 0.0, 0.0, 0.0, 0.0, 0.0, 0.0, 0.0, 0.0, 0.0, 0.0, 0.0, 0.0, 0.0, 0.0, 0.0, 0.0, 0.0, 0.0, 0.0, 0.0, 0.0, 0.0, 0.0, 0.0, 0.0, 0.0, 0.0, 0.0, 0.0, 0.0, 0.0, 0.0, 0.0, 0.0, 0.0, 0.0, 0.0, 0.0, 0.0, 0.0, 0.0, 0.0, 0.0, 0.0, 0.0, 0.0, 0.0, 0.0, 0.0, 0.0, 0.0, 0.0, 0.0, 0.0, 0.0, 0.0, 0.0, 0.20626276287957826, 0.2130552247430468, 0.2202586255621319, 0.22789823342795568, 0.2360039710800048, 0.24460576125776579, 0.2537375163993236, 0.26343314894276315, 0.27373122597453375, 0.28467097953085135, 0.2962943014469972, 0.30864507840755173, 0.32177052184592714, 0.33571850814530213, 0.35053890853815445, 0.3662829241564946, 0.3830024210820993, 0.4007479354972129, 0.41957000358407925, 0.43951517182634436, 0.46062533205928957, 0.48293572662053247, 0.5064702937016624, 0.5312403374487076, 0.5572405382635369, 0.5844403084568977, 0.6127837922484146, 0.6421785616205625, 0.6724942864191327, 0.7035520951569716, 0.7351192554158498, 0.7669071789971628, 0.7985647724242674, 0.8296784369424813, 0.8597787180167475, 0.8883449599799983, 0.9148219297773151, 0.9386364407100867, 0.9592266102257306, 0.9760651331595155, 0.9886945240721791, 0.9967530502908161, 1.0, 0.9983343008352433, 0.9917991745313602, 0.9805821369224663, 0.9649983741978214, 0.9454714593586029, 0.9225034294784201, 0.8966468578131265, 0.8684729362120339, 0.8385468719765566, 0.8074039496686224, 0.7755368970651112, 0.7433805913132294, 0.7113113939807417, 0.679642496407609, 0.648627909404584, 0.6184671179015783, 0.5893090706462581, 0.561260159601243, 0.5343895395422353, 0.5087371074552174, 0.4843181571848155, 0.46112670418313256, 0.4391427999571772, 0.41833585681769675, 0.39866597777870877, 0.3800879462561001, 0.3625518910173931, 0.34600794083011, 0.33040356466270754, 0.3156882263329417, 0.3018100597590355, 0.2887198586582777, 0.27637107654702225, 0.26471849684115617, 0.25371756790633254, 0.2433283927565692, 0.23351306925518314, 0.22423369526549117, 0.21545768824894124, 0.2071524656669812, 0.0, 0.0, 0.0, 0.0, 0.0, 0.0, 0.0, 0.0, 0.0, 0.0, 0.0, 0.0, 0.0, 0.0, 0.0, 0.0, 0.0, 0.0, 0.0, 0.0, 0.0, 0.0, 0.0, 0.0, 0.0, 0.0, 0.0, 0.0, 0.0, 0.0, 0.0, 0.0, 0.0, 0.0, 0.0, 0.0, 0.0, 0.0, 0.0, 0.0, 0.0, 0.0, 0.0, 0.0, 0.0, 0.0, 0.0, 0.0, 0.0, 0.0, 0.0, 0.0, 0.0, 0.0, 0.0, 0.0, 0.0, 0.0, 0.0, 0.0, 0.0, 0.0, 0.0, 0.0, 0.0, 0.0, 0.0, 0.0, 0.0, 0.0, 0.0, 0.0, 0.0, 0.0, 0.0, 0.0, 0.0, 0.0, 0.0, 0.0, 0.0, 0.0, 0.0, 0.0, 0.0, 0.0, 0.0, 0.0, 0.0, 0.0, 0.0, 0.0, 0.0, 0.0, 0.0, 0.0, 0.0, 0.0, 0.0, 0.0, 0.0, 0.0, 0.0, 0.0, 0.0, 0.0, 0.0, 0.0, 0.0, 0.0, 0.0, 0.0, 0.0, 0.0, 0.0, 0.0, 0.0, 0.0, 0.0, 0.0, 0.0, 0.0, 0.0, 0.0, 0.0, 0.0, 0.0, 0.0, 0.0, 0.0, 0.0, 0.0, 0.0, 0.0, 0.0, 0.0, 0.0, 0.0, 0.0, 0.0, 0.0, 0.0, 0.0, 0.0, 0.0, 0.0, 0.0, 0.0, 0.0, 0.0, 0.0, 0.0, 0.0, 0.0, 0.0, 0.0, 0.0, 0.0, 0.0, 0.0, 0.0, 0.0, 0.0, 0.0, 0.0, 0.0, 0.0, 0.0, 0.0, 0.0, 0.0, 0.0, 0.0, 0.0, 0.0, 0.0, 0.0, 0.0, 0.0, 0.0, 0.0, 0.0, 0.0, 0.0, 0.0, 0.0, 0.0, 0.0, 0.0, 0.0, 0.0, 0.0, 0.0, 0.0, 0.0, 0.0, 0.0, 0.0, 0.0, 0.0, 0.0, 0.0, 0.0, 0.0, 0.0, 0.0, 0.0, 0.0, 0.0, 0.0, 0.0, 0.0, 0.0, 0.0, 0.0, 0.0, 0.0, 0.0, 0.0, 0.0, 0.0, 0.0, 0.0, 0.0, 0.0, 0.0, 0.0, 0.0, 0.0, 0.0, 0.0, 0.0, 0.0, 0.0, 0.0, 0.0, 0.0, 0.0, 0.0, 0.0, 0.0, 0.0, 0.0, 0.0, 0.0, 0.0, 0.0, 0.0, 0.0, 0.0, 0.0, 0.0, 0.0, 0.0, 0.0, 0.0, 0.0, 0.0, 0.0, 0.0, 0.0, 0.0, 0.0, 0.0, 0.0, 0.0, 0.0, 0.0, 0.0, 0.0, 0.0, 0.0, 0.0, 0.0, 0.0, 0.0, 0.0, 0.0, 0.0, 0.0, 0.0, 0.0, 0.0, 0.0, 0.0, 0.0, 0.0, 0.0, 0.0, 0.0, 0.0, 0.0, 0.0, 0.0, 0.0, 0.0, 0.0, 0.0, 0.0, 0.0, 0.0, 0.0, 0.0, 0.0, 0.0, 0.0, 0.0, 0.0, 0.0, 0.0, 0.0, 0.0, 0.0, 0.0, 0.0, 0.0, 0.0, 0.0, 0.0, 0.0, 0.0, 0.0, 0.0, 0.0, 0.0, 0.0, 0.0, 0.0, 0.0, 0.0, 0.0, 0.0, 0.0, 0.0, 0.0, 0.0, 0.0, 0.0, 0.0, 0.0, 0.0, 0.0, 0.0, 0.0, 0.0, 0.0, 0.0, 0.0, 0.0, 0.0, 0.0, 0.0, 0.0, 0.0, 0.0, 0.0, 0.0, 0.0, 0.0, 0.0, 0.0, 0.0, 0.0, 0.0, 0.0, 0.0, 0.0, 0.0, 0.0, 0.0, 0.0, 0.0, 0.0, 0.0, 0.0, 0.0, 0.0, 0.0, 0.0, 0.0, 0.0, 0.0, 0.0, 0.0, 0.0, 0.0, 0.0, 0.0, 0.0, 0.0, 0.0, 0.0, 0.0, 0.0, 0.0, 0.0, 0.0, 0.0, 0.0, 0.0, 0.0, 0.0, 0.0, 0.0, 0.0, 0.0, 0.0, 0.0, 0.0, 0.0, 0.0, 0.0, 0.0, 0.0, 0.0, 0.0, 0.0, 0.0, 0.0, 0.0, 0.0, 0.0, 0.0, 0.0, 0.0, 0.0, 0.0, 0.0, 0.0, 0.0, 0.0, 0.0, 0.0, 0.0, 0.0, 0.0, 0.0, 0.0, 0.0, 0.0, 0.0, 0.0, 0.0, 0.0, 0.0, 0.0, 0.0, 0.0, 0.0, 0.0, 0.0, 0.0, 0.0, 0.0, 0.0, 0.0, 0.0, 0.0, 0.0, 0.0, 0.0, 0.0, 0.0, 0.0, 0.0, 0.0, 0.0, 0.0, 0.0, 0.0, 0.0, 0.0, 0.0, 0.0, 0.0, 0.0, 0.0, 0.0, 0.0, 0.0, 0.0, 0.0, 0.0, 0.0, 0.0, 0.0, 0.0, 0.0, 0.0, 0.0, 0.0, 0.0, 0.0, 0.0, 0.0, 0.0, 0.0, 0.0, 0.0, 0.0, 0.0, 0.0, 0.0, 0.0, 0.0, 0.0, 0.0, 0.0, 0.0, 0.0, 0.0, 0.0, 0.0, 0.0, 0.0, 0.0, 0.0, 0.0, 0.0, 0.0, 0.0, 0.0, 0.0, 0.0, 0.0, 0.0, 0.0, 0.0, 0.0, 0.0, 0.0, 0.0, 0.0, 0.0, 0.0, 0.0, 0.0, 0.0, 0.0, 0.0, 0.0, 0.0, 0.0, 0.0, 0.0, 0.0, 0.0, 0.0, 0.0, 0.0, 0.0, 0.0, 0.0, 0.0, 0.0, 0.0, 0.0, 0.0, 0.0, 0.0, 0.0, 0.0, 0.0, 0.0, 0.0, 0.0, 0.0, 0.0, 0.20202636791803563, 0.21131106150585854, 0.22103129719065376, 0.23118109042452387, 0.24174647726237522, 0.25270351951261844, 0.26401830473716864, 0.27564495140214634, 0.2875216191792791, 0.2995751635942663, 0.31171648137841423, 0.3238425053179358, 0.3358395290027815, 0.34758254187687393, 0.35894387358507, 0.3697931939731613, 0.38000748733436934, 0.3894737122084112, 0.39809944057776153, 0.4058128578676524, 0.4125720722428024, 0.41836511460741704, 0.42321126850472085, 0.4271617350667244, 0.430294313416093, 0.43271007591731486, 0.43452871352833655, 0.4358825512526656, 0.4369112285412398, 0.4377557147445296, 0.43855498436370627, 0.439440697452511, 0.44053520476795577, 0.4419468931219591, 0.44377018538134533, 0.44608288066877994, 0.4489421646641704, 0.4523872694037329, 0.45643548358139285, 0.46108148759901935, 0.4663006783152567, 0.4720445143971599, 0.47824517096855923, 0.4848181994091257, 0.4916625273543711, 0.4986644483942461, 0.5057049365205707, 0.512658981177267, 0.5194035666575569, 0.5258190020034937, 0.5317955705036265, 0.537230869893934, 0.5420357969057229, 0.546131222516795, 0.5494486569012145, 0.5519275896302415, 0.5535134948230337, 0.554155836297347, 0.553808732519302, 0.5524263019550189, 0.5499679826687494, 0.5463998622224085, 0.5416953426253415, 0.53584311973152, 0.5288451883902432, 0.5207261517428666, 0.5115285665744381, 0.5013182629118283, 0.4901776945260671, 0.47820793378164245, 0.4655186973900058, 0.45223034125886963, 0.43846255634618087, 0.4243343686601196, 0.40996147946003414, 0.3954502807085439, 0.38090051487060406, 0.3664006202651421, 0.3520317207636549, 0.3378649659911442, 0.32396286122564877, 0.3103792673982444, 0.29716073099257717, 0.28434382424579735, 0.27195979979692436, 0.2600306009882484, 0.2485721866141622, 0.2375932010216288, 0.22709763390924634, 0.21708349042771563, 0.20754478602913942, 0.0, 0.0, 0.0, 0.0, 0.0, 0.0, 0.0, 0.0, 0.0, 0.0, 0.0, 0.0, 0.0, 0.0, 0.0, 0.0, 0.0, 0.0, 0.0, 0.0, 0.0, 0.0, 0.0, 0.0, 0.0, 0.0, 0.0, 0.0, 0.0, 0.0, 0.0, 0.0, 0.0, 0.0, 0.0, 0.0, 0.0, 0.0, 0.0, 0.0, 0.0, 0.0, 0.0, 0.0, 0.0, 0.0, 0.0, 0.0, 0.0, 0.0, 0.0, 0.0, 0.0, 0.0, 0.0, 0.0, 0.0, 0.0, 0.0, 0.0, 0.0, 0.0, 0.0, 0.0, 0.0, 0.0, 0.0, 0.0, 0.0, 0.0, 0.0, 0.0, 0.0, 0.0, 0.0, 0.0, 0.0, 0.0, 0.0, 0.0, 0.0, 0.0, 0.0, 0.0, 0.0, 0.0, 0.0, 0.0, 0.0, 0.0, 0.0, 0.0, 0.0, 0.0, 0.0, 0.0, 0.0, 0.0, 0.0, 0.0, 0.0, 0.0, 0.0, 0.0, 0.0, 0.0, 0.0, 0.0, 0.0, 0.0, 0.0, 0.0, 0.0, 0.0, 0.0, 0.0, 0.0, 0.0, 0.0, 0.0, 0.0, 0.0, 0.0, 0.0, 0.0, 0.0, 0.0, 0.0, 0.0, 0.0, 0.0, 0.0, 0.0, 0.0, 0.0, 0.0, 0.0, 0.0, 0.0, 0.0, 0.0, 0.0, 0.0, 0.0, 0.0, 0.0, 0.0, 0.0, 0.0, 0.0, 0.0, 0.0, 0.0, 0.0, 0.0, 0.0, 0.0, 0.0, 0.0, 0.0, 0.0, 0.0, 0.0, 0.0, 0.0, 0.0, 0.0, 0.0, 0.0, 0.0, 0.0, 0.0, 0.0, 0.0, 0.0, 0.0, 0.0, 0.0, 0.0, 0.0, 0.0, 0.0, 0.0, 0.0, 0.0, 0.0, 0.0, 0.0, 0.0, 0.0, 0.0, 0.0, 0.0, 0.0, 0.0, 0.0, 0.0, 0.0, 0.0, 0.0, 0.0, 0.0, 0.0, 0.0, 0.0, 0.0, 0.0, 0.0, 0.0, 0.0, 0.0, 0.0, 0.0, 0.0, 0.0, 0.0, 0.0, 0.0, 0.0, 0.0, 0.0, 0.0, 0.0, 0.0, 0.0, 0.0, 0.0, 0.0, 0.0, 0.0, 0.0, 0.0, 0.0, 0.0, 0.0, 0.0, 0.0, 0.0, 0.0, 0.0, 0.0, 0.0, 0.0, 0.0, 0.0, 0.0, 0.0, 0.0, 0.0, 0.0, 0.0, 0.0, 0.0, 0.0, 0.0, 0.0, 0.0, 0.0, 0.0, 0.0, 0.0, 0.0, 0.0, 0.0, 0.0, 0.0, 0.0, 0.0, 0.0, 0.0, 0.0, 0.0, 0.0, 0.0, 0.0, 0.0, 0.0, 0.0, 0.0, 0.0, 0.0, 0.0, 0.0, 0.0, 0.0, 0.0, 0.0, 0.0, 0.0, 0.0, 0.0, 0.0, 0.0, 0.0, 0.0, 0.0, 0.0, 0.0, 0.0, 0.0, 0.0, 0.0, 0.0, 0.0, 0.0, 0.0, 0.0, 0.0, 0.0, 0.0, 0.0, 0.0, 0.0, 0.0, 0.0, 0.0, 0.0, 0.0, 0.0, 0.0, 0.0, 0.0, 0.0, 0.0, 0.0, 0.0, 0.0, 0.0, 0.0, 0.0, 0.0, 0.0, 0.0, 0.0, 0.0, 0.0, 0.0, 0.0, 0.0, 0.0, 0.0, 0.0, 0.0, 0.0, 0.0, 0.0, 0.0, 0.0, 0.0, 0.0, 0.0, 0.0, 0.0, 0.0, 0.0, 0.0, 0.0, 0.0, 0.0, 0.0, 0.0, 0.0, 0.0, 0.0, 0.0, 0.0, 0.0, 0.0, 0.0, 0.0, 0.0, 0.0, 0.0, 0.0, 0.0, 0.0, 0.0, 0.0, 0.0, 0.0, 0.0, 0.0, 0.0, 0.0, 0.0, 0.0, 0.0, 0.0, 0.0, 0.0, 0.0, 0.0, 0.0, 0.0, 0.0, 0.0, 0.0, 0.0, 0.0, 0.0, 0.0, 0.0, 0.0, 0.0, 0.0, 0.0, 0.0, 0.0, 0.0, 0.0, 0.0, 0.0, 0.0, 0.0, 0.0, 0.0, 0.0]}],\n",
              "                        {\"showlegend\": true, \"template\": {\"data\": {\"bar\": [{\"error_x\": {\"color\": \"#2a3f5f\"}, \"error_y\": {\"color\": \"#2a3f5f\"}, \"marker\": {\"line\": {\"color\": \"#E5ECF6\", \"width\": 0.5}}, \"type\": \"bar\"}], \"barpolar\": [{\"marker\": {\"line\": {\"color\": \"#E5ECF6\", \"width\": 0.5}}, \"type\": \"barpolar\"}], \"carpet\": [{\"aaxis\": {\"endlinecolor\": \"#2a3f5f\", \"gridcolor\": \"white\", \"linecolor\": \"white\", \"minorgridcolor\": \"white\", \"startlinecolor\": \"#2a3f5f\"}, \"baxis\": {\"endlinecolor\": \"#2a3f5f\", \"gridcolor\": \"white\", \"linecolor\": \"white\", \"minorgridcolor\": \"white\", \"startlinecolor\": \"#2a3f5f\"}, \"type\": \"carpet\"}], \"choropleth\": [{\"colorbar\": {\"outlinewidth\": 0, \"ticks\": \"\"}, \"type\": \"choropleth\"}], \"contour\": [{\"colorbar\": {\"outlinewidth\": 0, \"ticks\": \"\"}, \"colorscale\": [[0.0, \"#0d0887\"], [0.1111111111111111, \"#46039f\"], [0.2222222222222222, \"#7201a8\"], [0.3333333333333333, \"#9c179e\"], [0.4444444444444444, \"#bd3786\"], [0.5555555555555556, \"#d8576b\"], [0.6666666666666666, \"#ed7953\"], [0.7777777777777778, \"#fb9f3a\"], [0.8888888888888888, \"#fdca26\"], [1.0, \"#f0f921\"]], \"type\": \"contour\"}], \"contourcarpet\": [{\"colorbar\": {\"outlinewidth\": 0, \"ticks\": \"\"}, \"type\": \"contourcarpet\"}], \"heatmap\": [{\"colorbar\": {\"outlinewidth\": 0, \"ticks\": \"\"}, \"colorscale\": [[0.0, \"#0d0887\"], [0.1111111111111111, \"#46039f\"], [0.2222222222222222, \"#7201a8\"], [0.3333333333333333, \"#9c179e\"], [0.4444444444444444, \"#bd3786\"], [0.5555555555555556, \"#d8576b\"], [0.6666666666666666, \"#ed7953\"], [0.7777777777777778, \"#fb9f3a\"], [0.8888888888888888, \"#fdca26\"], [1.0, \"#f0f921\"]], \"type\": \"heatmap\"}], \"heatmapgl\": [{\"colorbar\": {\"outlinewidth\": 0, \"ticks\": \"\"}, \"colorscale\": [[0.0, \"#0d0887\"], [0.1111111111111111, \"#46039f\"], [0.2222222222222222, \"#7201a8\"], [0.3333333333333333, \"#9c179e\"], [0.4444444444444444, \"#bd3786\"], [0.5555555555555556, \"#d8576b\"], [0.6666666666666666, \"#ed7953\"], [0.7777777777777778, \"#fb9f3a\"], [0.8888888888888888, \"#fdca26\"], [1.0, \"#f0f921\"]], \"type\": \"heatmapgl\"}], \"histogram\": [{\"marker\": {\"colorbar\": {\"outlinewidth\": 0, \"ticks\": \"\"}}, \"type\": \"histogram\"}], \"histogram2d\": [{\"colorbar\": {\"outlinewidth\": 0, \"ticks\": \"\"}, \"colorscale\": [[0.0, \"#0d0887\"], [0.1111111111111111, \"#46039f\"], [0.2222222222222222, \"#7201a8\"], [0.3333333333333333, \"#9c179e\"], [0.4444444444444444, \"#bd3786\"], [0.5555555555555556, \"#d8576b\"], [0.6666666666666666, \"#ed7953\"], [0.7777777777777778, \"#fb9f3a\"], [0.8888888888888888, \"#fdca26\"], [1.0, \"#f0f921\"]], \"type\": \"histogram2d\"}], \"histogram2dcontour\": [{\"colorbar\": {\"outlinewidth\": 0, \"ticks\": \"\"}, \"colorscale\": [[0.0, \"#0d0887\"], [0.1111111111111111, \"#46039f\"], [0.2222222222222222, \"#7201a8\"], [0.3333333333333333, \"#9c179e\"], [0.4444444444444444, \"#bd3786\"], [0.5555555555555556, \"#d8576b\"], [0.6666666666666666, \"#ed7953\"], [0.7777777777777778, \"#fb9f3a\"], [0.8888888888888888, \"#fdca26\"], [1.0, \"#f0f921\"]], \"type\": \"histogram2dcontour\"}], \"mesh3d\": [{\"colorbar\": {\"outlinewidth\": 0, \"ticks\": \"\"}, \"type\": \"mesh3d\"}], \"parcoords\": [{\"line\": {\"colorbar\": {\"outlinewidth\": 0, \"ticks\": \"\"}}, \"type\": \"parcoords\"}], \"pie\": [{\"automargin\": true, \"type\": \"pie\"}], \"scatter\": [{\"marker\": {\"colorbar\": {\"outlinewidth\": 0, \"ticks\": \"\"}}, \"type\": \"scatter\"}], \"scatter3d\": [{\"line\": {\"colorbar\": {\"outlinewidth\": 0, \"ticks\": \"\"}}, \"marker\": {\"colorbar\": {\"outlinewidth\": 0, \"ticks\": \"\"}}, \"type\": \"scatter3d\"}], \"scattercarpet\": [{\"marker\": {\"colorbar\": {\"outlinewidth\": 0, \"ticks\": \"\"}}, \"type\": \"scattercarpet\"}], \"scattergeo\": [{\"marker\": {\"colorbar\": {\"outlinewidth\": 0, \"ticks\": \"\"}}, \"type\": \"scattergeo\"}], \"scattergl\": [{\"marker\": {\"colorbar\": {\"outlinewidth\": 0, \"ticks\": \"\"}}, \"type\": \"scattergl\"}], \"scattermapbox\": [{\"marker\": {\"colorbar\": {\"outlinewidth\": 0, \"ticks\": \"\"}}, \"type\": \"scattermapbox\"}], \"scatterpolar\": [{\"marker\": {\"colorbar\": {\"outlinewidth\": 0, \"ticks\": \"\"}}, \"type\": \"scatterpolar\"}], \"scatterpolargl\": [{\"marker\": {\"colorbar\": {\"outlinewidth\": 0, \"ticks\": \"\"}}, \"type\": \"scatterpolargl\"}], \"scatterternary\": [{\"marker\": {\"colorbar\": {\"outlinewidth\": 0, \"ticks\": \"\"}}, \"type\": \"scatterternary\"}], \"surface\": [{\"colorbar\": {\"outlinewidth\": 0, \"ticks\": \"\"}, \"colorscale\": [[0.0, \"#0d0887\"], [0.1111111111111111, \"#46039f\"], [0.2222222222222222, \"#7201a8\"], [0.3333333333333333, \"#9c179e\"], [0.4444444444444444, \"#bd3786\"], [0.5555555555555556, \"#d8576b\"], [0.6666666666666666, \"#ed7953\"], [0.7777777777777778, \"#fb9f3a\"], [0.8888888888888888, \"#fdca26\"], [1.0, \"#f0f921\"]], \"type\": \"surface\"}], \"table\": [{\"cells\": {\"fill\": {\"color\": \"#EBF0F8\"}, \"line\": {\"color\": \"white\"}}, \"header\": {\"fill\": {\"color\": \"#C8D4E3\"}, \"line\": {\"color\": \"white\"}}, \"type\": \"table\"}]}, \"layout\": {\"annotationdefaults\": {\"arrowcolor\": \"#2a3f5f\", \"arrowhead\": 0, \"arrowwidth\": 1}, \"coloraxis\": {\"colorbar\": {\"outlinewidth\": 0, \"ticks\": \"\"}}, \"colorscale\": {\"diverging\": [[0, \"#8e0152\"], [0.1, \"#c51b7d\"], [0.2, \"#de77ae\"], [0.3, \"#f1b6da\"], [0.4, \"#fde0ef\"], [0.5, \"#f7f7f7\"], [0.6, \"#e6f5d0\"], [0.7, \"#b8e186\"], [0.8, \"#7fbc41\"], [0.9, \"#4d9221\"], [1, \"#276419\"]], \"sequential\": [[0.0, \"#0d0887\"], [0.1111111111111111, \"#46039f\"], [0.2222222222222222, \"#7201a8\"], [0.3333333333333333, \"#9c179e\"], [0.4444444444444444, \"#bd3786\"], [0.5555555555555556, \"#d8576b\"], [0.6666666666666666, \"#ed7953\"], [0.7777777777777778, \"#fb9f3a\"], [0.8888888888888888, \"#fdca26\"], [1.0, \"#f0f921\"]], \"sequentialminus\": [[0.0, \"#0d0887\"], [0.1111111111111111, \"#46039f\"], [0.2222222222222222, \"#7201a8\"], [0.3333333333333333, \"#9c179e\"], [0.4444444444444444, \"#bd3786\"], [0.5555555555555556, \"#d8576b\"], [0.6666666666666666, \"#ed7953\"], [0.7777777777777778, \"#fb9f3a\"], [0.8888888888888888, \"#fdca26\"], [1.0, \"#f0f921\"]]}, \"colorway\": [\"#636efa\", \"#EF553B\", \"#00cc96\", \"#ab63fa\", \"#FFA15A\", \"#19d3f3\", \"#FF6692\", \"#B6E880\", \"#FF97FF\", \"#FECB52\"], \"font\": {\"color\": \"#2a3f5f\"}, \"geo\": {\"bgcolor\": \"white\", \"lakecolor\": \"white\", \"landcolor\": \"#E5ECF6\", \"showlakes\": true, \"showland\": true, \"subunitcolor\": \"white\"}, \"hoverlabel\": {\"align\": \"left\"}, \"hovermode\": \"closest\", \"mapbox\": {\"style\": \"light\"}, \"paper_bgcolor\": \"white\", \"plot_bgcolor\": \"#E5ECF6\", \"polar\": {\"angularaxis\": {\"gridcolor\": \"white\", \"linecolor\": \"white\", \"ticks\": \"\"}, \"bgcolor\": \"#E5ECF6\", \"radialaxis\": {\"gridcolor\": \"white\", \"linecolor\": \"white\", \"ticks\": \"\"}}, \"scene\": {\"xaxis\": {\"backgroundcolor\": \"#E5ECF6\", \"gridcolor\": \"white\", \"gridwidth\": 2, \"linecolor\": \"white\", \"showbackground\": true, \"ticks\": \"\", \"zerolinecolor\": \"white\"}, \"yaxis\": {\"backgroundcolor\": \"#E5ECF6\", \"gridcolor\": \"white\", \"gridwidth\": 2, \"linecolor\": \"white\", \"showbackground\": true, \"ticks\": \"\", \"zerolinecolor\": \"white\"}, \"zaxis\": {\"backgroundcolor\": \"#E5ECF6\", \"gridcolor\": \"white\", \"gridwidth\": 2, \"linecolor\": \"white\", \"showbackground\": true, \"ticks\": \"\", \"zerolinecolor\": \"white\"}}, \"shapedefaults\": {\"line\": {\"color\": \"#2a3f5f\"}}, \"ternary\": {\"aaxis\": {\"gridcolor\": \"white\", \"linecolor\": \"white\", \"ticks\": \"\"}, \"baxis\": {\"gridcolor\": \"white\", \"linecolor\": \"white\", \"ticks\": \"\"}, \"bgcolor\": \"#E5ECF6\", \"caxis\": {\"gridcolor\": \"white\", \"linecolor\": \"white\", \"ticks\": \"\"}}, \"title\": {\"x\": 0.05}, \"xaxis\": {\"automargin\": true, \"gridcolor\": \"white\", \"linecolor\": \"white\", \"ticks\": \"\", \"title\": {\"standoff\": 15}, \"zerolinecolor\": \"white\", \"zerolinewidth\": 2}, \"yaxis\": {\"automargin\": true, \"gridcolor\": \"white\", \"linecolor\": \"white\", \"ticks\": \"\", \"title\": {\"standoff\": 15}, \"zerolinecolor\": \"white\", \"zerolinewidth\": 2}}}, \"title\": {\"text\": \"Intensities over frequency\", \"x\": 0.5}},\n",
              "                        {\"responsive\": true}\n",
              "                    ).then(function(){\n",
              "                            \n",
              "var gd = document.getElementById('38af7427-8008-423e-8d17-80e7016d33a3');\n",
              "var x = new MutationObserver(function (mutations, observer) {{\n",
              "        var display = window.getComputedStyle(gd).display;\n",
              "        if (!display || display === 'none') {{\n",
              "            console.log([gd, 'removed!']);\n",
              "            Plotly.purge(gd);\n",
              "            observer.disconnect();\n",
              "        }}\n",
              "}});\n",
              "\n",
              "// Listen for the removal of the full notebook cells\n",
              "var notebookContainer = gd.closest('#notebook-container');\n",
              "if (notebookContainer) {{\n",
              "    x.observe(notebookContainer, {childList: true});\n",
              "}}\n",
              "\n",
              "// Listen for the clearing of the current output cell\n",
              "var outputEl = gd.closest('.output');\n",
              "if (outputEl) {{\n",
              "    x.observe(outputEl, {childList: true});\n",
              "}}\n",
              "\n",
              "                        })\n",
              "                };\n",
              "                \n",
              "            </script>\n",
              "        </div>\n",
              "</body>\n",
              "</html>"
            ]
          },
          "metadata": {}
        }
      ]
    },
    {
      "cell_type": "markdown",
      "metadata": {
        "id": "bHoIBNpaG7LW"
      },
      "source": [
        "### Assessing Overall Model Performance"
      ]
    },
    {
      "cell_type": "code",
      "metadata": {
        "id": "Rh3i9JQvGwIh"
      },
      "source": [
        "# create variables containing the performance metrics for each of the models\n",
        "acs=[dt_accuracy,rf_accuracy,knn_accuracy,nb_accuracy,svm_accuracy,nn_accuracy]\n",
        "sens=[dt_sensitivity,rf_sensitivity,knn_sensitivity,nb_sensitivity,svm_sensitivity,nn_sensitivity]\n",
        "specs=[dt_specificity,rf_specificity,knn_specificity,nb_specificity,svm_specificity,nn_specificity]"
      ],
      "execution_count": 47,
      "outputs": []
    },
    {
      "cell_type": "code",
      "metadata": {
        "id": "3AyI1lw7HDCu"
      },
      "source": [
        "# make and display a DataFrame\n",
        "d = {'Model':['Decision Tree','Random Forest','KNN','Naive-Bayes','SVM','NN'],'Accuracy':acs, 'Sensitivity':sens,' Specificity':specs}\n",
        "result = pd.DataFrame(data=d)"
      ],
      "execution_count": 48,
      "outputs": []
    },
    {
      "cell_type": "code",
      "metadata": {
        "colab": {
          "base_uri": "https://localhost:8080/",
          "height": 236
        },
        "id": "MFQvlZrKHFP5",
        "outputId": "48dd9b22-cfdb-4b47-d189-0f251a604eb8"
      },
      "source": [
        "result"
      ],
      "execution_count": 49,
      "outputs": [
        {
          "output_type": "execute_result",
          "data": {
            "text/html": [
              "<div>\n",
              "<style scoped>\n",
              "    .dataframe tbody tr th:only-of-type {\n",
              "        vertical-align: middle;\n",
              "    }\n",
              "\n",
              "    .dataframe tbody tr th {\n",
              "        vertical-align: top;\n",
              "    }\n",
              "\n",
              "    .dataframe thead th {\n",
              "        text-align: right;\n",
              "    }\n",
              "</style>\n",
              "<table border=\"1\" class=\"dataframe\">\n",
              "  <thead>\n",
              "    <tr style=\"text-align: right;\">\n",
              "      <th></th>\n",
              "      <th>Model</th>\n",
              "      <th>Accuracy</th>\n",
              "      <th>Sensitivity</th>\n",
              "      <th>Specificity</th>\n",
              "    </tr>\n",
              "  </thead>\n",
              "  <tbody>\n",
              "    <tr>\n",
              "      <th>0</th>\n",
              "      <td>Decision Tree</td>\n",
              "      <td>0.97</td>\n",
              "      <td>0.93</td>\n",
              "      <td>0.98</td>\n",
              "    </tr>\n",
              "    <tr>\n",
              "      <th>1</th>\n",
              "      <td>Random Forest</td>\n",
              "      <td>0.98</td>\n",
              "      <td>1.00</td>\n",
              "      <td>0.98</td>\n",
              "    </tr>\n",
              "    <tr>\n",
              "      <th>2</th>\n",
              "      <td>KNN</td>\n",
              "      <td>0.97</td>\n",
              "      <td>1.00</td>\n",
              "      <td>0.96</td>\n",
              "    </tr>\n",
              "    <tr>\n",
              "      <th>3</th>\n",
              "      <td>Naive-Bayes</td>\n",
              "      <td>0.91</td>\n",
              "      <td>1.00</td>\n",
              "      <td>0.88</td>\n",
              "    </tr>\n",
              "    <tr>\n",
              "      <th>4</th>\n",
              "      <td>SVM</td>\n",
              "      <td>0.99</td>\n",
              "      <td>1.00</td>\n",
              "      <td>0.98</td>\n",
              "    </tr>\n",
              "    <tr>\n",
              "      <th>5</th>\n",
              "      <td>NN</td>\n",
              "      <td>0.98</td>\n",
              "      <td>0.98</td>\n",
              "      <td>0.98</td>\n",
              "    </tr>\n",
              "  </tbody>\n",
              "</table>\n",
              "</div>"
            ],
            "text/plain": [
              "           Model  Accuracy  Sensitivity   Specificity\n",
              "0  Decision Tree      0.97         0.93          0.98\n",
              "1  Random Forest      0.98         1.00          0.98\n",
              "2            KNN      0.97         1.00          0.96\n",
              "3    Naive-Bayes      0.91         1.00          0.88\n",
              "4            SVM      0.99         1.00          0.98\n",
              "5             NN      0.98         0.98          0.98"
            ]
          },
          "metadata": {},
          "execution_count": 49
        }
      ]
    },
    {
      "cell_type": "code",
      "metadata": {
        "id": "t1iBpVcFHIEf"
      },
      "source": [
        ""
      ],
      "execution_count": 49,
      "outputs": []
    }
  ]
}